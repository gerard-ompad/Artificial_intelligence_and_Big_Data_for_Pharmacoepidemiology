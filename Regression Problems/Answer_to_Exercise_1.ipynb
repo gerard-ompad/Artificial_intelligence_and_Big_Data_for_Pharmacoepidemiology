{
 "cells": [
  {
   "cell_type": "markdown",
   "id": "d4afc910",
   "metadata": {},
   "source": [
    "# Question 1: Dataset Overview\n",
    "---\n",
    "\n",
    "- Begin by loading the dataset and using summary functions to gain an initial understanding of the variables, their types, and the presence of any missing data. Discuss the importance of assessing data structures in the context of statistical modeling."
   ]
  },
  {
   "cell_type": "markdown",
   "id": "94c91e0e",
   "metadata": {},
   "source": [
    "## Step 0: Install the necessary packages and load them\n",
    "---"
   ]
  },
  {
   "cell_type": "code",
   "execution_count": 1,
   "id": "b7264c82",
   "metadata": {},
   "outputs": [
    {
     "name": "stdout",
     "output_type": "stream",
     "text": [
      "\n",
      "The downloaded binary packages are in\n",
      "\t/var/folders/nv/sjj_9gb52674c8ktybqghkm80000gq/T//Rtmph6jHIk/downloaded_packages\n",
      "\n",
      "The downloaded binary packages are in\n",
      "\t/var/folders/nv/sjj_9gb52674c8ktybqghkm80000gq/T//Rtmph6jHIk/downloaded_packages\n",
      "\n",
      "The downloaded binary packages are in\n",
      "\t/var/folders/nv/sjj_9gb52674c8ktybqghkm80000gq/T//Rtmph6jHIk/downloaded_packages\n"
     ]
    }
   ],
   "source": [
    "install.packages(\"dplyr\")\n",
    "install.packages(\"fastDummies\")\n",
    "install.packages(\"tableone\")"
   ]
  },
  {
   "cell_type": "code",
   "execution_count": 237,
   "id": "b1bab666",
   "metadata": {},
   "outputs": [],
   "source": [
    "library(dplyr)\n",
    "library(fastDummies)\n",
    "library(tableone)"
   ]
  },
  {
   "cell_type": "markdown",
   "id": "3ed09c63",
   "metadata": {},
   "source": [
    "## Step 1: Load the dataset\n",
    "---"
   ]
  },
  {
   "cell_type": "code",
   "execution_count": 238,
   "id": "541b31a2",
   "metadata": {},
   "outputs": [],
   "source": [
    "load(\"Df_regression.RData\")"
   ]
  },
  {
   "cell_type": "markdown",
   "id": "4db5e872",
   "metadata": {},
   "source": [
    "## Step 2: Check the content of the data\n",
    "---"
   ]
  },
  {
   "cell_type": "code",
   "execution_count": 239,
   "id": "a9549181",
   "metadata": {},
   "outputs": [
    {
     "data": {
      "text/html": [
       "<style>\n",
       ".list-inline {list-style: none; margin:0; padding: 0}\n",
       ".list-inline>li {display: inline-block}\n",
       ".list-inline>li:not(:last-child)::after {content: \"\\00b7\"; padding: 0 .5ex}\n",
       "</style>\n",
       "<ol class=list-inline><li>'Codes_dictionary'</li><li>'Df_regression_unique'</li><li>'name_map'</li><li>'summary_df'</li><li>'summary_matrix'</li><li>'summary_table'</li><li>'variables'</li></ol>\n"
      ],
      "text/latex": [
       "\\begin{enumerate*}\n",
       "\\item 'Codes\\_dictionary'\n",
       "\\item 'Df\\_regression\\_unique'\n",
       "\\item 'name\\_map'\n",
       "\\item 'summary\\_df'\n",
       "\\item 'summary\\_matrix'\n",
       "\\item 'summary\\_table'\n",
       "\\item 'variables'\n",
       "\\end{enumerate*}\n"
      ],
      "text/markdown": [
       "1. 'Codes_dictionary'\n",
       "2. 'Df_regression_unique'\n",
       "3. 'name_map'\n",
       "4. 'summary_df'\n",
       "5. 'summary_matrix'\n",
       "6. 'summary_table'\n",
       "7. 'variables'\n",
       "\n",
       "\n"
      ],
      "text/plain": [
       "[1] \"Codes_dictionary\"     \"Df_regression_unique\" \"name_map\"            \n",
       "[4] \"summary_df\"           \"summary_matrix\"       \"summary_table\"       \n",
       "[7] \"variables\"           "
      ]
     },
     "metadata": {},
     "output_type": "display_data"
    }
   ],
   "source": [
    "ls()"
   ]
  },
  {
   "cell_type": "markdown",
   "id": "bdf904bd",
   "metadata": {},
   "source": [
    "## Step 3: Check the class of the data\n",
    "---"
   ]
  },
  {
   "cell_type": "code",
   "execution_count": 240,
   "id": "6e9a72f2",
   "metadata": {},
   "outputs": [
    {
     "data": {
      "text/html": [
       "'data.frame'"
      ],
      "text/latex": [
       "'data.frame'"
      ],
      "text/markdown": [
       "'data.frame'"
      ],
      "text/plain": [
       "[1] \"data.frame\""
      ]
     },
     "metadata": {},
     "output_type": "display_data"
    }
   ],
   "source": [
    "class(Df_regression_unique)"
   ]
  },
  {
   "cell_type": "markdown",
   "id": "1ce83287",
   "metadata": {},
   "source": [
    "### Explanation:\n",
    "---\n",
    "1. Df_regression_unique is the 'dataframe' while dataset contains the 'character'.\n",
    "2. It is obvious then that Df_regression_unique contains the data."
   ]
  },
  {
   "cell_type": "markdown",
   "id": "37663a70",
   "metadata": {},
   "source": [
    "## Step 4: Get a snapshot of the data\n",
    "---\n",
    "1. Snapshots are important because we can see how our data looks like without looking at the entire dataset.\n",
    "\n",
    "2. In my practice I usually look at the tail in of the dataset, for me this is ideal because of two things:\n",
    "\n",
    "    a. By using the tail we can check how many rows the dataset is.\n",
    "\n",
    "    b. We can also check the datatype of each columns.\n",
    "\n",
    "3. Change the column names."
   ]
  },
  {
   "cell_type": "code",
   "execution_count": 241,
   "id": "7eb95e2c",
   "metadata": {},
   "outputs": [
    {
     "data": {
      "text/html": [
       "<table class=\"dataframe\">\n",
       "<caption>A data.frame: 6 × 15</caption>\n",
       "<thead>\n",
       "\t<tr><th></th><th scope=col>ptnum</th><th scope=col>label</th><th scope=col>C-424144002</th><th scope=col>C-263495000</th><th scope=col>C-103579009</th><th scope=col>C-72166-2</th><th scope=col>C-763302001</th><th scope=col>C-39156-5</th><th scope=col>C-185086009</th><th scope=col>C-21908-9</th><th scope=col>C-233604007</th><th scope=col>C-195967001</th><th scope=col>C-132281000119108</th><th scope=col>Followup</th><th scope=col>Exposure</th></tr>\n",
       "\t<tr><th></th><th scope=col>&lt;chr&gt;</th><th scope=col>&lt;dbl&gt;</th><th scope=col>&lt;dbl&gt;</th><th scope=col>&lt;chr&gt;</th><th scope=col>&lt;chr&gt;</th><th scope=col>&lt;chr&gt;</th><th scope=col>&lt;lgl&gt;</th><th scope=col>&lt;dbl&gt;</th><th scope=col>&lt;lgl&gt;</th><th scope=col>&lt;chr&gt;</th><th scope=col>&lt;lgl&gt;</th><th scope=col>&lt;lgl&gt;</th><th scope=col>&lt;lgl&gt;</th><th scope=col>&lt;int&gt;</th><th scope=col>&lt;dbl&gt;</th></tr>\n",
       "</thead>\n",
       "<tbody>\n",
       "\t<tr><th scope=row>5933</th><td>p9972</td><td>0</td><td>53</td><td>f</td><td>white</td><td>never </td><td>TRUE</td><td>29.66</td><td>NA</td><td>NA</td><td>NA</td><td>NA</td><td>NA</td><td> 822</td><td>1</td></tr>\n",
       "\t<tr><th scope=row>5934</th><td>p9976</td><td>0</td><td>70</td><td>m</td><td>white</td><td>former</td><td>TRUE</td><td>30.06</td><td>NA</td><td>NA</td><td>NA</td><td>NA</td><td>NA</td><td>3042</td><td>1</td></tr>\n",
       "\t<tr><th scope=row>5935</th><td>p9982</td><td>0</td><td>70</td><td>m</td><td>black</td><td>never </td><td>TRUE</td><td>31.07</td><td>NA</td><td>NA</td><td>NA</td><td>NA</td><td>NA</td><td>1233</td><td>1</td></tr>\n",
       "\t<tr><th scope=row>5936</th><td>p9992</td><td>1</td><td>75</td><td>m</td><td>white</td><td>never </td><td>TRUE</td><td>29.60</td><td>NA</td><td>NA</td><td>NA</td><td>NA</td><td>NA</td><td>1838</td><td>1</td></tr>\n",
       "\t<tr><th scope=row>5937</th><td>p9996</td><td>0</td><td>59</td><td>m</td><td>white</td><td>never </td><td>TRUE</td><td>27.30</td><td>NA</td><td>NA</td><td>NA</td><td>NA</td><td>NA</td><td>2374</td><td>2</td></tr>\n",
       "\t<tr><th scope=row>5938</th><td>p9998</td><td>0</td><td>46</td><td>f</td><td>white</td><td>former</td><td>TRUE</td><td>27.60</td><td>NA</td><td>NA</td><td>NA</td><td>NA</td><td>NA</td><td> 356</td><td>1</td></tr>\n",
       "</tbody>\n",
       "</table>\n"
      ],
      "text/latex": [
       "A data.frame: 6 × 15\n",
       "\\begin{tabular}{r|lllllllllllllll}\n",
       "  & ptnum & label & C-424144002 & C-263495000 & C-103579009 & C-72166-2 & C-763302001 & C-39156-5 & C-185086009 & C-21908-9 & C-233604007 & C-195967001 & C-132281000119108 & Followup & Exposure\\\\\n",
       "  & <chr> & <dbl> & <dbl> & <chr> & <chr> & <chr> & <lgl> & <dbl> & <lgl> & <chr> & <lgl> & <lgl> & <lgl> & <int> & <dbl>\\\\\n",
       "\\hline\n",
       "\t5933 & p9972 & 0 & 53 & f & white & never  & TRUE & 29.66 & NA & NA & NA & NA & NA &  822 & 1\\\\\n",
       "\t5934 & p9976 & 0 & 70 & m & white & former & TRUE & 30.06 & NA & NA & NA & NA & NA & 3042 & 1\\\\\n",
       "\t5935 & p9982 & 0 & 70 & m & black & never  & TRUE & 31.07 & NA & NA & NA & NA & NA & 1233 & 1\\\\\n",
       "\t5936 & p9992 & 1 & 75 & m & white & never  & TRUE & 29.60 & NA & NA & NA & NA & NA & 1838 & 1\\\\\n",
       "\t5937 & p9996 & 0 & 59 & m & white & never  & TRUE & 27.30 & NA & NA & NA & NA & NA & 2374 & 2\\\\\n",
       "\t5938 & p9998 & 0 & 46 & f & white & former & TRUE & 27.60 & NA & NA & NA & NA & NA &  356 & 1\\\\\n",
       "\\end{tabular}\n"
      ],
      "text/markdown": [
       "\n",
       "A data.frame: 6 × 15\n",
       "\n",
       "| <!--/--> | ptnum &lt;chr&gt; | label &lt;dbl&gt; | C-424144002 &lt;dbl&gt; | C-263495000 &lt;chr&gt; | C-103579009 &lt;chr&gt; | C-72166-2 &lt;chr&gt; | C-763302001 &lt;lgl&gt; | C-39156-5 &lt;dbl&gt; | C-185086009 &lt;lgl&gt; | C-21908-9 &lt;chr&gt; | C-233604007 &lt;lgl&gt; | C-195967001 &lt;lgl&gt; | C-132281000119108 &lt;lgl&gt; | Followup &lt;int&gt; | Exposure &lt;dbl&gt; |\n",
       "|---|---|---|---|---|---|---|---|---|---|---|---|---|---|---|---|\n",
       "| 5933 | p9972 | 0 | 53 | f | white | never  | TRUE | 29.66 | NA | NA | NA | NA | NA |  822 | 1 |\n",
       "| 5934 | p9976 | 0 | 70 | m | white | former | TRUE | 30.06 | NA | NA | NA | NA | NA | 3042 | 1 |\n",
       "| 5935 | p9982 | 0 | 70 | m | black | never  | TRUE | 31.07 | NA | NA | NA | NA | NA | 1233 | 1 |\n",
       "| 5936 | p9992 | 1 | 75 | m | white | never  | TRUE | 29.60 | NA | NA | NA | NA | NA | 1838 | 1 |\n",
       "| 5937 | p9996 | 0 | 59 | m | white | never  | TRUE | 27.30 | NA | NA | NA | NA | NA | 2374 | 2 |\n",
       "| 5938 | p9998 | 0 | 46 | f | white | former | TRUE | 27.60 | NA | NA | NA | NA | NA |  356 | 1 |\n",
       "\n"
      ],
      "text/plain": [
       "     ptnum label C-424144002 C-263495000 C-103579009 C-72166-2 C-763302001\n",
       "5933 p9972 0     53          f           white       never     TRUE       \n",
       "5934 p9976 0     70          m           white       former    TRUE       \n",
       "5935 p9982 0     70          m           black       never     TRUE       \n",
       "5936 p9992 1     75          m           white       never     TRUE       \n",
       "5937 p9996 0     59          m           white       never     TRUE       \n",
       "5938 p9998 0     46          f           white       former    TRUE       \n",
       "     C-39156-5 C-185086009 C-21908-9 C-233604007 C-195967001 C-132281000119108\n",
       "5933 29.66     NA          NA        NA          NA          NA               \n",
       "5934 30.06     NA          NA        NA          NA          NA               \n",
       "5935 31.07     NA          NA        NA          NA          NA               \n",
       "5936 29.60     NA          NA        NA          NA          NA               \n",
       "5937 27.30     NA          NA        NA          NA          NA               \n",
       "5938 27.60     NA          NA        NA          NA          NA               \n",
       "     Followup Exposure\n",
       "5933  822     1       \n",
       "5934 3042     1       \n",
       "5935 1233     1       \n",
       "5936 1838     1       \n",
       "5937 2374     2       \n",
       "5938  356     1       "
      ]
     },
     "metadata": {},
     "output_type": "display_data"
    }
   ],
   "source": [
    "tail(Df_regression_unique)"
   ]
  },
  {
   "cell_type": "code",
   "execution_count": 242,
   "id": "e78d752a",
   "metadata": {},
   "outputs": [],
   "source": [
    "load(\"Ontology.RData\")\n",
    "# Create a named vector from the codes dictionary\n",
    "name_map <- setNames(Codes_dictionary$name, Codes_dictionary$code)\n",
    "# Rename only matching columns\n",
    "names(Df_regression_unique) <- ifelse(\n",
    "  names(Df_regression_unique) %in% names(name_map), # Check if column name exists in the dictionary\n",
    "  name_map[names(Df_regression_unique)],           # Replace with the new name if it matches\n",
    "  names(Df_regression_unique)                      # Keep original name if no match\n",
    ")"
   ]
  },
  {
   "cell_type": "code",
   "execution_count": 243,
   "id": "699b027b",
   "metadata": {},
   "outputs": [
    {
     "data": {
      "text/html": [
       "<table class=\"dataframe\">\n",
       "<caption>A data.frame: 5936 × 15</caption>\n",
       "<thead>\n",
       "\t<tr><th></th><th scope=col>ptnum</th><th scope=col>label</th><th scope=col>age</th><th scope=col>gender</th><th scope=col>race</th><th scope=col>Tobacco smoking status NHIS</th><th scope=col>Assessment using Alcohol Use Disorders Identification Test - Consumption (procedure)</th><th scope=col>Body Mass Index</th><th scope=col>Chronic obstructive bronchitis (disorder)</th><th scope=col>Stage group.clinical Cancer</th><th scope=col>Pneumonia (disorder)</th><th scope=col>Asthma</th><th scope=col>Acute deep venous thrombosis (disorder)</th><th scope=col>Followup</th><th scope=col>Exposure</th></tr>\n",
       "\t<tr><th></th><th scope=col>&lt;chr&gt;</th><th scope=col>&lt;dbl&gt;</th><th scope=col>&lt;dbl&gt;</th><th scope=col>&lt;chr&gt;</th><th scope=col>&lt;chr&gt;</th><th scope=col>&lt;chr&gt;</th><th scope=col>&lt;lgl&gt;</th><th scope=col>&lt;dbl&gt;</th><th scope=col>&lt;lgl&gt;</th><th scope=col>&lt;chr&gt;</th><th scope=col>&lt;lgl&gt;</th><th scope=col>&lt;lgl&gt;</th><th scope=col>&lt;lgl&gt;</th><th scope=col>&lt;int&gt;</th><th scope=col>&lt;dbl&gt;</th></tr>\n",
       "</thead>\n",
       "<tbody>\n",
       "\t<tr><th scope=row>1</th><td>p10000</td><td>1</td><td>72</td><td>m</td><td>asian</td><td>former</td><td>TRUE</td><td>28.10</td><td>  NA</td><td>NA</td><td>  NA</td><td>NA</td><td>  NA</td><td> 985</td><td>1</td></tr>\n",
       "\t<tr><th scope=row>2</th><td>p10005</td><td>0</td><td>70</td><td>m</td><td>white</td><td>never </td><td>TRUE</td><td>27.90</td><td>  NA</td><td>NA</td><td>  NA</td><td>NA</td><td>  NA</td><td>2897</td><td>2</td></tr>\n",
       "\t<tr><th scope=row>3</th><td>p10006</td><td>0</td><td>65</td><td>m</td><td>white</td><td>never </td><td>TRUE</td><td>28.70</td><td>  NA</td><td>NA</td><td>TRUE</td><td>NA</td><td>  NA</td><td>2244</td><td>2</td></tr>\n",
       "\t<tr><th scope=row>4</th><td>p10009</td><td>0</td><td>66</td><td>m</td><td>white</td><td>never </td><td>TRUE</td><td>29.92</td><td>  NA</td><td>NA</td><td>  NA</td><td>NA</td><td>  NA</td><td>1103</td><td>1</td></tr>\n",
       "\t<tr><th scope=row>5</th><td>p10018</td><td>0</td><td>67</td><td>m</td><td>white</td><td>never </td><td>TRUE</td><td>28.00</td><td>  NA</td><td>NA</td><td>  NA</td><td>NA</td><td>  NA</td><td>1761</td><td>1</td></tr>\n",
       "\t<tr><th scope=row>6</th><td>p10019</td><td>0</td><td>69</td><td>m</td><td>white</td><td>former</td><td>TRUE</td><td>34.20</td><td>  NA</td><td>NA</td><td>  NA</td><td>NA</td><td>  NA</td><td>1597</td><td>2</td></tr>\n",
       "\t<tr><th scope=row>7</th><td>p10026</td><td>1</td><td>69</td><td>m</td><td>white</td><td>former</td><td>TRUE</td><td>29.97</td><td>  NA</td><td>NA</td><td>  NA</td><td>NA</td><td>  NA</td><td>3151</td><td>1</td></tr>\n",
       "\t<tr><th scope=row>8</th><td>p10029</td><td>0</td><td>62</td><td>f</td><td>white</td><td>former</td><td>TRUE</td><td>29.26</td><td>TRUE</td><td>NA</td><td>  NA</td><td>NA</td><td>  NA</td><td>1149</td><td>1</td></tr>\n",
       "\t<tr><th scope=row>9</th><td>p10034</td><td>1</td><td>72</td><td>m</td><td>white</td><td>never </td><td>TRUE</td><td>27.40</td><td>  NA</td><td>NA</td><td>  NA</td><td>NA</td><td>  NA</td><td>1662</td><td>1</td></tr>\n",
       "\t<tr><th scope=row>10</th><td>p10037</td><td>0</td><td>68</td><td>f</td><td>white</td><td>never </td><td>  NA</td><td>30.30</td><td>  NA</td><td>NA</td><td>  NA</td><td>NA</td><td>  NA</td><td> 844</td><td>1</td></tr>\n",
       "\t<tr><th scope=row>11</th><td>p1006 </td><td>1</td><td>68</td><td>m</td><td>white</td><td>former</td><td>  NA</td><td>30.10</td><td>  NA</td><td>NA</td><td>  NA</td><td>NA</td><td>  NA</td><td> 228</td><td>1</td></tr>\n",
       "\t<tr><th scope=row>12</th><td>p10060</td><td>1</td><td>78</td><td>m</td><td>white</td><td>never </td><td>TRUE</td><td>29.60</td><td>  NA</td><td>NA</td><td>  NA</td><td>NA</td><td>  NA</td><td>3080</td><td>1</td></tr>\n",
       "\t<tr><th scope=row>13</th><td>p10063</td><td>0</td><td>66</td><td>m</td><td>white</td><td>former</td><td>TRUE</td><td>27.40</td><td>  NA</td><td>NA</td><td>  NA</td><td>NA</td><td>  NA</td><td> 510</td><td>1</td></tr>\n",
       "\t<tr><th scope=row>14</th><td>p10066</td><td>1</td><td>78</td><td>m</td><td>white</td><td>former</td><td>TRUE</td><td>33.50</td><td>  NA</td><td>NA</td><td>  NA</td><td>NA</td><td>  NA</td><td>3195</td><td>2</td></tr>\n",
       "\t<tr><th scope=row>15</th><td>p10076</td><td>1</td><td>74</td><td>m</td><td>white</td><td>former</td><td>TRUE</td><td>28.30</td><td>  NA</td><td>NA</td><td>  NA</td><td>NA</td><td>  NA</td><td>3295</td><td>1</td></tr>\n",
       "\t<tr><th scope=row>16</th><td>p10079</td><td>0</td><td>68</td><td>m</td><td>white</td><td>never </td><td>TRUE</td><td>22.60</td><td>  NA</td><td>NA</td><td>  NA</td><td>NA</td><td>  NA</td><td> 387</td><td>2</td></tr>\n",
       "\t<tr><th scope=row>17</th><td>p1008 </td><td>0</td><td>65</td><td>m</td><td>white</td><td>former</td><td>  NA</td><td>30.10</td><td>  NA</td><td>NA</td><td>  NA</td><td>NA</td><td>  NA</td><td>3188</td><td>1</td></tr>\n",
       "\t<tr><th scope=row>18</th><td>p10089</td><td>0</td><td>70</td><td>m</td><td>white</td><td>never </td><td>TRUE</td><td>27.60</td><td>  NA</td><td>NA</td><td>  NA</td><td>NA</td><td>  NA</td><td>  12</td><td>1</td></tr>\n",
       "\t<tr><th scope=row>19</th><td>p10090</td><td>0</td><td>70</td><td>m</td><td>white</td><td>never </td><td>TRUE</td><td>27.70</td><td>  NA</td><td>NA</td><td>  NA</td><td>NA</td><td>  NA</td><td>1726</td><td>1</td></tr>\n",
       "\t<tr><th scope=row>20</th><td>p10104</td><td>0</td><td>58</td><td>f</td><td>white</td><td>never </td><td>TRUE</td><td>30.36</td><td>  NA</td><td>NA</td><td>  NA</td><td>NA</td><td>  NA</td><td>2710</td><td>1</td></tr>\n",
       "\t<tr><th scope=row>21</th><td>p10107</td><td>0</td><td>65</td><td>f</td><td>white</td><td>never </td><td>TRUE</td><td>28.52</td><td>  NA</td><td>NA</td><td>  NA</td><td>NA</td><td>  NA</td><td>1404</td><td>1</td></tr>\n",
       "\t<tr><th scope=row>22</th><td>p10126</td><td>1</td><td>79</td><td>m</td><td>asian</td><td>never </td><td>TRUE</td><td>28.00</td><td>  NA</td><td>NA</td><td>  NA</td><td>NA</td><td>  NA</td><td>2445</td><td>1</td></tr>\n",
       "\t<tr><th scope=row>23</th><td>p1013 </td><td>0</td><td>70</td><td>m</td><td>white</td><td>never </td><td>TRUE</td><td>27.84</td><td>  NA</td><td>NA</td><td>  NA</td><td>NA</td><td>  NA</td><td>2048</td><td>1</td></tr>\n",
       "\t<tr><th scope=row>24</th><td>p10130</td><td>0</td><td>67</td><td>f</td><td>white</td><td>never </td><td>TRUE</td><td>27.50</td><td>  NA</td><td>NA</td><td>  NA</td><td>NA</td><td>  NA</td><td> 661</td><td>1</td></tr>\n",
       "\t<tr><th scope=row>25</th><td>p10131</td><td>0</td><td>53</td><td>f</td><td>black</td><td>former</td><td>TRUE</td><td>25.80</td><td>  NA</td><td>NA</td><td>  NA</td><td>NA</td><td>  NA</td><td>2913</td><td>2</td></tr>\n",
       "\t<tr><th scope=row>26</th><td>p10138</td><td>0</td><td>68</td><td>f</td><td>white</td><td>never </td><td>TRUE</td><td>27.40</td><td>  NA</td><td>NA</td><td>TRUE</td><td>NA</td><td>  NA</td><td> 610</td><td>2</td></tr>\n",
       "\t<tr><th scope=row>27</th><td>p10140</td><td>0</td><td>53</td><td>f</td><td>white</td><td>never </td><td>TRUE</td><td>28.50</td><td>  NA</td><td>NA</td><td>  NA</td><td>NA</td><td>  NA</td><td>3318</td><td>1</td></tr>\n",
       "\t<tr><th scope=row>28</th><td>p10155</td><td>0</td><td>57</td><td>f</td><td>white</td><td>never </td><td>TRUE</td><td>29.66</td><td>  NA</td><td>NA</td><td>TRUE</td><td>NA</td><td>TRUE</td><td>2809</td><td>1</td></tr>\n",
       "\t<tr><th scope=row>29</th><td>p10179</td><td>1</td><td>75</td><td>m</td><td>white</td><td>never </td><td>TRUE</td><td>27.70</td><td>  NA</td><td>NA</td><td>  NA</td><td>NA</td><td>  NA</td><td>2684</td><td>2</td></tr>\n",
       "\t<tr><th scope=row>30</th><td>p1018 </td><td>0</td><td>36</td><td>f</td><td>white</td><td>never </td><td>  NA</td><td>29.03</td><td>  NA</td><td>NA</td><td>  NA</td><td>NA</td><td>  NA</td><td>1524</td><td>2</td></tr>\n",
       "\t<tr><th scope=row>⋮</th><td>⋮</td><td>⋮</td><td>⋮</td><td>⋮</td><td>⋮</td><td>⋮</td><td>⋮</td><td>⋮</td><td>⋮</td><td>⋮</td><td>⋮</td><td>⋮</td><td>⋮</td><td>⋮</td><td>⋮</td></tr>\n",
       "\t<tr><th scope=row>5909</th><td>p9850</td><td>0</td><td>61</td><td>f</td><td>white   </td><td>never </td><td>TRUE</td><td>28.48</td><td>  NA</td><td>NA</td><td>NA</td><td>NA</td><td>NA</td><td>2867</td><td>2</td></tr>\n",
       "\t<tr><th scope=row>5910</th><td>p986 </td><td>1</td><td>70</td><td>m</td><td>black   </td><td>never </td><td>TRUE</td><td>28.20</td><td>  NA</td><td>NA</td><td>NA</td><td>NA</td><td>NA</td><td>2020</td><td>1</td></tr>\n",
       "\t<tr><th scope=row>5911</th><td>p9860</td><td>0</td><td>70</td><td>m</td><td>white   </td><td>never </td><td>TRUE</td><td>29.86</td><td>  NA</td><td>NA</td><td>NA</td><td>NA</td><td>NA</td><td>3263</td><td>1</td></tr>\n",
       "\t<tr><th scope=row>5912</th><td>p9871</td><td>1</td><td>71</td><td>m</td><td>white   </td><td>never </td><td>TRUE</td><td>27.70</td><td>  NA</td><td>NA</td><td>NA</td><td>NA</td><td>NA</td><td>3406</td><td>1</td></tr>\n",
       "\t<tr><th scope=row>5913</th><td>p9882</td><td>0</td><td>70</td><td>m</td><td>white   </td><td>former</td><td>TRUE</td><td>27.80</td><td>TRUE</td><td>NA</td><td>NA</td><td>NA</td><td>NA</td><td>1057</td><td>1</td></tr>\n",
       "\t<tr><th scope=row>5914</th><td>p9889</td><td>0</td><td>70</td><td>f</td><td>white   </td><td>never </td><td>TRUE</td><td>29.33</td><td>  NA</td><td>NA</td><td>NA</td><td>NA</td><td>NA</td><td>1663</td><td>1</td></tr>\n",
       "\t<tr><th scope=row>5915</th><td>p989 </td><td>1</td><td>57</td><td>f</td><td>white   </td><td>former</td><td>TRUE</td><td>26.30</td><td>  NA</td><td>NA</td><td>NA</td><td>NA</td><td>NA</td><td>3195</td><td>1</td></tr>\n",
       "\t<tr><th scope=row>5916</th><td>p9891</td><td>0</td><td>64</td><td>m</td><td>white   </td><td>never </td><td>TRUE</td><td>28.24</td><td>  NA</td><td>NA</td><td>NA</td><td>NA</td><td>NA</td><td>1912</td><td>1</td></tr>\n",
       "\t<tr><th scope=row>5917</th><td>p9900</td><td>0</td><td>70</td><td>m</td><td>white   </td><td>never </td><td>TRUE</td><td>27.40</td><td>  NA</td><td>NA</td><td>NA</td><td>NA</td><td>NA</td><td>2907</td><td>1</td></tr>\n",
       "\t<tr><th scope=row>5918</th><td>p9905</td><td>0</td><td>66</td><td>f</td><td>white   </td><td>former</td><td>TRUE</td><td>27.90</td><td>  NA</td><td>NA</td><td>NA</td><td>NA</td><td>NA</td><td>2460</td><td>1</td></tr>\n",
       "\t<tr><th scope=row>5919</th><td>p9906</td><td>0</td><td>67</td><td>m</td><td>white   </td><td>former</td><td>TRUE</td><td>28.05</td><td>  NA</td><td>NA</td><td>NA</td><td>NA</td><td>NA</td><td>1129</td><td>2</td></tr>\n",
       "\t<tr><th scope=row>5920</th><td>p9912</td><td>0</td><td>69</td><td>f</td><td>white   </td><td>never </td><td>TRUE</td><td>27.80</td><td>  NA</td><td>NA</td><td>NA</td><td>NA</td><td>NA</td><td>1193</td><td>1</td></tr>\n",
       "\t<tr><th scope=row>5921</th><td>p993 </td><td>1</td><td>80</td><td>m</td><td>white   </td><td>never </td><td>TRUE</td><td>32.20</td><td>  NA</td><td>NA</td><td>NA</td><td>NA</td><td>NA</td><td>2681</td><td>1</td></tr>\n",
       "\t<tr><th scope=row>5922</th><td>p9934</td><td>1</td><td>69</td><td>m</td><td>white   </td><td>never </td><td>  NA</td><td>27.90</td><td>  NA</td><td>NA</td><td>NA</td><td>NA</td><td>NA</td><td>1189</td><td>2</td></tr>\n",
       "\t<tr><th scope=row>5923</th><td>p9935</td><td>0</td><td>70</td><td>m</td><td>white   </td><td>never </td><td>TRUE</td><td>27.50</td><td>  NA</td><td>NA</td><td>NA</td><td>NA</td><td>NA</td><td>2293</td><td>1</td></tr>\n",
       "\t<tr><th scope=row>5924</th><td>p9936</td><td>1</td><td>81</td><td>m</td><td>white   </td><td>never </td><td>TRUE</td><td>27.50</td><td>  NA</td><td>NA</td><td>NA</td><td>NA</td><td>NA</td><td>2027</td><td>1</td></tr>\n",
       "\t<tr><th scope=row>5925</th><td>p9938</td><td>1</td><td>58</td><td>m</td><td>white   </td><td>former</td><td>TRUE</td><td>27.30</td><td>  NA</td><td>NA</td><td>NA</td><td>NA</td><td>NA</td><td>3229</td><td>1</td></tr>\n",
       "\t<tr><th scope=row>5926</th><td>p9943</td><td>0</td><td>54</td><td>m</td><td>white   </td><td>former</td><td>TRUE</td><td>29.15</td><td>  NA</td><td>NA</td><td>NA</td><td>NA</td><td>NA</td><td> 661</td><td>1</td></tr>\n",
       "\t<tr><th scope=row>5927</th><td>p9944</td><td>0</td><td>67</td><td>m</td><td>white   </td><td>never </td><td>TRUE</td><td>27.70</td><td>  NA</td><td>NA</td><td>NA</td><td>NA</td><td>NA</td><td>2745</td><td>1</td></tr>\n",
       "\t<tr><th scope=row>5928</th><td>p9948</td><td>1</td><td>73</td><td>m</td><td>white   </td><td>never </td><td>  NA</td><td>28.10</td><td>  NA</td><td>NA</td><td>NA</td><td>NA</td><td>NA</td><td> 474</td><td>2</td></tr>\n",
       "\t<tr><th scope=row>5929</th><td>p9952</td><td>0</td><td>65</td><td>m</td><td>hawaiian</td><td>former</td><td>TRUE</td><td>29.37</td><td>  NA</td><td>NA</td><td>NA</td><td>NA</td><td>NA</td><td>1720</td><td>1</td></tr>\n",
       "\t<tr><th scope=row>5930</th><td>p996 </td><td>0</td><td>64</td><td>m</td><td>black   </td><td>former</td><td>  NA</td><td>25.50</td><td>TRUE</td><td>NA</td><td>NA</td><td>NA</td><td>NA</td><td> 447</td><td>1</td></tr>\n",
       "\t<tr><th scope=row>5931</th><td>p997 </td><td>0</td><td>59</td><td>m</td><td>white   </td><td>never </td><td>TRUE</td><td>27.80</td><td>  NA</td><td>NA</td><td>NA</td><td>NA</td><td>NA</td><td> 506</td><td>1</td></tr>\n",
       "\t<tr><th scope=row>5932</th><td>p9970</td><td>0</td><td>70</td><td>m</td><td>white   </td><td>former</td><td>TRUE</td><td>28.95</td><td>TRUE</td><td>NA</td><td>NA</td><td>NA</td><td>NA</td><td>1027</td><td>2</td></tr>\n",
       "\t<tr><th scope=row>5933</th><td>p9972</td><td>0</td><td>53</td><td>f</td><td>white   </td><td>never </td><td>TRUE</td><td>29.66</td><td>  NA</td><td>NA</td><td>NA</td><td>NA</td><td>NA</td><td> 822</td><td>1</td></tr>\n",
       "\t<tr><th scope=row>5934</th><td>p9976</td><td>0</td><td>70</td><td>m</td><td>white   </td><td>former</td><td>TRUE</td><td>30.06</td><td>  NA</td><td>NA</td><td>NA</td><td>NA</td><td>NA</td><td>3042</td><td>1</td></tr>\n",
       "\t<tr><th scope=row>5935</th><td>p9982</td><td>0</td><td>70</td><td>m</td><td>black   </td><td>never </td><td>TRUE</td><td>31.07</td><td>  NA</td><td>NA</td><td>NA</td><td>NA</td><td>NA</td><td>1233</td><td>1</td></tr>\n",
       "\t<tr><th scope=row>5936</th><td>p9992</td><td>1</td><td>75</td><td>m</td><td>white   </td><td>never </td><td>TRUE</td><td>29.60</td><td>  NA</td><td>NA</td><td>NA</td><td>NA</td><td>NA</td><td>1838</td><td>1</td></tr>\n",
       "\t<tr><th scope=row>5937</th><td>p9996</td><td>0</td><td>59</td><td>m</td><td>white   </td><td>never </td><td>TRUE</td><td>27.30</td><td>  NA</td><td>NA</td><td>NA</td><td>NA</td><td>NA</td><td>2374</td><td>2</td></tr>\n",
       "\t<tr><th scope=row>5938</th><td>p9998</td><td>0</td><td>46</td><td>f</td><td>white   </td><td>former</td><td>TRUE</td><td>27.60</td><td>  NA</td><td>NA</td><td>NA</td><td>NA</td><td>NA</td><td> 356</td><td>1</td></tr>\n",
       "</tbody>\n",
       "</table>\n"
      ],
      "text/latex": [
       "A data.frame: 5936 × 15\n",
       "\\begin{tabular}{r|lllllllllllllll}\n",
       "  & ptnum & label & age & gender & race & Tobacco smoking status NHIS & Assessment using Alcohol Use Disorders Identification Test - Consumption (procedure) & Body Mass Index & Chronic obstructive bronchitis (disorder) & Stage group.clinical Cancer & Pneumonia (disorder) & Asthma & Acute deep venous thrombosis (disorder) & Followup & Exposure\\\\\n",
       "  & <chr> & <dbl> & <dbl> & <chr> & <chr> & <chr> & <lgl> & <dbl> & <lgl> & <chr> & <lgl> & <lgl> & <lgl> & <int> & <dbl>\\\\\n",
       "\\hline\n",
       "\t1 & p10000 & 1 & 72 & m & asian & former & TRUE & 28.10 &   NA & NA &   NA & NA &   NA &  985 & 1\\\\\n",
       "\t2 & p10005 & 0 & 70 & m & white & never  & TRUE & 27.90 &   NA & NA &   NA & NA &   NA & 2897 & 2\\\\\n",
       "\t3 & p10006 & 0 & 65 & m & white & never  & TRUE & 28.70 &   NA & NA & TRUE & NA &   NA & 2244 & 2\\\\\n",
       "\t4 & p10009 & 0 & 66 & m & white & never  & TRUE & 29.92 &   NA & NA &   NA & NA &   NA & 1103 & 1\\\\\n",
       "\t5 & p10018 & 0 & 67 & m & white & never  & TRUE & 28.00 &   NA & NA &   NA & NA &   NA & 1761 & 1\\\\\n",
       "\t6 & p10019 & 0 & 69 & m & white & former & TRUE & 34.20 &   NA & NA &   NA & NA &   NA & 1597 & 2\\\\\n",
       "\t7 & p10026 & 1 & 69 & m & white & former & TRUE & 29.97 &   NA & NA &   NA & NA &   NA & 3151 & 1\\\\\n",
       "\t8 & p10029 & 0 & 62 & f & white & former & TRUE & 29.26 & TRUE & NA &   NA & NA &   NA & 1149 & 1\\\\\n",
       "\t9 & p10034 & 1 & 72 & m & white & never  & TRUE & 27.40 &   NA & NA &   NA & NA &   NA & 1662 & 1\\\\\n",
       "\t10 & p10037 & 0 & 68 & f & white & never  &   NA & 30.30 &   NA & NA &   NA & NA &   NA &  844 & 1\\\\\n",
       "\t11 & p1006  & 1 & 68 & m & white & former &   NA & 30.10 &   NA & NA &   NA & NA &   NA &  228 & 1\\\\\n",
       "\t12 & p10060 & 1 & 78 & m & white & never  & TRUE & 29.60 &   NA & NA &   NA & NA &   NA & 3080 & 1\\\\\n",
       "\t13 & p10063 & 0 & 66 & m & white & former & TRUE & 27.40 &   NA & NA &   NA & NA &   NA &  510 & 1\\\\\n",
       "\t14 & p10066 & 1 & 78 & m & white & former & TRUE & 33.50 &   NA & NA &   NA & NA &   NA & 3195 & 2\\\\\n",
       "\t15 & p10076 & 1 & 74 & m & white & former & TRUE & 28.30 &   NA & NA &   NA & NA &   NA & 3295 & 1\\\\\n",
       "\t16 & p10079 & 0 & 68 & m & white & never  & TRUE & 22.60 &   NA & NA &   NA & NA &   NA &  387 & 2\\\\\n",
       "\t17 & p1008  & 0 & 65 & m & white & former &   NA & 30.10 &   NA & NA &   NA & NA &   NA & 3188 & 1\\\\\n",
       "\t18 & p10089 & 0 & 70 & m & white & never  & TRUE & 27.60 &   NA & NA &   NA & NA &   NA &   12 & 1\\\\\n",
       "\t19 & p10090 & 0 & 70 & m & white & never  & TRUE & 27.70 &   NA & NA &   NA & NA &   NA & 1726 & 1\\\\\n",
       "\t20 & p10104 & 0 & 58 & f & white & never  & TRUE & 30.36 &   NA & NA &   NA & NA &   NA & 2710 & 1\\\\\n",
       "\t21 & p10107 & 0 & 65 & f & white & never  & TRUE & 28.52 &   NA & NA &   NA & NA &   NA & 1404 & 1\\\\\n",
       "\t22 & p10126 & 1 & 79 & m & asian & never  & TRUE & 28.00 &   NA & NA &   NA & NA &   NA & 2445 & 1\\\\\n",
       "\t23 & p1013  & 0 & 70 & m & white & never  & TRUE & 27.84 &   NA & NA &   NA & NA &   NA & 2048 & 1\\\\\n",
       "\t24 & p10130 & 0 & 67 & f & white & never  & TRUE & 27.50 &   NA & NA &   NA & NA &   NA &  661 & 1\\\\\n",
       "\t25 & p10131 & 0 & 53 & f & black & former & TRUE & 25.80 &   NA & NA &   NA & NA &   NA & 2913 & 2\\\\\n",
       "\t26 & p10138 & 0 & 68 & f & white & never  & TRUE & 27.40 &   NA & NA & TRUE & NA &   NA &  610 & 2\\\\\n",
       "\t27 & p10140 & 0 & 53 & f & white & never  & TRUE & 28.50 &   NA & NA &   NA & NA &   NA & 3318 & 1\\\\\n",
       "\t28 & p10155 & 0 & 57 & f & white & never  & TRUE & 29.66 &   NA & NA & TRUE & NA & TRUE & 2809 & 1\\\\\n",
       "\t29 & p10179 & 1 & 75 & m & white & never  & TRUE & 27.70 &   NA & NA &   NA & NA &   NA & 2684 & 2\\\\\n",
       "\t30 & p1018  & 0 & 36 & f & white & never  &   NA & 29.03 &   NA & NA &   NA & NA &   NA & 1524 & 2\\\\\n",
       "\t⋮ & ⋮ & ⋮ & ⋮ & ⋮ & ⋮ & ⋮ & ⋮ & ⋮ & ⋮ & ⋮ & ⋮ & ⋮ & ⋮ & ⋮ & ⋮\\\\\n",
       "\t5909 & p9850 & 0 & 61 & f & white    & never  & TRUE & 28.48 &   NA & NA & NA & NA & NA & 2867 & 2\\\\\n",
       "\t5910 & p986  & 1 & 70 & m & black    & never  & TRUE & 28.20 &   NA & NA & NA & NA & NA & 2020 & 1\\\\\n",
       "\t5911 & p9860 & 0 & 70 & m & white    & never  & TRUE & 29.86 &   NA & NA & NA & NA & NA & 3263 & 1\\\\\n",
       "\t5912 & p9871 & 1 & 71 & m & white    & never  & TRUE & 27.70 &   NA & NA & NA & NA & NA & 3406 & 1\\\\\n",
       "\t5913 & p9882 & 0 & 70 & m & white    & former & TRUE & 27.80 & TRUE & NA & NA & NA & NA & 1057 & 1\\\\\n",
       "\t5914 & p9889 & 0 & 70 & f & white    & never  & TRUE & 29.33 &   NA & NA & NA & NA & NA & 1663 & 1\\\\\n",
       "\t5915 & p989  & 1 & 57 & f & white    & former & TRUE & 26.30 &   NA & NA & NA & NA & NA & 3195 & 1\\\\\n",
       "\t5916 & p9891 & 0 & 64 & m & white    & never  & TRUE & 28.24 &   NA & NA & NA & NA & NA & 1912 & 1\\\\\n",
       "\t5917 & p9900 & 0 & 70 & m & white    & never  & TRUE & 27.40 &   NA & NA & NA & NA & NA & 2907 & 1\\\\\n",
       "\t5918 & p9905 & 0 & 66 & f & white    & former & TRUE & 27.90 &   NA & NA & NA & NA & NA & 2460 & 1\\\\\n",
       "\t5919 & p9906 & 0 & 67 & m & white    & former & TRUE & 28.05 &   NA & NA & NA & NA & NA & 1129 & 2\\\\\n",
       "\t5920 & p9912 & 0 & 69 & f & white    & never  & TRUE & 27.80 &   NA & NA & NA & NA & NA & 1193 & 1\\\\\n",
       "\t5921 & p993  & 1 & 80 & m & white    & never  & TRUE & 32.20 &   NA & NA & NA & NA & NA & 2681 & 1\\\\\n",
       "\t5922 & p9934 & 1 & 69 & m & white    & never  &   NA & 27.90 &   NA & NA & NA & NA & NA & 1189 & 2\\\\\n",
       "\t5923 & p9935 & 0 & 70 & m & white    & never  & TRUE & 27.50 &   NA & NA & NA & NA & NA & 2293 & 1\\\\\n",
       "\t5924 & p9936 & 1 & 81 & m & white    & never  & TRUE & 27.50 &   NA & NA & NA & NA & NA & 2027 & 1\\\\\n",
       "\t5925 & p9938 & 1 & 58 & m & white    & former & TRUE & 27.30 &   NA & NA & NA & NA & NA & 3229 & 1\\\\\n",
       "\t5926 & p9943 & 0 & 54 & m & white    & former & TRUE & 29.15 &   NA & NA & NA & NA & NA &  661 & 1\\\\\n",
       "\t5927 & p9944 & 0 & 67 & m & white    & never  & TRUE & 27.70 &   NA & NA & NA & NA & NA & 2745 & 1\\\\\n",
       "\t5928 & p9948 & 1 & 73 & m & white    & never  &   NA & 28.10 &   NA & NA & NA & NA & NA &  474 & 2\\\\\n",
       "\t5929 & p9952 & 0 & 65 & m & hawaiian & former & TRUE & 29.37 &   NA & NA & NA & NA & NA & 1720 & 1\\\\\n",
       "\t5930 & p996  & 0 & 64 & m & black    & former &   NA & 25.50 & TRUE & NA & NA & NA & NA &  447 & 1\\\\\n",
       "\t5931 & p997  & 0 & 59 & m & white    & never  & TRUE & 27.80 &   NA & NA & NA & NA & NA &  506 & 1\\\\\n",
       "\t5932 & p9970 & 0 & 70 & m & white    & former & TRUE & 28.95 & TRUE & NA & NA & NA & NA & 1027 & 2\\\\\n",
       "\t5933 & p9972 & 0 & 53 & f & white    & never  & TRUE & 29.66 &   NA & NA & NA & NA & NA &  822 & 1\\\\\n",
       "\t5934 & p9976 & 0 & 70 & m & white    & former & TRUE & 30.06 &   NA & NA & NA & NA & NA & 3042 & 1\\\\\n",
       "\t5935 & p9982 & 0 & 70 & m & black    & never  & TRUE & 31.07 &   NA & NA & NA & NA & NA & 1233 & 1\\\\\n",
       "\t5936 & p9992 & 1 & 75 & m & white    & never  & TRUE & 29.60 &   NA & NA & NA & NA & NA & 1838 & 1\\\\\n",
       "\t5937 & p9996 & 0 & 59 & m & white    & never  & TRUE & 27.30 &   NA & NA & NA & NA & NA & 2374 & 2\\\\\n",
       "\t5938 & p9998 & 0 & 46 & f & white    & former & TRUE & 27.60 &   NA & NA & NA & NA & NA &  356 & 1\\\\\n",
       "\\end{tabular}\n"
      ],
      "text/markdown": [
       "\n",
       "A data.frame: 5936 × 15\n",
       "\n",
       "| <!--/--> | ptnum &lt;chr&gt; | label &lt;dbl&gt; | age &lt;dbl&gt; | gender &lt;chr&gt; | race &lt;chr&gt; | Tobacco smoking status NHIS &lt;chr&gt; | Assessment using Alcohol Use Disorders Identification Test - Consumption (procedure) &lt;lgl&gt; | Body Mass Index &lt;dbl&gt; | Chronic obstructive bronchitis (disorder) &lt;lgl&gt; | Stage group.clinical Cancer &lt;chr&gt; | Pneumonia (disorder) &lt;lgl&gt; | Asthma &lt;lgl&gt; | Acute deep venous thrombosis (disorder) &lt;lgl&gt; | Followup &lt;int&gt; | Exposure &lt;dbl&gt; |\n",
       "|---|---|---|---|---|---|---|---|---|---|---|---|---|---|---|---|\n",
       "| 1 | p10000 | 1 | 72 | m | asian | former | TRUE | 28.10 |   NA | NA |   NA | NA |   NA |  985 | 1 |\n",
       "| 2 | p10005 | 0 | 70 | m | white | never  | TRUE | 27.90 |   NA | NA |   NA | NA |   NA | 2897 | 2 |\n",
       "| 3 | p10006 | 0 | 65 | m | white | never  | TRUE | 28.70 |   NA | NA | TRUE | NA |   NA | 2244 | 2 |\n",
       "| 4 | p10009 | 0 | 66 | m | white | never  | TRUE | 29.92 |   NA | NA |   NA | NA |   NA | 1103 | 1 |\n",
       "| 5 | p10018 | 0 | 67 | m | white | never  | TRUE | 28.00 |   NA | NA |   NA | NA |   NA | 1761 | 1 |\n",
       "| 6 | p10019 | 0 | 69 | m | white | former | TRUE | 34.20 |   NA | NA |   NA | NA |   NA | 1597 | 2 |\n",
       "| 7 | p10026 | 1 | 69 | m | white | former | TRUE | 29.97 |   NA | NA |   NA | NA |   NA | 3151 | 1 |\n",
       "| 8 | p10029 | 0 | 62 | f | white | former | TRUE | 29.26 | TRUE | NA |   NA | NA |   NA | 1149 | 1 |\n",
       "| 9 | p10034 | 1 | 72 | m | white | never  | TRUE | 27.40 |   NA | NA |   NA | NA |   NA | 1662 | 1 |\n",
       "| 10 | p10037 | 0 | 68 | f | white | never  |   NA | 30.30 |   NA | NA |   NA | NA |   NA |  844 | 1 |\n",
       "| 11 | p1006  | 1 | 68 | m | white | former |   NA | 30.10 |   NA | NA |   NA | NA |   NA |  228 | 1 |\n",
       "| 12 | p10060 | 1 | 78 | m | white | never  | TRUE | 29.60 |   NA | NA |   NA | NA |   NA | 3080 | 1 |\n",
       "| 13 | p10063 | 0 | 66 | m | white | former | TRUE | 27.40 |   NA | NA |   NA | NA |   NA |  510 | 1 |\n",
       "| 14 | p10066 | 1 | 78 | m | white | former | TRUE | 33.50 |   NA | NA |   NA | NA |   NA | 3195 | 2 |\n",
       "| 15 | p10076 | 1 | 74 | m | white | former | TRUE | 28.30 |   NA | NA |   NA | NA |   NA | 3295 | 1 |\n",
       "| 16 | p10079 | 0 | 68 | m | white | never  | TRUE | 22.60 |   NA | NA |   NA | NA |   NA |  387 | 2 |\n",
       "| 17 | p1008  | 0 | 65 | m | white | former |   NA | 30.10 |   NA | NA |   NA | NA |   NA | 3188 | 1 |\n",
       "| 18 | p10089 | 0 | 70 | m | white | never  | TRUE | 27.60 |   NA | NA |   NA | NA |   NA |   12 | 1 |\n",
       "| 19 | p10090 | 0 | 70 | m | white | never  | TRUE | 27.70 |   NA | NA |   NA | NA |   NA | 1726 | 1 |\n",
       "| 20 | p10104 | 0 | 58 | f | white | never  | TRUE | 30.36 |   NA | NA |   NA | NA |   NA | 2710 | 1 |\n",
       "| 21 | p10107 | 0 | 65 | f | white | never  | TRUE | 28.52 |   NA | NA |   NA | NA |   NA | 1404 | 1 |\n",
       "| 22 | p10126 | 1 | 79 | m | asian | never  | TRUE | 28.00 |   NA | NA |   NA | NA |   NA | 2445 | 1 |\n",
       "| 23 | p1013  | 0 | 70 | m | white | never  | TRUE | 27.84 |   NA | NA |   NA | NA |   NA | 2048 | 1 |\n",
       "| 24 | p10130 | 0 | 67 | f | white | never  | TRUE | 27.50 |   NA | NA |   NA | NA |   NA |  661 | 1 |\n",
       "| 25 | p10131 | 0 | 53 | f | black | former | TRUE | 25.80 |   NA | NA |   NA | NA |   NA | 2913 | 2 |\n",
       "| 26 | p10138 | 0 | 68 | f | white | never  | TRUE | 27.40 |   NA | NA | TRUE | NA |   NA |  610 | 2 |\n",
       "| 27 | p10140 | 0 | 53 | f | white | never  | TRUE | 28.50 |   NA | NA |   NA | NA |   NA | 3318 | 1 |\n",
       "| 28 | p10155 | 0 | 57 | f | white | never  | TRUE | 29.66 |   NA | NA | TRUE | NA | TRUE | 2809 | 1 |\n",
       "| 29 | p10179 | 1 | 75 | m | white | never  | TRUE | 27.70 |   NA | NA |   NA | NA |   NA | 2684 | 2 |\n",
       "| 30 | p1018  | 0 | 36 | f | white | never  |   NA | 29.03 |   NA | NA |   NA | NA |   NA | 1524 | 2 |\n",
       "| ⋮ | ⋮ | ⋮ | ⋮ | ⋮ | ⋮ | ⋮ | ⋮ | ⋮ | ⋮ | ⋮ | ⋮ | ⋮ | ⋮ | ⋮ | ⋮ |\n",
       "| 5909 | p9850 | 0 | 61 | f | white    | never  | TRUE | 28.48 |   NA | NA | NA | NA | NA | 2867 | 2 |\n",
       "| 5910 | p986  | 1 | 70 | m | black    | never  | TRUE | 28.20 |   NA | NA | NA | NA | NA | 2020 | 1 |\n",
       "| 5911 | p9860 | 0 | 70 | m | white    | never  | TRUE | 29.86 |   NA | NA | NA | NA | NA | 3263 | 1 |\n",
       "| 5912 | p9871 | 1 | 71 | m | white    | never  | TRUE | 27.70 |   NA | NA | NA | NA | NA | 3406 | 1 |\n",
       "| 5913 | p9882 | 0 | 70 | m | white    | former | TRUE | 27.80 | TRUE | NA | NA | NA | NA | 1057 | 1 |\n",
       "| 5914 | p9889 | 0 | 70 | f | white    | never  | TRUE | 29.33 |   NA | NA | NA | NA | NA | 1663 | 1 |\n",
       "| 5915 | p989  | 1 | 57 | f | white    | former | TRUE | 26.30 |   NA | NA | NA | NA | NA | 3195 | 1 |\n",
       "| 5916 | p9891 | 0 | 64 | m | white    | never  | TRUE | 28.24 |   NA | NA | NA | NA | NA | 1912 | 1 |\n",
       "| 5917 | p9900 | 0 | 70 | m | white    | never  | TRUE | 27.40 |   NA | NA | NA | NA | NA | 2907 | 1 |\n",
       "| 5918 | p9905 | 0 | 66 | f | white    | former | TRUE | 27.90 |   NA | NA | NA | NA | NA | 2460 | 1 |\n",
       "| 5919 | p9906 | 0 | 67 | m | white    | former | TRUE | 28.05 |   NA | NA | NA | NA | NA | 1129 | 2 |\n",
       "| 5920 | p9912 | 0 | 69 | f | white    | never  | TRUE | 27.80 |   NA | NA | NA | NA | NA | 1193 | 1 |\n",
       "| 5921 | p993  | 1 | 80 | m | white    | never  | TRUE | 32.20 |   NA | NA | NA | NA | NA | 2681 | 1 |\n",
       "| 5922 | p9934 | 1 | 69 | m | white    | never  |   NA | 27.90 |   NA | NA | NA | NA | NA | 1189 | 2 |\n",
       "| 5923 | p9935 | 0 | 70 | m | white    | never  | TRUE | 27.50 |   NA | NA | NA | NA | NA | 2293 | 1 |\n",
       "| 5924 | p9936 | 1 | 81 | m | white    | never  | TRUE | 27.50 |   NA | NA | NA | NA | NA | 2027 | 1 |\n",
       "| 5925 | p9938 | 1 | 58 | m | white    | former | TRUE | 27.30 |   NA | NA | NA | NA | NA | 3229 | 1 |\n",
       "| 5926 | p9943 | 0 | 54 | m | white    | former | TRUE | 29.15 |   NA | NA | NA | NA | NA |  661 | 1 |\n",
       "| 5927 | p9944 | 0 | 67 | m | white    | never  | TRUE | 27.70 |   NA | NA | NA | NA | NA | 2745 | 1 |\n",
       "| 5928 | p9948 | 1 | 73 | m | white    | never  |   NA | 28.10 |   NA | NA | NA | NA | NA |  474 | 2 |\n",
       "| 5929 | p9952 | 0 | 65 | m | hawaiian | former | TRUE | 29.37 |   NA | NA | NA | NA | NA | 1720 | 1 |\n",
       "| 5930 | p996  | 0 | 64 | m | black    | former |   NA | 25.50 | TRUE | NA | NA | NA | NA |  447 | 1 |\n",
       "| 5931 | p997  | 0 | 59 | m | white    | never  | TRUE | 27.80 |   NA | NA | NA | NA | NA |  506 | 1 |\n",
       "| 5932 | p9970 | 0 | 70 | m | white    | former | TRUE | 28.95 | TRUE | NA | NA | NA | NA | 1027 | 2 |\n",
       "| 5933 | p9972 | 0 | 53 | f | white    | never  | TRUE | 29.66 |   NA | NA | NA | NA | NA |  822 | 1 |\n",
       "| 5934 | p9976 | 0 | 70 | m | white    | former | TRUE | 30.06 |   NA | NA | NA | NA | NA | 3042 | 1 |\n",
       "| 5935 | p9982 | 0 | 70 | m | black    | never  | TRUE | 31.07 |   NA | NA | NA | NA | NA | 1233 | 1 |\n",
       "| 5936 | p9992 | 1 | 75 | m | white    | never  | TRUE | 29.60 |   NA | NA | NA | NA | NA | 1838 | 1 |\n",
       "| 5937 | p9996 | 0 | 59 | m | white    | never  | TRUE | 27.30 |   NA | NA | NA | NA | NA | 2374 | 2 |\n",
       "| 5938 | p9998 | 0 | 46 | f | white    | former | TRUE | 27.60 |   NA | NA | NA | NA | NA |  356 | 1 |\n",
       "\n"
      ],
      "text/plain": [
       "     ptnum  label age gender race     Tobacco smoking status NHIS\n",
       "1    p10000 1     72  m      asian    former                     \n",
       "2    p10005 0     70  m      white    never                      \n",
       "3    p10006 0     65  m      white    never                      \n",
       "4    p10009 0     66  m      white    never                      \n",
       "5    p10018 0     67  m      white    never                      \n",
       "6    p10019 0     69  m      white    former                     \n",
       "7    p10026 1     69  m      white    former                     \n",
       "8    p10029 0     62  f      white    former                     \n",
       "9    p10034 1     72  m      white    never                      \n",
       "10   p10037 0     68  f      white    never                      \n",
       "11   p1006  1     68  m      white    former                     \n",
       "12   p10060 1     78  m      white    never                      \n",
       "13   p10063 0     66  m      white    former                     \n",
       "14   p10066 1     78  m      white    former                     \n",
       "15   p10076 1     74  m      white    former                     \n",
       "16   p10079 0     68  m      white    never                      \n",
       "17   p1008  0     65  m      white    former                     \n",
       "18   p10089 0     70  m      white    never                      \n",
       "19   p10090 0     70  m      white    never                      \n",
       "20   p10104 0     58  f      white    never                      \n",
       "21   p10107 0     65  f      white    never                      \n",
       "22   p10126 1     79  m      asian    never                      \n",
       "23   p1013  0     70  m      white    never                      \n",
       "24   p10130 0     67  f      white    never                      \n",
       "25   p10131 0     53  f      black    former                     \n",
       "26   p10138 0     68  f      white    never                      \n",
       "27   p10140 0     53  f      white    never                      \n",
       "28   p10155 0     57  f      white    never                      \n",
       "29   p10179 1     75  m      white    never                      \n",
       "30   p1018  0     36  f      white    never                      \n",
       "⋮    ⋮      ⋮     ⋮   ⋮      ⋮        ⋮                          \n",
       "5909 p9850  0     61  f      white    never                      \n",
       "5910 p986   1     70  m      black    never                      \n",
       "5911 p9860  0     70  m      white    never                      \n",
       "5912 p9871  1     71  m      white    never                      \n",
       "5913 p9882  0     70  m      white    former                     \n",
       "5914 p9889  0     70  f      white    never                      \n",
       "5915 p989   1     57  f      white    former                     \n",
       "5916 p9891  0     64  m      white    never                      \n",
       "5917 p9900  0     70  m      white    never                      \n",
       "5918 p9905  0     66  f      white    former                     \n",
       "5919 p9906  0     67  m      white    former                     \n",
       "5920 p9912  0     69  f      white    never                      \n",
       "5921 p993   1     80  m      white    never                      \n",
       "5922 p9934  1     69  m      white    never                      \n",
       "5923 p9935  0     70  m      white    never                      \n",
       "5924 p9936  1     81  m      white    never                      \n",
       "5925 p9938  1     58  m      white    former                     \n",
       "5926 p9943  0     54  m      white    former                     \n",
       "5927 p9944  0     67  m      white    never                      \n",
       "5928 p9948  1     73  m      white    never                      \n",
       "5929 p9952  0     65  m      hawaiian former                     \n",
       "5930 p996   0     64  m      black    former                     \n",
       "5931 p997   0     59  m      white    never                      \n",
       "5932 p9970  0     70  m      white    former                     \n",
       "5933 p9972  0     53  f      white    never                      \n",
       "5934 p9976  0     70  m      white    former                     \n",
       "5935 p9982  0     70  m      black    never                      \n",
       "5936 p9992  1     75  m      white    never                      \n",
       "5937 p9996  0     59  m      white    never                      \n",
       "5938 p9998  0     46  f      white    former                     \n",
       "     Assessment using Alcohol Use Disorders Identification Test - Consumption (procedure)\n",
       "1    TRUE                                                                                \n",
       "2    TRUE                                                                                \n",
       "3    TRUE                                                                                \n",
       "4    TRUE                                                                                \n",
       "5    TRUE                                                                                \n",
       "6    TRUE                                                                                \n",
       "7    TRUE                                                                                \n",
       "8    TRUE                                                                                \n",
       "9    TRUE                                                                                \n",
       "10     NA                                                                                \n",
       "11     NA                                                                                \n",
       "12   TRUE                                                                                \n",
       "13   TRUE                                                                                \n",
       "14   TRUE                                                                                \n",
       "15   TRUE                                                                                \n",
       "16   TRUE                                                                                \n",
       "17     NA                                                                                \n",
       "18   TRUE                                                                                \n",
       "19   TRUE                                                                                \n",
       "20   TRUE                                                                                \n",
       "21   TRUE                                                                                \n",
       "22   TRUE                                                                                \n",
       "23   TRUE                                                                                \n",
       "24   TRUE                                                                                \n",
       "25   TRUE                                                                                \n",
       "26   TRUE                                                                                \n",
       "27   TRUE                                                                                \n",
       "28   TRUE                                                                                \n",
       "29   TRUE                                                                                \n",
       "30     NA                                                                                \n",
       "⋮    ⋮                                                                                   \n",
       "5909 TRUE                                                                                \n",
       "5910 TRUE                                                                                \n",
       "5911 TRUE                                                                                \n",
       "5912 TRUE                                                                                \n",
       "5913 TRUE                                                                                \n",
       "5914 TRUE                                                                                \n",
       "5915 TRUE                                                                                \n",
       "5916 TRUE                                                                                \n",
       "5917 TRUE                                                                                \n",
       "5918 TRUE                                                                                \n",
       "5919 TRUE                                                                                \n",
       "5920 TRUE                                                                                \n",
       "5921 TRUE                                                                                \n",
       "5922   NA                                                                                \n",
       "5923 TRUE                                                                                \n",
       "5924 TRUE                                                                                \n",
       "5925 TRUE                                                                                \n",
       "5926 TRUE                                                                                \n",
       "5927 TRUE                                                                                \n",
       "5928   NA                                                                                \n",
       "5929 TRUE                                                                                \n",
       "5930   NA                                                                                \n",
       "5931 TRUE                                                                                \n",
       "5932 TRUE                                                                                \n",
       "5933 TRUE                                                                                \n",
       "5934 TRUE                                                                                \n",
       "5935 TRUE                                                                                \n",
       "5936 TRUE                                                                                \n",
       "5937 TRUE                                                                                \n",
       "5938 TRUE                                                                                \n",
       "     Body Mass Index Chronic obstructive bronchitis (disorder)\n",
       "1    28.10             NA                                     \n",
       "2    27.90             NA                                     \n",
       "3    28.70             NA                                     \n",
       "4    29.92             NA                                     \n",
       "5    28.00             NA                                     \n",
       "6    34.20             NA                                     \n",
       "7    29.97             NA                                     \n",
       "8    29.26           TRUE                                     \n",
       "9    27.40             NA                                     \n",
       "10   30.30             NA                                     \n",
       "11   30.10             NA                                     \n",
       "12   29.60             NA                                     \n",
       "13   27.40             NA                                     \n",
       "14   33.50             NA                                     \n",
       "15   28.30             NA                                     \n",
       "16   22.60             NA                                     \n",
       "17   30.10             NA                                     \n",
       "18   27.60             NA                                     \n",
       "19   27.70             NA                                     \n",
       "20   30.36             NA                                     \n",
       "21   28.52             NA                                     \n",
       "22   28.00             NA                                     \n",
       "23   27.84             NA                                     \n",
       "24   27.50             NA                                     \n",
       "25   25.80             NA                                     \n",
       "26   27.40             NA                                     \n",
       "27   28.50             NA                                     \n",
       "28   29.66             NA                                     \n",
       "29   27.70             NA                                     \n",
       "30   29.03             NA                                     \n",
       "⋮    ⋮               ⋮                                        \n",
       "5909 28.48             NA                                     \n",
       "5910 28.20             NA                                     \n",
       "5911 29.86             NA                                     \n",
       "5912 27.70             NA                                     \n",
       "5913 27.80           TRUE                                     \n",
       "5914 29.33             NA                                     \n",
       "5915 26.30             NA                                     \n",
       "5916 28.24             NA                                     \n",
       "5917 27.40             NA                                     \n",
       "5918 27.90             NA                                     \n",
       "5919 28.05             NA                                     \n",
       "5920 27.80             NA                                     \n",
       "5921 32.20             NA                                     \n",
       "5922 27.90             NA                                     \n",
       "5923 27.50             NA                                     \n",
       "5924 27.50             NA                                     \n",
       "5925 27.30             NA                                     \n",
       "5926 29.15             NA                                     \n",
       "5927 27.70             NA                                     \n",
       "5928 28.10             NA                                     \n",
       "5929 29.37             NA                                     \n",
       "5930 25.50           TRUE                                     \n",
       "5931 27.80             NA                                     \n",
       "5932 28.95           TRUE                                     \n",
       "5933 29.66             NA                                     \n",
       "5934 30.06             NA                                     \n",
       "5935 31.07             NA                                     \n",
       "5936 29.60             NA                                     \n",
       "5937 27.30             NA                                     \n",
       "5938 27.60             NA                                     \n",
       "     Stage group.clinical Cancer Pneumonia (disorder) Asthma\n",
       "1    NA                            NA                 NA    \n",
       "2    NA                            NA                 NA    \n",
       "3    NA                          TRUE                 NA    \n",
       "4    NA                            NA                 NA    \n",
       "5    NA                            NA                 NA    \n",
       "6    NA                            NA                 NA    \n",
       "7    NA                            NA                 NA    \n",
       "8    NA                            NA                 NA    \n",
       "9    NA                            NA                 NA    \n",
       "10   NA                            NA                 NA    \n",
       "11   NA                            NA                 NA    \n",
       "12   NA                            NA                 NA    \n",
       "13   NA                            NA                 NA    \n",
       "14   NA                            NA                 NA    \n",
       "15   NA                            NA                 NA    \n",
       "16   NA                            NA                 NA    \n",
       "17   NA                            NA                 NA    \n",
       "18   NA                            NA                 NA    \n",
       "19   NA                            NA                 NA    \n",
       "20   NA                            NA                 NA    \n",
       "21   NA                            NA                 NA    \n",
       "22   NA                            NA                 NA    \n",
       "23   NA                            NA                 NA    \n",
       "24   NA                            NA                 NA    \n",
       "25   NA                            NA                 NA    \n",
       "26   NA                          TRUE                 NA    \n",
       "27   NA                            NA                 NA    \n",
       "28   NA                          TRUE                 NA    \n",
       "29   NA                            NA                 NA    \n",
       "30   NA                            NA                 NA    \n",
       "⋮    ⋮                           ⋮                    ⋮     \n",
       "5909 NA                          NA                   NA    \n",
       "5910 NA                          NA                   NA    \n",
       "5911 NA                          NA                   NA    \n",
       "5912 NA                          NA                   NA    \n",
       "5913 NA                          NA                   NA    \n",
       "5914 NA                          NA                   NA    \n",
       "5915 NA                          NA                   NA    \n",
       "5916 NA                          NA                   NA    \n",
       "5917 NA                          NA                   NA    \n",
       "5918 NA                          NA                   NA    \n",
       "5919 NA                          NA                   NA    \n",
       "5920 NA                          NA                   NA    \n",
       "5921 NA                          NA                   NA    \n",
       "5922 NA                          NA                   NA    \n",
       "5923 NA                          NA                   NA    \n",
       "5924 NA                          NA                   NA    \n",
       "5925 NA                          NA                   NA    \n",
       "5926 NA                          NA                   NA    \n",
       "5927 NA                          NA                   NA    \n",
       "5928 NA                          NA                   NA    \n",
       "5929 NA                          NA                   NA    \n",
       "5930 NA                          NA                   NA    \n",
       "5931 NA                          NA                   NA    \n",
       "5932 NA                          NA                   NA    \n",
       "5933 NA                          NA                   NA    \n",
       "5934 NA                          NA                   NA    \n",
       "5935 NA                          NA                   NA    \n",
       "5936 NA                          NA                   NA    \n",
       "5937 NA                          NA                   NA    \n",
       "5938 NA                          NA                   NA    \n",
       "     Acute deep venous thrombosis (disorder) Followup Exposure\n",
       "1      NA                                     985     1       \n",
       "2      NA                                    2897     2       \n",
       "3      NA                                    2244     2       \n",
       "4      NA                                    1103     1       \n",
       "5      NA                                    1761     1       \n",
       "6      NA                                    1597     2       \n",
       "7      NA                                    3151     1       \n",
       "8      NA                                    1149     1       \n",
       "9      NA                                    1662     1       \n",
       "10     NA                                     844     1       \n",
       "11     NA                                     228     1       \n",
       "12     NA                                    3080     1       \n",
       "13     NA                                     510     1       \n",
       "14     NA                                    3195     2       \n",
       "15     NA                                    3295     1       \n",
       "16     NA                                     387     2       \n",
       "17     NA                                    3188     1       \n",
       "18     NA                                      12     1       \n",
       "19     NA                                    1726     1       \n",
       "20     NA                                    2710     1       \n",
       "21     NA                                    1404     1       \n",
       "22     NA                                    2445     1       \n",
       "23     NA                                    2048     1       \n",
       "24     NA                                     661     1       \n",
       "25     NA                                    2913     2       \n",
       "26     NA                                     610     2       \n",
       "27     NA                                    3318     1       \n",
       "28   TRUE                                    2809     1       \n",
       "29     NA                                    2684     2       \n",
       "30     NA                                    1524     2       \n",
       "⋮    ⋮                                       ⋮        ⋮       \n",
       "5909 NA                                      2867     2       \n",
       "5910 NA                                      2020     1       \n",
       "5911 NA                                      3263     1       \n",
       "5912 NA                                      3406     1       \n",
       "5913 NA                                      1057     1       \n",
       "5914 NA                                      1663     1       \n",
       "5915 NA                                      3195     1       \n",
       "5916 NA                                      1912     1       \n",
       "5917 NA                                      2907     1       \n",
       "5918 NA                                      2460     1       \n",
       "5919 NA                                      1129     2       \n",
       "5920 NA                                      1193     1       \n",
       "5921 NA                                      2681     1       \n",
       "5922 NA                                      1189     2       \n",
       "5923 NA                                      2293     1       \n",
       "5924 NA                                      2027     1       \n",
       "5925 NA                                      3229     1       \n",
       "5926 NA                                       661     1       \n",
       "5927 NA                                      2745     1       \n",
       "5928 NA                                       474     2       \n",
       "5929 NA                                      1720     1       \n",
       "5930 NA                                       447     1       \n",
       "5931 NA                                       506     1       \n",
       "5932 NA                                      1027     2       \n",
       "5933 NA                                       822     1       \n",
       "5934 NA                                      3042     1       \n",
       "5935 NA                                      1233     1       \n",
       "5936 NA                                      1838     1       \n",
       "5937 NA                                      2374     2       \n",
       "5938 NA                                       356     1       "
      ]
     },
     "metadata": {},
     "output_type": "display_data"
    }
   ],
   "source": [
    "Df_regression_unique"
   ]
  },
  {
   "cell_type": "code",
   "execution_count": 244,
   "id": "9679129e",
   "metadata": {},
   "outputs": [
    {
     "data": {
      "text/html": [
       "<style>\n",
       ".list-inline {list-style: none; margin:0; padding: 0}\n",
       ".list-inline>li {display: inline-block}\n",
       ".list-inline>li:not(:last-child)::after {content: \"\\00b7\"; padding: 0 .5ex}\n",
       "</style>\n",
       "<ol class=list-inline><li>NA</li><li>'stage4'</li><li>'stage2a'</li><li>'stage1a'</li><li>'stage3a'</li><li>'stage2b'</li><li>'stage3b'</li><li>'stage1b'</li></ol>\n"
      ],
      "text/latex": [
       "\\begin{enumerate*}\n",
       "\\item NA\n",
       "\\item 'stage4'\n",
       "\\item 'stage2a'\n",
       "\\item 'stage1a'\n",
       "\\item 'stage3a'\n",
       "\\item 'stage2b'\n",
       "\\item 'stage3b'\n",
       "\\item 'stage1b'\n",
       "\\end{enumerate*}\n"
      ],
      "text/markdown": [
       "1. NA\n",
       "2. 'stage4'\n",
       "3. 'stage2a'\n",
       "4. 'stage1a'\n",
       "5. 'stage3a'\n",
       "6. 'stage2b'\n",
       "7. 'stage3b'\n",
       "8. 'stage1b'\n",
       "\n",
       "\n"
      ],
      "text/plain": [
       "[1] NA        \"stage4\"  \"stage2a\" \"stage1a\" \"stage3a\" \"stage2b\" \"stage3b\"\n",
       "[8] \"stage1b\""
      ]
     },
     "metadata": {},
     "output_type": "display_data"
    }
   ],
   "source": [
    "# Check the values of 'Stage group.clinical Cancer' column\n",
    "unique(Df_regression_unique$'Stage group.clinical Cancer')"
   ]
  },
  {
   "cell_type": "code",
   "execution_count": 245,
   "id": "c80b8ee2",
   "metadata": {},
   "outputs": [
    {
     "data": {
      "text/html": [
       "<style>\n",
       ".list-inline {list-style: none; margin:0; padding: 0}\n",
       ".list-inline>li {display: inline-block}\n",
       ".list-inline>li:not(:last-child)::after {content: \"\\00b7\"; padding: 0 .5ex}\n",
       "</style>\n",
       "<ol class=list-inline><li>'no_cancer'</li><li>'stage4'</li><li>'stage2a'</li><li>'stage1a'</li><li>'stage3a'</li><li>'stage2b'</li><li>'stage3b'</li><li>'stage1b'</li></ol>\n"
      ],
      "text/latex": [
       "\\begin{enumerate*}\n",
       "\\item 'no\\_cancer'\n",
       "\\item 'stage4'\n",
       "\\item 'stage2a'\n",
       "\\item 'stage1a'\n",
       "\\item 'stage3a'\n",
       "\\item 'stage2b'\n",
       "\\item 'stage3b'\n",
       "\\item 'stage1b'\n",
       "\\end{enumerate*}\n"
      ],
      "text/markdown": [
       "1. 'no_cancer'\n",
       "2. 'stage4'\n",
       "3. 'stage2a'\n",
       "4. 'stage1a'\n",
       "5. 'stage3a'\n",
       "6. 'stage2b'\n",
       "7. 'stage3b'\n",
       "8. 'stage1b'\n",
       "\n",
       "\n"
      ],
      "text/plain": [
       "[1] \"no_cancer\" \"stage4\"    \"stage2a\"   \"stage1a\"   \"stage3a\"   \"stage2b\"  \n",
       "[7] \"stage3b\"   \"stage1b\"  "
      ]
     },
     "metadata": {},
     "output_type": "display_data"
    }
   ],
   "source": [
    "# Replace NA values with \"no_cancer\"\n",
    "Df_regression_unique$`Stage group.clinical Cancer`[is.na(Df_regression_unique$`Stage group.clinical Cancer`)] <- \"no_cancer\"\n",
    "\n",
    "# Verify the changes\n",
    "unique(Df_regression_unique$`Stage group.clinical Cancer`)"
   ]
  },
  {
   "cell_type": "code",
   "execution_count": 246,
   "id": "2c3cb9b8",
   "metadata": {},
   "outputs": [
    {
     "data": {
      "text/html": [
       "<style>\n",
       ".list-inline {list-style: none; margin:0; padding: 0}\n",
       ".list-inline>li {display: inline-block}\n",
       ".list-inline>li:not(:last-child)::after {content: \"\\00b7\"; padding: 0 .5ex}\n",
       "</style>\n",
       "<ol class=list-inline><li>'ptnum'</li><li>'label'</li><li>'age'</li><li>'gender'</li><li>'race'</li><li>'Tobacco smoking status NHIS'</li><li>'Assessment using Alcohol Use Disorders Identification Test - Consumption (procedure)'</li><li>'Body Mass Index'</li><li>'Chronic obstructive bronchitis (disorder)'</li><li>'Stage group.clinical Cancer'</li><li>'Pneumonia (disorder)'</li><li>'Asthma'</li><li>'Acute deep venous thrombosis (disorder)'</li><li>'Followup'</li><li>'Exposure'</li></ol>\n"
      ],
      "text/latex": [
       "\\begin{enumerate*}\n",
       "\\item 'ptnum'\n",
       "\\item 'label'\n",
       "\\item 'age'\n",
       "\\item 'gender'\n",
       "\\item 'race'\n",
       "\\item 'Tobacco smoking status NHIS'\n",
       "\\item 'Assessment using Alcohol Use Disorders Identification Test - Consumption (procedure)'\n",
       "\\item 'Body Mass Index'\n",
       "\\item 'Chronic obstructive bronchitis (disorder)'\n",
       "\\item 'Stage group.clinical Cancer'\n",
       "\\item 'Pneumonia (disorder)'\n",
       "\\item 'Asthma'\n",
       "\\item 'Acute deep venous thrombosis (disorder)'\n",
       "\\item 'Followup'\n",
       "\\item 'Exposure'\n",
       "\\end{enumerate*}\n"
      ],
      "text/markdown": [
       "1. 'ptnum'\n",
       "2. 'label'\n",
       "3. 'age'\n",
       "4. 'gender'\n",
       "5. 'race'\n",
       "6. 'Tobacco smoking status NHIS'\n",
       "7. 'Assessment using Alcohol Use Disorders Identification Test - Consumption (procedure)'\n",
       "8. 'Body Mass Index'\n",
       "9. 'Chronic obstructive bronchitis (disorder)'\n",
       "10. 'Stage group.clinical Cancer'\n",
       "11. 'Pneumonia (disorder)'\n",
       "12. 'Asthma'\n",
       "13. 'Acute deep venous thrombosis (disorder)'\n",
       "14. 'Followup'\n",
       "15. 'Exposure'\n",
       "\n",
       "\n"
      ],
      "text/plain": [
       " [1] \"ptnum\"                                                                               \n",
       " [2] \"label\"                                                                               \n",
       " [3] \"age\"                                                                                 \n",
       " [4] \"gender\"                                                                              \n",
       " [5] \"race\"                                                                                \n",
       " [6] \"Tobacco smoking status NHIS\"                                                         \n",
       " [7] \"Assessment using Alcohol Use Disorders Identification Test - Consumption (procedure)\"\n",
       " [8] \"Body Mass Index\"                                                                     \n",
       " [9] \"Chronic obstructive bronchitis (disorder)\"                                           \n",
       "[10] \"Stage group.clinical Cancer\"                                                         \n",
       "[11] \"Pneumonia (disorder)\"                                                                \n",
       "[12] \"Asthma\"                                                                              \n",
       "[13] \"Acute deep venous thrombosis (disorder)\"                                             \n",
       "[14] \"Followup\"                                                                            \n",
       "[15] \"Exposure\"                                                                            "
      ]
     },
     "metadata": {},
     "output_type": "display_data"
    }
   ],
   "source": [
    "# Checking the column names\n",
    "colnames(Df_regression_unique)"
   ]
  },
  {
   "cell_type": "markdown",
   "id": "01c67057",
   "metadata": {},
   "source": [
    "## Step 5: Counting the number of nulls in the columns.\n",
    "---\n",
    "1. In the previous cell we have observed that columns: C-1850860095796, C-21908-95715C-2336040075754, C-1959670015932, and C-1322810001191085880 contains null.\n",
    "\n",
    "2. Strategy: \n",
    "\n",
    "    a. We know that the total number of columns is 5,938, we need to compare how many nulls are in these columns.\n",
    "    b. If the nulls are greater than 50% that is:\n",
    "    \n",
    "    $\\text{% null} = \\frac{\\text{total number of nulls in a column}}{\\text{total number of rows}}$"
   ]
  },
  {
   "cell_type": "code",
   "execution_count": 247,
   "id": "26572623",
   "metadata": {},
   "outputs": [
    {
     "data": {
      "text/html": [
       "<style>\n",
       ".dl-inline {width: auto; margin:0; padding: 0}\n",
       ".dl-inline>dt, .dl-inline>dd {float: none; width: auto; display: inline-block}\n",
       ".dl-inline>dt::after {content: \":\\0020\"; padding-right: .5ex}\n",
       ".dl-inline>dt:not(:first-of-type) {padding-left: .5ex}\n",
       "</style><dl class=dl-inline><dt>ptnum</dt><dd>0</dd><dt>label</dt><dd>0</dd><dt>age</dt><dd>0</dd><dt>gender</dt><dd>0</dd><dt>race</dt><dd>0</dd><dt>Tobacco smoking status NHIS</dt><dd>0</dd><dt>Assessment using Alcohol Use Disorders Identification Test - Consumption (procedure)</dt><dd>1020</dd><dt>Body Mass Index</dt><dd>0</dd><dt>Chronic obstructive bronchitis (disorder)</dt><dd>5796</dd><dt>Stage group.clinical Cancer</dt><dd>0</dd><dt>Pneumonia (disorder)</dt><dd>5754</dd><dt>Asthma</dt><dd>5932</dd><dt>Acute deep venous thrombosis (disorder)</dt><dd>5880</dd><dt>Followup</dt><dd>0</dd><dt>Exposure</dt><dd>0</dd></dl>\n"
      ],
      "text/latex": [
       "\\begin{description*}\n",
       "\\item[ptnum] 0\n",
       "\\item[label] 0\n",
       "\\item[age] 0\n",
       "\\item[gender] 0\n",
       "\\item[race] 0\n",
       "\\item[Tobacco smoking status NHIS] 0\n",
       "\\item[Assessment using Alcohol Use Disorders Identification Test - Consumption (procedure)] 1020\n",
       "\\item[Body Mass Index] 0\n",
       "\\item[Chronic obstructive bronchitis (disorder)] 5796\n",
       "\\item[Stage group.clinical Cancer] 0\n",
       "\\item[Pneumonia (disorder)] 5754\n",
       "\\item[Asthma] 5932\n",
       "\\item[Acute deep venous thrombosis (disorder)] 5880\n",
       "\\item[Followup] 0\n",
       "\\item[Exposure] 0\n",
       "\\end{description*}\n"
      ],
      "text/markdown": [
       "ptnum\n",
       ":   0label\n",
       ":   0age\n",
       ":   0gender\n",
       ":   0race\n",
       ":   0Tobacco smoking status NHIS\n",
       ":   0Assessment using Alcohol Use Disorders Identification Test - Consumption (procedure)\n",
       ":   1020Body Mass Index\n",
       ":   0Chronic obstructive bronchitis (disorder)\n",
       ":   5796Stage group.clinical Cancer\n",
       ":   0Pneumonia (disorder)\n",
       ":   5754Asthma\n",
       ":   5932Acute deep venous thrombosis (disorder)\n",
       ":   5880Followup\n",
       ":   0Exposure\n",
       ":   0\n",
       "\n"
      ],
      "text/plain": [
       "                                                                               ptnum \n",
       "                                                                                   0 \n",
       "                                                                               label \n",
       "                                                                                   0 \n",
       "                                                                                 age \n",
       "                                                                                   0 \n",
       "                                                                              gender \n",
       "                                                                                   0 \n",
       "                                                                                race \n",
       "                                                                                   0 \n",
       "                                                         Tobacco smoking status NHIS \n",
       "                                                                                   0 \n",
       "Assessment using Alcohol Use Disorders Identification Test - Consumption (procedure) \n",
       "                                                                                1020 \n",
       "                                                                     Body Mass Index \n",
       "                                                                                   0 \n",
       "                                           Chronic obstructive bronchitis (disorder) \n",
       "                                                                                5796 \n",
       "                                                         Stage group.clinical Cancer \n",
       "                                                                                   0 \n",
       "                                                                Pneumonia (disorder) \n",
       "                                                                                5754 \n",
       "                                                                              Asthma \n",
       "                                                                                5932 \n",
       "                                             Acute deep venous thrombosis (disorder) \n",
       "                                                                                5880 \n",
       "                                                                            Followup \n",
       "                                                                                   0 \n",
       "                                                                            Exposure \n",
       "                                                                                   0 "
      ]
     },
     "metadata": {},
     "output_type": "display_data"
    }
   ],
   "source": [
    "colSums(is.na(Df_regression_unique))"
   ]
  },
  {
   "cell_type": "markdown",
   "id": "f5e4f5e1",
   "metadata": {},
   "source": [
    "## Step 6: Changing values of NA.\n",
    "---\n",
    "\n",
    "Replace NA with 0 and True with 1 for columns with NA's"
   ]
  },
  {
   "cell_type": "code",
   "execution_count": 248,
   "id": "d7e4b351",
   "metadata": {},
   "outputs": [],
   "source": [
    "Df_regression_unique$'Chronic obstructive bronchitis (disorder)'[is.na(Df_regression_unique$'Chronic obstructive bronchitis (disorder)')] <- 0\n",
    "Df_regression_unique$'Chronic obstructive bronchitis (disorder)' <- as.integer(Df_regression_unique$'Chronic obstructive bronchitis (disorder)')\n",
    "\n",
    "Df_regression_unique$'Pneumonia (disorder)'[is.na(Df_regression_unique$'Pneumonia (disorder)')] <- 0\n",
    "Df_regression_unique$'Pneumonia (disorder)' <- as.integer(Df_regression_unique$'Pneumonia (disorder)')\n",
    "\n",
    "Df_regression_unique$'Asthma'[is.na(Df_regression_unique$'Asthma')] <- 0\n",
    "Df_regression_unique$'Asthma' <- as.integer(Df_regression_unique$'Asthma')\n",
    "\n",
    "Df_regression_unique$'Acute deep venous thrombosis (disorder)'[is.na(Df_regression_unique$'Acute deep venous thrombosis (disorder)')] <- 0\n",
    "Df_regression_unique$'Acute deep venous thrombosis (disorder)' <- as.integer(Df_regression_unique$'Acute deep venous thrombosis (disorder)')"
   ]
  },
  {
   "cell_type": "code",
   "execution_count": 249,
   "id": "46a915a7",
   "metadata": {},
   "outputs": [
    {
     "data": {
      "text/html": [
       "<style>\n",
       ".list-inline {list-style: none; margin:0; padding: 0}\n",
       ".list-inline>li {display: inline-block}\n",
       ".list-inline>li:not(:last-child)::after {content: \"\\00b7\"; padding: 0 .5ex}\n",
       "</style>\n",
       "<ol class=list-inline><li>0</li><li>1</li></ol>\n"
      ],
      "text/latex": [
       "\\begin{enumerate*}\n",
       "\\item 0\n",
       "\\item 1\n",
       "\\end{enumerate*}\n"
      ],
      "text/markdown": [
       "1. 0\n",
       "2. 1\n",
       "\n",
       "\n"
      ],
      "text/plain": [
       "[1] 0 1"
      ]
     },
     "metadata": {},
     "output_type": "display_data"
    }
   ],
   "source": [
    "unique(Df_regression_unique$'Chronic obstructive bronchitis (disorder)')"
   ]
  },
  {
   "cell_type": "code",
   "execution_count": 250,
   "id": "dd7ebd8f",
   "metadata": {},
   "outputs": [
    {
     "data": {
      "text/html": [
       "<style>\n",
       ".list-inline {list-style: none; margin:0; padding: 0}\n",
       ".list-inline>li {display: inline-block}\n",
       ".list-inline>li:not(:last-child)::after {content: \"\\00b7\"; padding: 0 .5ex}\n",
       "</style>\n",
       "<ol class=list-inline><li>'no_cancer'</li><li>'stage4'</li><li>'stage2a'</li><li>'stage1a'</li><li>'stage3a'</li><li>'stage2b'</li><li>'stage3b'</li><li>'stage1b'</li></ol>\n"
      ],
      "text/latex": [
       "\\begin{enumerate*}\n",
       "\\item 'no\\_cancer'\n",
       "\\item 'stage4'\n",
       "\\item 'stage2a'\n",
       "\\item 'stage1a'\n",
       "\\item 'stage3a'\n",
       "\\item 'stage2b'\n",
       "\\item 'stage3b'\n",
       "\\item 'stage1b'\n",
       "\\end{enumerate*}\n"
      ],
      "text/markdown": [
       "1. 'no_cancer'\n",
       "2. 'stage4'\n",
       "3. 'stage2a'\n",
       "4. 'stage1a'\n",
       "5. 'stage3a'\n",
       "6. 'stage2b'\n",
       "7. 'stage3b'\n",
       "8. 'stage1b'\n",
       "\n",
       "\n"
      ],
      "text/plain": [
       "[1] \"no_cancer\" \"stage4\"    \"stage2a\"   \"stage1a\"   \"stage3a\"   \"stage2b\"  \n",
       "[7] \"stage3b\"   \"stage1b\"  "
      ]
     },
     "metadata": {},
     "output_type": "display_data"
    }
   ],
   "source": [
    "unique(Df_regression_unique$'Stage group.clinical Cancer')"
   ]
  },
  {
   "cell_type": "code",
   "execution_count": 251,
   "id": "6972190d",
   "metadata": {},
   "outputs": [
    {
     "data": {
      "text/html": [
       "<style>\n",
       ".list-inline {list-style: none; margin:0; padding: 0}\n",
       ".list-inline>li {display: inline-block}\n",
       ".list-inline>li:not(:last-child)::after {content: \"\\00b7\"; padding: 0 .5ex}\n",
       "</style>\n",
       "<ol class=list-inline><li>0</li><li>1</li></ol>\n"
      ],
      "text/latex": [
       "\\begin{enumerate*}\n",
       "\\item 0\n",
       "\\item 1\n",
       "\\end{enumerate*}\n"
      ],
      "text/markdown": [
       "1. 0\n",
       "2. 1\n",
       "\n",
       "\n"
      ],
      "text/plain": [
       "[1] 0 1"
      ]
     },
     "metadata": {},
     "output_type": "display_data"
    }
   ],
   "source": [
    "unique(Df_regression_unique$'Pneumonia (disorder)')"
   ]
  },
  {
   "cell_type": "code",
   "execution_count": 252,
   "id": "8c04f59b",
   "metadata": {},
   "outputs": [
    {
     "data": {
      "text/html": [
       "<style>\n",
       ".list-inline {list-style: none; margin:0; padding: 0}\n",
       ".list-inline>li {display: inline-block}\n",
       ".list-inline>li:not(:last-child)::after {content: \"\\00b7\"; padding: 0 .5ex}\n",
       "</style>\n",
       "<ol class=list-inline><li>0</li><li>1</li></ol>\n"
      ],
      "text/latex": [
       "\\begin{enumerate*}\n",
       "\\item 0\n",
       "\\item 1\n",
       "\\end{enumerate*}\n"
      ],
      "text/markdown": [
       "1. 0\n",
       "2. 1\n",
       "\n",
       "\n"
      ],
      "text/plain": [
       "[1] 0 1"
      ]
     },
     "metadata": {},
     "output_type": "display_data"
    }
   ],
   "source": [
    "unique(Df_regression_unique$'Asthma')"
   ]
  },
  {
   "cell_type": "code",
   "execution_count": 253,
   "id": "f89a20b3",
   "metadata": {},
   "outputs": [
    {
     "data": {
      "text/html": [
       "<style>\n",
       ".list-inline {list-style: none; margin:0; padding: 0}\n",
       ".list-inline>li {display: inline-block}\n",
       ".list-inline>li:not(:last-child)::after {content: \"\\00b7\"; padding: 0 .5ex}\n",
       "</style>\n",
       "<ol class=list-inline><li>0</li><li>1</li></ol>\n"
      ],
      "text/latex": [
       "\\begin{enumerate*}\n",
       "\\item 0\n",
       "\\item 1\n",
       "\\end{enumerate*}\n"
      ],
      "text/markdown": [
       "1. 0\n",
       "2. 1\n",
       "\n",
       "\n"
      ],
      "text/plain": [
       "[1] 0 1"
      ]
     },
     "metadata": {},
     "output_type": "display_data"
    }
   ],
   "source": [
    "unique(Df_regression_unique$'Pneumonia (disorder)')"
   ]
  },
  {
   "cell_type": "code",
   "execution_count": 254,
   "id": "1258c19a",
   "metadata": {},
   "outputs": [
    {
     "data": {
      "text/html": [
       "<style>\n",
       ".list-inline {list-style: none; margin:0; padding: 0}\n",
       ".list-inline>li {display: inline-block}\n",
       ".list-inline>li:not(:last-child)::after {content: \"\\00b7\"; padding: 0 .5ex}\n",
       "</style>\n",
       "<ol class=list-inline><li>0</li><li>1</li></ol>\n"
      ],
      "text/latex": [
       "\\begin{enumerate*}\n",
       "\\item 0\n",
       "\\item 1\n",
       "\\end{enumerate*}\n"
      ],
      "text/markdown": [
       "1. 0\n",
       "2. 1\n",
       "\n",
       "\n"
      ],
      "text/plain": [
       "[1] 0 1"
      ]
     },
     "metadata": {},
     "output_type": "display_data"
    }
   ],
   "source": [
    "unique(Df_regression_unique$'Acute deep venous thrombosis (disorder)')"
   ]
  },
  {
   "cell_type": "markdown",
   "id": "587b5e08",
   "metadata": {},
   "source": [
    "## Step 7: Check is the columns are properly removed.\n",
    "---"
   ]
  },
  {
   "cell_type": "code",
   "execution_count": 255,
   "id": "d6f1bbec",
   "metadata": {},
   "outputs": [
    {
     "data": {
      "text/html": [
       "<table class=\"dataframe\">\n",
       "<caption>A data.frame: 6 × 15</caption>\n",
       "<thead>\n",
       "\t<tr><th></th><th scope=col>ptnum</th><th scope=col>label</th><th scope=col>age</th><th scope=col>gender</th><th scope=col>race</th><th scope=col>Tobacco smoking status NHIS</th><th scope=col>Assessment using Alcohol Use Disorders Identification Test - Consumption (procedure)</th><th scope=col>Body Mass Index</th><th scope=col>Chronic obstructive bronchitis (disorder)</th><th scope=col>Stage group.clinical Cancer</th><th scope=col>Pneumonia (disorder)</th><th scope=col>Asthma</th><th scope=col>Acute deep venous thrombosis (disorder)</th><th scope=col>Followup</th><th scope=col>Exposure</th></tr>\n",
       "\t<tr><th></th><th scope=col>&lt;chr&gt;</th><th scope=col>&lt;dbl&gt;</th><th scope=col>&lt;dbl&gt;</th><th scope=col>&lt;chr&gt;</th><th scope=col>&lt;chr&gt;</th><th scope=col>&lt;chr&gt;</th><th scope=col>&lt;lgl&gt;</th><th scope=col>&lt;dbl&gt;</th><th scope=col>&lt;int&gt;</th><th scope=col>&lt;chr&gt;</th><th scope=col>&lt;int&gt;</th><th scope=col>&lt;int&gt;</th><th scope=col>&lt;int&gt;</th><th scope=col>&lt;int&gt;</th><th scope=col>&lt;dbl&gt;</th></tr>\n",
       "</thead>\n",
       "<tbody>\n",
       "\t<tr><th scope=row>5933</th><td>p9972</td><td>0</td><td>53</td><td>f</td><td>white</td><td>never </td><td>TRUE</td><td>29.66</td><td>0</td><td>no_cancer</td><td>0</td><td>0</td><td>0</td><td> 822</td><td>1</td></tr>\n",
       "\t<tr><th scope=row>5934</th><td>p9976</td><td>0</td><td>70</td><td>m</td><td>white</td><td>former</td><td>TRUE</td><td>30.06</td><td>0</td><td>no_cancer</td><td>0</td><td>0</td><td>0</td><td>3042</td><td>1</td></tr>\n",
       "\t<tr><th scope=row>5935</th><td>p9982</td><td>0</td><td>70</td><td>m</td><td>black</td><td>never </td><td>TRUE</td><td>31.07</td><td>0</td><td>no_cancer</td><td>0</td><td>0</td><td>0</td><td>1233</td><td>1</td></tr>\n",
       "\t<tr><th scope=row>5936</th><td>p9992</td><td>1</td><td>75</td><td>m</td><td>white</td><td>never </td><td>TRUE</td><td>29.60</td><td>0</td><td>no_cancer</td><td>0</td><td>0</td><td>0</td><td>1838</td><td>1</td></tr>\n",
       "\t<tr><th scope=row>5937</th><td>p9996</td><td>0</td><td>59</td><td>m</td><td>white</td><td>never </td><td>TRUE</td><td>27.30</td><td>0</td><td>no_cancer</td><td>0</td><td>0</td><td>0</td><td>2374</td><td>2</td></tr>\n",
       "\t<tr><th scope=row>5938</th><td>p9998</td><td>0</td><td>46</td><td>f</td><td>white</td><td>former</td><td>TRUE</td><td>27.60</td><td>0</td><td>no_cancer</td><td>0</td><td>0</td><td>0</td><td> 356</td><td>1</td></tr>\n",
       "</tbody>\n",
       "</table>\n"
      ],
      "text/latex": [
       "A data.frame: 6 × 15\n",
       "\\begin{tabular}{r|lllllllllllllll}\n",
       "  & ptnum & label & age & gender & race & Tobacco smoking status NHIS & Assessment using Alcohol Use Disorders Identification Test - Consumption (procedure) & Body Mass Index & Chronic obstructive bronchitis (disorder) & Stage group.clinical Cancer & Pneumonia (disorder) & Asthma & Acute deep venous thrombosis (disorder) & Followup & Exposure\\\\\n",
       "  & <chr> & <dbl> & <dbl> & <chr> & <chr> & <chr> & <lgl> & <dbl> & <int> & <chr> & <int> & <int> & <int> & <int> & <dbl>\\\\\n",
       "\\hline\n",
       "\t5933 & p9972 & 0 & 53 & f & white & never  & TRUE & 29.66 & 0 & no\\_cancer & 0 & 0 & 0 &  822 & 1\\\\\n",
       "\t5934 & p9976 & 0 & 70 & m & white & former & TRUE & 30.06 & 0 & no\\_cancer & 0 & 0 & 0 & 3042 & 1\\\\\n",
       "\t5935 & p9982 & 0 & 70 & m & black & never  & TRUE & 31.07 & 0 & no\\_cancer & 0 & 0 & 0 & 1233 & 1\\\\\n",
       "\t5936 & p9992 & 1 & 75 & m & white & never  & TRUE & 29.60 & 0 & no\\_cancer & 0 & 0 & 0 & 1838 & 1\\\\\n",
       "\t5937 & p9996 & 0 & 59 & m & white & never  & TRUE & 27.30 & 0 & no\\_cancer & 0 & 0 & 0 & 2374 & 2\\\\\n",
       "\t5938 & p9998 & 0 & 46 & f & white & former & TRUE & 27.60 & 0 & no\\_cancer & 0 & 0 & 0 &  356 & 1\\\\\n",
       "\\end{tabular}\n"
      ],
      "text/markdown": [
       "\n",
       "A data.frame: 6 × 15\n",
       "\n",
       "| <!--/--> | ptnum &lt;chr&gt; | label &lt;dbl&gt; | age &lt;dbl&gt; | gender &lt;chr&gt; | race &lt;chr&gt; | Tobacco smoking status NHIS &lt;chr&gt; | Assessment using Alcohol Use Disorders Identification Test - Consumption (procedure) &lt;lgl&gt; | Body Mass Index &lt;dbl&gt; | Chronic obstructive bronchitis (disorder) &lt;int&gt; | Stage group.clinical Cancer &lt;chr&gt; | Pneumonia (disorder) &lt;int&gt; | Asthma &lt;int&gt; | Acute deep venous thrombosis (disorder) &lt;int&gt; | Followup &lt;int&gt; | Exposure &lt;dbl&gt; |\n",
       "|---|---|---|---|---|---|---|---|---|---|---|---|---|---|---|---|\n",
       "| 5933 | p9972 | 0 | 53 | f | white | never  | TRUE | 29.66 | 0 | no_cancer | 0 | 0 | 0 |  822 | 1 |\n",
       "| 5934 | p9976 | 0 | 70 | m | white | former | TRUE | 30.06 | 0 | no_cancer | 0 | 0 | 0 | 3042 | 1 |\n",
       "| 5935 | p9982 | 0 | 70 | m | black | never  | TRUE | 31.07 | 0 | no_cancer | 0 | 0 | 0 | 1233 | 1 |\n",
       "| 5936 | p9992 | 1 | 75 | m | white | never  | TRUE | 29.60 | 0 | no_cancer | 0 | 0 | 0 | 1838 | 1 |\n",
       "| 5937 | p9996 | 0 | 59 | m | white | never  | TRUE | 27.30 | 0 | no_cancer | 0 | 0 | 0 | 2374 | 2 |\n",
       "| 5938 | p9998 | 0 | 46 | f | white | former | TRUE | 27.60 | 0 | no_cancer | 0 | 0 | 0 |  356 | 1 |\n",
       "\n"
      ],
      "text/plain": [
       "     ptnum label age gender race  Tobacco smoking status NHIS\n",
       "5933 p9972 0     53  f      white never                      \n",
       "5934 p9976 0     70  m      white former                     \n",
       "5935 p9982 0     70  m      black never                      \n",
       "5936 p9992 1     75  m      white never                      \n",
       "5937 p9996 0     59  m      white never                      \n",
       "5938 p9998 0     46  f      white former                     \n",
       "     Assessment using Alcohol Use Disorders Identification Test - Consumption (procedure)\n",
       "5933 TRUE                                                                                \n",
       "5934 TRUE                                                                                \n",
       "5935 TRUE                                                                                \n",
       "5936 TRUE                                                                                \n",
       "5937 TRUE                                                                                \n",
       "5938 TRUE                                                                                \n",
       "     Body Mass Index Chronic obstructive bronchitis (disorder)\n",
       "5933 29.66           0                                        \n",
       "5934 30.06           0                                        \n",
       "5935 31.07           0                                        \n",
       "5936 29.60           0                                        \n",
       "5937 27.30           0                                        \n",
       "5938 27.60           0                                        \n",
       "     Stage group.clinical Cancer Pneumonia (disorder) Asthma\n",
       "5933 no_cancer                   0                    0     \n",
       "5934 no_cancer                   0                    0     \n",
       "5935 no_cancer                   0                    0     \n",
       "5936 no_cancer                   0                    0     \n",
       "5937 no_cancer                   0                    0     \n",
       "5938 no_cancer                   0                    0     \n",
       "     Acute deep venous thrombosis (disorder) Followup Exposure\n",
       "5933 0                                        822     1       \n",
       "5934 0                                       3042     1       \n",
       "5935 0                                       1233     1       \n",
       "5936 0                                       1838     1       \n",
       "5937 0                                       2374     2       \n",
       "5938 0                                        356     1       "
      ]
     },
     "metadata": {},
     "output_type": "display_data"
    }
   ],
   "source": [
    "tail(Df_regression_unique)"
   ]
  },
  {
   "cell_type": "markdown",
   "id": "3066a767",
   "metadata": {},
   "source": [
    "## Discussion:\n",
    "---\n",
    "Assessing data structures is a crucial step in preparing for statistical modeling. It ensures that the data is correctly understood, processed, and interpreted, ultimately leading to valid and reliable results. Here’s why it’s important:\n",
    "\n",
    "1. Understanding Data Types\n",
    "Significance:\n",
    "Each variable type (e.g., numeric, categorical, logical) dictates the kinds of analyses and transformations that can be performed.\n",
    "For example, regression models treat numeric and categorical variables differently.\n",
    "Potential Issues:\n",
    "A categorical variable coded as numeric may lead to incorrect interpretation (e.g., treating regions as continuous numbers).\n",
    "Logical variables not converted to binary (0/1) may confuse algorithms.\n",
    "Solution:\n",
    "Use functions like str() and summary() to ensure variables are properly typed.\n",
    "\n",
    "\n",
    "2. Detecting and Addressing Missing Data\n",
    "Significance:\n",
    "Missing data can skew model results, reduce statistical power, and introduce biases.\n",
    "Understanding patterns of missingness (e.g., Missing Completely at Random, Missing Not at Random) informs appropriate imputation methods.\n",
    "Potential Issues:\n",
    "Ignoring missing data can result in smaller, unrepresentative datasets if rows with missing values are removed.\n",
    "Arbitrary imputation can distort relationships in the data.\n",
    "Solution:\n",
    "Visualize missing data patterns (naniar in R) and assess whether imputation, removal, or advanced techniques (e.g., multiple imputation) are needed.\n",
    "\n",
    "\n",
    "3. Identifying Outliers and Inconsistent Values\n",
    "Significance:\n",
    "Outliers can have a disproportionate influence on statistical models, especially in regression and clustering.\n",
    "Inconsistent values (e.g., negative ages, nonsensical categories) can indicate data entry errors.\n",
    "Potential Issues:\n",
    "Models may overfit or misinterpret trends due to extreme or incorrect values.\n",
    "Solution:\n",
    "Perform exploratory data analysis (EDA) to detect and decide how to handle outliers.\n",
    "\n",
    "\n",
    "4. Ensuring Data Conforms to Model Requirements\n",
    "Significance:\n",
    "Many statistical models have assumptions (e.g., linear regression assumes linearity, normality, homoscedasticity).\n",
    "Proper formatting (e.g., encoding categorical variables as factors) ensures compatibility with modeling functions.\n",
    "Potential Issues:\n",
    "Non-normal data in a model requiring normality can lead to invalid inferences.\n",
    "Misformatted data might cause errors or incorrect results in statistical software.\n",
    "Solution:\n",
    "Check distributions, relationships, and data transformations (e.g., log transformations for skewed data).\n",
    "\n",
    "\n",
    "5. Reducing Dimensionality and Improving Interpretability\n",
    "Significance:\n",
    "High-dimensional data can cause overfitting and make results harder to interpret.\n",
    "Dimensionality reduction techniques (e.g., PCA, feature selection) require an understanding of variable roles.\n",
    "Potential Issues:\n",
    "Irrelevant variables add noise and reduce the efficiency of the model.\n",
    "Solution:\n",
    "Assess variable relevance and multicollinearity before modeling.\n",
    "\n",
    "\n",
    "6. Recognizing Data Relationships\n",
    "Significance:\n",
    "Relationships between variables (e.g., collinearity, interactions) influence model complexity and performance.\n",
    "Potential Issues:\n",
    "Ignoring relationships can lead to misspecified models or incorrect interpretations.\n",
    "Solution:\n",
    "Explore relationships using scatterplots, correlation matrices, or advanced methods like variance inflation factors (VIF).\n",
    "\n",
    "\n",
    "7. Ensuring Ethical and Accurate Representation\n",
    "Significance:\n",
    "Assessing data structures ensures that the dataset represents the population accurately.\n",
    "Potential Issues:\n",
    "Imbalanced datasets can bias models (e.g., under-representation of minority groups in healthcare studies).\n",
    "Solution:\n",
    "Stratify data, balance classes, and ensure fair sampling."
   ]
  },
  {
   "cell_type": "markdown",
   "id": "1233fe86",
   "metadata": {},
   "source": [
    "# Question 2: Handling Missing Data\n",
    "---\n",
    "Identify columns with logical (TRUE/FALSE) values and apply methods for addressing missing values in these columns, replacing them with 0 or 1 based on their logical value. Reflect on the implications of missing data and the\n",
    "strategies used for handling it."
   ]
  },
  {
   "cell_type": "markdown",
   "id": "6ff96dc7",
   "metadata": {},
   "source": [
    "## Step 0: Direct Conversion in Base R\n",
    "---\n",
    "\n",
    "Logical to Integer: In R, logical values are internally represented as TRUE = 1 and FALSE = 0. The as.integer() function converts these directly."
   ]
  },
  {
   "cell_type": "code",
   "execution_count": 256,
   "id": "05f46a61",
   "metadata": {},
   "outputs": [],
   "source": [
    "Df_regression_unique$'Assessment using Alcohol Use Disorders Identification Test - Consumption (procedure)' <- as.integer(Df_regression_unique$'Assessment using Alcohol Use Disorders Identification Test - Consumption (procedure)')"
   ]
  },
  {
   "cell_type": "markdown",
   "id": "903b7e30",
   "metadata": {},
   "source": [
    "## Step 1: Verify the Changes\n",
    "----"
   ]
  },
  {
   "cell_type": "code",
   "execution_count": 257,
   "id": "3582ec9a",
   "metadata": {},
   "outputs": [
    {
     "data": {
      "text/html": [
       "<table class=\"dataframe\">\n",
       "<caption>A data.frame: 6 × 15</caption>\n",
       "<thead>\n",
       "\t<tr><th></th><th scope=col>ptnum</th><th scope=col>label</th><th scope=col>age</th><th scope=col>gender</th><th scope=col>race</th><th scope=col>Tobacco smoking status NHIS</th><th scope=col>Assessment using Alcohol Use Disorders Identification Test - Consumption (procedure)</th><th scope=col>Body Mass Index</th><th scope=col>Chronic obstructive bronchitis (disorder)</th><th scope=col>Stage group.clinical Cancer</th><th scope=col>Pneumonia (disorder)</th><th scope=col>Asthma</th><th scope=col>Acute deep venous thrombosis (disorder)</th><th scope=col>Followup</th><th scope=col>Exposure</th></tr>\n",
       "\t<tr><th></th><th scope=col>&lt;chr&gt;</th><th scope=col>&lt;dbl&gt;</th><th scope=col>&lt;dbl&gt;</th><th scope=col>&lt;chr&gt;</th><th scope=col>&lt;chr&gt;</th><th scope=col>&lt;chr&gt;</th><th scope=col>&lt;int&gt;</th><th scope=col>&lt;dbl&gt;</th><th scope=col>&lt;int&gt;</th><th scope=col>&lt;chr&gt;</th><th scope=col>&lt;int&gt;</th><th scope=col>&lt;int&gt;</th><th scope=col>&lt;int&gt;</th><th scope=col>&lt;int&gt;</th><th scope=col>&lt;dbl&gt;</th></tr>\n",
       "</thead>\n",
       "<tbody>\n",
       "\t<tr><th scope=row>5933</th><td>p9972</td><td>0</td><td>53</td><td>f</td><td>white</td><td>never </td><td>1</td><td>29.66</td><td>0</td><td>no_cancer</td><td>0</td><td>0</td><td>0</td><td> 822</td><td>1</td></tr>\n",
       "\t<tr><th scope=row>5934</th><td>p9976</td><td>0</td><td>70</td><td>m</td><td>white</td><td>former</td><td>1</td><td>30.06</td><td>0</td><td>no_cancer</td><td>0</td><td>0</td><td>0</td><td>3042</td><td>1</td></tr>\n",
       "\t<tr><th scope=row>5935</th><td>p9982</td><td>0</td><td>70</td><td>m</td><td>black</td><td>never </td><td>1</td><td>31.07</td><td>0</td><td>no_cancer</td><td>0</td><td>0</td><td>0</td><td>1233</td><td>1</td></tr>\n",
       "\t<tr><th scope=row>5936</th><td>p9992</td><td>1</td><td>75</td><td>m</td><td>white</td><td>never </td><td>1</td><td>29.60</td><td>0</td><td>no_cancer</td><td>0</td><td>0</td><td>0</td><td>1838</td><td>1</td></tr>\n",
       "\t<tr><th scope=row>5937</th><td>p9996</td><td>0</td><td>59</td><td>m</td><td>white</td><td>never </td><td>1</td><td>27.30</td><td>0</td><td>no_cancer</td><td>0</td><td>0</td><td>0</td><td>2374</td><td>2</td></tr>\n",
       "\t<tr><th scope=row>5938</th><td>p9998</td><td>0</td><td>46</td><td>f</td><td>white</td><td>former</td><td>1</td><td>27.60</td><td>0</td><td>no_cancer</td><td>0</td><td>0</td><td>0</td><td> 356</td><td>1</td></tr>\n",
       "</tbody>\n",
       "</table>\n"
      ],
      "text/latex": [
       "A data.frame: 6 × 15\n",
       "\\begin{tabular}{r|lllllllllllllll}\n",
       "  & ptnum & label & age & gender & race & Tobacco smoking status NHIS & Assessment using Alcohol Use Disorders Identification Test - Consumption (procedure) & Body Mass Index & Chronic obstructive bronchitis (disorder) & Stage group.clinical Cancer & Pneumonia (disorder) & Asthma & Acute deep venous thrombosis (disorder) & Followup & Exposure\\\\\n",
       "  & <chr> & <dbl> & <dbl> & <chr> & <chr> & <chr> & <int> & <dbl> & <int> & <chr> & <int> & <int> & <int> & <int> & <dbl>\\\\\n",
       "\\hline\n",
       "\t5933 & p9972 & 0 & 53 & f & white & never  & 1 & 29.66 & 0 & no\\_cancer & 0 & 0 & 0 &  822 & 1\\\\\n",
       "\t5934 & p9976 & 0 & 70 & m & white & former & 1 & 30.06 & 0 & no\\_cancer & 0 & 0 & 0 & 3042 & 1\\\\\n",
       "\t5935 & p9982 & 0 & 70 & m & black & never  & 1 & 31.07 & 0 & no\\_cancer & 0 & 0 & 0 & 1233 & 1\\\\\n",
       "\t5936 & p9992 & 1 & 75 & m & white & never  & 1 & 29.60 & 0 & no\\_cancer & 0 & 0 & 0 & 1838 & 1\\\\\n",
       "\t5937 & p9996 & 0 & 59 & m & white & never  & 1 & 27.30 & 0 & no\\_cancer & 0 & 0 & 0 & 2374 & 2\\\\\n",
       "\t5938 & p9998 & 0 & 46 & f & white & former & 1 & 27.60 & 0 & no\\_cancer & 0 & 0 & 0 &  356 & 1\\\\\n",
       "\\end{tabular}\n"
      ],
      "text/markdown": [
       "\n",
       "A data.frame: 6 × 15\n",
       "\n",
       "| <!--/--> | ptnum &lt;chr&gt; | label &lt;dbl&gt; | age &lt;dbl&gt; | gender &lt;chr&gt; | race &lt;chr&gt; | Tobacco smoking status NHIS &lt;chr&gt; | Assessment using Alcohol Use Disorders Identification Test - Consumption (procedure) &lt;int&gt; | Body Mass Index &lt;dbl&gt; | Chronic obstructive bronchitis (disorder) &lt;int&gt; | Stage group.clinical Cancer &lt;chr&gt; | Pneumonia (disorder) &lt;int&gt; | Asthma &lt;int&gt; | Acute deep venous thrombosis (disorder) &lt;int&gt; | Followup &lt;int&gt; | Exposure &lt;dbl&gt; |\n",
       "|---|---|---|---|---|---|---|---|---|---|---|---|---|---|---|---|\n",
       "| 5933 | p9972 | 0 | 53 | f | white | never  | 1 | 29.66 | 0 | no_cancer | 0 | 0 | 0 |  822 | 1 |\n",
       "| 5934 | p9976 | 0 | 70 | m | white | former | 1 | 30.06 | 0 | no_cancer | 0 | 0 | 0 | 3042 | 1 |\n",
       "| 5935 | p9982 | 0 | 70 | m | black | never  | 1 | 31.07 | 0 | no_cancer | 0 | 0 | 0 | 1233 | 1 |\n",
       "| 5936 | p9992 | 1 | 75 | m | white | never  | 1 | 29.60 | 0 | no_cancer | 0 | 0 | 0 | 1838 | 1 |\n",
       "| 5937 | p9996 | 0 | 59 | m | white | never  | 1 | 27.30 | 0 | no_cancer | 0 | 0 | 0 | 2374 | 2 |\n",
       "| 5938 | p9998 | 0 | 46 | f | white | former | 1 | 27.60 | 0 | no_cancer | 0 | 0 | 0 |  356 | 1 |\n",
       "\n"
      ],
      "text/plain": [
       "     ptnum label age gender race  Tobacco smoking status NHIS\n",
       "5933 p9972 0     53  f      white never                      \n",
       "5934 p9976 0     70  m      white former                     \n",
       "5935 p9982 0     70  m      black never                      \n",
       "5936 p9992 1     75  m      white never                      \n",
       "5937 p9996 0     59  m      white never                      \n",
       "5938 p9998 0     46  f      white former                     \n",
       "     Assessment using Alcohol Use Disorders Identification Test - Consumption (procedure)\n",
       "5933 1                                                                                   \n",
       "5934 1                                                                                   \n",
       "5935 1                                                                                   \n",
       "5936 1                                                                                   \n",
       "5937 1                                                                                   \n",
       "5938 1                                                                                   \n",
       "     Body Mass Index Chronic obstructive bronchitis (disorder)\n",
       "5933 29.66           0                                        \n",
       "5934 30.06           0                                        \n",
       "5935 31.07           0                                        \n",
       "5936 29.60           0                                        \n",
       "5937 27.30           0                                        \n",
       "5938 27.60           0                                        \n",
       "     Stage group.clinical Cancer Pneumonia (disorder) Asthma\n",
       "5933 no_cancer                   0                    0     \n",
       "5934 no_cancer                   0                    0     \n",
       "5935 no_cancer                   0                    0     \n",
       "5936 no_cancer                   0                    0     \n",
       "5937 no_cancer                   0                    0     \n",
       "5938 no_cancer                   0                    0     \n",
       "     Acute deep venous thrombosis (disorder) Followup Exposure\n",
       "5933 0                                        822     1       \n",
       "5934 0                                       3042     1       \n",
       "5935 0                                       1233     1       \n",
       "5936 0                                       1838     1       \n",
       "5937 0                                       2374     2       \n",
       "5938 0                                        356     1       "
      ]
     },
     "metadata": {},
     "output_type": "display_data"
    }
   ],
   "source": [
    "tail(Df_regression_unique)"
   ]
  },
  {
   "cell_type": "markdown",
   "id": "02e5a88c",
   "metadata": {},
   "source": [
    "## Step2:  If There Are NA Values\n",
    "---\n",
    "\n",
    "If the column contains (NA) values, decide how to handle them. For instance, you might replace them with 0."
   ]
  },
  {
   "cell_type": "code",
   "execution_count": 258,
   "id": "6ed15a47",
   "metadata": {},
   "outputs": [],
   "source": [
    "Df_regression_unique$'Assessment using Alcohol Use Disorders Identification Test - Consumption (procedure)'[is.na(Df_regression_unique$'Assessment using Alcohol Use Disorders Identification Test - Consumption (procedure)')] <- 0\n",
    "Df_regression_unique$'Assessment using Alcohol Use Disorders Identification Test - Consumption (procedure)' <- as.integer(Df_regression_unique$'Assessment using Alcohol Use Disorders Identification Test - Consumption (procedure)')"
   ]
  },
  {
   "cell_type": "code",
   "execution_count": 259,
   "id": "bc41e5f5",
   "metadata": {},
   "outputs": [
    {
     "data": {
      "text/html": [
       "<table class=\"dataframe\">\n",
       "<caption>A data.frame: 6 × 15</caption>\n",
       "<thead>\n",
       "\t<tr><th></th><th scope=col>ptnum</th><th scope=col>label</th><th scope=col>age</th><th scope=col>gender</th><th scope=col>race</th><th scope=col>Tobacco smoking status NHIS</th><th scope=col>Assessment using Alcohol Use Disorders Identification Test - Consumption (procedure)</th><th scope=col>Body Mass Index</th><th scope=col>Chronic obstructive bronchitis (disorder)</th><th scope=col>Stage group.clinical Cancer</th><th scope=col>Pneumonia (disorder)</th><th scope=col>Asthma</th><th scope=col>Acute deep venous thrombosis (disorder)</th><th scope=col>Followup</th><th scope=col>Exposure</th></tr>\n",
       "\t<tr><th></th><th scope=col>&lt;chr&gt;</th><th scope=col>&lt;dbl&gt;</th><th scope=col>&lt;dbl&gt;</th><th scope=col>&lt;chr&gt;</th><th scope=col>&lt;chr&gt;</th><th scope=col>&lt;chr&gt;</th><th scope=col>&lt;int&gt;</th><th scope=col>&lt;dbl&gt;</th><th scope=col>&lt;int&gt;</th><th scope=col>&lt;chr&gt;</th><th scope=col>&lt;int&gt;</th><th scope=col>&lt;int&gt;</th><th scope=col>&lt;int&gt;</th><th scope=col>&lt;int&gt;</th><th scope=col>&lt;dbl&gt;</th></tr>\n",
       "</thead>\n",
       "<tbody>\n",
       "\t<tr><th scope=row>5933</th><td>p9972</td><td>0</td><td>53</td><td>f</td><td>white</td><td>never </td><td>1</td><td>29.66</td><td>0</td><td>no_cancer</td><td>0</td><td>0</td><td>0</td><td> 822</td><td>1</td></tr>\n",
       "\t<tr><th scope=row>5934</th><td>p9976</td><td>0</td><td>70</td><td>m</td><td>white</td><td>former</td><td>1</td><td>30.06</td><td>0</td><td>no_cancer</td><td>0</td><td>0</td><td>0</td><td>3042</td><td>1</td></tr>\n",
       "\t<tr><th scope=row>5935</th><td>p9982</td><td>0</td><td>70</td><td>m</td><td>black</td><td>never </td><td>1</td><td>31.07</td><td>0</td><td>no_cancer</td><td>0</td><td>0</td><td>0</td><td>1233</td><td>1</td></tr>\n",
       "\t<tr><th scope=row>5936</th><td>p9992</td><td>1</td><td>75</td><td>m</td><td>white</td><td>never </td><td>1</td><td>29.60</td><td>0</td><td>no_cancer</td><td>0</td><td>0</td><td>0</td><td>1838</td><td>1</td></tr>\n",
       "\t<tr><th scope=row>5937</th><td>p9996</td><td>0</td><td>59</td><td>m</td><td>white</td><td>never </td><td>1</td><td>27.30</td><td>0</td><td>no_cancer</td><td>0</td><td>0</td><td>0</td><td>2374</td><td>2</td></tr>\n",
       "\t<tr><th scope=row>5938</th><td>p9998</td><td>0</td><td>46</td><td>f</td><td>white</td><td>former</td><td>1</td><td>27.60</td><td>0</td><td>no_cancer</td><td>0</td><td>0</td><td>0</td><td> 356</td><td>1</td></tr>\n",
       "</tbody>\n",
       "</table>\n"
      ],
      "text/latex": [
       "A data.frame: 6 × 15\n",
       "\\begin{tabular}{r|lllllllllllllll}\n",
       "  & ptnum & label & age & gender & race & Tobacco smoking status NHIS & Assessment using Alcohol Use Disorders Identification Test - Consumption (procedure) & Body Mass Index & Chronic obstructive bronchitis (disorder) & Stage group.clinical Cancer & Pneumonia (disorder) & Asthma & Acute deep venous thrombosis (disorder) & Followup & Exposure\\\\\n",
       "  & <chr> & <dbl> & <dbl> & <chr> & <chr> & <chr> & <int> & <dbl> & <int> & <chr> & <int> & <int> & <int> & <int> & <dbl>\\\\\n",
       "\\hline\n",
       "\t5933 & p9972 & 0 & 53 & f & white & never  & 1 & 29.66 & 0 & no\\_cancer & 0 & 0 & 0 &  822 & 1\\\\\n",
       "\t5934 & p9976 & 0 & 70 & m & white & former & 1 & 30.06 & 0 & no\\_cancer & 0 & 0 & 0 & 3042 & 1\\\\\n",
       "\t5935 & p9982 & 0 & 70 & m & black & never  & 1 & 31.07 & 0 & no\\_cancer & 0 & 0 & 0 & 1233 & 1\\\\\n",
       "\t5936 & p9992 & 1 & 75 & m & white & never  & 1 & 29.60 & 0 & no\\_cancer & 0 & 0 & 0 & 1838 & 1\\\\\n",
       "\t5937 & p9996 & 0 & 59 & m & white & never  & 1 & 27.30 & 0 & no\\_cancer & 0 & 0 & 0 & 2374 & 2\\\\\n",
       "\t5938 & p9998 & 0 & 46 & f & white & former & 1 & 27.60 & 0 & no\\_cancer & 0 & 0 & 0 &  356 & 1\\\\\n",
       "\\end{tabular}\n"
      ],
      "text/markdown": [
       "\n",
       "A data.frame: 6 × 15\n",
       "\n",
       "| <!--/--> | ptnum &lt;chr&gt; | label &lt;dbl&gt; | age &lt;dbl&gt; | gender &lt;chr&gt; | race &lt;chr&gt; | Tobacco smoking status NHIS &lt;chr&gt; | Assessment using Alcohol Use Disorders Identification Test - Consumption (procedure) &lt;int&gt; | Body Mass Index &lt;dbl&gt; | Chronic obstructive bronchitis (disorder) &lt;int&gt; | Stage group.clinical Cancer &lt;chr&gt; | Pneumonia (disorder) &lt;int&gt; | Asthma &lt;int&gt; | Acute deep venous thrombosis (disorder) &lt;int&gt; | Followup &lt;int&gt; | Exposure &lt;dbl&gt; |\n",
       "|---|---|---|---|---|---|---|---|---|---|---|---|---|---|---|---|\n",
       "| 5933 | p9972 | 0 | 53 | f | white | never  | 1 | 29.66 | 0 | no_cancer | 0 | 0 | 0 |  822 | 1 |\n",
       "| 5934 | p9976 | 0 | 70 | m | white | former | 1 | 30.06 | 0 | no_cancer | 0 | 0 | 0 | 3042 | 1 |\n",
       "| 5935 | p9982 | 0 | 70 | m | black | never  | 1 | 31.07 | 0 | no_cancer | 0 | 0 | 0 | 1233 | 1 |\n",
       "| 5936 | p9992 | 1 | 75 | m | white | never  | 1 | 29.60 | 0 | no_cancer | 0 | 0 | 0 | 1838 | 1 |\n",
       "| 5937 | p9996 | 0 | 59 | m | white | never  | 1 | 27.30 | 0 | no_cancer | 0 | 0 | 0 | 2374 | 2 |\n",
       "| 5938 | p9998 | 0 | 46 | f | white | former | 1 | 27.60 | 0 | no_cancer | 0 | 0 | 0 |  356 | 1 |\n",
       "\n"
      ],
      "text/plain": [
       "     ptnum label age gender race  Tobacco smoking status NHIS\n",
       "5933 p9972 0     53  f      white never                      \n",
       "5934 p9976 0     70  m      white former                     \n",
       "5935 p9982 0     70  m      black never                      \n",
       "5936 p9992 1     75  m      white never                      \n",
       "5937 p9996 0     59  m      white never                      \n",
       "5938 p9998 0     46  f      white former                     \n",
       "     Assessment using Alcohol Use Disorders Identification Test - Consumption (procedure)\n",
       "5933 1                                                                                   \n",
       "5934 1                                                                                   \n",
       "5935 1                                                                                   \n",
       "5936 1                                                                                   \n",
       "5937 1                                                                                   \n",
       "5938 1                                                                                   \n",
       "     Body Mass Index Chronic obstructive bronchitis (disorder)\n",
       "5933 29.66           0                                        \n",
       "5934 30.06           0                                        \n",
       "5935 31.07           0                                        \n",
       "5936 29.60           0                                        \n",
       "5937 27.30           0                                        \n",
       "5938 27.60           0                                        \n",
       "     Stage group.clinical Cancer Pneumonia (disorder) Asthma\n",
       "5933 no_cancer                   0                    0     \n",
       "5934 no_cancer                   0                    0     \n",
       "5935 no_cancer                   0                    0     \n",
       "5936 no_cancer                   0                    0     \n",
       "5937 no_cancer                   0                    0     \n",
       "5938 no_cancer                   0                    0     \n",
       "     Acute deep venous thrombosis (disorder) Followup Exposure\n",
       "5933 0                                        822     1       \n",
       "5934 0                                       3042     1       \n",
       "5935 0                                       1233     1       \n",
       "5936 0                                       1838     1       \n",
       "5937 0                                       2374     2       \n",
       "5938 0                                        356     1       "
      ]
     },
     "metadata": {},
     "output_type": "display_data"
    }
   ],
   "source": [
    "tail(Df_regression_unique)"
   ]
  },
  {
   "cell_type": "markdown",
   "id": "389667f9",
   "metadata": {},
   "source": [
    "## Discussion\n",
    "---\n",
    "\n",
    "Missing data is a common challenge in statistical modeling and data analysis. Its presence can significantly impact the validity, reliability, and interpretability of results. Proper handling of missing data is crucial to ensure robust and unbiased conclusions.\n",
    "\n",
    "Implications of Missing Data:\n",
    "\n",
    "1. Reduced Statistical Power\n",
    "Missing data reduces the sample size available for analysis, weakening the statistical power of tests.\n",
    "Smaller datasets may lead to inconclusive results or increased Type II errors (failing to detect true effects).\n",
    "\n",
    "2. Bias in Results\n",
    "Missing data that is not random (e.g., people with certain traits systematically omit answers) can bias estimates.\n",
    "For example, in medical studies, patients with severe symptoms may drop out, leading to underestimation of the disease severity.\n",
    "\n",
    "\n",
    "3. Distorted Relationships\n",
    "Missing data can change the relationships between variables if handled improperly.\n",
    "For instance, imprecise imputation might introduce spurious correlations.\n",
    "\n",
    "\n",
    "4. Loss of Representativeness\n",
    "If a particular subgroup is more likely to have missing data, the remaining data may no longer represent the entire population.\n",
    "\n",
    "\n",
    "5. Impact on Model Performance\n",
    "Machine learning and statistical models often fail or perform poorly with missing data unless explicitly accounted for.\n",
    "\n",
    "\n",
    "## Strategies for Handling Missing Data\n",
    "---\n",
    "\n",
    "1. Prevention\n",
    "\n",
    "    Careful Data Collection: Design surveys and data collection processes to minimize missing values.\n",
    "    \n",
    "    Data Validation: Use real-time checks during data entry to catch missing or incorrect inputs.\n",
    "\n",
    "<br>\n",
    "2. Understanding the Missingness Mechanism\n",
    "\n",
    "    Missing Completely at Random (MCAR): Data is missing with no systematic relationship to the observed or unobserved data. This is the least problematic type.\n",
    "\n",
    "    Missing at Random (MAR): The likelihood of missingness depends on observed variables but not unobserved ones.\n",
    "\n",
    "    Missing Not at Random (MNAR): Missingness depends on unobserved variables. This requires specialized techniques or assumptions.\n",
    "\n",
    "<br>\n",
    "3. Strategies to Handle Missing Data\n",
    "\n",
    "    A. Deletion Methods\n",
    "        Listwise Deletion: Remove rows with any missing values.\n",
    "        \n",
    "        Advantages: Simple and retains consistency across analyses.\n",
    "        \n",
    "        Disadvantages: Reduces sample size, can bias results if data is not MCAR.\n",
    "        \n",
    "        Pairwise Deletion: Use available data for each analysis without discarding entire rows.\n",
    "        \n",
    "        Advantages: Retains more data.\n",
    "        \n",
    "        Disadvantages: Results may vary across analyses.\n",
    "        \n",
    "\n",
    "    B. Imputation Methods\n",
    "        Mean/Median/Mode Imputation: Replace missing values with the mean (for numeric) or mode (for categorical).\n",
    "        Advantages: Simple and quick.\n",
    "        Disadvantages: Reduces variability, can introduce bias.\n",
    "        Regression Imputation: Use regression models to predict and fill missing values based on other variables.\n",
    "        Advantages: Accounts for relationships between variables.\n",
    "        Disadvantages: Assumes the imputation model is correct, underestimates variability.\n",
    "        Multiple Imputation: Create multiple plausible datasets by imputing missing values with different estimates and combining results.\n",
    "        Advantages: Accounts for uncertainty and variability in imputations.\n",
    "        Disadvantages: Computationally intensive, complex to implement.\n",
    "        Hot Deck Imputation:Replace missing values with observed values from similar cases.\n",
    "        Advantages: Retains observed data distribution.\n",
    "        Disadvantages: Depends on finding similar cases.\n",
    "\n",
    "    C. Model-Based Approaches\n",
    "        Maximum Likelihood Estimation (MLE): Estimate parameters directly while accounting for missing data.\n",
    "        Advantages: Efficient and unbiased under MAR.\n",
    "        Disadvantages: Requires complex algorithms.\n",
    "        Bayesian Methods: Use prior distributions to estimate missing values.\n",
    "        Advantages: Flexible and accounts for uncertainty.\n",
    "        Disadvantages: Requires expertise and computational power.\n",
    "\n",
    "    D. Advanced Techniques\n",
    "        K-Nearest Neighbors (KNN): Impute missing values based on the closest neighbors in the dataset.\n",
    "        Advantages: Considers the data's structure.\n",
    "        Disadvantages: Computationally expensive for large datasets.\n",
    "        Machine Learning: Use predictive models like Random Forest to impute missing values.\n",
    "        Advantages: Handles complex relationships.\n",
    "        Disadvantages: May overfit and requires validation."
   ]
  },
  {
   "cell_type": "markdown",
   "id": "6bc21f48",
   "metadata": {},
   "source": [
    "# Question 3: Categorical Variable Conversion\n",
    "---\n",
    "\n",
    "Convert relevant variables into categorical (factor) variables as necessary, and consider the role of this transformation in regression analyses. Discuss when and why categorical conversion is crucial in epidemiological research."
   ]
  },
  {
   "cell_type": "markdown",
   "id": "8a866d72",
   "metadata": {},
   "source": [
    "## Step 0:\n",
    "---\n",
    "\n",
    "Explanation\n",
    "\n",
    "ifelse Function:\n",
    "\n",
    "ifelse(condition, value_if_true, value_if_false) checks the condition for each element.\n",
    "\n",
    "If the value is \"f\", it assigns 1.\n",
    "\n",
    "Otherwise (e.g., if the value is \"m\"), it assigns 0.\n",
    "\n",
    "---\n",
    "\n",
    "Replace the Original Column: The column C-263495000 is overwritten with the transformed values."
   ]
  },
  {
   "cell_type": "code",
   "execution_count": 260,
   "id": "5c55ddab",
   "metadata": {},
   "outputs": [],
   "source": [
    "Df_regression_unique$\"gender\" <- ifelse(Df_regression_unique$\"gender\" == \"f\", 1, 0)"
   ]
  },
  {
   "cell_type": "code",
   "execution_count": 261,
   "id": "f672627c",
   "metadata": {},
   "outputs": [],
   "source": [
    "colnames(Df_regression_unique)[colnames(Df_regression_unique) == \"gender\"] <- \"gender_female\""
   ]
  },
  {
   "cell_type": "code",
   "execution_count": 262,
   "id": "1b8d7542",
   "metadata": {},
   "outputs": [
    {
     "data": {
      "text/html": [
       "<table class=\"dataframe\">\n",
       "<caption>A data.frame: 6 × 15</caption>\n",
       "<thead>\n",
       "\t<tr><th></th><th scope=col>ptnum</th><th scope=col>label</th><th scope=col>age</th><th scope=col>gender_female</th><th scope=col>race</th><th scope=col>Tobacco smoking status NHIS</th><th scope=col>Assessment using Alcohol Use Disorders Identification Test - Consumption (procedure)</th><th scope=col>Body Mass Index</th><th scope=col>Chronic obstructive bronchitis (disorder)</th><th scope=col>Stage group.clinical Cancer</th><th scope=col>Pneumonia (disorder)</th><th scope=col>Asthma</th><th scope=col>Acute deep venous thrombosis (disorder)</th><th scope=col>Followup</th><th scope=col>Exposure</th></tr>\n",
       "\t<tr><th></th><th scope=col>&lt;chr&gt;</th><th scope=col>&lt;dbl&gt;</th><th scope=col>&lt;dbl&gt;</th><th scope=col>&lt;dbl&gt;</th><th scope=col>&lt;chr&gt;</th><th scope=col>&lt;chr&gt;</th><th scope=col>&lt;int&gt;</th><th scope=col>&lt;dbl&gt;</th><th scope=col>&lt;int&gt;</th><th scope=col>&lt;chr&gt;</th><th scope=col>&lt;int&gt;</th><th scope=col>&lt;int&gt;</th><th scope=col>&lt;int&gt;</th><th scope=col>&lt;int&gt;</th><th scope=col>&lt;dbl&gt;</th></tr>\n",
       "</thead>\n",
       "<tbody>\n",
       "\t<tr><th scope=row>5933</th><td>p9972</td><td>0</td><td>53</td><td>1</td><td>white</td><td>never </td><td>1</td><td>29.66</td><td>0</td><td>no_cancer</td><td>0</td><td>0</td><td>0</td><td> 822</td><td>1</td></tr>\n",
       "\t<tr><th scope=row>5934</th><td>p9976</td><td>0</td><td>70</td><td>0</td><td>white</td><td>former</td><td>1</td><td>30.06</td><td>0</td><td>no_cancer</td><td>0</td><td>0</td><td>0</td><td>3042</td><td>1</td></tr>\n",
       "\t<tr><th scope=row>5935</th><td>p9982</td><td>0</td><td>70</td><td>0</td><td>black</td><td>never </td><td>1</td><td>31.07</td><td>0</td><td>no_cancer</td><td>0</td><td>0</td><td>0</td><td>1233</td><td>1</td></tr>\n",
       "\t<tr><th scope=row>5936</th><td>p9992</td><td>1</td><td>75</td><td>0</td><td>white</td><td>never </td><td>1</td><td>29.60</td><td>0</td><td>no_cancer</td><td>0</td><td>0</td><td>0</td><td>1838</td><td>1</td></tr>\n",
       "\t<tr><th scope=row>5937</th><td>p9996</td><td>0</td><td>59</td><td>0</td><td>white</td><td>never </td><td>1</td><td>27.30</td><td>0</td><td>no_cancer</td><td>0</td><td>0</td><td>0</td><td>2374</td><td>2</td></tr>\n",
       "\t<tr><th scope=row>5938</th><td>p9998</td><td>0</td><td>46</td><td>1</td><td>white</td><td>former</td><td>1</td><td>27.60</td><td>0</td><td>no_cancer</td><td>0</td><td>0</td><td>0</td><td> 356</td><td>1</td></tr>\n",
       "</tbody>\n",
       "</table>\n"
      ],
      "text/latex": [
       "A data.frame: 6 × 15\n",
       "\\begin{tabular}{r|lllllllllllllll}\n",
       "  & ptnum & label & age & gender\\_female & race & Tobacco smoking status NHIS & Assessment using Alcohol Use Disorders Identification Test - Consumption (procedure) & Body Mass Index & Chronic obstructive bronchitis (disorder) & Stage group.clinical Cancer & Pneumonia (disorder) & Asthma & Acute deep venous thrombosis (disorder) & Followup & Exposure\\\\\n",
       "  & <chr> & <dbl> & <dbl> & <dbl> & <chr> & <chr> & <int> & <dbl> & <int> & <chr> & <int> & <int> & <int> & <int> & <dbl>\\\\\n",
       "\\hline\n",
       "\t5933 & p9972 & 0 & 53 & 1 & white & never  & 1 & 29.66 & 0 & no\\_cancer & 0 & 0 & 0 &  822 & 1\\\\\n",
       "\t5934 & p9976 & 0 & 70 & 0 & white & former & 1 & 30.06 & 0 & no\\_cancer & 0 & 0 & 0 & 3042 & 1\\\\\n",
       "\t5935 & p9982 & 0 & 70 & 0 & black & never  & 1 & 31.07 & 0 & no\\_cancer & 0 & 0 & 0 & 1233 & 1\\\\\n",
       "\t5936 & p9992 & 1 & 75 & 0 & white & never  & 1 & 29.60 & 0 & no\\_cancer & 0 & 0 & 0 & 1838 & 1\\\\\n",
       "\t5937 & p9996 & 0 & 59 & 0 & white & never  & 1 & 27.30 & 0 & no\\_cancer & 0 & 0 & 0 & 2374 & 2\\\\\n",
       "\t5938 & p9998 & 0 & 46 & 1 & white & former & 1 & 27.60 & 0 & no\\_cancer & 0 & 0 & 0 &  356 & 1\\\\\n",
       "\\end{tabular}\n"
      ],
      "text/markdown": [
       "\n",
       "A data.frame: 6 × 15\n",
       "\n",
       "| <!--/--> | ptnum &lt;chr&gt; | label &lt;dbl&gt; | age &lt;dbl&gt; | gender_female &lt;dbl&gt; | race &lt;chr&gt; | Tobacco smoking status NHIS &lt;chr&gt; | Assessment using Alcohol Use Disorders Identification Test - Consumption (procedure) &lt;int&gt; | Body Mass Index &lt;dbl&gt; | Chronic obstructive bronchitis (disorder) &lt;int&gt; | Stage group.clinical Cancer &lt;chr&gt; | Pneumonia (disorder) &lt;int&gt; | Asthma &lt;int&gt; | Acute deep venous thrombosis (disorder) &lt;int&gt; | Followup &lt;int&gt; | Exposure &lt;dbl&gt; |\n",
       "|---|---|---|---|---|---|---|---|---|---|---|---|---|---|---|---|\n",
       "| 5933 | p9972 | 0 | 53 | 1 | white | never  | 1 | 29.66 | 0 | no_cancer | 0 | 0 | 0 |  822 | 1 |\n",
       "| 5934 | p9976 | 0 | 70 | 0 | white | former | 1 | 30.06 | 0 | no_cancer | 0 | 0 | 0 | 3042 | 1 |\n",
       "| 5935 | p9982 | 0 | 70 | 0 | black | never  | 1 | 31.07 | 0 | no_cancer | 0 | 0 | 0 | 1233 | 1 |\n",
       "| 5936 | p9992 | 1 | 75 | 0 | white | never  | 1 | 29.60 | 0 | no_cancer | 0 | 0 | 0 | 1838 | 1 |\n",
       "| 5937 | p9996 | 0 | 59 | 0 | white | never  | 1 | 27.30 | 0 | no_cancer | 0 | 0 | 0 | 2374 | 2 |\n",
       "| 5938 | p9998 | 0 | 46 | 1 | white | former | 1 | 27.60 | 0 | no_cancer | 0 | 0 | 0 |  356 | 1 |\n",
       "\n"
      ],
      "text/plain": [
       "     ptnum label age gender_female race  Tobacco smoking status NHIS\n",
       "5933 p9972 0     53  1             white never                      \n",
       "5934 p9976 0     70  0             white former                     \n",
       "5935 p9982 0     70  0             black never                      \n",
       "5936 p9992 1     75  0             white never                      \n",
       "5937 p9996 0     59  0             white never                      \n",
       "5938 p9998 0     46  1             white former                     \n",
       "     Assessment using Alcohol Use Disorders Identification Test - Consumption (procedure)\n",
       "5933 1                                                                                   \n",
       "5934 1                                                                                   \n",
       "5935 1                                                                                   \n",
       "5936 1                                                                                   \n",
       "5937 1                                                                                   \n",
       "5938 1                                                                                   \n",
       "     Body Mass Index Chronic obstructive bronchitis (disorder)\n",
       "5933 29.66           0                                        \n",
       "5934 30.06           0                                        \n",
       "5935 31.07           0                                        \n",
       "5936 29.60           0                                        \n",
       "5937 27.30           0                                        \n",
       "5938 27.60           0                                        \n",
       "     Stage group.clinical Cancer Pneumonia (disorder) Asthma\n",
       "5933 no_cancer                   0                    0     \n",
       "5934 no_cancer                   0                    0     \n",
       "5935 no_cancer                   0                    0     \n",
       "5936 no_cancer                   0                    0     \n",
       "5937 no_cancer                   0                    0     \n",
       "5938 no_cancer                   0                    0     \n",
       "     Acute deep venous thrombosis (disorder) Followup Exposure\n",
       "5933 0                                        822     1       \n",
       "5934 0                                       3042     1       \n",
       "5935 0                                       1233     1       \n",
       "5936 0                                       1838     1       \n",
       "5937 0                                       2374     2       \n",
       "5938 0                                        356     1       "
      ]
     },
     "metadata": {},
     "output_type": "display_data"
    }
   ],
   "source": [
    "tail(Df_regression_unique)"
   ]
  },
  {
   "cell_type": "markdown",
   "id": "6417c6b1",
   "metadata": {},
   "source": [
    "## Step 1: Check the unique values of columns with categorical data\n",
    "---"
   ]
  },
  {
   "cell_type": "code",
   "execution_count": 263,
   "id": "4413a36b",
   "metadata": {},
   "outputs": [
    {
     "data": {
      "text/html": [
       "<style>\n",
       ".list-inline {list-style: none; margin:0; padding: 0}\n",
       ".list-inline>li {display: inline-block}\n",
       ".list-inline>li:not(:last-child)::after {content: \"\\00b7\"; padding: 0 .5ex}\n",
       "</style>\n",
       "<ol class=list-inline><li>'former'</li><li>'never'</li></ol>\n"
      ],
      "text/latex": [
       "\\begin{enumerate*}\n",
       "\\item 'former'\n",
       "\\item 'never'\n",
       "\\end{enumerate*}\n"
      ],
      "text/markdown": [
       "1. 'former'\n",
       "2. 'never'\n",
       "\n",
       "\n"
      ],
      "text/plain": [
       "[1] \"former\" \"never\" "
      ]
     },
     "metadata": {},
     "output_type": "display_data"
    }
   ],
   "source": [
    "unique(Df_regression_unique$\"Tobacco smoking status NHIS\")"
   ]
  },
  {
   "cell_type": "code",
   "execution_count": 264,
   "id": "5e793176",
   "metadata": {},
   "outputs": [
    {
     "data": {
      "text/html": [
       "<style>\n",
       ".list-inline {list-style: none; margin:0; padding: 0}\n",
       ".list-inline>li {display: inline-block}\n",
       ".list-inline>li:not(:last-child)::after {content: \"\\00b7\"; padding: 0 .5ex}\n",
       "</style>\n",
       "<ol class=list-inline><li>'asian'</li><li>'white'</li><li>'black'</li><li>'hawaiian'</li><li>'other'</li><li>'native'</li></ol>\n"
      ],
      "text/latex": [
       "\\begin{enumerate*}\n",
       "\\item 'asian'\n",
       "\\item 'white'\n",
       "\\item 'black'\n",
       "\\item 'hawaiian'\n",
       "\\item 'other'\n",
       "\\item 'native'\n",
       "\\end{enumerate*}\n"
      ],
      "text/markdown": [
       "1. 'asian'\n",
       "2. 'white'\n",
       "3. 'black'\n",
       "4. 'hawaiian'\n",
       "5. 'other'\n",
       "6. 'native'\n",
       "\n",
       "\n"
      ],
      "text/plain": [
       "[1] \"asian\"    \"white\"    \"black\"    \"hawaiian\" \"other\"    \"native\"  "
      ]
     },
     "metadata": {},
     "output_type": "display_data"
    }
   ],
   "source": [
    "unique(Df_regression_unique$\"race\")"
   ]
  },
  {
   "cell_type": "markdown",
   "id": "08667737",
   "metadata": {},
   "source": [
    "## Step 2: Tobacco smoking status NHIS change into binary variable\n",
    "---\n",
    "Coding legend is:\n",
    "\n",
    "'Former' = 1\n",
    "\n",
    "'Never' = 0"
   ]
  },
  {
   "cell_type": "code",
   "execution_count": 265,
   "id": "274c1302",
   "metadata": {},
   "outputs": [],
   "source": [
    "Df_regression_unique$\"Tobacco smoking status NHIS\" <- ifelse(Df_regression_unique$\"Tobacco smoking status NHIS\" == \"former\", 1, 0)"
   ]
  },
  {
   "cell_type": "markdown",
   "id": "d67aae5e",
   "metadata": {},
   "source": [
    "## Step 3: Verify the change\n",
    "---"
   ]
  },
  {
   "cell_type": "code",
   "execution_count": 266,
   "id": "e1879138",
   "metadata": {},
   "outputs": [
    {
     "data": {
      "text/html": [
       "<table class=\"dataframe\">\n",
       "<caption>A data.frame: 6 × 15</caption>\n",
       "<thead>\n",
       "\t<tr><th></th><th scope=col>ptnum</th><th scope=col>label</th><th scope=col>age</th><th scope=col>gender_female</th><th scope=col>race</th><th scope=col>Tobacco smoking status NHIS</th><th scope=col>Assessment using Alcohol Use Disorders Identification Test - Consumption (procedure)</th><th scope=col>Body Mass Index</th><th scope=col>Chronic obstructive bronchitis (disorder)</th><th scope=col>Stage group.clinical Cancer</th><th scope=col>Pneumonia (disorder)</th><th scope=col>Asthma</th><th scope=col>Acute deep venous thrombosis (disorder)</th><th scope=col>Followup</th><th scope=col>Exposure</th></tr>\n",
       "\t<tr><th></th><th scope=col>&lt;chr&gt;</th><th scope=col>&lt;dbl&gt;</th><th scope=col>&lt;dbl&gt;</th><th scope=col>&lt;dbl&gt;</th><th scope=col>&lt;chr&gt;</th><th scope=col>&lt;dbl&gt;</th><th scope=col>&lt;int&gt;</th><th scope=col>&lt;dbl&gt;</th><th scope=col>&lt;int&gt;</th><th scope=col>&lt;chr&gt;</th><th scope=col>&lt;int&gt;</th><th scope=col>&lt;int&gt;</th><th scope=col>&lt;int&gt;</th><th scope=col>&lt;int&gt;</th><th scope=col>&lt;dbl&gt;</th></tr>\n",
       "</thead>\n",
       "<tbody>\n",
       "\t<tr><th scope=row>5933</th><td>p9972</td><td>0</td><td>53</td><td>1</td><td>white</td><td>0</td><td>1</td><td>29.66</td><td>0</td><td>no_cancer</td><td>0</td><td>0</td><td>0</td><td> 822</td><td>1</td></tr>\n",
       "\t<tr><th scope=row>5934</th><td>p9976</td><td>0</td><td>70</td><td>0</td><td>white</td><td>1</td><td>1</td><td>30.06</td><td>0</td><td>no_cancer</td><td>0</td><td>0</td><td>0</td><td>3042</td><td>1</td></tr>\n",
       "\t<tr><th scope=row>5935</th><td>p9982</td><td>0</td><td>70</td><td>0</td><td>black</td><td>0</td><td>1</td><td>31.07</td><td>0</td><td>no_cancer</td><td>0</td><td>0</td><td>0</td><td>1233</td><td>1</td></tr>\n",
       "\t<tr><th scope=row>5936</th><td>p9992</td><td>1</td><td>75</td><td>0</td><td>white</td><td>0</td><td>1</td><td>29.60</td><td>0</td><td>no_cancer</td><td>0</td><td>0</td><td>0</td><td>1838</td><td>1</td></tr>\n",
       "\t<tr><th scope=row>5937</th><td>p9996</td><td>0</td><td>59</td><td>0</td><td>white</td><td>0</td><td>1</td><td>27.30</td><td>0</td><td>no_cancer</td><td>0</td><td>0</td><td>0</td><td>2374</td><td>2</td></tr>\n",
       "\t<tr><th scope=row>5938</th><td>p9998</td><td>0</td><td>46</td><td>1</td><td>white</td><td>1</td><td>1</td><td>27.60</td><td>0</td><td>no_cancer</td><td>0</td><td>0</td><td>0</td><td> 356</td><td>1</td></tr>\n",
       "</tbody>\n",
       "</table>\n"
      ],
      "text/latex": [
       "A data.frame: 6 × 15\n",
       "\\begin{tabular}{r|lllllllllllllll}\n",
       "  & ptnum & label & age & gender\\_female & race & Tobacco smoking status NHIS & Assessment using Alcohol Use Disorders Identification Test - Consumption (procedure) & Body Mass Index & Chronic obstructive bronchitis (disorder) & Stage group.clinical Cancer & Pneumonia (disorder) & Asthma & Acute deep venous thrombosis (disorder) & Followup & Exposure\\\\\n",
       "  & <chr> & <dbl> & <dbl> & <dbl> & <chr> & <dbl> & <int> & <dbl> & <int> & <chr> & <int> & <int> & <int> & <int> & <dbl>\\\\\n",
       "\\hline\n",
       "\t5933 & p9972 & 0 & 53 & 1 & white & 0 & 1 & 29.66 & 0 & no\\_cancer & 0 & 0 & 0 &  822 & 1\\\\\n",
       "\t5934 & p9976 & 0 & 70 & 0 & white & 1 & 1 & 30.06 & 0 & no\\_cancer & 0 & 0 & 0 & 3042 & 1\\\\\n",
       "\t5935 & p9982 & 0 & 70 & 0 & black & 0 & 1 & 31.07 & 0 & no\\_cancer & 0 & 0 & 0 & 1233 & 1\\\\\n",
       "\t5936 & p9992 & 1 & 75 & 0 & white & 0 & 1 & 29.60 & 0 & no\\_cancer & 0 & 0 & 0 & 1838 & 1\\\\\n",
       "\t5937 & p9996 & 0 & 59 & 0 & white & 0 & 1 & 27.30 & 0 & no\\_cancer & 0 & 0 & 0 & 2374 & 2\\\\\n",
       "\t5938 & p9998 & 0 & 46 & 1 & white & 1 & 1 & 27.60 & 0 & no\\_cancer & 0 & 0 & 0 &  356 & 1\\\\\n",
       "\\end{tabular}\n"
      ],
      "text/markdown": [
       "\n",
       "A data.frame: 6 × 15\n",
       "\n",
       "| <!--/--> | ptnum &lt;chr&gt; | label &lt;dbl&gt; | age &lt;dbl&gt; | gender_female &lt;dbl&gt; | race &lt;chr&gt; | Tobacco smoking status NHIS &lt;dbl&gt; | Assessment using Alcohol Use Disorders Identification Test - Consumption (procedure) &lt;int&gt; | Body Mass Index &lt;dbl&gt; | Chronic obstructive bronchitis (disorder) &lt;int&gt; | Stage group.clinical Cancer &lt;chr&gt; | Pneumonia (disorder) &lt;int&gt; | Asthma &lt;int&gt; | Acute deep venous thrombosis (disorder) &lt;int&gt; | Followup &lt;int&gt; | Exposure &lt;dbl&gt; |\n",
       "|---|---|---|---|---|---|---|---|---|---|---|---|---|---|---|---|\n",
       "| 5933 | p9972 | 0 | 53 | 1 | white | 0 | 1 | 29.66 | 0 | no_cancer | 0 | 0 | 0 |  822 | 1 |\n",
       "| 5934 | p9976 | 0 | 70 | 0 | white | 1 | 1 | 30.06 | 0 | no_cancer | 0 | 0 | 0 | 3042 | 1 |\n",
       "| 5935 | p9982 | 0 | 70 | 0 | black | 0 | 1 | 31.07 | 0 | no_cancer | 0 | 0 | 0 | 1233 | 1 |\n",
       "| 5936 | p9992 | 1 | 75 | 0 | white | 0 | 1 | 29.60 | 0 | no_cancer | 0 | 0 | 0 | 1838 | 1 |\n",
       "| 5937 | p9996 | 0 | 59 | 0 | white | 0 | 1 | 27.30 | 0 | no_cancer | 0 | 0 | 0 | 2374 | 2 |\n",
       "| 5938 | p9998 | 0 | 46 | 1 | white | 1 | 1 | 27.60 | 0 | no_cancer | 0 | 0 | 0 |  356 | 1 |\n",
       "\n"
      ],
      "text/plain": [
       "     ptnum label age gender_female race  Tobacco smoking status NHIS\n",
       "5933 p9972 0     53  1             white 0                          \n",
       "5934 p9976 0     70  0             white 1                          \n",
       "5935 p9982 0     70  0             black 0                          \n",
       "5936 p9992 1     75  0             white 0                          \n",
       "5937 p9996 0     59  0             white 0                          \n",
       "5938 p9998 0     46  1             white 1                          \n",
       "     Assessment using Alcohol Use Disorders Identification Test - Consumption (procedure)\n",
       "5933 1                                                                                   \n",
       "5934 1                                                                                   \n",
       "5935 1                                                                                   \n",
       "5936 1                                                                                   \n",
       "5937 1                                                                                   \n",
       "5938 1                                                                                   \n",
       "     Body Mass Index Chronic obstructive bronchitis (disorder)\n",
       "5933 29.66           0                                        \n",
       "5934 30.06           0                                        \n",
       "5935 31.07           0                                        \n",
       "5936 29.60           0                                        \n",
       "5937 27.30           0                                        \n",
       "5938 27.60           0                                        \n",
       "     Stage group.clinical Cancer Pneumonia (disorder) Asthma\n",
       "5933 no_cancer                   0                    0     \n",
       "5934 no_cancer                   0                    0     \n",
       "5935 no_cancer                   0                    0     \n",
       "5936 no_cancer                   0                    0     \n",
       "5937 no_cancer                   0                    0     \n",
       "5938 no_cancer                   0                    0     \n",
       "     Acute deep venous thrombosis (disorder) Followup Exposure\n",
       "5933 0                                        822     1       \n",
       "5934 0                                       3042     1       \n",
       "5935 0                                       1233     1       \n",
       "5936 0                                       1838     1       \n",
       "5937 0                                       2374     2       \n",
       "5938 0                                        356     1       "
      ]
     },
     "metadata": {},
     "output_type": "display_data"
    }
   ],
   "source": [
    "tail(Df_regression_unique)"
   ]
  },
  {
   "cell_type": "markdown",
   "id": "02b1ee2b",
   "metadata": {},
   "source": [
    "## Step 4: Create dummy variables for the Race and Stage group.clinical Cancer\n",
    "---"
   ]
  },
  {
   "cell_type": "code",
   "execution_count": 267,
   "id": "179a1d9b",
   "metadata": {},
   "outputs": [],
   "source": [
    "Df_regression_unique <- Df_regression_unique %>%\n",
    "  mutate(\n",
    "    asian = ifelse(`race` == \"asian\", 1, 0),\n",
    "    white = ifelse(`race` == \"white\", 1, 0),\n",
    "    black = ifelse(`race` == \"black\", 1, 0),\n",
    "    hawaiian = ifelse(`race` == \"hawaiian\", 1, 0),\n",
    "    native = ifelse(`race` == \"native\", 1, 0)\n",
    "  ) %>%\n",
    "  select(-\"race\")  # Remove the original column if not needed"
   ]
  },
  {
   "cell_type": "code",
   "execution_count": 268,
   "id": "5d0170bd",
   "metadata": {},
   "outputs": [
    {
     "data": {
      "text/html": [
       "<style>\n",
       ".list-inline {list-style: none; margin:0; padding: 0}\n",
       ".list-inline>li {display: inline-block}\n",
       ".list-inline>li:not(:last-child)::after {content: \"\\00b7\"; padding: 0 .5ex}\n",
       "</style>\n",
       "<ol class=list-inline><li>'no_cancer'</li><li>'stage4'</li><li>'stage2a'</li><li>'stage1a'</li><li>'stage3a'</li><li>'stage2b'</li><li>'stage3b'</li><li>'stage1b'</li></ol>\n"
      ],
      "text/latex": [
       "\\begin{enumerate*}\n",
       "\\item 'no\\_cancer'\n",
       "\\item 'stage4'\n",
       "\\item 'stage2a'\n",
       "\\item 'stage1a'\n",
       "\\item 'stage3a'\n",
       "\\item 'stage2b'\n",
       "\\item 'stage3b'\n",
       "\\item 'stage1b'\n",
       "\\end{enumerate*}\n"
      ],
      "text/markdown": [
       "1. 'no_cancer'\n",
       "2. 'stage4'\n",
       "3. 'stage2a'\n",
       "4. 'stage1a'\n",
       "5. 'stage3a'\n",
       "6. 'stage2b'\n",
       "7. 'stage3b'\n",
       "8. 'stage1b'\n",
       "\n",
       "\n"
      ],
      "text/plain": [
       "[1] \"no_cancer\" \"stage4\"    \"stage2a\"   \"stage1a\"   \"stage3a\"   \"stage2b\"  \n",
       "[7] \"stage3b\"   \"stage1b\"  "
      ]
     },
     "metadata": {},
     "output_type": "display_data"
    }
   ],
   "source": [
    "unique(Df_regression_unique$\"Stage group.clinical Cancer\")"
   ]
  },
  {
   "cell_type": "code",
   "execution_count": 269,
   "id": "f7aefaa0",
   "metadata": {},
   "outputs": [],
   "source": [
    "Df_regression_unique <- Df_regression_unique %>%\n",
    "  mutate(\n",
    "    no_cancer = ifelse(`Stage group.clinical Cancer` == 'no_cancer', 1, 0),\n",
    "    stage4 = ifelse(`Stage group.clinical Cancer` == 'stage4', 1, 0),\n",
    "    stage1a = ifelse(`Stage group.clinical Cancer` == 'stage1a', 1, 0),\n",
    "    stage2a = ifelse(`Stage group.clinical Cancer` == 'stage2a', 1, 0),\n",
    "    stage3a = ifelse(`Stage group.clinical Cancer` == 'stage3a', 1, 0),\n",
    "    stage1b = ifelse(`Stage group.clinical Cancer` == 'stage1b', 1, 0),\n",
    "    stage2b = ifelse(`Stage group.clinical Cancer` == 'stage2b', 1, 0),\n",
    "    stage3b = ifelse(`Stage group.clinical Cancer` == 'stage3b', 1, 0)\n",
    "  ) %>%\n",
    "  select(-\"Stage group.clinical Cancer\")  # Remove the original column if not needed"
   ]
  },
  {
   "cell_type": "markdown",
   "id": "cd7d204e",
   "metadata": {},
   "source": [
    "## Step 5: Verify the changes\n",
    "---"
   ]
  },
  {
   "cell_type": "code",
   "execution_count": 270,
   "id": "70deba4f",
   "metadata": {},
   "outputs": [
    {
     "data": {
      "text/html": [
       "<table class=\"dataframe\">\n",
       "<caption>A data.frame: 6 × 26</caption>\n",
       "<thead>\n",
       "\t<tr><th></th><th scope=col>ptnum</th><th scope=col>label</th><th scope=col>age</th><th scope=col>gender_female</th><th scope=col>Tobacco smoking status NHIS</th><th scope=col>Assessment using Alcohol Use Disorders Identification Test - Consumption (procedure)</th><th scope=col>Body Mass Index</th><th scope=col>Chronic obstructive bronchitis (disorder)</th><th scope=col>Pneumonia (disorder)</th><th scope=col>Asthma</th><th scope=col>⋯</th><th scope=col>hawaiian</th><th scope=col>native</th><th scope=col>no_cancer</th><th scope=col>stage4</th><th scope=col>stage1a</th><th scope=col>stage2a</th><th scope=col>stage3a</th><th scope=col>stage1b</th><th scope=col>stage2b</th><th scope=col>stage3b</th></tr>\n",
       "\t<tr><th></th><th scope=col>&lt;chr&gt;</th><th scope=col>&lt;dbl&gt;</th><th scope=col>&lt;dbl&gt;</th><th scope=col>&lt;dbl&gt;</th><th scope=col>&lt;dbl&gt;</th><th scope=col>&lt;int&gt;</th><th scope=col>&lt;dbl&gt;</th><th scope=col>&lt;int&gt;</th><th scope=col>&lt;int&gt;</th><th scope=col>&lt;int&gt;</th><th scope=col>⋯</th><th scope=col>&lt;dbl&gt;</th><th scope=col>&lt;dbl&gt;</th><th scope=col>&lt;dbl&gt;</th><th scope=col>&lt;dbl&gt;</th><th scope=col>&lt;dbl&gt;</th><th scope=col>&lt;dbl&gt;</th><th scope=col>&lt;dbl&gt;</th><th scope=col>&lt;dbl&gt;</th><th scope=col>&lt;dbl&gt;</th><th scope=col>&lt;dbl&gt;</th></tr>\n",
       "</thead>\n",
       "<tbody>\n",
       "\t<tr><th scope=row>5933</th><td>p9972</td><td>0</td><td>53</td><td>1</td><td>0</td><td>1</td><td>29.66</td><td>0</td><td>0</td><td>0</td><td>⋯</td><td>0</td><td>0</td><td>1</td><td>0</td><td>0</td><td>0</td><td>0</td><td>0</td><td>0</td><td>0</td></tr>\n",
       "\t<tr><th scope=row>5934</th><td>p9976</td><td>0</td><td>70</td><td>0</td><td>1</td><td>1</td><td>30.06</td><td>0</td><td>0</td><td>0</td><td>⋯</td><td>0</td><td>0</td><td>1</td><td>0</td><td>0</td><td>0</td><td>0</td><td>0</td><td>0</td><td>0</td></tr>\n",
       "\t<tr><th scope=row>5935</th><td>p9982</td><td>0</td><td>70</td><td>0</td><td>0</td><td>1</td><td>31.07</td><td>0</td><td>0</td><td>0</td><td>⋯</td><td>0</td><td>0</td><td>1</td><td>0</td><td>0</td><td>0</td><td>0</td><td>0</td><td>0</td><td>0</td></tr>\n",
       "\t<tr><th scope=row>5936</th><td>p9992</td><td>1</td><td>75</td><td>0</td><td>0</td><td>1</td><td>29.60</td><td>0</td><td>0</td><td>0</td><td>⋯</td><td>0</td><td>0</td><td>1</td><td>0</td><td>0</td><td>0</td><td>0</td><td>0</td><td>0</td><td>0</td></tr>\n",
       "\t<tr><th scope=row>5937</th><td>p9996</td><td>0</td><td>59</td><td>0</td><td>0</td><td>1</td><td>27.30</td><td>0</td><td>0</td><td>0</td><td>⋯</td><td>0</td><td>0</td><td>1</td><td>0</td><td>0</td><td>0</td><td>0</td><td>0</td><td>0</td><td>0</td></tr>\n",
       "\t<tr><th scope=row>5938</th><td>p9998</td><td>0</td><td>46</td><td>1</td><td>1</td><td>1</td><td>27.60</td><td>0</td><td>0</td><td>0</td><td>⋯</td><td>0</td><td>0</td><td>1</td><td>0</td><td>0</td><td>0</td><td>0</td><td>0</td><td>0</td><td>0</td></tr>\n",
       "</tbody>\n",
       "</table>\n"
      ],
      "text/latex": [
       "A data.frame: 6 × 26\n",
       "\\begin{tabular}{r|lllllllllllllllllllll}\n",
       "  & ptnum & label & age & gender\\_female & Tobacco smoking status NHIS & Assessment using Alcohol Use Disorders Identification Test - Consumption (procedure) & Body Mass Index & Chronic obstructive bronchitis (disorder) & Pneumonia (disorder) & Asthma & ⋯ & hawaiian & native & no\\_cancer & stage4 & stage1a & stage2a & stage3a & stage1b & stage2b & stage3b\\\\\n",
       "  & <chr> & <dbl> & <dbl> & <dbl> & <dbl> & <int> & <dbl> & <int> & <int> & <int> & ⋯ & <dbl> & <dbl> & <dbl> & <dbl> & <dbl> & <dbl> & <dbl> & <dbl> & <dbl> & <dbl>\\\\\n",
       "\\hline\n",
       "\t5933 & p9972 & 0 & 53 & 1 & 0 & 1 & 29.66 & 0 & 0 & 0 & ⋯ & 0 & 0 & 1 & 0 & 0 & 0 & 0 & 0 & 0 & 0\\\\\n",
       "\t5934 & p9976 & 0 & 70 & 0 & 1 & 1 & 30.06 & 0 & 0 & 0 & ⋯ & 0 & 0 & 1 & 0 & 0 & 0 & 0 & 0 & 0 & 0\\\\\n",
       "\t5935 & p9982 & 0 & 70 & 0 & 0 & 1 & 31.07 & 0 & 0 & 0 & ⋯ & 0 & 0 & 1 & 0 & 0 & 0 & 0 & 0 & 0 & 0\\\\\n",
       "\t5936 & p9992 & 1 & 75 & 0 & 0 & 1 & 29.60 & 0 & 0 & 0 & ⋯ & 0 & 0 & 1 & 0 & 0 & 0 & 0 & 0 & 0 & 0\\\\\n",
       "\t5937 & p9996 & 0 & 59 & 0 & 0 & 1 & 27.30 & 0 & 0 & 0 & ⋯ & 0 & 0 & 1 & 0 & 0 & 0 & 0 & 0 & 0 & 0\\\\\n",
       "\t5938 & p9998 & 0 & 46 & 1 & 1 & 1 & 27.60 & 0 & 0 & 0 & ⋯ & 0 & 0 & 1 & 0 & 0 & 0 & 0 & 0 & 0 & 0\\\\\n",
       "\\end{tabular}\n"
      ],
      "text/markdown": [
       "\n",
       "A data.frame: 6 × 26\n",
       "\n",
       "| <!--/--> | ptnum &lt;chr&gt; | label &lt;dbl&gt; | age &lt;dbl&gt; | gender_female &lt;dbl&gt; | Tobacco smoking status NHIS &lt;dbl&gt; | Assessment using Alcohol Use Disorders Identification Test - Consumption (procedure) &lt;int&gt; | Body Mass Index &lt;dbl&gt; | Chronic obstructive bronchitis (disorder) &lt;int&gt; | Pneumonia (disorder) &lt;int&gt; | Asthma &lt;int&gt; | ⋯ ⋯ | hawaiian &lt;dbl&gt; | native &lt;dbl&gt; | no_cancer &lt;dbl&gt; | stage4 &lt;dbl&gt; | stage1a &lt;dbl&gt; | stage2a &lt;dbl&gt; | stage3a &lt;dbl&gt; | stage1b &lt;dbl&gt; | stage2b &lt;dbl&gt; | stage3b &lt;dbl&gt; |\n",
       "|---|---|---|---|---|---|---|---|---|---|---|---|---|---|---|---|---|---|---|---|---|---|\n",
       "| 5933 | p9972 | 0 | 53 | 1 | 0 | 1 | 29.66 | 0 | 0 | 0 | ⋯ | 0 | 0 | 1 | 0 | 0 | 0 | 0 | 0 | 0 | 0 |\n",
       "| 5934 | p9976 | 0 | 70 | 0 | 1 | 1 | 30.06 | 0 | 0 | 0 | ⋯ | 0 | 0 | 1 | 0 | 0 | 0 | 0 | 0 | 0 | 0 |\n",
       "| 5935 | p9982 | 0 | 70 | 0 | 0 | 1 | 31.07 | 0 | 0 | 0 | ⋯ | 0 | 0 | 1 | 0 | 0 | 0 | 0 | 0 | 0 | 0 |\n",
       "| 5936 | p9992 | 1 | 75 | 0 | 0 | 1 | 29.60 | 0 | 0 | 0 | ⋯ | 0 | 0 | 1 | 0 | 0 | 0 | 0 | 0 | 0 | 0 |\n",
       "| 5937 | p9996 | 0 | 59 | 0 | 0 | 1 | 27.30 | 0 | 0 | 0 | ⋯ | 0 | 0 | 1 | 0 | 0 | 0 | 0 | 0 | 0 | 0 |\n",
       "| 5938 | p9998 | 0 | 46 | 1 | 1 | 1 | 27.60 | 0 | 0 | 0 | ⋯ | 0 | 0 | 1 | 0 | 0 | 0 | 0 | 0 | 0 | 0 |\n",
       "\n"
      ],
      "text/plain": [
       "     ptnum label age gender_female Tobacco smoking status NHIS\n",
       "5933 p9972 0     53  1             0                          \n",
       "5934 p9976 0     70  0             1                          \n",
       "5935 p9982 0     70  0             0                          \n",
       "5936 p9992 1     75  0             0                          \n",
       "5937 p9996 0     59  0             0                          \n",
       "5938 p9998 0     46  1             1                          \n",
       "     Assessment using Alcohol Use Disorders Identification Test - Consumption (procedure)\n",
       "5933 1                                                                                   \n",
       "5934 1                                                                                   \n",
       "5935 1                                                                                   \n",
       "5936 1                                                                                   \n",
       "5937 1                                                                                   \n",
       "5938 1                                                                                   \n",
       "     Body Mass Index Chronic obstructive bronchitis (disorder)\n",
       "5933 29.66           0                                        \n",
       "5934 30.06           0                                        \n",
       "5935 31.07           0                                        \n",
       "5936 29.60           0                                        \n",
       "5937 27.30           0                                        \n",
       "5938 27.60           0                                        \n",
       "     Pneumonia (disorder) Asthma ⋯ hawaiian native no_cancer stage4 stage1a\n",
       "5933 0                    0      ⋯ 0        0      1         0      0      \n",
       "5934 0                    0      ⋯ 0        0      1         0      0      \n",
       "5935 0                    0      ⋯ 0        0      1         0      0      \n",
       "5936 0                    0      ⋯ 0        0      1         0      0      \n",
       "5937 0                    0      ⋯ 0        0      1         0      0      \n",
       "5938 0                    0      ⋯ 0        0      1         0      0      \n",
       "     stage2a stage3a stage1b stage2b stage3b\n",
       "5933 0       0       0       0       0      \n",
       "5934 0       0       0       0       0      \n",
       "5935 0       0       0       0       0      \n",
       "5936 0       0       0       0       0      \n",
       "5937 0       0       0       0       0      \n",
       "5938 0       0       0       0       0      "
      ]
     },
     "metadata": {},
     "output_type": "display_data"
    }
   ],
   "source": [
    "tail(Df_regression_unique)"
   ]
  },
  {
   "cell_type": "code",
   "execution_count": 271,
   "id": "1c47a0f8",
   "metadata": {},
   "outputs": [],
   "source": [
    "# Renaming some columns for consistency\n",
    "Df_regression_unique <- Df_regression_unique %>%\n",
    "  rename(smoking_status = `Tobacco smoking status NHIS`,\n",
    "         alcohol_assessment = `Assessment using Alcohol Use Disorders Identification Test - Consumption (procedure)`,\n",
    "         bmi = `Body Mass Index`,\n",
    "         chronic_obstructive_bronchitis = `Chronic obstructive bronchitis (disorder)`,\n",
    "         pneumonia = `Pneumonia (disorder)`,\n",
    "         asthma = `Asthma`, \n",
    "         dvt = `Acute deep venous thrombosis (disorder)`,\n",
    "         statin = Exposure)"
   ]
  },
  {
   "cell_type": "code",
   "execution_count": 272,
   "id": "1481202f",
   "metadata": {},
   "outputs": [
    {
     "data": {
      "text/html": [
       "<table class=\"dataframe\">\n",
       "<caption>A data.frame: 5936 × 26</caption>\n",
       "<thead>\n",
       "\t<tr><th></th><th scope=col>ptnum</th><th scope=col>label</th><th scope=col>age</th><th scope=col>gender_female</th><th scope=col>smoking_status</th><th scope=col>alcohol_assessment</th><th scope=col>bmi</th><th scope=col>chronic_obstructive_bronchitis</th><th scope=col>pneumonia</th><th scope=col>asthma</th><th scope=col>⋯</th><th scope=col>hawaiian</th><th scope=col>native</th><th scope=col>no_cancer</th><th scope=col>stage4</th><th scope=col>stage1a</th><th scope=col>stage2a</th><th scope=col>stage3a</th><th scope=col>stage1b</th><th scope=col>stage2b</th><th scope=col>stage3b</th></tr>\n",
       "\t<tr><th></th><th scope=col>&lt;chr&gt;</th><th scope=col>&lt;dbl&gt;</th><th scope=col>&lt;dbl&gt;</th><th scope=col>&lt;dbl&gt;</th><th scope=col>&lt;dbl&gt;</th><th scope=col>&lt;int&gt;</th><th scope=col>&lt;dbl&gt;</th><th scope=col>&lt;int&gt;</th><th scope=col>&lt;int&gt;</th><th scope=col>&lt;int&gt;</th><th scope=col>⋯</th><th scope=col>&lt;dbl&gt;</th><th scope=col>&lt;dbl&gt;</th><th scope=col>&lt;dbl&gt;</th><th scope=col>&lt;dbl&gt;</th><th scope=col>&lt;dbl&gt;</th><th scope=col>&lt;dbl&gt;</th><th scope=col>&lt;dbl&gt;</th><th scope=col>&lt;dbl&gt;</th><th scope=col>&lt;dbl&gt;</th><th scope=col>&lt;dbl&gt;</th></tr>\n",
       "</thead>\n",
       "<tbody>\n",
       "\t<tr><th scope=row>1</th><td>p10000</td><td>1</td><td>72</td><td>0</td><td>1</td><td>1</td><td>28.10</td><td>0</td><td>0</td><td>0</td><td>⋯</td><td>0</td><td>0</td><td>1</td><td>0</td><td>0</td><td>0</td><td>0</td><td>0</td><td>0</td><td>0</td></tr>\n",
       "\t<tr><th scope=row>2</th><td>p10005</td><td>0</td><td>70</td><td>0</td><td>0</td><td>1</td><td>27.90</td><td>0</td><td>0</td><td>0</td><td>⋯</td><td>0</td><td>0</td><td>1</td><td>0</td><td>0</td><td>0</td><td>0</td><td>0</td><td>0</td><td>0</td></tr>\n",
       "\t<tr><th scope=row>3</th><td>p10006</td><td>0</td><td>65</td><td>0</td><td>0</td><td>1</td><td>28.70</td><td>0</td><td>1</td><td>0</td><td>⋯</td><td>0</td><td>0</td><td>1</td><td>0</td><td>0</td><td>0</td><td>0</td><td>0</td><td>0</td><td>0</td></tr>\n",
       "\t<tr><th scope=row>4</th><td>p10009</td><td>0</td><td>66</td><td>0</td><td>0</td><td>1</td><td>29.92</td><td>0</td><td>0</td><td>0</td><td>⋯</td><td>0</td><td>0</td><td>1</td><td>0</td><td>0</td><td>0</td><td>0</td><td>0</td><td>0</td><td>0</td></tr>\n",
       "\t<tr><th scope=row>5</th><td>p10018</td><td>0</td><td>67</td><td>0</td><td>0</td><td>1</td><td>28.00</td><td>0</td><td>0</td><td>0</td><td>⋯</td><td>0</td><td>0</td><td>1</td><td>0</td><td>0</td><td>0</td><td>0</td><td>0</td><td>0</td><td>0</td></tr>\n",
       "\t<tr><th scope=row>6</th><td>p10019</td><td>0</td><td>69</td><td>0</td><td>1</td><td>1</td><td>34.20</td><td>0</td><td>0</td><td>0</td><td>⋯</td><td>0</td><td>0</td><td>1</td><td>0</td><td>0</td><td>0</td><td>0</td><td>0</td><td>0</td><td>0</td></tr>\n",
       "\t<tr><th scope=row>7</th><td>p10026</td><td>1</td><td>69</td><td>0</td><td>1</td><td>1</td><td>29.97</td><td>0</td><td>0</td><td>0</td><td>⋯</td><td>0</td><td>0</td><td>1</td><td>0</td><td>0</td><td>0</td><td>0</td><td>0</td><td>0</td><td>0</td></tr>\n",
       "\t<tr><th scope=row>8</th><td>p10029</td><td>0</td><td>62</td><td>1</td><td>1</td><td>1</td><td>29.26</td><td>1</td><td>0</td><td>0</td><td>⋯</td><td>0</td><td>0</td><td>1</td><td>0</td><td>0</td><td>0</td><td>0</td><td>0</td><td>0</td><td>0</td></tr>\n",
       "\t<tr><th scope=row>9</th><td>p10034</td><td>1</td><td>72</td><td>0</td><td>0</td><td>1</td><td>27.40</td><td>0</td><td>0</td><td>0</td><td>⋯</td><td>0</td><td>0</td><td>1</td><td>0</td><td>0</td><td>0</td><td>0</td><td>0</td><td>0</td><td>0</td></tr>\n",
       "\t<tr><th scope=row>10</th><td>p10037</td><td>0</td><td>68</td><td>1</td><td>0</td><td>0</td><td>30.30</td><td>0</td><td>0</td><td>0</td><td>⋯</td><td>0</td><td>0</td><td>1</td><td>0</td><td>0</td><td>0</td><td>0</td><td>0</td><td>0</td><td>0</td></tr>\n",
       "\t<tr><th scope=row>11</th><td>p1006 </td><td>1</td><td>68</td><td>0</td><td>1</td><td>0</td><td>30.10</td><td>0</td><td>0</td><td>0</td><td>⋯</td><td>0</td><td>0</td><td>1</td><td>0</td><td>0</td><td>0</td><td>0</td><td>0</td><td>0</td><td>0</td></tr>\n",
       "\t<tr><th scope=row>12</th><td>p10060</td><td>1</td><td>78</td><td>0</td><td>0</td><td>1</td><td>29.60</td><td>0</td><td>0</td><td>0</td><td>⋯</td><td>0</td><td>0</td><td>1</td><td>0</td><td>0</td><td>0</td><td>0</td><td>0</td><td>0</td><td>0</td></tr>\n",
       "\t<tr><th scope=row>13</th><td>p10063</td><td>0</td><td>66</td><td>0</td><td>1</td><td>1</td><td>27.40</td><td>0</td><td>0</td><td>0</td><td>⋯</td><td>0</td><td>0</td><td>1</td><td>0</td><td>0</td><td>0</td><td>0</td><td>0</td><td>0</td><td>0</td></tr>\n",
       "\t<tr><th scope=row>14</th><td>p10066</td><td>1</td><td>78</td><td>0</td><td>1</td><td>1</td><td>33.50</td><td>0</td><td>0</td><td>0</td><td>⋯</td><td>0</td><td>0</td><td>1</td><td>0</td><td>0</td><td>0</td><td>0</td><td>0</td><td>0</td><td>0</td></tr>\n",
       "\t<tr><th scope=row>15</th><td>p10076</td><td>1</td><td>74</td><td>0</td><td>1</td><td>1</td><td>28.30</td><td>0</td><td>0</td><td>0</td><td>⋯</td><td>0</td><td>0</td><td>1</td><td>0</td><td>0</td><td>0</td><td>0</td><td>0</td><td>0</td><td>0</td></tr>\n",
       "\t<tr><th scope=row>16</th><td>p10079</td><td>0</td><td>68</td><td>0</td><td>0</td><td>1</td><td>22.60</td><td>0</td><td>0</td><td>0</td><td>⋯</td><td>0</td><td>0</td><td>1</td><td>0</td><td>0</td><td>0</td><td>0</td><td>0</td><td>0</td><td>0</td></tr>\n",
       "\t<tr><th scope=row>17</th><td>p1008 </td><td>0</td><td>65</td><td>0</td><td>1</td><td>0</td><td>30.10</td><td>0</td><td>0</td><td>0</td><td>⋯</td><td>0</td><td>0</td><td>1</td><td>0</td><td>0</td><td>0</td><td>0</td><td>0</td><td>0</td><td>0</td></tr>\n",
       "\t<tr><th scope=row>18</th><td>p10089</td><td>0</td><td>70</td><td>0</td><td>0</td><td>1</td><td>27.60</td><td>0</td><td>0</td><td>0</td><td>⋯</td><td>0</td><td>0</td><td>1</td><td>0</td><td>0</td><td>0</td><td>0</td><td>0</td><td>0</td><td>0</td></tr>\n",
       "\t<tr><th scope=row>19</th><td>p10090</td><td>0</td><td>70</td><td>0</td><td>0</td><td>1</td><td>27.70</td><td>0</td><td>0</td><td>0</td><td>⋯</td><td>0</td><td>0</td><td>1</td><td>0</td><td>0</td><td>0</td><td>0</td><td>0</td><td>0</td><td>0</td></tr>\n",
       "\t<tr><th scope=row>20</th><td>p10104</td><td>0</td><td>58</td><td>1</td><td>0</td><td>1</td><td>30.36</td><td>0</td><td>0</td><td>0</td><td>⋯</td><td>0</td><td>0</td><td>1</td><td>0</td><td>0</td><td>0</td><td>0</td><td>0</td><td>0</td><td>0</td></tr>\n",
       "\t<tr><th scope=row>21</th><td>p10107</td><td>0</td><td>65</td><td>1</td><td>0</td><td>1</td><td>28.52</td><td>0</td><td>0</td><td>0</td><td>⋯</td><td>0</td><td>0</td><td>1</td><td>0</td><td>0</td><td>0</td><td>0</td><td>0</td><td>0</td><td>0</td></tr>\n",
       "\t<tr><th scope=row>22</th><td>p10126</td><td>1</td><td>79</td><td>0</td><td>0</td><td>1</td><td>28.00</td><td>0</td><td>0</td><td>0</td><td>⋯</td><td>0</td><td>0</td><td>1</td><td>0</td><td>0</td><td>0</td><td>0</td><td>0</td><td>0</td><td>0</td></tr>\n",
       "\t<tr><th scope=row>23</th><td>p1013 </td><td>0</td><td>70</td><td>0</td><td>0</td><td>1</td><td>27.84</td><td>0</td><td>0</td><td>0</td><td>⋯</td><td>0</td><td>0</td><td>1</td><td>0</td><td>0</td><td>0</td><td>0</td><td>0</td><td>0</td><td>0</td></tr>\n",
       "\t<tr><th scope=row>24</th><td>p10130</td><td>0</td><td>67</td><td>1</td><td>0</td><td>1</td><td>27.50</td><td>0</td><td>0</td><td>0</td><td>⋯</td><td>0</td><td>0</td><td>1</td><td>0</td><td>0</td><td>0</td><td>0</td><td>0</td><td>0</td><td>0</td></tr>\n",
       "\t<tr><th scope=row>25</th><td>p10131</td><td>0</td><td>53</td><td>1</td><td>1</td><td>1</td><td>25.80</td><td>0</td><td>0</td><td>0</td><td>⋯</td><td>0</td><td>0</td><td>1</td><td>0</td><td>0</td><td>0</td><td>0</td><td>0</td><td>0</td><td>0</td></tr>\n",
       "\t<tr><th scope=row>26</th><td>p10138</td><td>0</td><td>68</td><td>1</td><td>0</td><td>1</td><td>27.40</td><td>0</td><td>1</td><td>0</td><td>⋯</td><td>0</td><td>0</td><td>1</td><td>0</td><td>0</td><td>0</td><td>0</td><td>0</td><td>0</td><td>0</td></tr>\n",
       "\t<tr><th scope=row>27</th><td>p10140</td><td>0</td><td>53</td><td>1</td><td>0</td><td>1</td><td>28.50</td><td>0</td><td>0</td><td>0</td><td>⋯</td><td>0</td><td>0</td><td>1</td><td>0</td><td>0</td><td>0</td><td>0</td><td>0</td><td>0</td><td>0</td></tr>\n",
       "\t<tr><th scope=row>28</th><td>p10155</td><td>0</td><td>57</td><td>1</td><td>0</td><td>1</td><td>29.66</td><td>0</td><td>1</td><td>0</td><td>⋯</td><td>0</td><td>0</td><td>1</td><td>0</td><td>0</td><td>0</td><td>0</td><td>0</td><td>0</td><td>0</td></tr>\n",
       "\t<tr><th scope=row>29</th><td>p10179</td><td>1</td><td>75</td><td>0</td><td>0</td><td>1</td><td>27.70</td><td>0</td><td>0</td><td>0</td><td>⋯</td><td>0</td><td>0</td><td>1</td><td>0</td><td>0</td><td>0</td><td>0</td><td>0</td><td>0</td><td>0</td></tr>\n",
       "\t<tr><th scope=row>30</th><td>p1018 </td><td>0</td><td>36</td><td>1</td><td>0</td><td>0</td><td>29.03</td><td>0</td><td>0</td><td>0</td><td>⋯</td><td>0</td><td>0</td><td>1</td><td>0</td><td>0</td><td>0</td><td>0</td><td>0</td><td>0</td><td>0</td></tr>\n",
       "\t<tr><th scope=row>⋮</th><td>⋮</td><td>⋮</td><td>⋮</td><td>⋮</td><td>⋮</td><td>⋮</td><td>⋮</td><td>⋮</td><td>⋮</td><td>⋮</td><td>⋱</td><td>⋮</td><td>⋮</td><td>⋮</td><td>⋮</td><td>⋮</td><td>⋮</td><td>⋮</td><td>⋮</td><td>⋮</td><td>⋮</td></tr>\n",
       "\t<tr><th scope=row>5909</th><td>p9850</td><td>0</td><td>61</td><td>1</td><td>0</td><td>1</td><td>28.48</td><td>0</td><td>0</td><td>0</td><td>⋯</td><td>0</td><td>0</td><td>1</td><td>0</td><td>0</td><td>0</td><td>0</td><td>0</td><td>0</td><td>0</td></tr>\n",
       "\t<tr><th scope=row>5910</th><td>p986 </td><td>1</td><td>70</td><td>0</td><td>0</td><td>1</td><td>28.20</td><td>0</td><td>0</td><td>0</td><td>⋯</td><td>0</td><td>0</td><td>1</td><td>0</td><td>0</td><td>0</td><td>0</td><td>0</td><td>0</td><td>0</td></tr>\n",
       "\t<tr><th scope=row>5911</th><td>p9860</td><td>0</td><td>70</td><td>0</td><td>0</td><td>1</td><td>29.86</td><td>0</td><td>0</td><td>0</td><td>⋯</td><td>0</td><td>0</td><td>1</td><td>0</td><td>0</td><td>0</td><td>0</td><td>0</td><td>0</td><td>0</td></tr>\n",
       "\t<tr><th scope=row>5912</th><td>p9871</td><td>1</td><td>71</td><td>0</td><td>0</td><td>1</td><td>27.70</td><td>0</td><td>0</td><td>0</td><td>⋯</td><td>0</td><td>0</td><td>1</td><td>0</td><td>0</td><td>0</td><td>0</td><td>0</td><td>0</td><td>0</td></tr>\n",
       "\t<tr><th scope=row>5913</th><td>p9882</td><td>0</td><td>70</td><td>0</td><td>1</td><td>1</td><td>27.80</td><td>1</td><td>0</td><td>0</td><td>⋯</td><td>0</td><td>0</td><td>1</td><td>0</td><td>0</td><td>0</td><td>0</td><td>0</td><td>0</td><td>0</td></tr>\n",
       "\t<tr><th scope=row>5914</th><td>p9889</td><td>0</td><td>70</td><td>1</td><td>0</td><td>1</td><td>29.33</td><td>0</td><td>0</td><td>0</td><td>⋯</td><td>0</td><td>0</td><td>1</td><td>0</td><td>0</td><td>0</td><td>0</td><td>0</td><td>0</td><td>0</td></tr>\n",
       "\t<tr><th scope=row>5915</th><td>p989 </td><td>1</td><td>57</td><td>1</td><td>1</td><td>1</td><td>26.30</td><td>0</td><td>0</td><td>0</td><td>⋯</td><td>0</td><td>0</td><td>1</td><td>0</td><td>0</td><td>0</td><td>0</td><td>0</td><td>0</td><td>0</td></tr>\n",
       "\t<tr><th scope=row>5916</th><td>p9891</td><td>0</td><td>64</td><td>0</td><td>0</td><td>1</td><td>28.24</td><td>0</td><td>0</td><td>0</td><td>⋯</td><td>0</td><td>0</td><td>1</td><td>0</td><td>0</td><td>0</td><td>0</td><td>0</td><td>0</td><td>0</td></tr>\n",
       "\t<tr><th scope=row>5917</th><td>p9900</td><td>0</td><td>70</td><td>0</td><td>0</td><td>1</td><td>27.40</td><td>0</td><td>0</td><td>0</td><td>⋯</td><td>0</td><td>0</td><td>1</td><td>0</td><td>0</td><td>0</td><td>0</td><td>0</td><td>0</td><td>0</td></tr>\n",
       "\t<tr><th scope=row>5918</th><td>p9905</td><td>0</td><td>66</td><td>1</td><td>1</td><td>1</td><td>27.90</td><td>0</td><td>0</td><td>0</td><td>⋯</td><td>0</td><td>0</td><td>1</td><td>0</td><td>0</td><td>0</td><td>0</td><td>0</td><td>0</td><td>0</td></tr>\n",
       "\t<tr><th scope=row>5919</th><td>p9906</td><td>0</td><td>67</td><td>0</td><td>1</td><td>1</td><td>28.05</td><td>0</td><td>0</td><td>0</td><td>⋯</td><td>0</td><td>0</td><td>1</td><td>0</td><td>0</td><td>0</td><td>0</td><td>0</td><td>0</td><td>0</td></tr>\n",
       "\t<tr><th scope=row>5920</th><td>p9912</td><td>0</td><td>69</td><td>1</td><td>0</td><td>1</td><td>27.80</td><td>0</td><td>0</td><td>0</td><td>⋯</td><td>0</td><td>0</td><td>1</td><td>0</td><td>0</td><td>0</td><td>0</td><td>0</td><td>0</td><td>0</td></tr>\n",
       "\t<tr><th scope=row>5921</th><td>p993 </td><td>1</td><td>80</td><td>0</td><td>0</td><td>1</td><td>32.20</td><td>0</td><td>0</td><td>0</td><td>⋯</td><td>0</td><td>0</td><td>1</td><td>0</td><td>0</td><td>0</td><td>0</td><td>0</td><td>0</td><td>0</td></tr>\n",
       "\t<tr><th scope=row>5922</th><td>p9934</td><td>1</td><td>69</td><td>0</td><td>0</td><td>0</td><td>27.90</td><td>0</td><td>0</td><td>0</td><td>⋯</td><td>0</td><td>0</td><td>1</td><td>0</td><td>0</td><td>0</td><td>0</td><td>0</td><td>0</td><td>0</td></tr>\n",
       "\t<tr><th scope=row>5923</th><td>p9935</td><td>0</td><td>70</td><td>0</td><td>0</td><td>1</td><td>27.50</td><td>0</td><td>0</td><td>0</td><td>⋯</td><td>0</td><td>0</td><td>1</td><td>0</td><td>0</td><td>0</td><td>0</td><td>0</td><td>0</td><td>0</td></tr>\n",
       "\t<tr><th scope=row>5924</th><td>p9936</td><td>1</td><td>81</td><td>0</td><td>0</td><td>1</td><td>27.50</td><td>0</td><td>0</td><td>0</td><td>⋯</td><td>0</td><td>0</td><td>1</td><td>0</td><td>0</td><td>0</td><td>0</td><td>0</td><td>0</td><td>0</td></tr>\n",
       "\t<tr><th scope=row>5925</th><td>p9938</td><td>1</td><td>58</td><td>0</td><td>1</td><td>1</td><td>27.30</td><td>0</td><td>0</td><td>0</td><td>⋯</td><td>0</td><td>0</td><td>1</td><td>0</td><td>0</td><td>0</td><td>0</td><td>0</td><td>0</td><td>0</td></tr>\n",
       "\t<tr><th scope=row>5926</th><td>p9943</td><td>0</td><td>54</td><td>0</td><td>1</td><td>1</td><td>29.15</td><td>0</td><td>0</td><td>0</td><td>⋯</td><td>0</td><td>0</td><td>1</td><td>0</td><td>0</td><td>0</td><td>0</td><td>0</td><td>0</td><td>0</td></tr>\n",
       "\t<tr><th scope=row>5927</th><td>p9944</td><td>0</td><td>67</td><td>0</td><td>0</td><td>1</td><td>27.70</td><td>0</td><td>0</td><td>0</td><td>⋯</td><td>0</td><td>0</td><td>1</td><td>0</td><td>0</td><td>0</td><td>0</td><td>0</td><td>0</td><td>0</td></tr>\n",
       "\t<tr><th scope=row>5928</th><td>p9948</td><td>1</td><td>73</td><td>0</td><td>0</td><td>0</td><td>28.10</td><td>0</td><td>0</td><td>0</td><td>⋯</td><td>0</td><td>0</td><td>1</td><td>0</td><td>0</td><td>0</td><td>0</td><td>0</td><td>0</td><td>0</td></tr>\n",
       "\t<tr><th scope=row>5929</th><td>p9952</td><td>0</td><td>65</td><td>0</td><td>1</td><td>1</td><td>29.37</td><td>0</td><td>0</td><td>0</td><td>⋯</td><td>1</td><td>0</td><td>1</td><td>0</td><td>0</td><td>0</td><td>0</td><td>0</td><td>0</td><td>0</td></tr>\n",
       "\t<tr><th scope=row>5930</th><td>p996 </td><td>0</td><td>64</td><td>0</td><td>1</td><td>0</td><td>25.50</td><td>1</td><td>0</td><td>0</td><td>⋯</td><td>0</td><td>0</td><td>1</td><td>0</td><td>0</td><td>0</td><td>0</td><td>0</td><td>0</td><td>0</td></tr>\n",
       "\t<tr><th scope=row>5931</th><td>p997 </td><td>0</td><td>59</td><td>0</td><td>0</td><td>1</td><td>27.80</td><td>0</td><td>0</td><td>0</td><td>⋯</td><td>0</td><td>0</td><td>1</td><td>0</td><td>0</td><td>0</td><td>0</td><td>0</td><td>0</td><td>0</td></tr>\n",
       "\t<tr><th scope=row>5932</th><td>p9970</td><td>0</td><td>70</td><td>0</td><td>1</td><td>1</td><td>28.95</td><td>1</td><td>0</td><td>0</td><td>⋯</td><td>0</td><td>0</td><td>1</td><td>0</td><td>0</td><td>0</td><td>0</td><td>0</td><td>0</td><td>0</td></tr>\n",
       "\t<tr><th scope=row>5933</th><td>p9972</td><td>0</td><td>53</td><td>1</td><td>0</td><td>1</td><td>29.66</td><td>0</td><td>0</td><td>0</td><td>⋯</td><td>0</td><td>0</td><td>1</td><td>0</td><td>0</td><td>0</td><td>0</td><td>0</td><td>0</td><td>0</td></tr>\n",
       "\t<tr><th scope=row>5934</th><td>p9976</td><td>0</td><td>70</td><td>0</td><td>1</td><td>1</td><td>30.06</td><td>0</td><td>0</td><td>0</td><td>⋯</td><td>0</td><td>0</td><td>1</td><td>0</td><td>0</td><td>0</td><td>0</td><td>0</td><td>0</td><td>0</td></tr>\n",
       "\t<tr><th scope=row>5935</th><td>p9982</td><td>0</td><td>70</td><td>0</td><td>0</td><td>1</td><td>31.07</td><td>0</td><td>0</td><td>0</td><td>⋯</td><td>0</td><td>0</td><td>1</td><td>0</td><td>0</td><td>0</td><td>0</td><td>0</td><td>0</td><td>0</td></tr>\n",
       "\t<tr><th scope=row>5936</th><td>p9992</td><td>1</td><td>75</td><td>0</td><td>0</td><td>1</td><td>29.60</td><td>0</td><td>0</td><td>0</td><td>⋯</td><td>0</td><td>0</td><td>1</td><td>0</td><td>0</td><td>0</td><td>0</td><td>0</td><td>0</td><td>0</td></tr>\n",
       "\t<tr><th scope=row>5937</th><td>p9996</td><td>0</td><td>59</td><td>0</td><td>0</td><td>1</td><td>27.30</td><td>0</td><td>0</td><td>0</td><td>⋯</td><td>0</td><td>0</td><td>1</td><td>0</td><td>0</td><td>0</td><td>0</td><td>0</td><td>0</td><td>0</td></tr>\n",
       "\t<tr><th scope=row>5938</th><td>p9998</td><td>0</td><td>46</td><td>1</td><td>1</td><td>1</td><td>27.60</td><td>0</td><td>0</td><td>0</td><td>⋯</td><td>0</td><td>0</td><td>1</td><td>0</td><td>0</td><td>0</td><td>0</td><td>0</td><td>0</td><td>0</td></tr>\n",
       "</tbody>\n",
       "</table>\n"
      ],
      "text/latex": [
       "A data.frame: 5936 × 26\n",
       "\\begin{tabular}{r|lllllllllllllllllllll}\n",
       "  & ptnum & label & age & gender\\_female & smoking\\_status & alcohol\\_assessment & bmi & chronic\\_obstructive\\_bronchitis & pneumonia & asthma & ⋯ & hawaiian & native & no\\_cancer & stage4 & stage1a & stage2a & stage3a & stage1b & stage2b & stage3b\\\\\n",
       "  & <chr> & <dbl> & <dbl> & <dbl> & <dbl> & <int> & <dbl> & <int> & <int> & <int> & ⋯ & <dbl> & <dbl> & <dbl> & <dbl> & <dbl> & <dbl> & <dbl> & <dbl> & <dbl> & <dbl>\\\\\n",
       "\\hline\n",
       "\t1 & p10000 & 1 & 72 & 0 & 1 & 1 & 28.10 & 0 & 0 & 0 & ⋯ & 0 & 0 & 1 & 0 & 0 & 0 & 0 & 0 & 0 & 0\\\\\n",
       "\t2 & p10005 & 0 & 70 & 0 & 0 & 1 & 27.90 & 0 & 0 & 0 & ⋯ & 0 & 0 & 1 & 0 & 0 & 0 & 0 & 0 & 0 & 0\\\\\n",
       "\t3 & p10006 & 0 & 65 & 0 & 0 & 1 & 28.70 & 0 & 1 & 0 & ⋯ & 0 & 0 & 1 & 0 & 0 & 0 & 0 & 0 & 0 & 0\\\\\n",
       "\t4 & p10009 & 0 & 66 & 0 & 0 & 1 & 29.92 & 0 & 0 & 0 & ⋯ & 0 & 0 & 1 & 0 & 0 & 0 & 0 & 0 & 0 & 0\\\\\n",
       "\t5 & p10018 & 0 & 67 & 0 & 0 & 1 & 28.00 & 0 & 0 & 0 & ⋯ & 0 & 0 & 1 & 0 & 0 & 0 & 0 & 0 & 0 & 0\\\\\n",
       "\t6 & p10019 & 0 & 69 & 0 & 1 & 1 & 34.20 & 0 & 0 & 0 & ⋯ & 0 & 0 & 1 & 0 & 0 & 0 & 0 & 0 & 0 & 0\\\\\n",
       "\t7 & p10026 & 1 & 69 & 0 & 1 & 1 & 29.97 & 0 & 0 & 0 & ⋯ & 0 & 0 & 1 & 0 & 0 & 0 & 0 & 0 & 0 & 0\\\\\n",
       "\t8 & p10029 & 0 & 62 & 1 & 1 & 1 & 29.26 & 1 & 0 & 0 & ⋯ & 0 & 0 & 1 & 0 & 0 & 0 & 0 & 0 & 0 & 0\\\\\n",
       "\t9 & p10034 & 1 & 72 & 0 & 0 & 1 & 27.40 & 0 & 0 & 0 & ⋯ & 0 & 0 & 1 & 0 & 0 & 0 & 0 & 0 & 0 & 0\\\\\n",
       "\t10 & p10037 & 0 & 68 & 1 & 0 & 0 & 30.30 & 0 & 0 & 0 & ⋯ & 0 & 0 & 1 & 0 & 0 & 0 & 0 & 0 & 0 & 0\\\\\n",
       "\t11 & p1006  & 1 & 68 & 0 & 1 & 0 & 30.10 & 0 & 0 & 0 & ⋯ & 0 & 0 & 1 & 0 & 0 & 0 & 0 & 0 & 0 & 0\\\\\n",
       "\t12 & p10060 & 1 & 78 & 0 & 0 & 1 & 29.60 & 0 & 0 & 0 & ⋯ & 0 & 0 & 1 & 0 & 0 & 0 & 0 & 0 & 0 & 0\\\\\n",
       "\t13 & p10063 & 0 & 66 & 0 & 1 & 1 & 27.40 & 0 & 0 & 0 & ⋯ & 0 & 0 & 1 & 0 & 0 & 0 & 0 & 0 & 0 & 0\\\\\n",
       "\t14 & p10066 & 1 & 78 & 0 & 1 & 1 & 33.50 & 0 & 0 & 0 & ⋯ & 0 & 0 & 1 & 0 & 0 & 0 & 0 & 0 & 0 & 0\\\\\n",
       "\t15 & p10076 & 1 & 74 & 0 & 1 & 1 & 28.30 & 0 & 0 & 0 & ⋯ & 0 & 0 & 1 & 0 & 0 & 0 & 0 & 0 & 0 & 0\\\\\n",
       "\t16 & p10079 & 0 & 68 & 0 & 0 & 1 & 22.60 & 0 & 0 & 0 & ⋯ & 0 & 0 & 1 & 0 & 0 & 0 & 0 & 0 & 0 & 0\\\\\n",
       "\t17 & p1008  & 0 & 65 & 0 & 1 & 0 & 30.10 & 0 & 0 & 0 & ⋯ & 0 & 0 & 1 & 0 & 0 & 0 & 0 & 0 & 0 & 0\\\\\n",
       "\t18 & p10089 & 0 & 70 & 0 & 0 & 1 & 27.60 & 0 & 0 & 0 & ⋯ & 0 & 0 & 1 & 0 & 0 & 0 & 0 & 0 & 0 & 0\\\\\n",
       "\t19 & p10090 & 0 & 70 & 0 & 0 & 1 & 27.70 & 0 & 0 & 0 & ⋯ & 0 & 0 & 1 & 0 & 0 & 0 & 0 & 0 & 0 & 0\\\\\n",
       "\t20 & p10104 & 0 & 58 & 1 & 0 & 1 & 30.36 & 0 & 0 & 0 & ⋯ & 0 & 0 & 1 & 0 & 0 & 0 & 0 & 0 & 0 & 0\\\\\n",
       "\t21 & p10107 & 0 & 65 & 1 & 0 & 1 & 28.52 & 0 & 0 & 0 & ⋯ & 0 & 0 & 1 & 0 & 0 & 0 & 0 & 0 & 0 & 0\\\\\n",
       "\t22 & p10126 & 1 & 79 & 0 & 0 & 1 & 28.00 & 0 & 0 & 0 & ⋯ & 0 & 0 & 1 & 0 & 0 & 0 & 0 & 0 & 0 & 0\\\\\n",
       "\t23 & p1013  & 0 & 70 & 0 & 0 & 1 & 27.84 & 0 & 0 & 0 & ⋯ & 0 & 0 & 1 & 0 & 0 & 0 & 0 & 0 & 0 & 0\\\\\n",
       "\t24 & p10130 & 0 & 67 & 1 & 0 & 1 & 27.50 & 0 & 0 & 0 & ⋯ & 0 & 0 & 1 & 0 & 0 & 0 & 0 & 0 & 0 & 0\\\\\n",
       "\t25 & p10131 & 0 & 53 & 1 & 1 & 1 & 25.80 & 0 & 0 & 0 & ⋯ & 0 & 0 & 1 & 0 & 0 & 0 & 0 & 0 & 0 & 0\\\\\n",
       "\t26 & p10138 & 0 & 68 & 1 & 0 & 1 & 27.40 & 0 & 1 & 0 & ⋯ & 0 & 0 & 1 & 0 & 0 & 0 & 0 & 0 & 0 & 0\\\\\n",
       "\t27 & p10140 & 0 & 53 & 1 & 0 & 1 & 28.50 & 0 & 0 & 0 & ⋯ & 0 & 0 & 1 & 0 & 0 & 0 & 0 & 0 & 0 & 0\\\\\n",
       "\t28 & p10155 & 0 & 57 & 1 & 0 & 1 & 29.66 & 0 & 1 & 0 & ⋯ & 0 & 0 & 1 & 0 & 0 & 0 & 0 & 0 & 0 & 0\\\\\n",
       "\t29 & p10179 & 1 & 75 & 0 & 0 & 1 & 27.70 & 0 & 0 & 0 & ⋯ & 0 & 0 & 1 & 0 & 0 & 0 & 0 & 0 & 0 & 0\\\\\n",
       "\t30 & p1018  & 0 & 36 & 1 & 0 & 0 & 29.03 & 0 & 0 & 0 & ⋯ & 0 & 0 & 1 & 0 & 0 & 0 & 0 & 0 & 0 & 0\\\\\n",
       "\t⋮ & ⋮ & ⋮ & ⋮ & ⋮ & ⋮ & ⋮ & ⋮ & ⋮ & ⋮ & ⋮ & ⋱ & ⋮ & ⋮ & ⋮ & ⋮ & ⋮ & ⋮ & ⋮ & ⋮ & ⋮ & ⋮\\\\\n",
       "\t5909 & p9850 & 0 & 61 & 1 & 0 & 1 & 28.48 & 0 & 0 & 0 & ⋯ & 0 & 0 & 1 & 0 & 0 & 0 & 0 & 0 & 0 & 0\\\\\n",
       "\t5910 & p986  & 1 & 70 & 0 & 0 & 1 & 28.20 & 0 & 0 & 0 & ⋯ & 0 & 0 & 1 & 0 & 0 & 0 & 0 & 0 & 0 & 0\\\\\n",
       "\t5911 & p9860 & 0 & 70 & 0 & 0 & 1 & 29.86 & 0 & 0 & 0 & ⋯ & 0 & 0 & 1 & 0 & 0 & 0 & 0 & 0 & 0 & 0\\\\\n",
       "\t5912 & p9871 & 1 & 71 & 0 & 0 & 1 & 27.70 & 0 & 0 & 0 & ⋯ & 0 & 0 & 1 & 0 & 0 & 0 & 0 & 0 & 0 & 0\\\\\n",
       "\t5913 & p9882 & 0 & 70 & 0 & 1 & 1 & 27.80 & 1 & 0 & 0 & ⋯ & 0 & 0 & 1 & 0 & 0 & 0 & 0 & 0 & 0 & 0\\\\\n",
       "\t5914 & p9889 & 0 & 70 & 1 & 0 & 1 & 29.33 & 0 & 0 & 0 & ⋯ & 0 & 0 & 1 & 0 & 0 & 0 & 0 & 0 & 0 & 0\\\\\n",
       "\t5915 & p989  & 1 & 57 & 1 & 1 & 1 & 26.30 & 0 & 0 & 0 & ⋯ & 0 & 0 & 1 & 0 & 0 & 0 & 0 & 0 & 0 & 0\\\\\n",
       "\t5916 & p9891 & 0 & 64 & 0 & 0 & 1 & 28.24 & 0 & 0 & 0 & ⋯ & 0 & 0 & 1 & 0 & 0 & 0 & 0 & 0 & 0 & 0\\\\\n",
       "\t5917 & p9900 & 0 & 70 & 0 & 0 & 1 & 27.40 & 0 & 0 & 0 & ⋯ & 0 & 0 & 1 & 0 & 0 & 0 & 0 & 0 & 0 & 0\\\\\n",
       "\t5918 & p9905 & 0 & 66 & 1 & 1 & 1 & 27.90 & 0 & 0 & 0 & ⋯ & 0 & 0 & 1 & 0 & 0 & 0 & 0 & 0 & 0 & 0\\\\\n",
       "\t5919 & p9906 & 0 & 67 & 0 & 1 & 1 & 28.05 & 0 & 0 & 0 & ⋯ & 0 & 0 & 1 & 0 & 0 & 0 & 0 & 0 & 0 & 0\\\\\n",
       "\t5920 & p9912 & 0 & 69 & 1 & 0 & 1 & 27.80 & 0 & 0 & 0 & ⋯ & 0 & 0 & 1 & 0 & 0 & 0 & 0 & 0 & 0 & 0\\\\\n",
       "\t5921 & p993  & 1 & 80 & 0 & 0 & 1 & 32.20 & 0 & 0 & 0 & ⋯ & 0 & 0 & 1 & 0 & 0 & 0 & 0 & 0 & 0 & 0\\\\\n",
       "\t5922 & p9934 & 1 & 69 & 0 & 0 & 0 & 27.90 & 0 & 0 & 0 & ⋯ & 0 & 0 & 1 & 0 & 0 & 0 & 0 & 0 & 0 & 0\\\\\n",
       "\t5923 & p9935 & 0 & 70 & 0 & 0 & 1 & 27.50 & 0 & 0 & 0 & ⋯ & 0 & 0 & 1 & 0 & 0 & 0 & 0 & 0 & 0 & 0\\\\\n",
       "\t5924 & p9936 & 1 & 81 & 0 & 0 & 1 & 27.50 & 0 & 0 & 0 & ⋯ & 0 & 0 & 1 & 0 & 0 & 0 & 0 & 0 & 0 & 0\\\\\n",
       "\t5925 & p9938 & 1 & 58 & 0 & 1 & 1 & 27.30 & 0 & 0 & 0 & ⋯ & 0 & 0 & 1 & 0 & 0 & 0 & 0 & 0 & 0 & 0\\\\\n",
       "\t5926 & p9943 & 0 & 54 & 0 & 1 & 1 & 29.15 & 0 & 0 & 0 & ⋯ & 0 & 0 & 1 & 0 & 0 & 0 & 0 & 0 & 0 & 0\\\\\n",
       "\t5927 & p9944 & 0 & 67 & 0 & 0 & 1 & 27.70 & 0 & 0 & 0 & ⋯ & 0 & 0 & 1 & 0 & 0 & 0 & 0 & 0 & 0 & 0\\\\\n",
       "\t5928 & p9948 & 1 & 73 & 0 & 0 & 0 & 28.10 & 0 & 0 & 0 & ⋯ & 0 & 0 & 1 & 0 & 0 & 0 & 0 & 0 & 0 & 0\\\\\n",
       "\t5929 & p9952 & 0 & 65 & 0 & 1 & 1 & 29.37 & 0 & 0 & 0 & ⋯ & 1 & 0 & 1 & 0 & 0 & 0 & 0 & 0 & 0 & 0\\\\\n",
       "\t5930 & p996  & 0 & 64 & 0 & 1 & 0 & 25.50 & 1 & 0 & 0 & ⋯ & 0 & 0 & 1 & 0 & 0 & 0 & 0 & 0 & 0 & 0\\\\\n",
       "\t5931 & p997  & 0 & 59 & 0 & 0 & 1 & 27.80 & 0 & 0 & 0 & ⋯ & 0 & 0 & 1 & 0 & 0 & 0 & 0 & 0 & 0 & 0\\\\\n",
       "\t5932 & p9970 & 0 & 70 & 0 & 1 & 1 & 28.95 & 1 & 0 & 0 & ⋯ & 0 & 0 & 1 & 0 & 0 & 0 & 0 & 0 & 0 & 0\\\\\n",
       "\t5933 & p9972 & 0 & 53 & 1 & 0 & 1 & 29.66 & 0 & 0 & 0 & ⋯ & 0 & 0 & 1 & 0 & 0 & 0 & 0 & 0 & 0 & 0\\\\\n",
       "\t5934 & p9976 & 0 & 70 & 0 & 1 & 1 & 30.06 & 0 & 0 & 0 & ⋯ & 0 & 0 & 1 & 0 & 0 & 0 & 0 & 0 & 0 & 0\\\\\n",
       "\t5935 & p9982 & 0 & 70 & 0 & 0 & 1 & 31.07 & 0 & 0 & 0 & ⋯ & 0 & 0 & 1 & 0 & 0 & 0 & 0 & 0 & 0 & 0\\\\\n",
       "\t5936 & p9992 & 1 & 75 & 0 & 0 & 1 & 29.60 & 0 & 0 & 0 & ⋯ & 0 & 0 & 1 & 0 & 0 & 0 & 0 & 0 & 0 & 0\\\\\n",
       "\t5937 & p9996 & 0 & 59 & 0 & 0 & 1 & 27.30 & 0 & 0 & 0 & ⋯ & 0 & 0 & 1 & 0 & 0 & 0 & 0 & 0 & 0 & 0\\\\\n",
       "\t5938 & p9998 & 0 & 46 & 1 & 1 & 1 & 27.60 & 0 & 0 & 0 & ⋯ & 0 & 0 & 1 & 0 & 0 & 0 & 0 & 0 & 0 & 0\\\\\n",
       "\\end{tabular}\n"
      ],
      "text/markdown": [
       "\n",
       "A data.frame: 5936 × 26\n",
       "\n",
       "| <!--/--> | ptnum &lt;chr&gt; | label &lt;dbl&gt; | age &lt;dbl&gt; | gender_female &lt;dbl&gt; | smoking_status &lt;dbl&gt; | alcohol_assessment &lt;int&gt; | bmi &lt;dbl&gt; | chronic_obstructive_bronchitis &lt;int&gt; | pneumonia &lt;int&gt; | asthma &lt;int&gt; | ⋯ ⋯ | hawaiian &lt;dbl&gt; | native &lt;dbl&gt; | no_cancer &lt;dbl&gt; | stage4 &lt;dbl&gt; | stage1a &lt;dbl&gt; | stage2a &lt;dbl&gt; | stage3a &lt;dbl&gt; | stage1b &lt;dbl&gt; | stage2b &lt;dbl&gt; | stage3b &lt;dbl&gt; |\n",
       "|---|---|---|---|---|---|---|---|---|---|---|---|---|---|---|---|---|---|---|---|---|---|\n",
       "| 1 | p10000 | 1 | 72 | 0 | 1 | 1 | 28.10 | 0 | 0 | 0 | ⋯ | 0 | 0 | 1 | 0 | 0 | 0 | 0 | 0 | 0 | 0 |\n",
       "| 2 | p10005 | 0 | 70 | 0 | 0 | 1 | 27.90 | 0 | 0 | 0 | ⋯ | 0 | 0 | 1 | 0 | 0 | 0 | 0 | 0 | 0 | 0 |\n",
       "| 3 | p10006 | 0 | 65 | 0 | 0 | 1 | 28.70 | 0 | 1 | 0 | ⋯ | 0 | 0 | 1 | 0 | 0 | 0 | 0 | 0 | 0 | 0 |\n",
       "| 4 | p10009 | 0 | 66 | 0 | 0 | 1 | 29.92 | 0 | 0 | 0 | ⋯ | 0 | 0 | 1 | 0 | 0 | 0 | 0 | 0 | 0 | 0 |\n",
       "| 5 | p10018 | 0 | 67 | 0 | 0 | 1 | 28.00 | 0 | 0 | 0 | ⋯ | 0 | 0 | 1 | 0 | 0 | 0 | 0 | 0 | 0 | 0 |\n",
       "| 6 | p10019 | 0 | 69 | 0 | 1 | 1 | 34.20 | 0 | 0 | 0 | ⋯ | 0 | 0 | 1 | 0 | 0 | 0 | 0 | 0 | 0 | 0 |\n",
       "| 7 | p10026 | 1 | 69 | 0 | 1 | 1 | 29.97 | 0 | 0 | 0 | ⋯ | 0 | 0 | 1 | 0 | 0 | 0 | 0 | 0 | 0 | 0 |\n",
       "| 8 | p10029 | 0 | 62 | 1 | 1 | 1 | 29.26 | 1 | 0 | 0 | ⋯ | 0 | 0 | 1 | 0 | 0 | 0 | 0 | 0 | 0 | 0 |\n",
       "| 9 | p10034 | 1 | 72 | 0 | 0 | 1 | 27.40 | 0 | 0 | 0 | ⋯ | 0 | 0 | 1 | 0 | 0 | 0 | 0 | 0 | 0 | 0 |\n",
       "| 10 | p10037 | 0 | 68 | 1 | 0 | 0 | 30.30 | 0 | 0 | 0 | ⋯ | 0 | 0 | 1 | 0 | 0 | 0 | 0 | 0 | 0 | 0 |\n",
       "| 11 | p1006  | 1 | 68 | 0 | 1 | 0 | 30.10 | 0 | 0 | 0 | ⋯ | 0 | 0 | 1 | 0 | 0 | 0 | 0 | 0 | 0 | 0 |\n",
       "| 12 | p10060 | 1 | 78 | 0 | 0 | 1 | 29.60 | 0 | 0 | 0 | ⋯ | 0 | 0 | 1 | 0 | 0 | 0 | 0 | 0 | 0 | 0 |\n",
       "| 13 | p10063 | 0 | 66 | 0 | 1 | 1 | 27.40 | 0 | 0 | 0 | ⋯ | 0 | 0 | 1 | 0 | 0 | 0 | 0 | 0 | 0 | 0 |\n",
       "| 14 | p10066 | 1 | 78 | 0 | 1 | 1 | 33.50 | 0 | 0 | 0 | ⋯ | 0 | 0 | 1 | 0 | 0 | 0 | 0 | 0 | 0 | 0 |\n",
       "| 15 | p10076 | 1 | 74 | 0 | 1 | 1 | 28.30 | 0 | 0 | 0 | ⋯ | 0 | 0 | 1 | 0 | 0 | 0 | 0 | 0 | 0 | 0 |\n",
       "| 16 | p10079 | 0 | 68 | 0 | 0 | 1 | 22.60 | 0 | 0 | 0 | ⋯ | 0 | 0 | 1 | 0 | 0 | 0 | 0 | 0 | 0 | 0 |\n",
       "| 17 | p1008  | 0 | 65 | 0 | 1 | 0 | 30.10 | 0 | 0 | 0 | ⋯ | 0 | 0 | 1 | 0 | 0 | 0 | 0 | 0 | 0 | 0 |\n",
       "| 18 | p10089 | 0 | 70 | 0 | 0 | 1 | 27.60 | 0 | 0 | 0 | ⋯ | 0 | 0 | 1 | 0 | 0 | 0 | 0 | 0 | 0 | 0 |\n",
       "| 19 | p10090 | 0 | 70 | 0 | 0 | 1 | 27.70 | 0 | 0 | 0 | ⋯ | 0 | 0 | 1 | 0 | 0 | 0 | 0 | 0 | 0 | 0 |\n",
       "| 20 | p10104 | 0 | 58 | 1 | 0 | 1 | 30.36 | 0 | 0 | 0 | ⋯ | 0 | 0 | 1 | 0 | 0 | 0 | 0 | 0 | 0 | 0 |\n",
       "| 21 | p10107 | 0 | 65 | 1 | 0 | 1 | 28.52 | 0 | 0 | 0 | ⋯ | 0 | 0 | 1 | 0 | 0 | 0 | 0 | 0 | 0 | 0 |\n",
       "| 22 | p10126 | 1 | 79 | 0 | 0 | 1 | 28.00 | 0 | 0 | 0 | ⋯ | 0 | 0 | 1 | 0 | 0 | 0 | 0 | 0 | 0 | 0 |\n",
       "| 23 | p1013  | 0 | 70 | 0 | 0 | 1 | 27.84 | 0 | 0 | 0 | ⋯ | 0 | 0 | 1 | 0 | 0 | 0 | 0 | 0 | 0 | 0 |\n",
       "| 24 | p10130 | 0 | 67 | 1 | 0 | 1 | 27.50 | 0 | 0 | 0 | ⋯ | 0 | 0 | 1 | 0 | 0 | 0 | 0 | 0 | 0 | 0 |\n",
       "| 25 | p10131 | 0 | 53 | 1 | 1 | 1 | 25.80 | 0 | 0 | 0 | ⋯ | 0 | 0 | 1 | 0 | 0 | 0 | 0 | 0 | 0 | 0 |\n",
       "| 26 | p10138 | 0 | 68 | 1 | 0 | 1 | 27.40 | 0 | 1 | 0 | ⋯ | 0 | 0 | 1 | 0 | 0 | 0 | 0 | 0 | 0 | 0 |\n",
       "| 27 | p10140 | 0 | 53 | 1 | 0 | 1 | 28.50 | 0 | 0 | 0 | ⋯ | 0 | 0 | 1 | 0 | 0 | 0 | 0 | 0 | 0 | 0 |\n",
       "| 28 | p10155 | 0 | 57 | 1 | 0 | 1 | 29.66 | 0 | 1 | 0 | ⋯ | 0 | 0 | 1 | 0 | 0 | 0 | 0 | 0 | 0 | 0 |\n",
       "| 29 | p10179 | 1 | 75 | 0 | 0 | 1 | 27.70 | 0 | 0 | 0 | ⋯ | 0 | 0 | 1 | 0 | 0 | 0 | 0 | 0 | 0 | 0 |\n",
       "| 30 | p1018  | 0 | 36 | 1 | 0 | 0 | 29.03 | 0 | 0 | 0 | ⋯ | 0 | 0 | 1 | 0 | 0 | 0 | 0 | 0 | 0 | 0 |\n",
       "| ⋮ | ⋮ | ⋮ | ⋮ | ⋮ | ⋮ | ⋮ | ⋮ | ⋮ | ⋮ | ⋮ | ⋱ | ⋮ | ⋮ | ⋮ | ⋮ | ⋮ | ⋮ | ⋮ | ⋮ | ⋮ | ⋮ |\n",
       "| 5909 | p9850 | 0 | 61 | 1 | 0 | 1 | 28.48 | 0 | 0 | 0 | ⋯ | 0 | 0 | 1 | 0 | 0 | 0 | 0 | 0 | 0 | 0 |\n",
       "| 5910 | p986  | 1 | 70 | 0 | 0 | 1 | 28.20 | 0 | 0 | 0 | ⋯ | 0 | 0 | 1 | 0 | 0 | 0 | 0 | 0 | 0 | 0 |\n",
       "| 5911 | p9860 | 0 | 70 | 0 | 0 | 1 | 29.86 | 0 | 0 | 0 | ⋯ | 0 | 0 | 1 | 0 | 0 | 0 | 0 | 0 | 0 | 0 |\n",
       "| 5912 | p9871 | 1 | 71 | 0 | 0 | 1 | 27.70 | 0 | 0 | 0 | ⋯ | 0 | 0 | 1 | 0 | 0 | 0 | 0 | 0 | 0 | 0 |\n",
       "| 5913 | p9882 | 0 | 70 | 0 | 1 | 1 | 27.80 | 1 | 0 | 0 | ⋯ | 0 | 0 | 1 | 0 | 0 | 0 | 0 | 0 | 0 | 0 |\n",
       "| 5914 | p9889 | 0 | 70 | 1 | 0 | 1 | 29.33 | 0 | 0 | 0 | ⋯ | 0 | 0 | 1 | 0 | 0 | 0 | 0 | 0 | 0 | 0 |\n",
       "| 5915 | p989  | 1 | 57 | 1 | 1 | 1 | 26.30 | 0 | 0 | 0 | ⋯ | 0 | 0 | 1 | 0 | 0 | 0 | 0 | 0 | 0 | 0 |\n",
       "| 5916 | p9891 | 0 | 64 | 0 | 0 | 1 | 28.24 | 0 | 0 | 0 | ⋯ | 0 | 0 | 1 | 0 | 0 | 0 | 0 | 0 | 0 | 0 |\n",
       "| 5917 | p9900 | 0 | 70 | 0 | 0 | 1 | 27.40 | 0 | 0 | 0 | ⋯ | 0 | 0 | 1 | 0 | 0 | 0 | 0 | 0 | 0 | 0 |\n",
       "| 5918 | p9905 | 0 | 66 | 1 | 1 | 1 | 27.90 | 0 | 0 | 0 | ⋯ | 0 | 0 | 1 | 0 | 0 | 0 | 0 | 0 | 0 | 0 |\n",
       "| 5919 | p9906 | 0 | 67 | 0 | 1 | 1 | 28.05 | 0 | 0 | 0 | ⋯ | 0 | 0 | 1 | 0 | 0 | 0 | 0 | 0 | 0 | 0 |\n",
       "| 5920 | p9912 | 0 | 69 | 1 | 0 | 1 | 27.80 | 0 | 0 | 0 | ⋯ | 0 | 0 | 1 | 0 | 0 | 0 | 0 | 0 | 0 | 0 |\n",
       "| 5921 | p993  | 1 | 80 | 0 | 0 | 1 | 32.20 | 0 | 0 | 0 | ⋯ | 0 | 0 | 1 | 0 | 0 | 0 | 0 | 0 | 0 | 0 |\n",
       "| 5922 | p9934 | 1 | 69 | 0 | 0 | 0 | 27.90 | 0 | 0 | 0 | ⋯ | 0 | 0 | 1 | 0 | 0 | 0 | 0 | 0 | 0 | 0 |\n",
       "| 5923 | p9935 | 0 | 70 | 0 | 0 | 1 | 27.50 | 0 | 0 | 0 | ⋯ | 0 | 0 | 1 | 0 | 0 | 0 | 0 | 0 | 0 | 0 |\n",
       "| 5924 | p9936 | 1 | 81 | 0 | 0 | 1 | 27.50 | 0 | 0 | 0 | ⋯ | 0 | 0 | 1 | 0 | 0 | 0 | 0 | 0 | 0 | 0 |\n",
       "| 5925 | p9938 | 1 | 58 | 0 | 1 | 1 | 27.30 | 0 | 0 | 0 | ⋯ | 0 | 0 | 1 | 0 | 0 | 0 | 0 | 0 | 0 | 0 |\n",
       "| 5926 | p9943 | 0 | 54 | 0 | 1 | 1 | 29.15 | 0 | 0 | 0 | ⋯ | 0 | 0 | 1 | 0 | 0 | 0 | 0 | 0 | 0 | 0 |\n",
       "| 5927 | p9944 | 0 | 67 | 0 | 0 | 1 | 27.70 | 0 | 0 | 0 | ⋯ | 0 | 0 | 1 | 0 | 0 | 0 | 0 | 0 | 0 | 0 |\n",
       "| 5928 | p9948 | 1 | 73 | 0 | 0 | 0 | 28.10 | 0 | 0 | 0 | ⋯ | 0 | 0 | 1 | 0 | 0 | 0 | 0 | 0 | 0 | 0 |\n",
       "| 5929 | p9952 | 0 | 65 | 0 | 1 | 1 | 29.37 | 0 | 0 | 0 | ⋯ | 1 | 0 | 1 | 0 | 0 | 0 | 0 | 0 | 0 | 0 |\n",
       "| 5930 | p996  | 0 | 64 | 0 | 1 | 0 | 25.50 | 1 | 0 | 0 | ⋯ | 0 | 0 | 1 | 0 | 0 | 0 | 0 | 0 | 0 | 0 |\n",
       "| 5931 | p997  | 0 | 59 | 0 | 0 | 1 | 27.80 | 0 | 0 | 0 | ⋯ | 0 | 0 | 1 | 0 | 0 | 0 | 0 | 0 | 0 | 0 |\n",
       "| 5932 | p9970 | 0 | 70 | 0 | 1 | 1 | 28.95 | 1 | 0 | 0 | ⋯ | 0 | 0 | 1 | 0 | 0 | 0 | 0 | 0 | 0 | 0 |\n",
       "| 5933 | p9972 | 0 | 53 | 1 | 0 | 1 | 29.66 | 0 | 0 | 0 | ⋯ | 0 | 0 | 1 | 0 | 0 | 0 | 0 | 0 | 0 | 0 |\n",
       "| 5934 | p9976 | 0 | 70 | 0 | 1 | 1 | 30.06 | 0 | 0 | 0 | ⋯ | 0 | 0 | 1 | 0 | 0 | 0 | 0 | 0 | 0 | 0 |\n",
       "| 5935 | p9982 | 0 | 70 | 0 | 0 | 1 | 31.07 | 0 | 0 | 0 | ⋯ | 0 | 0 | 1 | 0 | 0 | 0 | 0 | 0 | 0 | 0 |\n",
       "| 5936 | p9992 | 1 | 75 | 0 | 0 | 1 | 29.60 | 0 | 0 | 0 | ⋯ | 0 | 0 | 1 | 0 | 0 | 0 | 0 | 0 | 0 | 0 |\n",
       "| 5937 | p9996 | 0 | 59 | 0 | 0 | 1 | 27.30 | 0 | 0 | 0 | ⋯ | 0 | 0 | 1 | 0 | 0 | 0 | 0 | 0 | 0 | 0 |\n",
       "| 5938 | p9998 | 0 | 46 | 1 | 1 | 1 | 27.60 | 0 | 0 | 0 | ⋯ | 0 | 0 | 1 | 0 | 0 | 0 | 0 | 0 | 0 | 0 |\n",
       "\n"
      ],
      "text/plain": [
       "     ptnum  label age gender_female smoking_status alcohol_assessment bmi  \n",
       "1    p10000 1     72  0             1              1                  28.10\n",
       "2    p10005 0     70  0             0              1                  27.90\n",
       "3    p10006 0     65  0             0              1                  28.70\n",
       "4    p10009 0     66  0             0              1                  29.92\n",
       "5    p10018 0     67  0             0              1                  28.00\n",
       "6    p10019 0     69  0             1              1                  34.20\n",
       "7    p10026 1     69  0             1              1                  29.97\n",
       "8    p10029 0     62  1             1              1                  29.26\n",
       "9    p10034 1     72  0             0              1                  27.40\n",
       "10   p10037 0     68  1             0              0                  30.30\n",
       "11   p1006  1     68  0             1              0                  30.10\n",
       "12   p10060 1     78  0             0              1                  29.60\n",
       "13   p10063 0     66  0             1              1                  27.40\n",
       "14   p10066 1     78  0             1              1                  33.50\n",
       "15   p10076 1     74  0             1              1                  28.30\n",
       "16   p10079 0     68  0             0              1                  22.60\n",
       "17   p1008  0     65  0             1              0                  30.10\n",
       "18   p10089 0     70  0             0              1                  27.60\n",
       "19   p10090 0     70  0             0              1                  27.70\n",
       "20   p10104 0     58  1             0              1                  30.36\n",
       "21   p10107 0     65  1             0              1                  28.52\n",
       "22   p10126 1     79  0             0              1                  28.00\n",
       "23   p1013  0     70  0             0              1                  27.84\n",
       "24   p10130 0     67  1             0              1                  27.50\n",
       "25   p10131 0     53  1             1              1                  25.80\n",
       "26   p10138 0     68  1             0              1                  27.40\n",
       "27   p10140 0     53  1             0              1                  28.50\n",
       "28   p10155 0     57  1             0              1                  29.66\n",
       "29   p10179 1     75  0             0              1                  27.70\n",
       "30   p1018  0     36  1             0              0                  29.03\n",
       "⋮    ⋮      ⋮     ⋮   ⋮             ⋮              ⋮                  ⋮    \n",
       "5909 p9850  0     61  1             0              1                  28.48\n",
       "5910 p986   1     70  0             0              1                  28.20\n",
       "5911 p9860  0     70  0             0              1                  29.86\n",
       "5912 p9871  1     71  0             0              1                  27.70\n",
       "5913 p9882  0     70  0             1              1                  27.80\n",
       "5914 p9889  0     70  1             0              1                  29.33\n",
       "5915 p989   1     57  1             1              1                  26.30\n",
       "5916 p9891  0     64  0             0              1                  28.24\n",
       "5917 p9900  0     70  0             0              1                  27.40\n",
       "5918 p9905  0     66  1             1              1                  27.90\n",
       "5919 p9906  0     67  0             1              1                  28.05\n",
       "5920 p9912  0     69  1             0              1                  27.80\n",
       "5921 p993   1     80  0             0              1                  32.20\n",
       "5922 p9934  1     69  0             0              0                  27.90\n",
       "5923 p9935  0     70  0             0              1                  27.50\n",
       "5924 p9936  1     81  0             0              1                  27.50\n",
       "5925 p9938  1     58  0             1              1                  27.30\n",
       "5926 p9943  0     54  0             1              1                  29.15\n",
       "5927 p9944  0     67  0             0              1                  27.70\n",
       "5928 p9948  1     73  0             0              0                  28.10\n",
       "5929 p9952  0     65  0             1              1                  29.37\n",
       "5930 p996   0     64  0             1              0                  25.50\n",
       "5931 p997   0     59  0             0              1                  27.80\n",
       "5932 p9970  0     70  0             1              1                  28.95\n",
       "5933 p9972  0     53  1             0              1                  29.66\n",
       "5934 p9976  0     70  0             1              1                  30.06\n",
       "5935 p9982  0     70  0             0              1                  31.07\n",
       "5936 p9992  1     75  0             0              1                  29.60\n",
       "5937 p9996  0     59  0             0              1                  27.30\n",
       "5938 p9998  0     46  1             1              1                  27.60\n",
       "     chronic_obstructive_bronchitis pneumonia asthma ⋯ hawaiian native\n",
       "1    0                              0         0      ⋯ 0        0     \n",
       "2    0                              0         0      ⋯ 0        0     \n",
       "3    0                              1         0      ⋯ 0        0     \n",
       "4    0                              0         0      ⋯ 0        0     \n",
       "5    0                              0         0      ⋯ 0        0     \n",
       "6    0                              0         0      ⋯ 0        0     \n",
       "7    0                              0         0      ⋯ 0        0     \n",
       "8    1                              0         0      ⋯ 0        0     \n",
       "9    0                              0         0      ⋯ 0        0     \n",
       "10   0                              0         0      ⋯ 0        0     \n",
       "11   0                              0         0      ⋯ 0        0     \n",
       "12   0                              0         0      ⋯ 0        0     \n",
       "13   0                              0         0      ⋯ 0        0     \n",
       "14   0                              0         0      ⋯ 0        0     \n",
       "15   0                              0         0      ⋯ 0        0     \n",
       "16   0                              0         0      ⋯ 0        0     \n",
       "17   0                              0         0      ⋯ 0        0     \n",
       "18   0                              0         0      ⋯ 0        0     \n",
       "19   0                              0         0      ⋯ 0        0     \n",
       "20   0                              0         0      ⋯ 0        0     \n",
       "21   0                              0         0      ⋯ 0        0     \n",
       "22   0                              0         0      ⋯ 0        0     \n",
       "23   0                              0         0      ⋯ 0        0     \n",
       "24   0                              0         0      ⋯ 0        0     \n",
       "25   0                              0         0      ⋯ 0        0     \n",
       "26   0                              1         0      ⋯ 0        0     \n",
       "27   0                              0         0      ⋯ 0        0     \n",
       "28   0                              1         0      ⋯ 0        0     \n",
       "29   0                              0         0      ⋯ 0        0     \n",
       "30   0                              0         0      ⋯ 0        0     \n",
       "⋮    ⋮                              ⋮         ⋮      ⋱ ⋮        ⋮     \n",
       "5909 0                              0         0      ⋯ 0        0     \n",
       "5910 0                              0         0      ⋯ 0        0     \n",
       "5911 0                              0         0      ⋯ 0        0     \n",
       "5912 0                              0         0      ⋯ 0        0     \n",
       "5913 1                              0         0      ⋯ 0        0     \n",
       "5914 0                              0         0      ⋯ 0        0     \n",
       "5915 0                              0         0      ⋯ 0        0     \n",
       "5916 0                              0         0      ⋯ 0        0     \n",
       "5917 0                              0         0      ⋯ 0        0     \n",
       "5918 0                              0         0      ⋯ 0        0     \n",
       "5919 0                              0         0      ⋯ 0        0     \n",
       "5920 0                              0         0      ⋯ 0        0     \n",
       "5921 0                              0         0      ⋯ 0        0     \n",
       "5922 0                              0         0      ⋯ 0        0     \n",
       "5923 0                              0         0      ⋯ 0        0     \n",
       "5924 0                              0         0      ⋯ 0        0     \n",
       "5925 0                              0         0      ⋯ 0        0     \n",
       "5926 0                              0         0      ⋯ 0        0     \n",
       "5927 0                              0         0      ⋯ 0        0     \n",
       "5928 0                              0         0      ⋯ 0        0     \n",
       "5929 0                              0         0      ⋯ 1        0     \n",
       "5930 1                              0         0      ⋯ 0        0     \n",
       "5931 0                              0         0      ⋯ 0        0     \n",
       "5932 1                              0         0      ⋯ 0        0     \n",
       "5933 0                              0         0      ⋯ 0        0     \n",
       "5934 0                              0         0      ⋯ 0        0     \n",
       "5935 0                              0         0      ⋯ 0        0     \n",
       "5936 0                              0         0      ⋯ 0        0     \n",
       "5937 0                              0         0      ⋯ 0        0     \n",
       "5938 0                              0         0      ⋯ 0        0     \n",
       "     no_cancer stage4 stage1a stage2a stage3a stage1b stage2b stage3b\n",
       "1    1         0      0       0       0       0       0       0      \n",
       "2    1         0      0       0       0       0       0       0      \n",
       "3    1         0      0       0       0       0       0       0      \n",
       "4    1         0      0       0       0       0       0       0      \n",
       "5    1         0      0       0       0       0       0       0      \n",
       "6    1         0      0       0       0       0       0       0      \n",
       "7    1         0      0       0       0       0       0       0      \n",
       "8    1         0      0       0       0       0       0       0      \n",
       "9    1         0      0       0       0       0       0       0      \n",
       "10   1         0      0       0       0       0       0       0      \n",
       "11   1         0      0       0       0       0       0       0      \n",
       "12   1         0      0       0       0       0       0       0      \n",
       "13   1         0      0       0       0       0       0       0      \n",
       "14   1         0      0       0       0       0       0       0      \n",
       "15   1         0      0       0       0       0       0       0      \n",
       "16   1         0      0       0       0       0       0       0      \n",
       "17   1         0      0       0       0       0       0       0      \n",
       "18   1         0      0       0       0       0       0       0      \n",
       "19   1         0      0       0       0       0       0       0      \n",
       "20   1         0      0       0       0       0       0       0      \n",
       "21   1         0      0       0       0       0       0       0      \n",
       "22   1         0      0       0       0       0       0       0      \n",
       "23   1         0      0       0       0       0       0       0      \n",
       "24   1         0      0       0       0       0       0       0      \n",
       "25   1         0      0       0       0       0       0       0      \n",
       "26   1         0      0       0       0       0       0       0      \n",
       "27   1         0      0       0       0       0       0       0      \n",
       "28   1         0      0       0       0       0       0       0      \n",
       "29   1         0      0       0       0       0       0       0      \n",
       "30   1         0      0       0       0       0       0       0      \n",
       "⋮    ⋮         ⋮      ⋮       ⋮       ⋮       ⋮       ⋮       ⋮      \n",
       "5909 1         0      0       0       0       0       0       0      \n",
       "5910 1         0      0       0       0       0       0       0      \n",
       "5911 1         0      0       0       0       0       0       0      \n",
       "5912 1         0      0       0       0       0       0       0      \n",
       "5913 1         0      0       0       0       0       0       0      \n",
       "5914 1         0      0       0       0       0       0       0      \n",
       "5915 1         0      0       0       0       0       0       0      \n",
       "5916 1         0      0       0       0       0       0       0      \n",
       "5917 1         0      0       0       0       0       0       0      \n",
       "5918 1         0      0       0       0       0       0       0      \n",
       "5919 1         0      0       0       0       0       0       0      \n",
       "5920 1         0      0       0       0       0       0       0      \n",
       "5921 1         0      0       0       0       0       0       0      \n",
       "5922 1         0      0       0       0       0       0       0      \n",
       "5923 1         0      0       0       0       0       0       0      \n",
       "5924 1         0      0       0       0       0       0       0      \n",
       "5925 1         0      0       0       0       0       0       0      \n",
       "5926 1         0      0       0       0       0       0       0      \n",
       "5927 1         0      0       0       0       0       0       0      \n",
       "5928 1         0      0       0       0       0       0       0      \n",
       "5929 1         0      0       0       0       0       0       0      \n",
       "5930 1         0      0       0       0       0       0       0      \n",
       "5931 1         0      0       0       0       0       0       0      \n",
       "5932 1         0      0       0       0       0       0       0      \n",
       "5933 1         0      0       0       0       0       0       0      \n",
       "5934 1         0      0       0       0       0       0       0      \n",
       "5935 1         0      0       0       0       0       0       0      \n",
       "5936 1         0      0       0       0       0       0       0      \n",
       "5937 1         0      0       0       0       0       0       0      \n",
       "5938 1         0      0       0       0       0       0       0      "
      ]
     },
     "metadata": {},
     "output_type": "display_data"
    }
   ],
   "source": [
    "Df_regression_unique"
   ]
  },
  {
   "cell_type": "markdown",
   "id": "5fc38855",
   "metadata": {},
   "source": [
    "## Step 7: Check the unique values of the Exposure columns\n",
    "---"
   ]
  },
  {
   "cell_type": "code",
   "execution_count": 273,
   "id": "fa3e92b2",
   "metadata": {},
   "outputs": [
    {
     "data": {
      "text/html": [
       "<style>\n",
       ".list-inline {list-style: none; margin:0; padding: 0}\n",
       ".list-inline>li {display: inline-block}\n",
       ".list-inline>li:not(:last-child)::after {content: \"\\00b7\"; padding: 0 .5ex}\n",
       "</style>\n",
       "<ol class=list-inline><li>1</li><li>2</li></ol>\n"
      ],
      "text/latex": [
       "\\begin{enumerate*}\n",
       "\\item 1\n",
       "\\item 2\n",
       "\\end{enumerate*}\n"
      ],
      "text/markdown": [
       "1. 1\n",
       "2. 2\n",
       "\n",
       "\n"
      ],
      "text/plain": [
       "[1] 1 2"
      ]
     },
     "metadata": {},
     "output_type": "display_data"
    }
   ],
   "source": [
    "unique(Df_regression_unique$\"statin\")"
   ]
  },
  {
   "cell_type": "markdown",
   "id": "418f1cdf",
   "metadata": {},
   "source": [
    "## Step 8: in the Exposure change into binary variable\n",
    "---\n",
    "Coding legend is:\n",
    "\n",
    "1 = 0\n",
    "\n",
    "2 = 1"
   ]
  },
  {
   "cell_type": "code",
   "execution_count": 274,
   "id": "d3132e43",
   "metadata": {},
   "outputs": [],
   "source": [
    "Df_regression_unique$\"statin\" <- ifelse(Df_regression_unique$\"statin\" == 2, 1, 0)"
   ]
  },
  {
   "cell_type": "markdown",
   "id": "66ce4a20",
   "metadata": {},
   "source": [
    "## Step 10: Verify changes\n",
    "---"
   ]
  },
  {
   "cell_type": "code",
   "execution_count": 275,
   "id": "0b13a920",
   "metadata": {},
   "outputs": [
    {
     "data": {
      "text/html": [
       "<style>\n",
       ".list-inline {list-style: none; margin:0; padding: 0}\n",
       ".list-inline>li {display: inline-block}\n",
       ".list-inline>li:not(:last-child)::after {content: \"\\00b7\"; padding: 0 .5ex}\n",
       "</style>\n",
       "<ol class=list-inline><li>0</li><li>1</li></ol>\n"
      ],
      "text/latex": [
       "\\begin{enumerate*}\n",
       "\\item 0\n",
       "\\item 1\n",
       "\\end{enumerate*}\n"
      ],
      "text/markdown": [
       "1. 0\n",
       "2. 1\n",
       "\n",
       "\n"
      ],
      "text/plain": [
       "[1] 0 1"
      ]
     },
     "metadata": {},
     "output_type": "display_data"
    }
   ],
   "source": [
    "unique(Df_regression_unique$\"statin\")"
   ]
  },
  {
   "cell_type": "markdown",
   "id": "259efa36",
   "metadata": {},
   "source": [
    "## Discussion\n",
    "---\n",
    "Epidemiological research often involves variables that naturally fall into discrete categories, such as demographic data (e.g., age groups, gender), exposure groups, or disease classifications. Converting such variables into categorical formats is a critical step in data preparation and analysis, as it ensures that these variables are correctly represented and interpreted in statistical models.\n",
    "\n",
    "## When Categorical Conversion is Crucial\n",
    "---\n",
    "\n",
    "a. When Variables Are Nominal or Ordinal\n",
    "\n",
    "    Nominal Variables: Variables with distinct categories that have no inherent order (e.g., blood type, ethnicity, or disease type).\n",
    "    \n",
    "    Ordinal Variables: Variables with categories that have a meaningful order but no consistent scale (e.g., disease severity: mild, moderate, severe).\n",
    "    Example: Converting \"mild, moderate, severe\" into ordered factors to preserve their natural hierarchy.\n",
    "\n",
    "b. When Applying Statistical Models\n",
    "\n",
    "    Many statistical models, such as regression, ANOVA, and logistic regression, require categorical variables to be explicitly coded as factors. Without conversion, the software might misinterpret categorical variables as continuous, leading to incorrect model specification.\n",
    "\n",
    "c. When Handling Group Comparisons\n",
    "\n",
    "        Epidemiological studies often involve comparing groups (e.g., exposed vs. unexposed, treatment vs. control). Categorical conversion ensures clear group delineation for stratified analysis or interaction testing.\n",
    "\n",
    "d. When Using Machine Learning or Modeling Algorithms\n",
    "\n",
    "    Machine learning models often require variables to be encoded as numerical representations (dummy variables or one-hot encoding). Categorical conversion facilitates the creation of these encodings.\n",
    "    \n",
    "    \n",
    "## Why Categorical Conversion Is Crucial\n",
    "---\n",
    "\n",
    "a. Preserves the Integrity of Categorical Data\n",
    "\n",
    "    Without proper conversion, categorical variables might be treated as continuous, leading to meaningless operations (e.g., averaging categorical values like \"male\" and \"female\"). This can distort model outputs and make the findings invalid.\n",
    "    \n",
    "b. Enables Appropriate Statistical Interpretation\n",
    "\n",
    "    Categorical conversion allows models to calculate meaningful metrics: Odds ratios in logistic regression.\n",
    "    Relative risks in survival analysis.\n",
    "    Proper conversion helps interpret the role of exposure, disease outcomes, or risk factors accurately.\n",
    "\n",
    "c. Facilitates Group-Level Analysis\n",
    "\n",
    "    In epidemiology, researchers often analyze data stratified by categories like age, sex, or socioeconomic status. Categorical conversion ensures these groupings are well-defined and allows for subgroup analysis, such as identifying differential risks across strata.\n",
    "\n",
    "d. Prevents Misrepresentation of Ordinal Data\n",
    "\n",
    "    For ordinal variables, conversion to factors ensures that statistical methods respect the natural ordering of categories. For example, in a disease severity scale, treating categories as unordered would ignore their hierarchical relationship.\n",
    "\n",
    "e. Essential for Interaction Testing\n",
    "\n",
    "    Testing interactions between categorical variables (e.g., age group × treatment type) requires proper encoding to understand joint effects.\n",
    "\n",
    "f. Improves Computational Efficiency\n",
    "\n",
    "    Converting categorical variables into factors reduces memory usage and speeds up computations in R and other statistical software.\n",
    "\n",
    "g. Ensures Reproducibility\n",
    "\n",
    "    Explicitly converting and documenting categorical variables improves transparency and ensures consistent data handling across analyses."
   ]
  },
  {
   "cell_type": "markdown",
   "id": "3a6e45d9",
   "metadata": {},
   "source": [
    "# Question 4: Data Cleaning\n",
    "---\n",
    "Implement imputation or replacement techniques to address missing values in\n",
    "key categorical variables, such as disease stages. Discuss the ethical and\n",
    "methodological considerations when cleaning clinical datasets."
   ]
  },
  {
   "cell_type": "markdown",
   "id": "7c5b7d86",
   "metadata": {},
   "source": [
    "## Step 0: Check if there are missing datasets\n",
    "---"
   ]
  },
  {
   "cell_type": "code",
   "execution_count": 276,
   "id": "568e8ccc",
   "metadata": {},
   "outputs": [
    {
     "data": {
      "text/html": [
       "<style>\n",
       ".dl-inline {width: auto; margin:0; padding: 0}\n",
       ".dl-inline>dt, .dl-inline>dd {float: none; width: auto; display: inline-block}\n",
       ".dl-inline>dt::after {content: \":\\0020\"; padding-right: .5ex}\n",
       ".dl-inline>dt:not(:first-of-type) {padding-left: .5ex}\n",
       "</style><dl class=dl-inline><dt>ptnum</dt><dd>0</dd><dt>label</dt><dd>0</dd><dt>age</dt><dd>0</dd><dt>gender_female</dt><dd>0</dd><dt>smoking_status</dt><dd>0</dd><dt>alcohol_assessment</dt><dd>0</dd><dt>bmi</dt><dd>0</dd><dt>chronic_obstructive_bronchitis</dt><dd>0</dd><dt>pneumonia</dt><dd>0</dd><dt>asthma</dt><dd>0</dd><dt>dvt</dt><dd>0</dd><dt>Followup</dt><dd>0</dd><dt>statin</dt><dd>0</dd><dt>asian</dt><dd>0</dd><dt>white</dt><dd>0</dd><dt>black</dt><dd>0</dd><dt>hawaiian</dt><dd>0</dd><dt>native</dt><dd>0</dd><dt>no_cancer</dt><dd>0</dd><dt>stage4</dt><dd>0</dd><dt>stage1a</dt><dd>0</dd><dt>stage2a</dt><dd>0</dd><dt>stage3a</dt><dd>0</dd><dt>stage1b</dt><dd>0</dd><dt>stage2b</dt><dd>0</dd><dt>stage3b</dt><dd>0</dd></dl>\n"
      ],
      "text/latex": [
       "\\begin{description*}\n",
       "\\item[ptnum] 0\n",
       "\\item[label] 0\n",
       "\\item[age] 0\n",
       "\\item[gender\\textbackslash{}\\_female] 0\n",
       "\\item[smoking\\textbackslash{}\\_status] 0\n",
       "\\item[alcohol\\textbackslash{}\\_assessment] 0\n",
       "\\item[bmi] 0\n",
       "\\item[chronic\\textbackslash{}\\_obstructive\\textbackslash{}\\_bronchitis] 0\n",
       "\\item[pneumonia] 0\n",
       "\\item[asthma] 0\n",
       "\\item[dvt] 0\n",
       "\\item[Followup] 0\n",
       "\\item[statin] 0\n",
       "\\item[asian] 0\n",
       "\\item[white] 0\n",
       "\\item[black] 0\n",
       "\\item[hawaiian] 0\n",
       "\\item[native] 0\n",
       "\\item[no\\textbackslash{}\\_cancer] 0\n",
       "\\item[stage4] 0\n",
       "\\item[stage1a] 0\n",
       "\\item[stage2a] 0\n",
       "\\item[stage3a] 0\n",
       "\\item[stage1b] 0\n",
       "\\item[stage2b] 0\n",
       "\\item[stage3b] 0\n",
       "\\end{description*}\n"
      ],
      "text/markdown": [
       "ptnum\n",
       ":   0label\n",
       ":   0age\n",
       ":   0gender_female\n",
       ":   0smoking_status\n",
       ":   0alcohol_assessment\n",
       ":   0bmi\n",
       ":   0chronic_obstructive_bronchitis\n",
       ":   0pneumonia\n",
       ":   0asthma\n",
       ":   0dvt\n",
       ":   0Followup\n",
       ":   0statin\n",
       ":   0asian\n",
       ":   0white\n",
       ":   0black\n",
       ":   0hawaiian\n",
       ":   0native\n",
       ":   0no_cancer\n",
       ":   0stage4\n",
       ":   0stage1a\n",
       ":   0stage2a\n",
       ":   0stage3a\n",
       ":   0stage1b\n",
       ":   0stage2b\n",
       ":   0stage3b\n",
       ":   0\n",
       "\n"
      ],
      "text/plain": [
       "                         ptnum                          label \n",
       "                             0                              0 \n",
       "                           age                  gender_female \n",
       "                             0                              0 \n",
       "                smoking_status             alcohol_assessment \n",
       "                             0                              0 \n",
       "                           bmi chronic_obstructive_bronchitis \n",
       "                             0                              0 \n",
       "                     pneumonia                         asthma \n",
       "                             0                              0 \n",
       "                           dvt                       Followup \n",
       "                             0                              0 \n",
       "                        statin                          asian \n",
       "                             0                              0 \n",
       "                         white                          black \n",
       "                             0                              0 \n",
       "                      hawaiian                         native \n",
       "                             0                              0 \n",
       "                     no_cancer                         stage4 \n",
       "                             0                              0 \n",
       "                       stage1a                        stage2a \n",
       "                             0                              0 \n",
       "                       stage3a                        stage1b \n",
       "                             0                              0 \n",
       "                       stage2b                        stage3b \n",
       "                             0                              0 "
      ]
     },
     "metadata": {},
     "output_type": "display_data"
    }
   ],
   "source": [
    "colSums(is.na(Df_regression_unique))"
   ]
  },
  {
   "cell_type": "markdown",
   "id": "1204edf1",
   "metadata": {},
   "source": [
    "## Step 1: There are no missing values in the dataset\n",
    "---"
   ]
  },
  {
   "cell_type": "markdown",
   "id": "4af16242",
   "metadata": {},
   "source": [
    "## Dicussion\n",
    "---\n",
    "\n",
    "Cleaning clinical datasets is a critical step in preparing data for analysis, but it involves both ethical and methodological challenges. Clinical data often deals with sensitive health information, and how the data is handled can influence the validity of research findings and impact clinical decisions.\n",
    "\n",
    "## Ethical Considerations\n",
    "---\n",
    "\n",
    "1. Patient Privacy and Confidentiality\n",
    "\n",
    "    Importance: Clinical datasets often contain personally identifiable information (PII) such as names, dates of birth, and medical history. Maintaining privacy is crucial to comply with regulations like HIPAA (Health Insurance Portability and Accountability Act) or GDPR (General Data Protection Regulation).\n",
    "    \n",
    "    Actions:\n",
    "    \n",
    "        - Remove or anonymize PII before cleaning.\n",
    "        - Use encryption and secure storage methods to protect data.\n",
    "        - Limit access to sensitive information on a need-to-know basis.      \n",
    "\n",
    "2. Informed Consent\n",
    "\n",
    "    Importance: Patients must consent to their data being used for research purposes.\n",
    "    \n",
    "    Challenges: Retrospective datasets may lack explicit consent. Data cleaning activities, such as creating derived variables, must remain within the bounds of the consent obtained.\n",
    "    \n",
    "    Actions:\n",
    "    \n",
    "        - Ensure that the research use aligns with the terms of consent.\n",
    "        - Obtain ethics committee approval for secondary uses of data.\n",
    "\n",
    "3. Bias Introduction\n",
    "    Importance: Cleaning processes, such as imputing missing values or removing outliers, can introduce biases that affect the validity of findings.\n",
    "    \n",
    "    Examples:\n",
    "        Excluding patients with incomplete records may disproportionately affect underrepresented groups.\n",
    "        Over-imputation of missing data may create artificial trends.\n",
    "    \n",
    "    Actions:\n",
    "        Document all cleaning decisions.\n",
    "        Use transparent, reproducible methods to minimize bias.\n",
    "4. Equity and Representation\n",
    "\n",
    "    Importance: Clinical datasets often underrepresent certain populations (e.g., minorities, rural communities).\n",
    "\n",
    "    Challenges: Cleaning that removes records with missing demographic or clinical data may exacerbate disparities.\n",
    "\n",
    "    Actions:\n",
    "    \n",
    "        - Assess the impact of cleaning decisions on subgroup representation.\n",
    "        - Consider weighting or stratification to ensure equitable analyses.\n",
    "\n",
    "5. Accountability and Transparency\n",
    "\n",
    "    Importance: Ethical research requires transparency in data handling to ensure findings are reproducible and credible.\n",
    "    \n",
    "    Actions:\n",
    "    \n",
    "        - Maintain logs of all cleaning steps.\n",
    "        - Share cleaned datasets only with appropriate documentation.\n",
    "        \n",
    "## Methodological Considerations\n",
    "---\n",
    "\n",
    "1. Understanding the Nature of Missing Data\n",
    "\n",
    "    Challenge: Missing data can arise from various mechanisms:\n",
    "    \n",
    "    Missing Completely at Random (MCAR): No systematic relationship to observed or unobserved data.\n",
    "    \n",
    "    Missing at Random (MAR): Depends on observed data.\n",
    "    \n",
    "    Missing Not at Random (MNAR): Depends on unobserved data.\n",
    "    \n",
    "    Actions:\n",
    "    \n",
    "        - Use appropriate techniques (e.g., multiple imputation) to address missingness.\n",
    "        - Avoid arbitrary deletion of records, as it may introduce bias.\n",
    "\n",
    "2. Handling Outliers\n",
    "\n",
    "    Challenge: Outliers in clinical data may reflect true extreme cases or data entry errors.\n",
    "    \n",
    "    Actions:\n",
    "    \n",
    "        - Investigate the cause of outliers before removing or modifying them.\n",
    "        - Use robust statistical methods that are less sensitive to outliers.\n",
    "\n",
    "3. Standardization of Variables\n",
    "\n",
    "    Challenge: Clinical datasets often contain non-standardized values (e.g., varying units for lab results).\n",
    "    \n",
    "    Actions:\n",
    "        \n",
    "        - Standardize units and formats (e.g., mg/dL vs. mmol/L).\n",
    "        - Ensure consistent coding for categorical variables.\n",
    "\n",
    "4. Data Duplication\n",
    "\n",
    "    Challenge: Duplicate records can distort analyses if not handled correctly.\n",
    "    \n",
    "    Actions:\n",
    "    \n",
    "        - Identify and resolve duplicates through patient IDs, timestamps, and other key identifiers.\n",
    "        - Decide whether to retain or combine duplicates based on clinical context.\n",
    "\n",
    "5. Ethical Imputation and Replacement\n",
    "\n",
    "    Challenge: Imputing missing clinical values can affect the accuracy of analyses.\n",
    "    \n",
    "    Actions:\n",
    "     \n",
    "        - Choose methods that respect the clinical context (e.g., avoid imputing unrealistic values for lab tests).\n",
    "        - Clearly report imputation methods and their limitations.\n",
    "\n",
    "6. Longitudinal and Time-Dependent Data\n",
    "\n",
    "    Challenge: Clinical datasets often include repeated measures or time-series data.\n",
    "    \n",
    "    Actions:\n",
    "    \n",
    "        - Maintain the temporal sequence of data during cleaning.\n",
    "        - Use appropriate methods for handling missingness in time-dependent variables.\n",
    "\n",
    "7. Data Integration\n",
    "\n",
    "    Challenge: Combining datasets from multiple sources (e.g., EHR systems, clinical trials) may introduce inconsistencies.\n",
    "    \n",
    "    Actions:\n",
    "    \n",
    "        - Harmonize variable definitions and formats.\n",
    "        - Use linkage techniques to merge records accurately."
   ]
  },
  {
   "cell_type": "markdown",
   "id": "93f69869",
   "metadata": {},
   "source": [
    "# Question 6: Descriptive Statistics and Summary Tables\n",
    "---\n",
    "\n",
    "Create a comprehensive summary table that provides insights into the\n",
    "distribution of key variables in the dataset, stratified by exposure groups. This\n",
    "exercise will help familiarize you with descriptive statistical techniques that\n",
    "are essential for cohort studies."
   ]
  },
  {
   "cell_type": "markdown",
   "id": "773e7bd0",
   "metadata": {},
   "source": [
    "## Step 0: Delete the column named ptnum because these are not informative\n",
    "---"
   ]
  },
  {
   "cell_type": "code",
   "execution_count": 277,
   "id": "9f03f3eb",
   "metadata": {},
   "outputs": [
    {
     "data": {
      "text/html": [
       "<table class=\"dataframe\">\n",
       "<caption>A data.frame: 6 × 26</caption>\n",
       "<thead>\n",
       "\t<tr><th></th><th scope=col>ptnum</th><th scope=col>label</th><th scope=col>age</th><th scope=col>gender_female</th><th scope=col>smoking_status</th><th scope=col>alcohol_assessment</th><th scope=col>bmi</th><th scope=col>chronic_obstructive_bronchitis</th><th scope=col>pneumonia</th><th scope=col>asthma</th><th scope=col>⋯</th><th scope=col>hawaiian</th><th scope=col>native</th><th scope=col>no_cancer</th><th scope=col>stage4</th><th scope=col>stage1a</th><th scope=col>stage2a</th><th scope=col>stage3a</th><th scope=col>stage1b</th><th scope=col>stage2b</th><th scope=col>stage3b</th></tr>\n",
       "\t<tr><th></th><th scope=col>&lt;chr&gt;</th><th scope=col>&lt;dbl&gt;</th><th scope=col>&lt;dbl&gt;</th><th scope=col>&lt;dbl&gt;</th><th scope=col>&lt;dbl&gt;</th><th scope=col>&lt;int&gt;</th><th scope=col>&lt;dbl&gt;</th><th scope=col>&lt;int&gt;</th><th scope=col>&lt;int&gt;</th><th scope=col>&lt;int&gt;</th><th scope=col>⋯</th><th scope=col>&lt;dbl&gt;</th><th scope=col>&lt;dbl&gt;</th><th scope=col>&lt;dbl&gt;</th><th scope=col>&lt;dbl&gt;</th><th scope=col>&lt;dbl&gt;</th><th scope=col>&lt;dbl&gt;</th><th scope=col>&lt;dbl&gt;</th><th scope=col>&lt;dbl&gt;</th><th scope=col>&lt;dbl&gt;</th><th scope=col>&lt;dbl&gt;</th></tr>\n",
       "</thead>\n",
       "<tbody>\n",
       "\t<tr><th scope=row>5933</th><td>p9972</td><td>0</td><td>53</td><td>1</td><td>0</td><td>1</td><td>29.66</td><td>0</td><td>0</td><td>0</td><td>⋯</td><td>0</td><td>0</td><td>1</td><td>0</td><td>0</td><td>0</td><td>0</td><td>0</td><td>0</td><td>0</td></tr>\n",
       "\t<tr><th scope=row>5934</th><td>p9976</td><td>0</td><td>70</td><td>0</td><td>1</td><td>1</td><td>30.06</td><td>0</td><td>0</td><td>0</td><td>⋯</td><td>0</td><td>0</td><td>1</td><td>0</td><td>0</td><td>0</td><td>0</td><td>0</td><td>0</td><td>0</td></tr>\n",
       "\t<tr><th scope=row>5935</th><td>p9982</td><td>0</td><td>70</td><td>0</td><td>0</td><td>1</td><td>31.07</td><td>0</td><td>0</td><td>0</td><td>⋯</td><td>0</td><td>0</td><td>1</td><td>0</td><td>0</td><td>0</td><td>0</td><td>0</td><td>0</td><td>0</td></tr>\n",
       "\t<tr><th scope=row>5936</th><td>p9992</td><td>1</td><td>75</td><td>0</td><td>0</td><td>1</td><td>29.60</td><td>0</td><td>0</td><td>0</td><td>⋯</td><td>0</td><td>0</td><td>1</td><td>0</td><td>0</td><td>0</td><td>0</td><td>0</td><td>0</td><td>0</td></tr>\n",
       "\t<tr><th scope=row>5937</th><td>p9996</td><td>0</td><td>59</td><td>0</td><td>0</td><td>1</td><td>27.30</td><td>0</td><td>0</td><td>0</td><td>⋯</td><td>0</td><td>0</td><td>1</td><td>0</td><td>0</td><td>0</td><td>0</td><td>0</td><td>0</td><td>0</td></tr>\n",
       "\t<tr><th scope=row>5938</th><td>p9998</td><td>0</td><td>46</td><td>1</td><td>1</td><td>1</td><td>27.60</td><td>0</td><td>0</td><td>0</td><td>⋯</td><td>0</td><td>0</td><td>1</td><td>0</td><td>0</td><td>0</td><td>0</td><td>0</td><td>0</td><td>0</td></tr>\n",
       "</tbody>\n",
       "</table>\n"
      ],
      "text/latex": [
       "A data.frame: 6 × 26\n",
       "\\begin{tabular}{r|lllllllllllllllllllll}\n",
       "  & ptnum & label & age & gender\\_female & smoking\\_status & alcohol\\_assessment & bmi & chronic\\_obstructive\\_bronchitis & pneumonia & asthma & ⋯ & hawaiian & native & no\\_cancer & stage4 & stage1a & stage2a & stage3a & stage1b & stage2b & stage3b\\\\\n",
       "  & <chr> & <dbl> & <dbl> & <dbl> & <dbl> & <int> & <dbl> & <int> & <int> & <int> & ⋯ & <dbl> & <dbl> & <dbl> & <dbl> & <dbl> & <dbl> & <dbl> & <dbl> & <dbl> & <dbl>\\\\\n",
       "\\hline\n",
       "\t5933 & p9972 & 0 & 53 & 1 & 0 & 1 & 29.66 & 0 & 0 & 0 & ⋯ & 0 & 0 & 1 & 0 & 0 & 0 & 0 & 0 & 0 & 0\\\\\n",
       "\t5934 & p9976 & 0 & 70 & 0 & 1 & 1 & 30.06 & 0 & 0 & 0 & ⋯ & 0 & 0 & 1 & 0 & 0 & 0 & 0 & 0 & 0 & 0\\\\\n",
       "\t5935 & p9982 & 0 & 70 & 0 & 0 & 1 & 31.07 & 0 & 0 & 0 & ⋯ & 0 & 0 & 1 & 0 & 0 & 0 & 0 & 0 & 0 & 0\\\\\n",
       "\t5936 & p9992 & 1 & 75 & 0 & 0 & 1 & 29.60 & 0 & 0 & 0 & ⋯ & 0 & 0 & 1 & 0 & 0 & 0 & 0 & 0 & 0 & 0\\\\\n",
       "\t5937 & p9996 & 0 & 59 & 0 & 0 & 1 & 27.30 & 0 & 0 & 0 & ⋯ & 0 & 0 & 1 & 0 & 0 & 0 & 0 & 0 & 0 & 0\\\\\n",
       "\t5938 & p9998 & 0 & 46 & 1 & 1 & 1 & 27.60 & 0 & 0 & 0 & ⋯ & 0 & 0 & 1 & 0 & 0 & 0 & 0 & 0 & 0 & 0\\\\\n",
       "\\end{tabular}\n"
      ],
      "text/markdown": [
       "\n",
       "A data.frame: 6 × 26\n",
       "\n",
       "| <!--/--> | ptnum &lt;chr&gt; | label &lt;dbl&gt; | age &lt;dbl&gt; | gender_female &lt;dbl&gt; | smoking_status &lt;dbl&gt; | alcohol_assessment &lt;int&gt; | bmi &lt;dbl&gt; | chronic_obstructive_bronchitis &lt;int&gt; | pneumonia &lt;int&gt; | asthma &lt;int&gt; | ⋯ ⋯ | hawaiian &lt;dbl&gt; | native &lt;dbl&gt; | no_cancer &lt;dbl&gt; | stage4 &lt;dbl&gt; | stage1a &lt;dbl&gt; | stage2a &lt;dbl&gt; | stage3a &lt;dbl&gt; | stage1b &lt;dbl&gt; | stage2b &lt;dbl&gt; | stage3b &lt;dbl&gt; |\n",
       "|---|---|---|---|---|---|---|---|---|---|---|---|---|---|---|---|---|---|---|---|---|---|\n",
       "| 5933 | p9972 | 0 | 53 | 1 | 0 | 1 | 29.66 | 0 | 0 | 0 | ⋯ | 0 | 0 | 1 | 0 | 0 | 0 | 0 | 0 | 0 | 0 |\n",
       "| 5934 | p9976 | 0 | 70 | 0 | 1 | 1 | 30.06 | 0 | 0 | 0 | ⋯ | 0 | 0 | 1 | 0 | 0 | 0 | 0 | 0 | 0 | 0 |\n",
       "| 5935 | p9982 | 0 | 70 | 0 | 0 | 1 | 31.07 | 0 | 0 | 0 | ⋯ | 0 | 0 | 1 | 0 | 0 | 0 | 0 | 0 | 0 | 0 |\n",
       "| 5936 | p9992 | 1 | 75 | 0 | 0 | 1 | 29.60 | 0 | 0 | 0 | ⋯ | 0 | 0 | 1 | 0 | 0 | 0 | 0 | 0 | 0 | 0 |\n",
       "| 5937 | p9996 | 0 | 59 | 0 | 0 | 1 | 27.30 | 0 | 0 | 0 | ⋯ | 0 | 0 | 1 | 0 | 0 | 0 | 0 | 0 | 0 | 0 |\n",
       "| 5938 | p9998 | 0 | 46 | 1 | 1 | 1 | 27.60 | 0 | 0 | 0 | ⋯ | 0 | 0 | 1 | 0 | 0 | 0 | 0 | 0 | 0 | 0 |\n",
       "\n"
      ],
      "text/plain": [
       "     ptnum label age gender_female smoking_status alcohol_assessment bmi  \n",
       "5933 p9972 0     53  1             0              1                  29.66\n",
       "5934 p9976 0     70  0             1              1                  30.06\n",
       "5935 p9982 0     70  0             0              1                  31.07\n",
       "5936 p9992 1     75  0             0              1                  29.60\n",
       "5937 p9996 0     59  0             0              1                  27.30\n",
       "5938 p9998 0     46  1             1              1                  27.60\n",
       "     chronic_obstructive_bronchitis pneumonia asthma ⋯ hawaiian native\n",
       "5933 0                              0         0      ⋯ 0        0     \n",
       "5934 0                              0         0      ⋯ 0        0     \n",
       "5935 0                              0         0      ⋯ 0        0     \n",
       "5936 0                              0         0      ⋯ 0        0     \n",
       "5937 0                              0         0      ⋯ 0        0     \n",
       "5938 0                              0         0      ⋯ 0        0     \n",
       "     no_cancer stage4 stage1a stage2a stage3a stage1b stage2b stage3b\n",
       "5933 1         0      0       0       0       0       0       0      \n",
       "5934 1         0      0       0       0       0       0       0      \n",
       "5935 1         0      0       0       0       0       0       0      \n",
       "5936 1         0      0       0       0       0       0       0      \n",
       "5937 1         0      0       0       0       0       0       0      \n",
       "5938 1         0      0       0       0       0       0       0      "
      ]
     },
     "metadata": {},
     "output_type": "display_data"
    }
   ],
   "source": [
    "tail(Df_regression_unique)"
   ]
  },
  {
   "cell_type": "code",
   "execution_count": 278,
   "id": "f26558b1",
   "metadata": {},
   "outputs": [],
   "source": [
    "Df_regression_unique <- Df_regression_unique %>% select(-ptnum)"
   ]
  },
  {
   "cell_type": "markdown",
   "id": "e07b93e0",
   "metadata": {},
   "source": [
    "## Step 1: Verify changes\n",
    "---"
   ]
  },
  {
   "cell_type": "code",
   "execution_count": 279,
   "id": "c8f485fa",
   "metadata": {},
   "outputs": [
    {
     "data": {
      "text/html": [
       "<table class=\"dataframe\">\n",
       "<caption>A data.frame: 6 × 25</caption>\n",
       "<thead>\n",
       "\t<tr><th></th><th scope=col>label</th><th scope=col>age</th><th scope=col>gender_female</th><th scope=col>smoking_status</th><th scope=col>alcohol_assessment</th><th scope=col>bmi</th><th scope=col>chronic_obstructive_bronchitis</th><th scope=col>pneumonia</th><th scope=col>asthma</th><th scope=col>dvt</th><th scope=col>⋯</th><th scope=col>hawaiian</th><th scope=col>native</th><th scope=col>no_cancer</th><th scope=col>stage4</th><th scope=col>stage1a</th><th scope=col>stage2a</th><th scope=col>stage3a</th><th scope=col>stage1b</th><th scope=col>stage2b</th><th scope=col>stage3b</th></tr>\n",
       "\t<tr><th></th><th scope=col>&lt;dbl&gt;</th><th scope=col>&lt;dbl&gt;</th><th scope=col>&lt;dbl&gt;</th><th scope=col>&lt;dbl&gt;</th><th scope=col>&lt;int&gt;</th><th scope=col>&lt;dbl&gt;</th><th scope=col>&lt;int&gt;</th><th scope=col>&lt;int&gt;</th><th scope=col>&lt;int&gt;</th><th scope=col>&lt;int&gt;</th><th scope=col>⋯</th><th scope=col>&lt;dbl&gt;</th><th scope=col>&lt;dbl&gt;</th><th scope=col>&lt;dbl&gt;</th><th scope=col>&lt;dbl&gt;</th><th scope=col>&lt;dbl&gt;</th><th scope=col>&lt;dbl&gt;</th><th scope=col>&lt;dbl&gt;</th><th scope=col>&lt;dbl&gt;</th><th scope=col>&lt;dbl&gt;</th><th scope=col>&lt;dbl&gt;</th></tr>\n",
       "</thead>\n",
       "<tbody>\n",
       "\t<tr><th scope=row>5933</th><td>0</td><td>53</td><td>1</td><td>0</td><td>1</td><td>29.66</td><td>0</td><td>0</td><td>0</td><td>0</td><td>⋯</td><td>0</td><td>0</td><td>1</td><td>0</td><td>0</td><td>0</td><td>0</td><td>0</td><td>0</td><td>0</td></tr>\n",
       "\t<tr><th scope=row>5934</th><td>0</td><td>70</td><td>0</td><td>1</td><td>1</td><td>30.06</td><td>0</td><td>0</td><td>0</td><td>0</td><td>⋯</td><td>0</td><td>0</td><td>1</td><td>0</td><td>0</td><td>0</td><td>0</td><td>0</td><td>0</td><td>0</td></tr>\n",
       "\t<tr><th scope=row>5935</th><td>0</td><td>70</td><td>0</td><td>0</td><td>1</td><td>31.07</td><td>0</td><td>0</td><td>0</td><td>0</td><td>⋯</td><td>0</td><td>0</td><td>1</td><td>0</td><td>0</td><td>0</td><td>0</td><td>0</td><td>0</td><td>0</td></tr>\n",
       "\t<tr><th scope=row>5936</th><td>1</td><td>75</td><td>0</td><td>0</td><td>1</td><td>29.60</td><td>0</td><td>0</td><td>0</td><td>0</td><td>⋯</td><td>0</td><td>0</td><td>1</td><td>0</td><td>0</td><td>0</td><td>0</td><td>0</td><td>0</td><td>0</td></tr>\n",
       "\t<tr><th scope=row>5937</th><td>0</td><td>59</td><td>0</td><td>0</td><td>1</td><td>27.30</td><td>0</td><td>0</td><td>0</td><td>0</td><td>⋯</td><td>0</td><td>0</td><td>1</td><td>0</td><td>0</td><td>0</td><td>0</td><td>0</td><td>0</td><td>0</td></tr>\n",
       "\t<tr><th scope=row>5938</th><td>0</td><td>46</td><td>1</td><td>1</td><td>1</td><td>27.60</td><td>0</td><td>0</td><td>0</td><td>0</td><td>⋯</td><td>0</td><td>0</td><td>1</td><td>0</td><td>0</td><td>0</td><td>0</td><td>0</td><td>0</td><td>0</td></tr>\n",
       "</tbody>\n",
       "</table>\n"
      ],
      "text/latex": [
       "A data.frame: 6 × 25\n",
       "\\begin{tabular}{r|lllllllllllllllllllll}\n",
       "  & label & age & gender\\_female & smoking\\_status & alcohol\\_assessment & bmi & chronic\\_obstructive\\_bronchitis & pneumonia & asthma & dvt & ⋯ & hawaiian & native & no\\_cancer & stage4 & stage1a & stage2a & stage3a & stage1b & stage2b & stage3b\\\\\n",
       "  & <dbl> & <dbl> & <dbl> & <dbl> & <int> & <dbl> & <int> & <int> & <int> & <int> & ⋯ & <dbl> & <dbl> & <dbl> & <dbl> & <dbl> & <dbl> & <dbl> & <dbl> & <dbl> & <dbl>\\\\\n",
       "\\hline\n",
       "\t5933 & 0 & 53 & 1 & 0 & 1 & 29.66 & 0 & 0 & 0 & 0 & ⋯ & 0 & 0 & 1 & 0 & 0 & 0 & 0 & 0 & 0 & 0\\\\\n",
       "\t5934 & 0 & 70 & 0 & 1 & 1 & 30.06 & 0 & 0 & 0 & 0 & ⋯ & 0 & 0 & 1 & 0 & 0 & 0 & 0 & 0 & 0 & 0\\\\\n",
       "\t5935 & 0 & 70 & 0 & 0 & 1 & 31.07 & 0 & 0 & 0 & 0 & ⋯ & 0 & 0 & 1 & 0 & 0 & 0 & 0 & 0 & 0 & 0\\\\\n",
       "\t5936 & 1 & 75 & 0 & 0 & 1 & 29.60 & 0 & 0 & 0 & 0 & ⋯ & 0 & 0 & 1 & 0 & 0 & 0 & 0 & 0 & 0 & 0\\\\\n",
       "\t5937 & 0 & 59 & 0 & 0 & 1 & 27.30 & 0 & 0 & 0 & 0 & ⋯ & 0 & 0 & 1 & 0 & 0 & 0 & 0 & 0 & 0 & 0\\\\\n",
       "\t5938 & 0 & 46 & 1 & 1 & 1 & 27.60 & 0 & 0 & 0 & 0 & ⋯ & 0 & 0 & 1 & 0 & 0 & 0 & 0 & 0 & 0 & 0\\\\\n",
       "\\end{tabular}\n"
      ],
      "text/markdown": [
       "\n",
       "A data.frame: 6 × 25\n",
       "\n",
       "| <!--/--> | label &lt;dbl&gt; | age &lt;dbl&gt; | gender_female &lt;dbl&gt; | smoking_status &lt;dbl&gt; | alcohol_assessment &lt;int&gt; | bmi &lt;dbl&gt; | chronic_obstructive_bronchitis &lt;int&gt; | pneumonia &lt;int&gt; | asthma &lt;int&gt; | dvt &lt;int&gt; | ⋯ ⋯ | hawaiian &lt;dbl&gt; | native &lt;dbl&gt; | no_cancer &lt;dbl&gt; | stage4 &lt;dbl&gt; | stage1a &lt;dbl&gt; | stage2a &lt;dbl&gt; | stage3a &lt;dbl&gt; | stage1b &lt;dbl&gt; | stage2b &lt;dbl&gt; | stage3b &lt;dbl&gt; |\n",
       "|---|---|---|---|---|---|---|---|---|---|---|---|---|---|---|---|---|---|---|---|---|---|\n",
       "| 5933 | 0 | 53 | 1 | 0 | 1 | 29.66 | 0 | 0 | 0 | 0 | ⋯ | 0 | 0 | 1 | 0 | 0 | 0 | 0 | 0 | 0 | 0 |\n",
       "| 5934 | 0 | 70 | 0 | 1 | 1 | 30.06 | 0 | 0 | 0 | 0 | ⋯ | 0 | 0 | 1 | 0 | 0 | 0 | 0 | 0 | 0 | 0 |\n",
       "| 5935 | 0 | 70 | 0 | 0 | 1 | 31.07 | 0 | 0 | 0 | 0 | ⋯ | 0 | 0 | 1 | 0 | 0 | 0 | 0 | 0 | 0 | 0 |\n",
       "| 5936 | 1 | 75 | 0 | 0 | 1 | 29.60 | 0 | 0 | 0 | 0 | ⋯ | 0 | 0 | 1 | 0 | 0 | 0 | 0 | 0 | 0 | 0 |\n",
       "| 5937 | 0 | 59 | 0 | 0 | 1 | 27.30 | 0 | 0 | 0 | 0 | ⋯ | 0 | 0 | 1 | 0 | 0 | 0 | 0 | 0 | 0 | 0 |\n",
       "| 5938 | 0 | 46 | 1 | 1 | 1 | 27.60 | 0 | 0 | 0 | 0 | ⋯ | 0 | 0 | 1 | 0 | 0 | 0 | 0 | 0 | 0 | 0 |\n",
       "\n"
      ],
      "text/plain": [
       "     label age gender_female smoking_status alcohol_assessment bmi  \n",
       "5933 0     53  1             0              1                  29.66\n",
       "5934 0     70  0             1              1                  30.06\n",
       "5935 0     70  0             0              1                  31.07\n",
       "5936 1     75  0             0              1                  29.60\n",
       "5937 0     59  0             0              1                  27.30\n",
       "5938 0     46  1             1              1                  27.60\n",
       "     chronic_obstructive_bronchitis pneumonia asthma dvt ⋯ hawaiian native\n",
       "5933 0                              0         0      0   ⋯ 0        0     \n",
       "5934 0                              0         0      0   ⋯ 0        0     \n",
       "5935 0                              0         0      0   ⋯ 0        0     \n",
       "5936 0                              0         0      0   ⋯ 0        0     \n",
       "5937 0                              0         0      0   ⋯ 0        0     \n",
       "5938 0                              0         0      0   ⋯ 0        0     \n",
       "     no_cancer stage4 stage1a stage2a stage3a stage1b stage2b stage3b\n",
       "5933 1         0      0       0       0       0       0       0      \n",
       "5934 1         0      0       0       0       0       0       0      \n",
       "5935 1         0      0       0       0       0       0       0      \n",
       "5936 1         0      0       0       0       0       0       0      \n",
       "5937 1         0      0       0       0       0       0       0      \n",
       "5938 1         0      0       0       0       0       0       0      "
      ]
     },
     "metadata": {},
     "output_type": "display_data"
    }
   ],
   "source": [
    "tail(Df_regression_unique)"
   ]
  },
  {
   "cell_type": "markdown",
   "id": "bb3f489b",
   "metadata": {},
   "source": [
    "# Step 2: Create summary table\n",
    "---"
   ]
  },
  {
   "cell_type": "code",
   "execution_count": 280,
   "id": "508c3454",
   "metadata": {},
   "outputs": [
    {
     "name": "stdout",
     "output_type": "stream",
     "text": [
      "                                            Stratified by label\n",
      "                                             0                 1               \n",
      "  n                                             4239              1697         \n",
      "  age (mean (SD))                              63.04 (7.61)      69.21 (8.96)  \n",
      "  gender_female (mean (SD))                     0.40 (0.49)       0.10 (0.30)  \n",
      "  smoking_status (mean (SD))                    0.39 (0.49)       0.49 (0.50)  \n",
      "  alcohol_assessment (mean (SD))                0.87 (0.34)       0.73 (0.44)  \n",
      "  bmi (mean (SD))                              28.85 (1.95)      28.57 (1.98)  \n",
      "  chronic_obstructive_bronchitis (mean (SD))    0.03 (0.17)       0.00 (0.06)  \n",
      "  pneumonia (mean (SD))                         0.04 (0.20)       0.00 (0.02)  \n",
      "  asthma (mean (SD))                            0.00 (0.03)       0.00 (0.00)  \n",
      "  dvt (mean (SD))                               0.01 (0.11)       0.00 (0.00)  \n",
      "  Followup (mean (SD))                       1829.19 (1055.41) 2394.76 (881.41)\n",
      "  statin (mean (SD))                            0.18 (0.38)       0.25 (0.43)  \n",
      "  asian (mean (SD))                             0.07 (0.26)       0.07 (0.26)  \n",
      "  white (mean (SD))                             0.81 (0.39)       0.84 (0.36)  \n",
      "  black (mean (SD))                             0.09 (0.29)       0.07 (0.25)  \n",
      "  hawaiian (mean (SD))                          0.01 (0.11)       0.01 (0.08)  \n",
      "  native (mean (SD))                            0.01 (0.08)       0.00 (0.02)  \n",
      "  no_cancer (mean (SD))                         0.95 (0.22)       0.99 (0.08)  \n",
      "  stage4 (mean (SD))                            0.01 (0.08)       0.00 (0.00)  \n",
      "  stage1a (mean (SD))                           0.02 (0.13)       0.00 (0.06)  \n",
      "  stage2a (mean (SD))                           0.01 (0.09)       0.00 (0.02)  \n",
      "  stage3a (mean (SD))                           0.01 (0.10)       0.00 (0.02)  \n",
      "  stage1b (mean (SD))                           0.00 (0.02)       0.00 (0.00)  \n",
      "  stage2b (mean (SD))                           0.00 (0.07)       0.00 (0.02)  \n",
      "  stage3b (mean (SD))                           0.00 (0.06)       0.00 (0.00)  \n",
      "                                            Stratified by label\n",
      "                                             p      test\n",
      "  n                                                     \n",
      "  age (mean (SD))                            <0.001     \n",
      "  gender_female (mean (SD))                  <0.001     \n",
      "  smoking_status (mean (SD))                 <0.001     \n",
      "  alcohol_assessment (mean (SD))             <0.001     \n",
      "  bmi (mean (SD))                            <0.001     \n",
      "  chronic_obstructive_bronchitis (mean (SD)) <0.001     \n",
      "  pneumonia (mean (SD))                      <0.001     \n",
      "  asthma (mean (SD))                          0.206     \n",
      "  dvt (mean (SD))                            <0.001     \n",
      "  Followup (mean (SD))                       <0.001     \n",
      "  statin (mean (SD))                         <0.001     \n",
      "  asian (mean (SD))                           0.994     \n",
      "  white (mean (SD))                           0.002     \n",
      "  black (mean (SD))                           0.005     \n",
      "  hawaiian (mean (SD))                        0.077     \n",
      "  native (mean (SD))                          0.003     \n",
      "  no_cancer (mean (SD))                      <0.001     \n",
      "  stage4 (mean (SD))                          0.002     \n",
      "  stage1a (mean (SD))                        <0.001     \n",
      "  stage2a (mean (SD))                         0.001     \n",
      "  stage3a (mean (SD))                        <0.001     \n",
      "  stage1b (mean (SD))                         0.527     \n",
      "  stage2b (mean (SD))                         0.019     \n",
      "  stage3b (mean (SD))                         0.018     \n"
     ]
    }
   ],
   "source": [
    "# Define the list of variables to summarize (exclude the exposure variable itself)\n",
    "variables <- setdiff(names(Df_regression_unique), \"label\")\n",
    "\n",
    "# Create a table stratified by the exposure variable\n",
    "summary_table <- CreateTableOne(vars = variables, strata = \"label\", data = Df_regression_unique)\n",
    "\n",
    "# Print the table\n",
    "print(summary_table)"
   ]
  },
  {
   "cell_type": "markdown",
   "id": "7fb295fe",
   "metadata": {},
   "source": [
    "## Step 3: Export the summary table as a CSV\n",
    "---"
   ]
  },
  {
   "cell_type": "code",
   "execution_count": 281,
   "id": "22dfa6e3",
   "metadata": {},
   "outputs": [
    {
     "name": "stdout",
     "output_type": "stream",
     "text": [
      "                                            Stratified by label\n",
      "                                             0                 1               \n",
      "  n                                          4239              1697            \n",
      "  age (mean (SD))                            63.04 (7.61)      69.21 (8.96)    \n",
      "  gender_female (mean (SD))                  0.40 (0.49)       0.10 (0.30)     \n",
      "  smoking_status (mean (SD))                 0.39 (0.49)       0.49 (0.50)     \n",
      "  alcohol_assessment (mean (SD))             0.87 (0.34)       0.73 (0.44)     \n",
      "  bmi (mean (SD))                            28.85 (1.95)      28.57 (1.98)    \n",
      "  chronic_obstructive_bronchitis (mean (SD)) 0.03 (0.17)       0.00 (0.06)     \n",
      "  pneumonia (mean (SD))                      0.04 (0.20)       0.00 (0.02)     \n",
      "  asthma (mean (SD))                         0.00 (0.03)       0.00 (0.00)     \n",
      "  dvt (mean (SD))                            0.01 (0.11)       0.00 (0.00)     \n",
      "  Followup (mean (SD))                       1829.19 (1055.41) 2394.76 (881.41)\n",
      "  statin (mean (SD))                         0.18 (0.38)       0.25 (0.43)     \n",
      "  asian (mean (SD))                          0.07 (0.26)       0.07 (0.26)     \n",
      "  white (mean (SD))                          0.81 (0.39)       0.84 (0.36)     \n",
      "  black (mean (SD))                          0.09 (0.29)       0.07 (0.25)     \n",
      "  hawaiian (mean (SD))                       0.01 (0.11)       0.01 (0.08)     \n",
      "  native (mean (SD))                         0.01 (0.08)       0.00 (0.02)     \n",
      "  no_cancer (mean (SD))                      0.95 (0.22)       0.99 (0.08)     \n",
      "  stage4 (mean (SD))                         0.01 (0.08)       0.00 (0.00)     \n",
      "  stage1a (mean (SD))                        0.02 (0.13)       0.00 (0.06)     \n",
      "  stage2a (mean (SD))                        0.01 (0.09)       0.00 (0.02)     \n",
      "  stage3a (mean (SD))                        0.01 (0.10)       0.00 (0.02)     \n",
      "  stage1b (mean (SD))                        0.00 (0.02)       0.00 (0.00)     \n",
      "  stage2b (mean (SD))                        0.00 (0.07)       0.00 (0.02)     \n",
      "  stage3b (mean (SD))                        0.00 (0.06)       0.00 (0.00)     \n",
      "                                            Stratified by label\n",
      "                                             p      test\n",
      "  n                                                     \n",
      "  age (mean (SD))                            <0.001     \n",
      "  gender_female (mean (SD))                  <0.001     \n",
      "  smoking_status (mean (SD))                 <0.001     \n",
      "  alcohol_assessment (mean (SD))             <0.001     \n",
      "  bmi (mean (SD))                            <0.001     \n",
      "  chronic_obstructive_bronchitis (mean (SD)) <0.001     \n",
      "  pneumonia (mean (SD))                      <0.001     \n",
      "  asthma (mean (SD))                         0.206      \n",
      "  dvt (mean (SD))                            <0.001     \n",
      "  Followup (mean (SD))                       <0.001     \n",
      "  statin (mean (SD))                         <0.001     \n",
      "  asian (mean (SD))                          0.994      \n",
      "  white (mean (SD))                          0.002      \n",
      "  black (mean (SD))                          0.005      \n",
      "  hawaiian (mean (SD))                       0.077      \n",
      "  native (mean (SD))                         0.003      \n",
      "  no_cancer (mean (SD))                      <0.001     \n",
      "  stage4 (mean (SD))                         0.002      \n",
      "  stage1a (mean (SD))                        <0.001     \n",
      "  stage2a (mean (SD))                        0.001      \n",
      "  stage3a (mean (SD))                        <0.001     \n",
      "  stage1b (mean (SD))                        0.527      \n",
      "  stage2b (mean (SD))                        0.019      \n",
      "  stage3b (mean (SD))                        0.018      \n"
     ]
    }
   ],
   "source": [
    "# Extract the table as a matrix\n",
    "summary_matrix <- print(summary_table, quote = FALSE, noSpaces = TRUE)\n",
    "\n",
    "# Convert the matrix to a data.frame\n",
    "summary_df <- as.data.frame(summary_matrix)\n",
    "\n",
    "# Write the data.frame to a CSV file\n",
    "write.csv(summary_df, \"summary_table_exercise_1.csv\", row.names = TRUE)"
   ]
  },
  {
   "cell_type": "markdown",
   "id": "21d7d7ac",
   "metadata": {},
   "source": [
    "## Step 4: Include p-values for comparisons between exposure groups\n",
    "---"
   ]
  },
  {
   "cell_type": "code",
   "execution_count": 282,
   "id": "adcac0ba",
   "metadata": {},
   "outputs": [
    {
     "name": "stdout",
     "output_type": "stream",
     "text": [
      "                                            Stratified by label\n",
      "                                             level 0                \n",
      "  n                                                   4239          \n",
      "  age (mean (SD))                                    63.04 (7.61)   \n",
      "  gender_female (mean (SD))                           0.40 (0.49)   \n",
      "  smoking_status (mean (SD))                          0.39 (0.49)   \n",
      "  alcohol_assessment (mean (SD))                      0.87 (0.34)   \n",
      "  bmi (mean (SD))                                    28.85 (1.95)   \n",
      "  chronic_obstructive_bronchitis (mean (SD))          0.03 (0.17)   \n",
      "  pneumonia (mean (SD))                               0.04 (0.20)   \n",
      "  asthma (mean (SD))                                  0.00 (0.03)   \n",
      "  dvt (mean (SD))                                     0.01 (0.11)   \n",
      "  Followup (mean (SD))                             1829.19 (1055.41)\n",
      "  statin (mean (SD))                                  0.18 (0.38)   \n",
      "  asian (mean (SD))                                   0.07 (0.26)   \n",
      "  white (mean (SD))                                   0.81 (0.39)   \n",
      "  black (mean (SD))                                   0.09 (0.29)   \n",
      "  hawaiian (mean (SD))                                0.01 (0.11)   \n",
      "  native (mean (SD))                                  0.01 (0.08)   \n",
      "  no_cancer (mean (SD))                               0.95 (0.22)   \n",
      "  stage4 (mean (SD))                                  0.01 (0.08)   \n",
      "  stage1a (mean (SD))                                 0.02 (0.13)   \n",
      "  stage2a (mean (SD))                                 0.01 (0.09)   \n",
      "  stage3a (mean (SD))                                 0.01 (0.10)   \n",
      "  stage1b (mean (SD))                                 0.00 (0.02)   \n",
      "  stage2b (mean (SD))                                 0.00 (0.07)   \n",
      "  stage3b (mean (SD))                                 0.00 (0.06)   \n",
      "                                            Stratified by label\n",
      "                                             1                p      test\n",
      "  n                                             1697                     \n",
      "  age (mean (SD))                              69.21 (8.96)   <0.001     \n",
      "  gender_female (mean (SD))                     0.10 (0.30)   <0.001     \n",
      "  smoking_status (mean (SD))                    0.49 (0.50)   <0.001     \n",
      "  alcohol_assessment (mean (SD))                0.73 (0.44)   <0.001     \n",
      "  bmi (mean (SD))                              28.57 (1.98)   <0.001     \n",
      "  chronic_obstructive_bronchitis (mean (SD))    0.00 (0.06)   <0.001     \n",
      "  pneumonia (mean (SD))                         0.00 (0.02)   <0.001     \n",
      "  asthma (mean (SD))                            0.00 (0.00)    0.206     \n",
      "  dvt (mean (SD))                               0.00 (0.00)   <0.001     \n",
      "  Followup (mean (SD))                       2394.76 (881.41) <0.001     \n",
      "  statin (mean (SD))                            0.25 (0.43)   <0.001     \n",
      "  asian (mean (SD))                             0.07 (0.26)    0.994     \n",
      "  white (mean (SD))                             0.84 (0.36)    0.002     \n",
      "  black (mean (SD))                             0.07 (0.25)    0.005     \n",
      "  hawaiian (mean (SD))                          0.01 (0.08)    0.077     \n",
      "  native (mean (SD))                            0.00 (0.02)    0.003     \n",
      "  no_cancer (mean (SD))                         0.99 (0.08)   <0.001     \n",
      "  stage4 (mean (SD))                            0.00 (0.00)    0.002     \n",
      "  stage1a (mean (SD))                           0.00 (0.06)   <0.001     \n",
      "  stage2a (mean (SD))                           0.00 (0.02)    0.001     \n",
      "  stage3a (mean (SD))                           0.00 (0.02)   <0.001     \n",
      "  stage1b (mean (SD))                           0.00 (0.00)    0.527     \n",
      "  stage2b (mean (SD))                           0.00 (0.02)    0.019     \n",
      "  stage3b (mean (SD))                           0.00 (0.00)    0.018     \n"
     ]
    }
   ],
   "source": [
    "print(summary_table, showAllLevels = TRUE, test = TRUE)"
   ]
  },
  {
   "cell_type": "markdown",
   "id": "d788db8b",
   "metadata": {},
   "source": [
    "## Step 5: Save the preprocessed data as a .csv file (for the python users) and .R file (for the R users)\n",
    "---"
   ]
  },
  {
   "cell_type": "code",
   "execution_count": 283,
   "id": "cbfe8155",
   "metadata": {},
   "outputs": [],
   "source": [
    "write.csv(Df_regression_unique, \"cleaned_data.csv\", row.names = FALSE)"
   ]
  },
  {
   "cell_type": "code",
   "execution_count": 284,
   "id": "a4b00d15",
   "metadata": {},
   "outputs": [],
   "source": [
    "save(Df_regression_unique, file = \"cleaned_data.RData\")"
   ]
  },
  {
   "cell_type": "markdown",
   "id": "8bbbda6c",
   "metadata": {},
   "source": [
    "## Step 6: Verify by loading the Rdata\n",
    "---"
   ]
  },
  {
   "cell_type": "code",
   "execution_count": 285,
   "id": "58b83c1c",
   "metadata": {},
   "outputs": [],
   "source": [
    "load(\"cleaned_data.RData\")"
   ]
  },
  {
   "cell_type": "code",
   "execution_count": 286,
   "id": "a038ccd9",
   "metadata": {},
   "outputs": [
    {
     "data": {
      "text/html": [
       "<style>\n",
       ".list-inline {list-style: none; margin:0; padding: 0}\n",
       ".list-inline>li {display: inline-block}\n",
       ".list-inline>li:not(:last-child)::after {content: \"\\00b7\"; padding: 0 .5ex}\n",
       "</style>\n",
       "<ol class=list-inline><li>'Codes_dictionary'</li><li>'Df_regression_unique'</li><li>'name_map'</li><li>'summary_df'</li><li>'summary_matrix'</li><li>'summary_table'</li><li>'variables'</li></ol>\n"
      ],
      "text/latex": [
       "\\begin{enumerate*}\n",
       "\\item 'Codes\\_dictionary'\n",
       "\\item 'Df\\_regression\\_unique'\n",
       "\\item 'name\\_map'\n",
       "\\item 'summary\\_df'\n",
       "\\item 'summary\\_matrix'\n",
       "\\item 'summary\\_table'\n",
       "\\item 'variables'\n",
       "\\end{enumerate*}\n"
      ],
      "text/markdown": [
       "1. 'Codes_dictionary'\n",
       "2. 'Df_regression_unique'\n",
       "3. 'name_map'\n",
       "4. 'summary_df'\n",
       "5. 'summary_matrix'\n",
       "6. 'summary_table'\n",
       "7. 'variables'\n",
       "\n",
       "\n"
      ],
      "text/plain": [
       "[1] \"Codes_dictionary\"     \"Df_regression_unique\" \"name_map\"            \n",
       "[4] \"summary_df\"           \"summary_matrix\"       \"summary_table\"       \n",
       "[7] \"variables\"           "
      ]
     },
     "metadata": {},
     "output_type": "display_data"
    }
   ],
   "source": [
    "ls()"
   ]
  },
  {
   "cell_type": "code",
   "execution_count": 287,
   "id": "f36e68ca",
   "metadata": {},
   "outputs": [
    {
     "data": {
      "text/html": [
       "<table class=\"dataframe\">\n",
       "<caption>A data.frame: 6 × 25</caption>\n",
       "<thead>\n",
       "\t<tr><th></th><th scope=col>label</th><th scope=col>age</th><th scope=col>gender_female</th><th scope=col>smoking_status</th><th scope=col>alcohol_assessment</th><th scope=col>bmi</th><th scope=col>chronic_obstructive_bronchitis</th><th scope=col>pneumonia</th><th scope=col>asthma</th><th scope=col>dvt</th><th scope=col>⋯</th><th scope=col>hawaiian</th><th scope=col>native</th><th scope=col>no_cancer</th><th scope=col>stage4</th><th scope=col>stage1a</th><th scope=col>stage2a</th><th scope=col>stage3a</th><th scope=col>stage1b</th><th scope=col>stage2b</th><th scope=col>stage3b</th></tr>\n",
       "\t<tr><th></th><th scope=col>&lt;dbl&gt;</th><th scope=col>&lt;dbl&gt;</th><th scope=col>&lt;dbl&gt;</th><th scope=col>&lt;dbl&gt;</th><th scope=col>&lt;int&gt;</th><th scope=col>&lt;dbl&gt;</th><th scope=col>&lt;int&gt;</th><th scope=col>&lt;int&gt;</th><th scope=col>&lt;int&gt;</th><th scope=col>&lt;int&gt;</th><th scope=col>⋯</th><th scope=col>&lt;dbl&gt;</th><th scope=col>&lt;dbl&gt;</th><th scope=col>&lt;dbl&gt;</th><th scope=col>&lt;dbl&gt;</th><th scope=col>&lt;dbl&gt;</th><th scope=col>&lt;dbl&gt;</th><th scope=col>&lt;dbl&gt;</th><th scope=col>&lt;dbl&gt;</th><th scope=col>&lt;dbl&gt;</th><th scope=col>&lt;dbl&gt;</th></tr>\n",
       "</thead>\n",
       "<tbody>\n",
       "\t<tr><th scope=row>5933</th><td>0</td><td>53</td><td>1</td><td>0</td><td>1</td><td>29.66</td><td>0</td><td>0</td><td>0</td><td>0</td><td>⋯</td><td>0</td><td>0</td><td>1</td><td>0</td><td>0</td><td>0</td><td>0</td><td>0</td><td>0</td><td>0</td></tr>\n",
       "\t<tr><th scope=row>5934</th><td>0</td><td>70</td><td>0</td><td>1</td><td>1</td><td>30.06</td><td>0</td><td>0</td><td>0</td><td>0</td><td>⋯</td><td>0</td><td>0</td><td>1</td><td>0</td><td>0</td><td>0</td><td>0</td><td>0</td><td>0</td><td>0</td></tr>\n",
       "\t<tr><th scope=row>5935</th><td>0</td><td>70</td><td>0</td><td>0</td><td>1</td><td>31.07</td><td>0</td><td>0</td><td>0</td><td>0</td><td>⋯</td><td>0</td><td>0</td><td>1</td><td>0</td><td>0</td><td>0</td><td>0</td><td>0</td><td>0</td><td>0</td></tr>\n",
       "\t<tr><th scope=row>5936</th><td>1</td><td>75</td><td>0</td><td>0</td><td>1</td><td>29.60</td><td>0</td><td>0</td><td>0</td><td>0</td><td>⋯</td><td>0</td><td>0</td><td>1</td><td>0</td><td>0</td><td>0</td><td>0</td><td>0</td><td>0</td><td>0</td></tr>\n",
       "\t<tr><th scope=row>5937</th><td>0</td><td>59</td><td>0</td><td>0</td><td>1</td><td>27.30</td><td>0</td><td>0</td><td>0</td><td>0</td><td>⋯</td><td>0</td><td>0</td><td>1</td><td>0</td><td>0</td><td>0</td><td>0</td><td>0</td><td>0</td><td>0</td></tr>\n",
       "\t<tr><th scope=row>5938</th><td>0</td><td>46</td><td>1</td><td>1</td><td>1</td><td>27.60</td><td>0</td><td>0</td><td>0</td><td>0</td><td>⋯</td><td>0</td><td>0</td><td>1</td><td>0</td><td>0</td><td>0</td><td>0</td><td>0</td><td>0</td><td>0</td></tr>\n",
       "</tbody>\n",
       "</table>\n"
      ],
      "text/latex": [
       "A data.frame: 6 × 25\n",
       "\\begin{tabular}{r|lllllllllllllllllllll}\n",
       "  & label & age & gender\\_female & smoking\\_status & alcohol\\_assessment & bmi & chronic\\_obstructive\\_bronchitis & pneumonia & asthma & dvt & ⋯ & hawaiian & native & no\\_cancer & stage4 & stage1a & stage2a & stage3a & stage1b & stage2b & stage3b\\\\\n",
       "  & <dbl> & <dbl> & <dbl> & <dbl> & <int> & <dbl> & <int> & <int> & <int> & <int> & ⋯ & <dbl> & <dbl> & <dbl> & <dbl> & <dbl> & <dbl> & <dbl> & <dbl> & <dbl> & <dbl>\\\\\n",
       "\\hline\n",
       "\t5933 & 0 & 53 & 1 & 0 & 1 & 29.66 & 0 & 0 & 0 & 0 & ⋯ & 0 & 0 & 1 & 0 & 0 & 0 & 0 & 0 & 0 & 0\\\\\n",
       "\t5934 & 0 & 70 & 0 & 1 & 1 & 30.06 & 0 & 0 & 0 & 0 & ⋯ & 0 & 0 & 1 & 0 & 0 & 0 & 0 & 0 & 0 & 0\\\\\n",
       "\t5935 & 0 & 70 & 0 & 0 & 1 & 31.07 & 0 & 0 & 0 & 0 & ⋯ & 0 & 0 & 1 & 0 & 0 & 0 & 0 & 0 & 0 & 0\\\\\n",
       "\t5936 & 1 & 75 & 0 & 0 & 1 & 29.60 & 0 & 0 & 0 & 0 & ⋯ & 0 & 0 & 1 & 0 & 0 & 0 & 0 & 0 & 0 & 0\\\\\n",
       "\t5937 & 0 & 59 & 0 & 0 & 1 & 27.30 & 0 & 0 & 0 & 0 & ⋯ & 0 & 0 & 1 & 0 & 0 & 0 & 0 & 0 & 0 & 0\\\\\n",
       "\t5938 & 0 & 46 & 1 & 1 & 1 & 27.60 & 0 & 0 & 0 & 0 & ⋯ & 0 & 0 & 1 & 0 & 0 & 0 & 0 & 0 & 0 & 0\\\\\n",
       "\\end{tabular}\n"
      ],
      "text/markdown": [
       "\n",
       "A data.frame: 6 × 25\n",
       "\n",
       "| <!--/--> | label &lt;dbl&gt; | age &lt;dbl&gt; | gender_female &lt;dbl&gt; | smoking_status &lt;dbl&gt; | alcohol_assessment &lt;int&gt; | bmi &lt;dbl&gt; | chronic_obstructive_bronchitis &lt;int&gt; | pneumonia &lt;int&gt; | asthma &lt;int&gt; | dvt &lt;int&gt; | ⋯ ⋯ | hawaiian &lt;dbl&gt; | native &lt;dbl&gt; | no_cancer &lt;dbl&gt; | stage4 &lt;dbl&gt; | stage1a &lt;dbl&gt; | stage2a &lt;dbl&gt; | stage3a &lt;dbl&gt; | stage1b &lt;dbl&gt; | stage2b &lt;dbl&gt; | stage3b &lt;dbl&gt; |\n",
       "|---|---|---|---|---|---|---|---|---|---|---|---|---|---|---|---|---|---|---|---|---|---|\n",
       "| 5933 | 0 | 53 | 1 | 0 | 1 | 29.66 | 0 | 0 | 0 | 0 | ⋯ | 0 | 0 | 1 | 0 | 0 | 0 | 0 | 0 | 0 | 0 |\n",
       "| 5934 | 0 | 70 | 0 | 1 | 1 | 30.06 | 0 | 0 | 0 | 0 | ⋯ | 0 | 0 | 1 | 0 | 0 | 0 | 0 | 0 | 0 | 0 |\n",
       "| 5935 | 0 | 70 | 0 | 0 | 1 | 31.07 | 0 | 0 | 0 | 0 | ⋯ | 0 | 0 | 1 | 0 | 0 | 0 | 0 | 0 | 0 | 0 |\n",
       "| 5936 | 1 | 75 | 0 | 0 | 1 | 29.60 | 0 | 0 | 0 | 0 | ⋯ | 0 | 0 | 1 | 0 | 0 | 0 | 0 | 0 | 0 | 0 |\n",
       "| 5937 | 0 | 59 | 0 | 0 | 1 | 27.30 | 0 | 0 | 0 | 0 | ⋯ | 0 | 0 | 1 | 0 | 0 | 0 | 0 | 0 | 0 | 0 |\n",
       "| 5938 | 0 | 46 | 1 | 1 | 1 | 27.60 | 0 | 0 | 0 | 0 | ⋯ | 0 | 0 | 1 | 0 | 0 | 0 | 0 | 0 | 0 | 0 |\n",
       "\n"
      ],
      "text/plain": [
       "     label age gender_female smoking_status alcohol_assessment bmi  \n",
       "5933 0     53  1             0              1                  29.66\n",
       "5934 0     70  0             1              1                  30.06\n",
       "5935 0     70  0             0              1                  31.07\n",
       "5936 1     75  0             0              1                  29.60\n",
       "5937 0     59  0             0              1                  27.30\n",
       "5938 0     46  1             1              1                  27.60\n",
       "     chronic_obstructive_bronchitis pneumonia asthma dvt ⋯ hawaiian native\n",
       "5933 0                              0         0      0   ⋯ 0        0     \n",
       "5934 0                              0         0      0   ⋯ 0        0     \n",
       "5935 0                              0         0      0   ⋯ 0        0     \n",
       "5936 0                              0         0      0   ⋯ 0        0     \n",
       "5937 0                              0         0      0   ⋯ 0        0     \n",
       "5938 0                              0         0      0   ⋯ 0        0     \n",
       "     no_cancer stage4 stage1a stage2a stage3a stage1b stage2b stage3b\n",
       "5933 1         0      0       0       0       0       0       0      \n",
       "5934 1         0      0       0       0       0       0       0      \n",
       "5935 1         0      0       0       0       0       0       0      \n",
       "5936 1         0      0       0       0       0       0       0      \n",
       "5937 1         0      0       0       0       0       0       0      \n",
       "5938 1         0      0       0       0       0       0       0      "
      ]
     },
     "metadata": {},
     "output_type": "display_data"
    }
   ],
   "source": [
    "tail(Df_regression_unique)"
   ]
  },
  {
   "cell_type": "code",
   "execution_count": null,
   "id": "b7da5482",
   "metadata": {},
   "outputs": [],
   "source": []
  },
  {
   "cell_type": "code",
   "execution_count": null,
   "id": "fd1cf844",
   "metadata": {},
   "outputs": [],
   "source": []
  }
 ],
 "metadata": {
  "kernelspec": {
   "display_name": "R",
   "language": "R",
   "name": "ir"
  },
  "language_info": {
   "codemirror_mode": "r",
   "file_extension": ".r",
   "mimetype": "text/x-r-source",
   "name": "R",
   "pygments_lexer": "r",
   "version": "4.4.2"
  }
 },
 "nbformat": 4,
 "nbformat_minor": 5
}
