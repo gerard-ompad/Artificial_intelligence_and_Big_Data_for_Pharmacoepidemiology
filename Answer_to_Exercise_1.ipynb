{
 "cells": [
  {
   "cell_type": "markdown",
   "id": "d4afc910",
   "metadata": {},
   "source": [
    "# Question 1: Dataset Overview\n",
    "---\n",
    "\n",
    "- Begin by loading the dataset and using summary functions to gain an initial understanding of the variables, their types, and the presence of any missing data. Discuss the importance of assessing data structures in the context of statistical modeling."
   ]
  },
  {
   "cell_type": "markdown",
   "id": "94c91e0e",
   "metadata": {},
   "source": [
    "## Step 0: Install the necessary packages and load them\n",
    "---"
   ]
  },
  {
   "cell_type": "code",
   "execution_count": 1,
   "id": "b7264c82",
   "metadata": {},
   "outputs": [
    {
     "name": "stdout",
     "output_type": "stream",
     "text": [
      "\n",
      "The downloaded binary packages are in\n",
      "\t/var/folders/nv/sjj_9gb52674c8ktybqghkm80000gq/T//Rtmph6jHIk/downloaded_packages\n",
      "\n",
      "The downloaded binary packages are in\n",
      "\t/var/folders/nv/sjj_9gb52674c8ktybqghkm80000gq/T//Rtmph6jHIk/downloaded_packages\n",
      "\n",
      "The downloaded binary packages are in\n",
      "\t/var/folders/nv/sjj_9gb52674c8ktybqghkm80000gq/T//Rtmph6jHIk/downloaded_packages\n"
     ]
    }
   ],
   "source": [
    "install.packages(\"dplyr\")\n",
    "install.packages(\"fastDummies\")\n",
    "install.packages(\"tableone\")"
   ]
  },
  {
   "cell_type": "code",
   "execution_count": 2,
   "id": "b1bab666",
   "metadata": {},
   "outputs": [
    {
     "name": "stderr",
     "output_type": "stream",
     "text": [
      "\n",
      "Attaching package: ‘dplyr’\n",
      "\n",
      "\n",
      "The following objects are masked from ‘package:stats’:\n",
      "\n",
      "    filter, lag\n",
      "\n",
      "\n",
      "The following objects are masked from ‘package:base’:\n",
      "\n",
      "    intersect, setdiff, setequal, union\n",
      "\n",
      "\n"
     ]
    }
   ],
   "source": [
    "library(dplyr)\n",
    "library(fastDummies)\n",
    "library(tableone)"
   ]
  },
  {
   "cell_type": "markdown",
   "id": "3ed09c63",
   "metadata": {},
   "source": [
    "## Step 1: Load the dataset\n",
    "---"
   ]
  },
  {
   "cell_type": "code",
   "execution_count": 3,
   "id": "541b31a2",
   "metadata": {},
   "outputs": [],
   "source": [
    "load(\"Df_regression.RData\")"
   ]
  },
  {
   "cell_type": "markdown",
   "id": "4db5e872",
   "metadata": {},
   "source": [
    "## Step 2: Check the content of the data\n",
    "---"
   ]
  },
  {
   "cell_type": "code",
   "execution_count": 4,
   "id": "a9549181",
   "metadata": {},
   "outputs": [
    {
     "data": {
      "text/html": [
       "'Df_regression_unique'"
      ],
      "text/latex": [
       "'Df\\_regression\\_unique'"
      ],
      "text/markdown": [
       "'Df_regression_unique'"
      ],
      "text/plain": [
       "[1] \"Df_regression_unique\""
      ]
     },
     "metadata": {},
     "output_type": "display_data"
    }
   ],
   "source": [
    "ls()"
   ]
  },
  {
   "cell_type": "markdown",
   "id": "bdf904bd",
   "metadata": {},
   "source": [
    "## Step 3: Check the class of the data\n",
    "---"
   ]
  },
  {
   "cell_type": "code",
   "execution_count": 5,
   "id": "6e9a72f2",
   "metadata": {},
   "outputs": [
    {
     "data": {
      "text/html": [
       "'data.frame'"
      ],
      "text/latex": [
       "'data.frame'"
      ],
      "text/markdown": [
       "'data.frame'"
      ],
      "text/plain": [
       "[1] \"data.frame\""
      ]
     },
     "metadata": {},
     "output_type": "display_data"
    }
   ],
   "source": [
    "class(Df_regression_unique)"
   ]
  },
  {
   "cell_type": "markdown",
   "id": "1ce83287",
   "metadata": {},
   "source": [
    "### Explanation:\n",
    "---\n",
    "1. Df_regression_unique is the 'dataframe' while dataset contains the 'character'.\n",
    "2. It is obvious then that Df_regression_unique contains the data."
   ]
  },
  {
   "cell_type": "markdown",
   "id": "37663a70",
   "metadata": {},
   "source": [
    "## Step 4: Get a snapshot of the data\n",
    "---\n",
    "1. Snapshots are important because we can see how our data looks like without looking at the entire dataset.\n",
    "\n",
    "2. In my practice I usually look at the tail in of the dataset, for me this is ideal because of two things:\n",
    "\n",
    "    a. By using the tail we can check how many rows the dataset is.\n",
    "\n",
    "    b. We can also check the datatype of each columns.\n"
   ]
  },
  {
   "cell_type": "code",
   "execution_count": 6,
   "id": "7eb95e2c",
   "metadata": {},
   "outputs": [
    {
     "data": {
      "text/html": [
       "<table class=\"dataframe\">\n",
       "<caption>A data.frame: 6 × 15</caption>\n",
       "<thead>\n",
       "\t<tr><th></th><th scope=col>ptnum</th><th scope=col>label</th><th scope=col>C-424144002</th><th scope=col>C-263495000</th><th scope=col>C-103579009</th><th scope=col>C-72166-2</th><th scope=col>C-763302001</th><th scope=col>C-39156-5</th><th scope=col>C-185086009</th><th scope=col>C-21908-9</th><th scope=col>C-233604007</th><th scope=col>C-195967001</th><th scope=col>C-132281000119108</th><th scope=col>Followup</th><th scope=col>Exposure</th></tr>\n",
       "\t<tr><th></th><th scope=col>&lt;chr&gt;</th><th scope=col>&lt;dbl&gt;</th><th scope=col>&lt;dbl&gt;</th><th scope=col>&lt;chr&gt;</th><th scope=col>&lt;chr&gt;</th><th scope=col>&lt;chr&gt;</th><th scope=col>&lt;lgl&gt;</th><th scope=col>&lt;dbl&gt;</th><th scope=col>&lt;lgl&gt;</th><th scope=col>&lt;chr&gt;</th><th scope=col>&lt;lgl&gt;</th><th scope=col>&lt;lgl&gt;</th><th scope=col>&lt;lgl&gt;</th><th scope=col>&lt;int&gt;</th><th scope=col>&lt;dbl&gt;</th></tr>\n",
       "</thead>\n",
       "<tbody>\n",
       "\t<tr><th scope=row>5933</th><td>p9972</td><td>0</td><td>53</td><td>f</td><td>white</td><td>never </td><td>TRUE</td><td>29.66</td><td>NA</td><td>NA</td><td>NA</td><td>NA</td><td>NA</td><td> 822</td><td>1</td></tr>\n",
       "\t<tr><th scope=row>5934</th><td>p9976</td><td>0</td><td>70</td><td>m</td><td>white</td><td>former</td><td>TRUE</td><td>30.06</td><td>NA</td><td>NA</td><td>NA</td><td>NA</td><td>NA</td><td>3042</td><td>1</td></tr>\n",
       "\t<tr><th scope=row>5935</th><td>p9982</td><td>0</td><td>70</td><td>m</td><td>black</td><td>never </td><td>TRUE</td><td>31.07</td><td>NA</td><td>NA</td><td>NA</td><td>NA</td><td>NA</td><td>1233</td><td>1</td></tr>\n",
       "\t<tr><th scope=row>5936</th><td>p9992</td><td>1</td><td>75</td><td>m</td><td>white</td><td>never </td><td>TRUE</td><td>29.60</td><td>NA</td><td>NA</td><td>NA</td><td>NA</td><td>NA</td><td>1838</td><td>1</td></tr>\n",
       "\t<tr><th scope=row>5937</th><td>p9996</td><td>0</td><td>59</td><td>m</td><td>white</td><td>never </td><td>TRUE</td><td>27.30</td><td>NA</td><td>NA</td><td>NA</td><td>NA</td><td>NA</td><td>2374</td><td>2</td></tr>\n",
       "\t<tr><th scope=row>5938</th><td>p9998</td><td>0</td><td>46</td><td>f</td><td>white</td><td>former</td><td>TRUE</td><td>27.60</td><td>NA</td><td>NA</td><td>NA</td><td>NA</td><td>NA</td><td> 356</td><td>1</td></tr>\n",
       "</tbody>\n",
       "</table>\n"
      ],
      "text/latex": [
       "A data.frame: 6 × 15\n",
       "\\begin{tabular}{r|lllllllllllllll}\n",
       "  & ptnum & label & C-424144002 & C-263495000 & C-103579009 & C-72166-2 & C-763302001 & C-39156-5 & C-185086009 & C-21908-9 & C-233604007 & C-195967001 & C-132281000119108 & Followup & Exposure\\\\\n",
       "  & <chr> & <dbl> & <dbl> & <chr> & <chr> & <chr> & <lgl> & <dbl> & <lgl> & <chr> & <lgl> & <lgl> & <lgl> & <int> & <dbl>\\\\\n",
       "\\hline\n",
       "\t5933 & p9972 & 0 & 53 & f & white & never  & TRUE & 29.66 & NA & NA & NA & NA & NA &  822 & 1\\\\\n",
       "\t5934 & p9976 & 0 & 70 & m & white & former & TRUE & 30.06 & NA & NA & NA & NA & NA & 3042 & 1\\\\\n",
       "\t5935 & p9982 & 0 & 70 & m & black & never  & TRUE & 31.07 & NA & NA & NA & NA & NA & 1233 & 1\\\\\n",
       "\t5936 & p9992 & 1 & 75 & m & white & never  & TRUE & 29.60 & NA & NA & NA & NA & NA & 1838 & 1\\\\\n",
       "\t5937 & p9996 & 0 & 59 & m & white & never  & TRUE & 27.30 & NA & NA & NA & NA & NA & 2374 & 2\\\\\n",
       "\t5938 & p9998 & 0 & 46 & f & white & former & TRUE & 27.60 & NA & NA & NA & NA & NA &  356 & 1\\\\\n",
       "\\end{tabular}\n"
      ],
      "text/markdown": [
       "\n",
       "A data.frame: 6 × 15\n",
       "\n",
       "| <!--/--> | ptnum &lt;chr&gt; | label &lt;dbl&gt; | C-424144002 &lt;dbl&gt; | C-263495000 &lt;chr&gt; | C-103579009 &lt;chr&gt; | C-72166-2 &lt;chr&gt; | C-763302001 &lt;lgl&gt; | C-39156-5 &lt;dbl&gt; | C-185086009 &lt;lgl&gt; | C-21908-9 &lt;chr&gt; | C-233604007 &lt;lgl&gt; | C-195967001 &lt;lgl&gt; | C-132281000119108 &lt;lgl&gt; | Followup &lt;int&gt; | Exposure &lt;dbl&gt; |\n",
       "|---|---|---|---|---|---|---|---|---|---|---|---|---|---|---|---|\n",
       "| 5933 | p9972 | 0 | 53 | f | white | never  | TRUE | 29.66 | NA | NA | NA | NA | NA |  822 | 1 |\n",
       "| 5934 | p9976 | 0 | 70 | m | white | former | TRUE | 30.06 | NA | NA | NA | NA | NA | 3042 | 1 |\n",
       "| 5935 | p9982 | 0 | 70 | m | black | never  | TRUE | 31.07 | NA | NA | NA | NA | NA | 1233 | 1 |\n",
       "| 5936 | p9992 | 1 | 75 | m | white | never  | TRUE | 29.60 | NA | NA | NA | NA | NA | 1838 | 1 |\n",
       "| 5937 | p9996 | 0 | 59 | m | white | never  | TRUE | 27.30 | NA | NA | NA | NA | NA | 2374 | 2 |\n",
       "| 5938 | p9998 | 0 | 46 | f | white | former | TRUE | 27.60 | NA | NA | NA | NA | NA |  356 | 1 |\n",
       "\n"
      ],
      "text/plain": [
       "     ptnum label C-424144002 C-263495000 C-103579009 C-72166-2 C-763302001\n",
       "5933 p9972 0     53          f           white       never     TRUE       \n",
       "5934 p9976 0     70          m           white       former    TRUE       \n",
       "5935 p9982 0     70          m           black       never     TRUE       \n",
       "5936 p9992 1     75          m           white       never     TRUE       \n",
       "5937 p9996 0     59          m           white       never     TRUE       \n",
       "5938 p9998 0     46          f           white       former    TRUE       \n",
       "     C-39156-5 C-185086009 C-21908-9 C-233604007 C-195967001 C-132281000119108\n",
       "5933 29.66     NA          NA        NA          NA          NA               \n",
       "5934 30.06     NA          NA        NA          NA          NA               \n",
       "5935 31.07     NA          NA        NA          NA          NA               \n",
       "5936 29.60     NA          NA        NA          NA          NA               \n",
       "5937 27.30     NA          NA        NA          NA          NA               \n",
       "5938 27.60     NA          NA        NA          NA          NA               \n",
       "     Followup Exposure\n",
       "5933  822     1       \n",
       "5934 3042     1       \n",
       "5935 1233     1       \n",
       "5936 1838     1       \n",
       "5937 2374     2       \n",
       "5938  356     1       "
      ]
     },
     "metadata": {},
     "output_type": "display_data"
    }
   ],
   "source": [
    "tail(Df_regression_unique)"
   ]
  },
  {
   "cell_type": "markdown",
   "id": "01c67057",
   "metadata": {},
   "source": [
    "## Step 5: Counting the number of nulls in the columns.\n",
    "---\n",
    "1. In the previous cell we have observed that columns: C-1850860095796, C-21908-95715C-2336040075754, C-1959670015932, and C-1322810001191085880 contains null.\n",
    "\n",
    "2. Strategy: \n",
    "\n",
    "    a. We know that the total number of columns is 5,938, we need to compare how many nulls are in these columns.\n",
    "    b. If the nulls are greater than 50% that is:\n",
    "    \n",
    "    $\\text{% null} = \\frac{\\text{total number of nulls in a column}}{\\text{total number of rows}}$\n",
    "    \n",
    "    then it is better to drop the columns with more than 50% missing than spending effort on testing if the nulls are missing by random."
   ]
  },
  {
   "cell_type": "code",
   "execution_count": 7,
   "id": "26572623",
   "metadata": {},
   "outputs": [
    {
     "data": {
      "text/html": [
       "<style>\n",
       ".dl-inline {width: auto; margin:0; padding: 0}\n",
       ".dl-inline>dt, .dl-inline>dd {float: none; width: auto; display: inline-block}\n",
       ".dl-inline>dt::after {content: \":\\0020\"; padding-right: .5ex}\n",
       ".dl-inline>dt:not(:first-of-type) {padding-left: .5ex}\n",
       "</style><dl class=dl-inline><dt>ptnum</dt><dd>0</dd><dt>label</dt><dd>0</dd><dt>C-424144002</dt><dd>0</dd><dt>C-263495000</dt><dd>0</dd><dt>C-103579009</dt><dd>0</dd><dt>C-72166-2</dt><dd>0</dd><dt>C-763302001</dt><dd>1020</dd><dt>C-39156-5</dt><dd>0</dd><dt>C-185086009</dt><dd>5796</dd><dt>C-21908-9</dt><dd>5715</dd><dt>C-233604007</dt><dd>5754</dd><dt>C-195967001</dt><dd>5932</dd><dt>C-132281000119108</dt><dd>5880</dd><dt>Followup</dt><dd>0</dd><dt>Exposure</dt><dd>0</dd></dl>\n"
      ],
      "text/latex": [
       "\\begin{description*}\n",
       "\\item[ptnum] 0\n",
       "\\item[label] 0\n",
       "\\item[C-424144002] 0\n",
       "\\item[C-263495000] 0\n",
       "\\item[C-103579009] 0\n",
       "\\item[C-72166-2] 0\n",
       "\\item[C-763302001] 1020\n",
       "\\item[C-39156-5] 0\n",
       "\\item[C-185086009] 5796\n",
       "\\item[C-21908-9] 5715\n",
       "\\item[C-233604007] 5754\n",
       "\\item[C-195967001] 5932\n",
       "\\item[C-132281000119108] 5880\n",
       "\\item[Followup] 0\n",
       "\\item[Exposure] 0\n",
       "\\end{description*}\n"
      ],
      "text/markdown": [
       "ptnum\n",
       ":   0label\n",
       ":   0C-424144002\n",
       ":   0C-263495000\n",
       ":   0C-103579009\n",
       ":   0C-72166-2\n",
       ":   0C-763302001\n",
       ":   1020C-39156-5\n",
       ":   0C-185086009\n",
       ":   5796C-21908-9\n",
       ":   5715C-233604007\n",
       ":   5754C-195967001\n",
       ":   5932C-132281000119108\n",
       ":   5880Followup\n",
       ":   0Exposure\n",
       ":   0\n",
       "\n"
      ],
      "text/plain": [
       "            ptnum             label       C-424144002       C-263495000 \n",
       "                0                 0                 0                 0 \n",
       "      C-103579009         C-72166-2       C-763302001         C-39156-5 \n",
       "                0                 0              1020                 0 \n",
       "      C-185086009         C-21908-9       C-233604007       C-195967001 \n",
       "             5796              5715              5754              5932 \n",
       "C-132281000119108          Followup          Exposure \n",
       "             5880                 0                 0 "
      ]
     },
     "metadata": {},
     "output_type": "display_data"
    }
   ],
   "source": [
    "colSums(is.na(Df_regression_unique))"
   ]
  },
  {
   "cell_type": "markdown",
   "id": "f5e4f5e1",
   "metadata": {},
   "source": [
    "## Step 6: Remove columns with more than 50% missing values.\n",
    "---\n",
    "Note: Make sure the dplyr library is installed here.\n",
    "\n",
    "If the column names contain special characters (like -), the dplyr package is a more robust solution. Use backticks (\"<name column here>\") to reference such column names."
   ]
  },
  {
   "cell_type": "code",
   "execution_count": 8,
   "id": "d7e4b351",
   "metadata": {},
   "outputs": [],
   "source": [
    "Df_regression_unique <- Df_regression_unique %>% select(-\"C-185086009\", -\"C-21908-9\", -\"C-233604007\", -\"C-195967001\", -\"C-132281000119108\")"
   ]
  },
  {
   "cell_type": "markdown",
   "id": "587b5e08",
   "metadata": {},
   "source": [
    "## Step 7: Check is the columns are properly removed.\n",
    "---"
   ]
  },
  {
   "cell_type": "code",
   "execution_count": 9,
   "id": "d6f1bbec",
   "metadata": {},
   "outputs": [
    {
     "data": {
      "text/html": [
       "<table class=\"dataframe\">\n",
       "<caption>A data.frame: 6 × 10</caption>\n",
       "<thead>\n",
       "\t<tr><th></th><th scope=col>ptnum</th><th scope=col>label</th><th scope=col>C-424144002</th><th scope=col>C-263495000</th><th scope=col>C-103579009</th><th scope=col>C-72166-2</th><th scope=col>C-763302001</th><th scope=col>C-39156-5</th><th scope=col>Followup</th><th scope=col>Exposure</th></tr>\n",
       "\t<tr><th></th><th scope=col>&lt;chr&gt;</th><th scope=col>&lt;dbl&gt;</th><th scope=col>&lt;dbl&gt;</th><th scope=col>&lt;chr&gt;</th><th scope=col>&lt;chr&gt;</th><th scope=col>&lt;chr&gt;</th><th scope=col>&lt;lgl&gt;</th><th scope=col>&lt;dbl&gt;</th><th scope=col>&lt;int&gt;</th><th scope=col>&lt;dbl&gt;</th></tr>\n",
       "</thead>\n",
       "<tbody>\n",
       "\t<tr><th scope=row>5933</th><td>p9972</td><td>0</td><td>53</td><td>f</td><td>white</td><td>never </td><td>TRUE</td><td>29.66</td><td> 822</td><td>1</td></tr>\n",
       "\t<tr><th scope=row>5934</th><td>p9976</td><td>0</td><td>70</td><td>m</td><td>white</td><td>former</td><td>TRUE</td><td>30.06</td><td>3042</td><td>1</td></tr>\n",
       "\t<tr><th scope=row>5935</th><td>p9982</td><td>0</td><td>70</td><td>m</td><td>black</td><td>never </td><td>TRUE</td><td>31.07</td><td>1233</td><td>1</td></tr>\n",
       "\t<tr><th scope=row>5936</th><td>p9992</td><td>1</td><td>75</td><td>m</td><td>white</td><td>never </td><td>TRUE</td><td>29.60</td><td>1838</td><td>1</td></tr>\n",
       "\t<tr><th scope=row>5937</th><td>p9996</td><td>0</td><td>59</td><td>m</td><td>white</td><td>never </td><td>TRUE</td><td>27.30</td><td>2374</td><td>2</td></tr>\n",
       "\t<tr><th scope=row>5938</th><td>p9998</td><td>0</td><td>46</td><td>f</td><td>white</td><td>former</td><td>TRUE</td><td>27.60</td><td> 356</td><td>1</td></tr>\n",
       "</tbody>\n",
       "</table>\n"
      ],
      "text/latex": [
       "A data.frame: 6 × 10\n",
       "\\begin{tabular}{r|llllllllll}\n",
       "  & ptnum & label & C-424144002 & C-263495000 & C-103579009 & C-72166-2 & C-763302001 & C-39156-5 & Followup & Exposure\\\\\n",
       "  & <chr> & <dbl> & <dbl> & <chr> & <chr> & <chr> & <lgl> & <dbl> & <int> & <dbl>\\\\\n",
       "\\hline\n",
       "\t5933 & p9972 & 0 & 53 & f & white & never  & TRUE & 29.66 &  822 & 1\\\\\n",
       "\t5934 & p9976 & 0 & 70 & m & white & former & TRUE & 30.06 & 3042 & 1\\\\\n",
       "\t5935 & p9982 & 0 & 70 & m & black & never  & TRUE & 31.07 & 1233 & 1\\\\\n",
       "\t5936 & p9992 & 1 & 75 & m & white & never  & TRUE & 29.60 & 1838 & 1\\\\\n",
       "\t5937 & p9996 & 0 & 59 & m & white & never  & TRUE & 27.30 & 2374 & 2\\\\\n",
       "\t5938 & p9998 & 0 & 46 & f & white & former & TRUE & 27.60 &  356 & 1\\\\\n",
       "\\end{tabular}\n"
      ],
      "text/markdown": [
       "\n",
       "A data.frame: 6 × 10\n",
       "\n",
       "| <!--/--> | ptnum &lt;chr&gt; | label &lt;dbl&gt; | C-424144002 &lt;dbl&gt; | C-263495000 &lt;chr&gt; | C-103579009 &lt;chr&gt; | C-72166-2 &lt;chr&gt; | C-763302001 &lt;lgl&gt; | C-39156-5 &lt;dbl&gt; | Followup &lt;int&gt; | Exposure &lt;dbl&gt; |\n",
       "|---|---|---|---|---|---|---|---|---|---|---|\n",
       "| 5933 | p9972 | 0 | 53 | f | white | never  | TRUE | 29.66 |  822 | 1 |\n",
       "| 5934 | p9976 | 0 | 70 | m | white | former | TRUE | 30.06 | 3042 | 1 |\n",
       "| 5935 | p9982 | 0 | 70 | m | black | never  | TRUE | 31.07 | 1233 | 1 |\n",
       "| 5936 | p9992 | 1 | 75 | m | white | never  | TRUE | 29.60 | 1838 | 1 |\n",
       "| 5937 | p9996 | 0 | 59 | m | white | never  | TRUE | 27.30 | 2374 | 2 |\n",
       "| 5938 | p9998 | 0 | 46 | f | white | former | TRUE | 27.60 |  356 | 1 |\n",
       "\n"
      ],
      "text/plain": [
       "     ptnum label C-424144002 C-263495000 C-103579009 C-72166-2 C-763302001\n",
       "5933 p9972 0     53          f           white       never     TRUE       \n",
       "5934 p9976 0     70          m           white       former    TRUE       \n",
       "5935 p9982 0     70          m           black       never     TRUE       \n",
       "5936 p9992 1     75          m           white       never     TRUE       \n",
       "5937 p9996 0     59          m           white       never     TRUE       \n",
       "5938 p9998 0     46          f           white       former    TRUE       \n",
       "     C-39156-5 Followup Exposure\n",
       "5933 29.66      822     1       \n",
       "5934 30.06     3042     1       \n",
       "5935 31.07     1233     1       \n",
       "5936 29.60     1838     1       \n",
       "5937 27.30     2374     2       \n",
       "5938 27.60      356     1       "
      ]
     },
     "metadata": {},
     "output_type": "display_data"
    }
   ],
   "source": [
    "tail(Df_regression_unique)"
   ]
  },
  {
   "cell_type": "markdown",
   "id": "3066a767",
   "metadata": {},
   "source": [
    "## Discussion:\n",
    "---\n",
    "Assessing data structures is a crucial step in preparing for statistical modeling. It ensures that the data is correctly understood, processed, and interpreted, ultimately leading to valid and reliable results. Here’s why it’s important:\n",
    "\n",
    "1. Understanding Data Types\n",
    "Significance:\n",
    "Each variable type (e.g., numeric, categorical, logical) dictates the kinds of analyses and transformations that can be performed.\n",
    "For example, regression models treat numeric and categorical variables differently.\n",
    "Potential Issues:\n",
    "A categorical variable coded as numeric may lead to incorrect interpretation (e.g., treating regions as continuous numbers).\n",
    "Logical variables not converted to binary (0/1) may confuse algorithms.\n",
    "Solution:\n",
    "Use functions like str() and summary() to ensure variables are properly typed.\n",
    "\n",
    "\n",
    "2. Detecting and Addressing Missing Data\n",
    "Significance:\n",
    "Missing data can skew model results, reduce statistical power, and introduce biases.\n",
    "Understanding patterns of missingness (e.g., Missing Completely at Random, Missing Not at Random) informs appropriate imputation methods.\n",
    "Potential Issues:\n",
    "Ignoring missing data can result in smaller, unrepresentative datasets if rows with missing values are removed.\n",
    "Arbitrary imputation can distort relationships in the data.\n",
    "Solution:\n",
    "Visualize missing data patterns (naniar in R) and assess whether imputation, removal, or advanced techniques (e.g., multiple imputation) are needed.\n",
    "\n",
    "\n",
    "3. Identifying Outliers and Inconsistent Values\n",
    "Significance:\n",
    "Outliers can have a disproportionate influence on statistical models, especially in regression and clustering.\n",
    "Inconsistent values (e.g., negative ages, nonsensical categories) can indicate data entry errors.\n",
    "Potential Issues:\n",
    "Models may overfit or misinterpret trends due to extreme or incorrect values.\n",
    "Solution:\n",
    "Perform exploratory data analysis (EDA) to detect and decide how to handle outliers.\n",
    "\n",
    "\n",
    "4. Ensuring Data Conforms to Model Requirements\n",
    "Significance:\n",
    "Many statistical models have assumptions (e.g., linear regression assumes linearity, normality, homoscedasticity).\n",
    "Proper formatting (e.g., encoding categorical variables as factors) ensures compatibility with modeling functions.\n",
    "Potential Issues:\n",
    "Non-normal data in a model requiring normality can lead to invalid inferences.\n",
    "Misformatted data might cause errors or incorrect results in statistical software.\n",
    "Solution:\n",
    "Check distributions, relationships, and data transformations (e.g., log transformations for skewed data).\n",
    "\n",
    "\n",
    "5. Reducing Dimensionality and Improving Interpretability\n",
    "Significance:\n",
    "High-dimensional data can cause overfitting and make results harder to interpret.\n",
    "Dimensionality reduction techniques (e.g., PCA, feature selection) require an understanding of variable roles.\n",
    "Potential Issues:\n",
    "Irrelevant variables add noise and reduce the efficiency of the model.\n",
    "Solution:\n",
    "Assess variable relevance and multicollinearity before modeling.\n",
    "\n",
    "\n",
    "6. Recognizing Data Relationships\n",
    "Significance:\n",
    "Relationships between variables (e.g., collinearity, interactions) influence model complexity and performance.\n",
    "Potential Issues:\n",
    "Ignoring relationships can lead to misspecified models or incorrect interpretations.\n",
    "Solution:\n",
    "Explore relationships using scatterplots, correlation matrices, or advanced methods like variance inflation factors (VIF).\n",
    "\n",
    "\n",
    "7. Ensuring Ethical and Accurate Representation\n",
    "Significance:\n",
    "Assessing data structures ensures that the dataset represents the population accurately.\n",
    "Potential Issues:\n",
    "Imbalanced datasets can bias models (e.g., under-representation of minority groups in healthcare studies).\n",
    "Solution:\n",
    "Stratify data, balance classes, and ensure fair sampling."
   ]
  },
  {
   "cell_type": "markdown",
   "id": "1233fe86",
   "metadata": {},
   "source": [
    "# Question 2: Handling Missing Data\n",
    "---\n",
    "Identify columns with logical (TRUE/FALSE) values and apply methods for addressing missing values in these columns, replacing them with 0 or 1 based on their logical value. Reflect on the implications of missing data and the\n",
    "strategies used for handling it."
   ]
  },
  {
   "cell_type": "markdown",
   "id": "6ff96dc7",
   "metadata": {},
   "source": [
    "## Step 0: Direct Conversion in Base R\n",
    "---\n",
    "\n",
    "Logical to Integer: In R, logical values are internally represented as TRUE = 1 and FALSE = 0. The as.integer() function converts these directly."
   ]
  },
  {
   "cell_type": "code",
   "execution_count": 10,
   "id": "05f46a61",
   "metadata": {},
   "outputs": [],
   "source": [
    "Df_regression_unique$\"C-763302001\" <- as.integer(Df_regression_unique$\"C-763302001\")"
   ]
  },
  {
   "cell_type": "markdown",
   "id": "903b7e30",
   "metadata": {},
   "source": [
    "## Step 1: Verify the Changes\n",
    "----"
   ]
  },
  {
   "cell_type": "code",
   "execution_count": 11,
   "id": "3582ec9a",
   "metadata": {},
   "outputs": [
    {
     "data": {
      "text/html": [
       "<table class=\"dataframe\">\n",
       "<caption>A data.frame: 6 × 10</caption>\n",
       "<thead>\n",
       "\t<tr><th></th><th scope=col>ptnum</th><th scope=col>label</th><th scope=col>C-424144002</th><th scope=col>C-263495000</th><th scope=col>C-103579009</th><th scope=col>C-72166-2</th><th scope=col>C-763302001</th><th scope=col>C-39156-5</th><th scope=col>Followup</th><th scope=col>Exposure</th></tr>\n",
       "\t<tr><th></th><th scope=col>&lt;chr&gt;</th><th scope=col>&lt;dbl&gt;</th><th scope=col>&lt;dbl&gt;</th><th scope=col>&lt;chr&gt;</th><th scope=col>&lt;chr&gt;</th><th scope=col>&lt;chr&gt;</th><th scope=col>&lt;int&gt;</th><th scope=col>&lt;dbl&gt;</th><th scope=col>&lt;int&gt;</th><th scope=col>&lt;dbl&gt;</th></tr>\n",
       "</thead>\n",
       "<tbody>\n",
       "\t<tr><th scope=row>5933</th><td>p9972</td><td>0</td><td>53</td><td>f</td><td>white</td><td>never </td><td>1</td><td>29.66</td><td> 822</td><td>1</td></tr>\n",
       "\t<tr><th scope=row>5934</th><td>p9976</td><td>0</td><td>70</td><td>m</td><td>white</td><td>former</td><td>1</td><td>30.06</td><td>3042</td><td>1</td></tr>\n",
       "\t<tr><th scope=row>5935</th><td>p9982</td><td>0</td><td>70</td><td>m</td><td>black</td><td>never </td><td>1</td><td>31.07</td><td>1233</td><td>1</td></tr>\n",
       "\t<tr><th scope=row>5936</th><td>p9992</td><td>1</td><td>75</td><td>m</td><td>white</td><td>never </td><td>1</td><td>29.60</td><td>1838</td><td>1</td></tr>\n",
       "\t<tr><th scope=row>5937</th><td>p9996</td><td>0</td><td>59</td><td>m</td><td>white</td><td>never </td><td>1</td><td>27.30</td><td>2374</td><td>2</td></tr>\n",
       "\t<tr><th scope=row>5938</th><td>p9998</td><td>0</td><td>46</td><td>f</td><td>white</td><td>former</td><td>1</td><td>27.60</td><td> 356</td><td>1</td></tr>\n",
       "</tbody>\n",
       "</table>\n"
      ],
      "text/latex": [
       "A data.frame: 6 × 10\n",
       "\\begin{tabular}{r|llllllllll}\n",
       "  & ptnum & label & C-424144002 & C-263495000 & C-103579009 & C-72166-2 & C-763302001 & C-39156-5 & Followup & Exposure\\\\\n",
       "  & <chr> & <dbl> & <dbl> & <chr> & <chr> & <chr> & <int> & <dbl> & <int> & <dbl>\\\\\n",
       "\\hline\n",
       "\t5933 & p9972 & 0 & 53 & f & white & never  & 1 & 29.66 &  822 & 1\\\\\n",
       "\t5934 & p9976 & 0 & 70 & m & white & former & 1 & 30.06 & 3042 & 1\\\\\n",
       "\t5935 & p9982 & 0 & 70 & m & black & never  & 1 & 31.07 & 1233 & 1\\\\\n",
       "\t5936 & p9992 & 1 & 75 & m & white & never  & 1 & 29.60 & 1838 & 1\\\\\n",
       "\t5937 & p9996 & 0 & 59 & m & white & never  & 1 & 27.30 & 2374 & 2\\\\\n",
       "\t5938 & p9998 & 0 & 46 & f & white & former & 1 & 27.60 &  356 & 1\\\\\n",
       "\\end{tabular}\n"
      ],
      "text/markdown": [
       "\n",
       "A data.frame: 6 × 10\n",
       "\n",
       "| <!--/--> | ptnum &lt;chr&gt; | label &lt;dbl&gt; | C-424144002 &lt;dbl&gt; | C-263495000 &lt;chr&gt; | C-103579009 &lt;chr&gt; | C-72166-2 &lt;chr&gt; | C-763302001 &lt;int&gt; | C-39156-5 &lt;dbl&gt; | Followup &lt;int&gt; | Exposure &lt;dbl&gt; |\n",
       "|---|---|---|---|---|---|---|---|---|---|---|\n",
       "| 5933 | p9972 | 0 | 53 | f | white | never  | 1 | 29.66 |  822 | 1 |\n",
       "| 5934 | p9976 | 0 | 70 | m | white | former | 1 | 30.06 | 3042 | 1 |\n",
       "| 5935 | p9982 | 0 | 70 | m | black | never  | 1 | 31.07 | 1233 | 1 |\n",
       "| 5936 | p9992 | 1 | 75 | m | white | never  | 1 | 29.60 | 1838 | 1 |\n",
       "| 5937 | p9996 | 0 | 59 | m | white | never  | 1 | 27.30 | 2374 | 2 |\n",
       "| 5938 | p9998 | 0 | 46 | f | white | former | 1 | 27.60 |  356 | 1 |\n",
       "\n"
      ],
      "text/plain": [
       "     ptnum label C-424144002 C-263495000 C-103579009 C-72166-2 C-763302001\n",
       "5933 p9972 0     53          f           white       never     1          \n",
       "5934 p9976 0     70          m           white       former    1          \n",
       "5935 p9982 0     70          m           black       never     1          \n",
       "5936 p9992 1     75          m           white       never     1          \n",
       "5937 p9996 0     59          m           white       never     1          \n",
       "5938 p9998 0     46          f           white       former    1          \n",
       "     C-39156-5 Followup Exposure\n",
       "5933 29.66      822     1       \n",
       "5934 30.06     3042     1       \n",
       "5935 31.07     1233     1       \n",
       "5936 29.60     1838     1       \n",
       "5937 27.30     2374     2       \n",
       "5938 27.60      356     1       "
      ]
     },
     "metadata": {},
     "output_type": "display_data"
    }
   ],
   "source": [
    "tail(Df_regression_unique)"
   ]
  },
  {
   "cell_type": "markdown",
   "id": "02e5a88c",
   "metadata": {},
   "source": [
    "## Step2:  If There Are NA Values\n",
    "---\n",
    "\n",
    "If the column contains (NA) values, decide how to handle them. For instance, you might replace them with 0."
   ]
  },
  {
   "cell_type": "code",
   "execution_count": 12,
   "id": "6ed15a47",
   "metadata": {},
   "outputs": [],
   "source": [
    "Df_regression_unique$\"C-763302001\"[is.na(Df_regression_unique$\"C-763302001\")] <- 0\n",
    "Df_regression_unique$\"C-763302001\" <- as.integer(Df_regression_unique$\"C-763302001\")"
   ]
  },
  {
   "cell_type": "code",
   "execution_count": 13,
   "id": "bc41e5f5",
   "metadata": {},
   "outputs": [
    {
     "data": {
      "text/html": [
       "<table class=\"dataframe\">\n",
       "<caption>A data.frame: 6 × 10</caption>\n",
       "<thead>\n",
       "\t<tr><th></th><th scope=col>ptnum</th><th scope=col>label</th><th scope=col>C-424144002</th><th scope=col>C-263495000</th><th scope=col>C-103579009</th><th scope=col>C-72166-2</th><th scope=col>C-763302001</th><th scope=col>C-39156-5</th><th scope=col>Followup</th><th scope=col>Exposure</th></tr>\n",
       "\t<tr><th></th><th scope=col>&lt;chr&gt;</th><th scope=col>&lt;dbl&gt;</th><th scope=col>&lt;dbl&gt;</th><th scope=col>&lt;chr&gt;</th><th scope=col>&lt;chr&gt;</th><th scope=col>&lt;chr&gt;</th><th scope=col>&lt;int&gt;</th><th scope=col>&lt;dbl&gt;</th><th scope=col>&lt;int&gt;</th><th scope=col>&lt;dbl&gt;</th></tr>\n",
       "</thead>\n",
       "<tbody>\n",
       "\t<tr><th scope=row>5933</th><td>p9972</td><td>0</td><td>53</td><td>f</td><td>white</td><td>never </td><td>1</td><td>29.66</td><td> 822</td><td>1</td></tr>\n",
       "\t<tr><th scope=row>5934</th><td>p9976</td><td>0</td><td>70</td><td>m</td><td>white</td><td>former</td><td>1</td><td>30.06</td><td>3042</td><td>1</td></tr>\n",
       "\t<tr><th scope=row>5935</th><td>p9982</td><td>0</td><td>70</td><td>m</td><td>black</td><td>never </td><td>1</td><td>31.07</td><td>1233</td><td>1</td></tr>\n",
       "\t<tr><th scope=row>5936</th><td>p9992</td><td>1</td><td>75</td><td>m</td><td>white</td><td>never </td><td>1</td><td>29.60</td><td>1838</td><td>1</td></tr>\n",
       "\t<tr><th scope=row>5937</th><td>p9996</td><td>0</td><td>59</td><td>m</td><td>white</td><td>never </td><td>1</td><td>27.30</td><td>2374</td><td>2</td></tr>\n",
       "\t<tr><th scope=row>5938</th><td>p9998</td><td>0</td><td>46</td><td>f</td><td>white</td><td>former</td><td>1</td><td>27.60</td><td> 356</td><td>1</td></tr>\n",
       "</tbody>\n",
       "</table>\n"
      ],
      "text/latex": [
       "A data.frame: 6 × 10\n",
       "\\begin{tabular}{r|llllllllll}\n",
       "  & ptnum & label & C-424144002 & C-263495000 & C-103579009 & C-72166-2 & C-763302001 & C-39156-5 & Followup & Exposure\\\\\n",
       "  & <chr> & <dbl> & <dbl> & <chr> & <chr> & <chr> & <int> & <dbl> & <int> & <dbl>\\\\\n",
       "\\hline\n",
       "\t5933 & p9972 & 0 & 53 & f & white & never  & 1 & 29.66 &  822 & 1\\\\\n",
       "\t5934 & p9976 & 0 & 70 & m & white & former & 1 & 30.06 & 3042 & 1\\\\\n",
       "\t5935 & p9982 & 0 & 70 & m & black & never  & 1 & 31.07 & 1233 & 1\\\\\n",
       "\t5936 & p9992 & 1 & 75 & m & white & never  & 1 & 29.60 & 1838 & 1\\\\\n",
       "\t5937 & p9996 & 0 & 59 & m & white & never  & 1 & 27.30 & 2374 & 2\\\\\n",
       "\t5938 & p9998 & 0 & 46 & f & white & former & 1 & 27.60 &  356 & 1\\\\\n",
       "\\end{tabular}\n"
      ],
      "text/markdown": [
       "\n",
       "A data.frame: 6 × 10\n",
       "\n",
       "| <!--/--> | ptnum &lt;chr&gt; | label &lt;dbl&gt; | C-424144002 &lt;dbl&gt; | C-263495000 &lt;chr&gt; | C-103579009 &lt;chr&gt; | C-72166-2 &lt;chr&gt; | C-763302001 &lt;int&gt; | C-39156-5 &lt;dbl&gt; | Followup &lt;int&gt; | Exposure &lt;dbl&gt; |\n",
       "|---|---|---|---|---|---|---|---|---|---|---|\n",
       "| 5933 | p9972 | 0 | 53 | f | white | never  | 1 | 29.66 |  822 | 1 |\n",
       "| 5934 | p9976 | 0 | 70 | m | white | former | 1 | 30.06 | 3042 | 1 |\n",
       "| 5935 | p9982 | 0 | 70 | m | black | never  | 1 | 31.07 | 1233 | 1 |\n",
       "| 5936 | p9992 | 1 | 75 | m | white | never  | 1 | 29.60 | 1838 | 1 |\n",
       "| 5937 | p9996 | 0 | 59 | m | white | never  | 1 | 27.30 | 2374 | 2 |\n",
       "| 5938 | p9998 | 0 | 46 | f | white | former | 1 | 27.60 |  356 | 1 |\n",
       "\n"
      ],
      "text/plain": [
       "     ptnum label C-424144002 C-263495000 C-103579009 C-72166-2 C-763302001\n",
       "5933 p9972 0     53          f           white       never     1          \n",
       "5934 p9976 0     70          m           white       former    1          \n",
       "5935 p9982 0     70          m           black       never     1          \n",
       "5936 p9992 1     75          m           white       never     1          \n",
       "5937 p9996 0     59          m           white       never     1          \n",
       "5938 p9998 0     46          f           white       former    1          \n",
       "     C-39156-5 Followup Exposure\n",
       "5933 29.66      822     1       \n",
       "5934 30.06     3042     1       \n",
       "5935 31.07     1233     1       \n",
       "5936 29.60     1838     1       \n",
       "5937 27.30     2374     2       \n",
       "5938 27.60      356     1       "
      ]
     },
     "metadata": {},
     "output_type": "display_data"
    }
   ],
   "source": [
    "tail(Df_regression_unique)"
   ]
  },
  {
   "cell_type": "markdown",
   "id": "389667f9",
   "metadata": {},
   "source": [
    "## Discussion\n",
    "---\n",
    "\n",
    "Missing data is a common challenge in statistical modeling and data analysis. Its presence can significantly impact the validity, reliability, and interpretability of results. Proper handling of missing data is crucial to ensure robust and unbiased conclusions.\n",
    "\n",
    "Implications of Missing Data:\n",
    "\n",
    "1. Reduced Statistical Power\n",
    "Missing data reduces the sample size available for analysis, weakening the statistical power of tests.\n",
    "Smaller datasets may lead to inconclusive results or increased Type II errors (failing to detect true effects).\n",
    "\n",
    "2. Bias in Results\n",
    "Missing data that is not random (e.g., people with certain traits systematically omit answers) can bias estimates.\n",
    "For example, in medical studies, patients with severe symptoms may drop out, leading to underestimation of the disease severity.\n",
    "\n",
    "\n",
    "3. Distorted Relationships\n",
    "Missing data can change the relationships between variables if handled improperly.\n",
    "For instance, imprecise imputation might introduce spurious correlations.\n",
    "\n",
    "\n",
    "4. Loss of Representativeness\n",
    "If a particular subgroup is more likely to have missing data, the remaining data may no longer represent the entire population.\n",
    "\n",
    "\n",
    "5. Impact on Model Performance\n",
    "Machine learning and statistical models often fail or perform poorly with missing data unless explicitly accounted for.\n",
    "\n",
    "\n",
    "## Strategies for Handling Missing Data\n",
    "---\n",
    "\n",
    "1. Prevention\n",
    "\n",
    "    Careful Data Collection: Design surveys and data collection processes to minimize missing values.\n",
    "    \n",
    "    Data Validation: Use real-time checks during data entry to catch missing or incorrect inputs.\n",
    "\n",
    "<br>\n",
    "2. Understanding the Missingness Mechanism\n",
    "\n",
    "    Missing Completely at Random (MCAR): Data is missing with no systematic relationship to the observed or unobserved data. This is the least problematic type.\n",
    "\n",
    "    Missing at Random (MAR): The likelihood of missingness depends on observed variables but not unobserved ones.\n",
    "\n",
    "    Missing Not at Random (MNAR): Missingness depends on unobserved variables. This requires specialized techniques or assumptions.\n",
    "\n",
    "<br>\n",
    "3. Strategies to Handle Missing Data\n",
    "\n",
    "    A. Deletion Methods\n",
    "        Listwise Deletion: Remove rows with any missing values.\n",
    "        \n",
    "        Advantages: Simple and retains consistency across analyses.\n",
    "        \n",
    "        Disadvantages: Reduces sample size, can bias results if data is not MCAR.\n",
    "        \n",
    "        Pairwise Deletion: Use available data for each analysis without discarding entire rows.\n",
    "        \n",
    "        Advantages: Retains more data.\n",
    "        \n",
    "        Disadvantages: Results may vary across analyses.\n",
    "        \n",
    "\n",
    "    B. Imputation Methods\n",
    "        Mean/Median/Mode Imputation: Replace missing values with the mean (for numeric) or mode (for categorical).\n",
    "        Advantages: Simple and quick.\n",
    "        Disadvantages: Reduces variability, can introduce bias.\n",
    "        Regression Imputation: Use regression models to predict and fill missing values based on other variables.\n",
    "        Advantages: Accounts for relationships between variables.\n",
    "        Disadvantages: Assumes the imputation model is correct, underestimates variability.\n",
    "        Multiple Imputation: Create multiple plausible datasets by imputing missing values with different estimates and combining results.\n",
    "        Advantages: Accounts for uncertainty and variability in imputations.\n",
    "        Disadvantages: Computationally intensive, complex to implement.\n",
    "        Hot Deck Imputation:Replace missing values with observed values from similar cases.\n",
    "        Advantages: Retains observed data distribution.\n",
    "        Disadvantages: Depends on finding similar cases.\n",
    "\n",
    "    C. Model-Based Approaches\n",
    "        Maximum Likelihood Estimation (MLE): Estimate parameters directly while accounting for missing data.\n",
    "        Advantages: Efficient and unbiased under MAR.\n",
    "        Disadvantages: Requires complex algorithms.\n",
    "        Bayesian Methods: Use prior distributions to estimate missing values.\n",
    "        Advantages: Flexible and accounts for uncertainty.\n",
    "        Disadvantages: Requires expertise and computational power.\n",
    "\n",
    "    D. Advanced Techniques\n",
    "        K-Nearest Neighbors (KNN): Impute missing values based on the closest neighbors in the dataset.\n",
    "        Advantages: Considers the data's structure.\n",
    "        Disadvantages: Computationally expensive for large datasets.\n",
    "        Machine Learning: Use predictive models like Random Forest to impute missing values.\n",
    "        Advantages: Handles complex relationships.\n",
    "        Disadvantages: May overfit and requires validation."
   ]
  },
  {
   "cell_type": "markdown",
   "id": "6bc21f48",
   "metadata": {},
   "source": [
    "# Question 3: Categorical Variable Conversion\n",
    "---\n",
    "\n",
    "Convert relevant variables into categorical (factor) variables as necessary, and consider the role of this transformation in regression analyses. Discuss when and why categorical conversion is crucial in epidemiological research."
   ]
  },
  {
   "cell_type": "markdown",
   "id": "8a866d72",
   "metadata": {},
   "source": [
    "## Step 0:\n",
    "---\n",
    "\n",
    "Explanation\n",
    "\n",
    "ifelse Function:\n",
    "\n",
    "ifelse(condition, value_if_true, value_if_false) checks the condition for each element.\n",
    "\n",
    "If the value is \"f\", it assigns 1.\n",
    "\n",
    "Otherwise (e.g., if the value is \"m\"), it assigns 0.\n",
    "\n",
    "---\n",
    "\n",
    "Replace the Original Column: The column C-263495000 is overwritten with the transformed values."
   ]
  },
  {
   "cell_type": "code",
   "execution_count": 14,
   "id": "5c55ddab",
   "metadata": {},
   "outputs": [],
   "source": [
    "Df_regression_unique$\"C-263495000\" <- ifelse(Df_regression_unique$\"C-263495000\" == \"f\", 1, 0)"
   ]
  },
  {
   "cell_type": "code",
   "execution_count": 15,
   "id": "1b8d7542",
   "metadata": {},
   "outputs": [
    {
     "data": {
      "text/html": [
       "<table class=\"dataframe\">\n",
       "<caption>A data.frame: 6 × 10</caption>\n",
       "<thead>\n",
       "\t<tr><th></th><th scope=col>ptnum</th><th scope=col>label</th><th scope=col>C-424144002</th><th scope=col>C-263495000</th><th scope=col>C-103579009</th><th scope=col>C-72166-2</th><th scope=col>C-763302001</th><th scope=col>C-39156-5</th><th scope=col>Followup</th><th scope=col>Exposure</th></tr>\n",
       "\t<tr><th></th><th scope=col>&lt;chr&gt;</th><th scope=col>&lt;dbl&gt;</th><th scope=col>&lt;dbl&gt;</th><th scope=col>&lt;dbl&gt;</th><th scope=col>&lt;chr&gt;</th><th scope=col>&lt;chr&gt;</th><th scope=col>&lt;int&gt;</th><th scope=col>&lt;dbl&gt;</th><th scope=col>&lt;int&gt;</th><th scope=col>&lt;dbl&gt;</th></tr>\n",
       "</thead>\n",
       "<tbody>\n",
       "\t<tr><th scope=row>5933</th><td>p9972</td><td>0</td><td>53</td><td>1</td><td>white</td><td>never </td><td>1</td><td>29.66</td><td> 822</td><td>1</td></tr>\n",
       "\t<tr><th scope=row>5934</th><td>p9976</td><td>0</td><td>70</td><td>0</td><td>white</td><td>former</td><td>1</td><td>30.06</td><td>3042</td><td>1</td></tr>\n",
       "\t<tr><th scope=row>5935</th><td>p9982</td><td>0</td><td>70</td><td>0</td><td>black</td><td>never </td><td>1</td><td>31.07</td><td>1233</td><td>1</td></tr>\n",
       "\t<tr><th scope=row>5936</th><td>p9992</td><td>1</td><td>75</td><td>0</td><td>white</td><td>never </td><td>1</td><td>29.60</td><td>1838</td><td>1</td></tr>\n",
       "\t<tr><th scope=row>5937</th><td>p9996</td><td>0</td><td>59</td><td>0</td><td>white</td><td>never </td><td>1</td><td>27.30</td><td>2374</td><td>2</td></tr>\n",
       "\t<tr><th scope=row>5938</th><td>p9998</td><td>0</td><td>46</td><td>1</td><td>white</td><td>former</td><td>1</td><td>27.60</td><td> 356</td><td>1</td></tr>\n",
       "</tbody>\n",
       "</table>\n"
      ],
      "text/latex": [
       "A data.frame: 6 × 10\n",
       "\\begin{tabular}{r|llllllllll}\n",
       "  & ptnum & label & C-424144002 & C-263495000 & C-103579009 & C-72166-2 & C-763302001 & C-39156-5 & Followup & Exposure\\\\\n",
       "  & <chr> & <dbl> & <dbl> & <dbl> & <chr> & <chr> & <int> & <dbl> & <int> & <dbl>\\\\\n",
       "\\hline\n",
       "\t5933 & p9972 & 0 & 53 & 1 & white & never  & 1 & 29.66 &  822 & 1\\\\\n",
       "\t5934 & p9976 & 0 & 70 & 0 & white & former & 1 & 30.06 & 3042 & 1\\\\\n",
       "\t5935 & p9982 & 0 & 70 & 0 & black & never  & 1 & 31.07 & 1233 & 1\\\\\n",
       "\t5936 & p9992 & 1 & 75 & 0 & white & never  & 1 & 29.60 & 1838 & 1\\\\\n",
       "\t5937 & p9996 & 0 & 59 & 0 & white & never  & 1 & 27.30 & 2374 & 2\\\\\n",
       "\t5938 & p9998 & 0 & 46 & 1 & white & former & 1 & 27.60 &  356 & 1\\\\\n",
       "\\end{tabular}\n"
      ],
      "text/markdown": [
       "\n",
       "A data.frame: 6 × 10\n",
       "\n",
       "| <!--/--> | ptnum &lt;chr&gt; | label &lt;dbl&gt; | C-424144002 &lt;dbl&gt; | C-263495000 &lt;dbl&gt; | C-103579009 &lt;chr&gt; | C-72166-2 &lt;chr&gt; | C-763302001 &lt;int&gt; | C-39156-5 &lt;dbl&gt; | Followup &lt;int&gt; | Exposure &lt;dbl&gt; |\n",
       "|---|---|---|---|---|---|---|---|---|---|---|\n",
       "| 5933 | p9972 | 0 | 53 | 1 | white | never  | 1 | 29.66 |  822 | 1 |\n",
       "| 5934 | p9976 | 0 | 70 | 0 | white | former | 1 | 30.06 | 3042 | 1 |\n",
       "| 5935 | p9982 | 0 | 70 | 0 | black | never  | 1 | 31.07 | 1233 | 1 |\n",
       "| 5936 | p9992 | 1 | 75 | 0 | white | never  | 1 | 29.60 | 1838 | 1 |\n",
       "| 5937 | p9996 | 0 | 59 | 0 | white | never  | 1 | 27.30 | 2374 | 2 |\n",
       "| 5938 | p9998 | 0 | 46 | 1 | white | former | 1 | 27.60 |  356 | 1 |\n",
       "\n"
      ],
      "text/plain": [
       "     ptnum label C-424144002 C-263495000 C-103579009 C-72166-2 C-763302001\n",
       "5933 p9972 0     53          1           white       never     1          \n",
       "5934 p9976 0     70          0           white       former    1          \n",
       "5935 p9982 0     70          0           black       never     1          \n",
       "5936 p9992 1     75          0           white       never     1          \n",
       "5937 p9996 0     59          0           white       never     1          \n",
       "5938 p9998 0     46          1           white       former    1          \n",
       "     C-39156-5 Followup Exposure\n",
       "5933 29.66      822     1       \n",
       "5934 30.06     3042     1       \n",
       "5935 31.07     1233     1       \n",
       "5936 29.60     1838     1       \n",
       "5937 27.30     2374     2       \n",
       "5938 27.60      356     1       "
      ]
     },
     "metadata": {},
     "output_type": "display_data"
    }
   ],
   "source": [
    "tail(Df_regression_unique)"
   ]
  },
  {
   "cell_type": "markdown",
   "id": "6417c6b1",
   "metadata": {},
   "source": [
    "## Step 1: Check the unique values of columns with categorical data\n",
    "---"
   ]
  },
  {
   "cell_type": "code",
   "execution_count": 16,
   "id": "4413a36b",
   "metadata": {},
   "outputs": [
    {
     "data": {
      "text/html": [
       "<style>\n",
       ".list-inline {list-style: none; margin:0; padding: 0}\n",
       ".list-inline>li {display: inline-block}\n",
       ".list-inline>li:not(:last-child)::after {content: \"\\00b7\"; padding: 0 .5ex}\n",
       "</style>\n",
       "<ol class=list-inline><li>'former'</li><li>'never'</li></ol>\n"
      ],
      "text/latex": [
       "\\begin{enumerate*}\n",
       "\\item 'former'\n",
       "\\item 'never'\n",
       "\\end{enumerate*}\n"
      ],
      "text/markdown": [
       "1. 'former'\n",
       "2. 'never'\n",
       "\n",
       "\n"
      ],
      "text/plain": [
       "[1] \"former\" \"never\" "
      ]
     },
     "metadata": {},
     "output_type": "display_data"
    }
   ],
   "source": [
    "unique(Df_regression_unique$\"C-72166-2\")"
   ]
  },
  {
   "cell_type": "code",
   "execution_count": 17,
   "id": "5e793176",
   "metadata": {},
   "outputs": [
    {
     "data": {
      "text/html": [
       "<style>\n",
       ".list-inline {list-style: none; margin:0; padding: 0}\n",
       ".list-inline>li {display: inline-block}\n",
       ".list-inline>li:not(:last-child)::after {content: \"\\00b7\"; padding: 0 .5ex}\n",
       "</style>\n",
       "<ol class=list-inline><li>'asian'</li><li>'white'</li><li>'black'</li><li>'hawaiian'</li><li>'other'</li><li>'native'</li></ol>\n"
      ],
      "text/latex": [
       "\\begin{enumerate*}\n",
       "\\item 'asian'\n",
       "\\item 'white'\n",
       "\\item 'black'\n",
       "\\item 'hawaiian'\n",
       "\\item 'other'\n",
       "\\item 'native'\n",
       "\\end{enumerate*}\n"
      ],
      "text/markdown": [
       "1. 'asian'\n",
       "2. 'white'\n",
       "3. 'black'\n",
       "4. 'hawaiian'\n",
       "5. 'other'\n",
       "6. 'native'\n",
       "\n",
       "\n"
      ],
      "text/plain": [
       "[1] \"asian\"    \"white\"    \"black\"    \"hawaiian\" \"other\"    \"native\"  "
      ]
     },
     "metadata": {},
     "output_type": "display_data"
    }
   ],
   "source": [
    "unique(Df_regression_unique$\"C-103579009\")"
   ]
  },
  {
   "cell_type": "markdown",
   "id": "08667737",
   "metadata": {},
   "source": [
    "## Step 2: C-72166-2 change into binary variable\n",
    "---\n",
    "Coding legend is:\n",
    "\n",
    "'Former' = 1\n",
    "\n",
    "'Never' = 0"
   ]
  },
  {
   "cell_type": "code",
   "execution_count": 18,
   "id": "274c1302",
   "metadata": {},
   "outputs": [],
   "source": [
    "Df_regression_unique$\"C-72166-2\" <- ifelse(Df_regression_unique$\"C-72166-2\" == \"former\", 1, 0)"
   ]
  },
  {
   "cell_type": "markdown",
   "id": "d67aae5e",
   "metadata": {},
   "source": [
    "## Step 3: Verify the change\n",
    "---"
   ]
  },
  {
   "cell_type": "code",
   "execution_count": 19,
   "id": "e1879138",
   "metadata": {},
   "outputs": [
    {
     "data": {
      "text/html": [
       "<table class=\"dataframe\">\n",
       "<caption>A data.frame: 6 × 10</caption>\n",
       "<thead>\n",
       "\t<tr><th></th><th scope=col>ptnum</th><th scope=col>label</th><th scope=col>C-424144002</th><th scope=col>C-263495000</th><th scope=col>C-103579009</th><th scope=col>C-72166-2</th><th scope=col>C-763302001</th><th scope=col>C-39156-5</th><th scope=col>Followup</th><th scope=col>Exposure</th></tr>\n",
       "\t<tr><th></th><th scope=col>&lt;chr&gt;</th><th scope=col>&lt;dbl&gt;</th><th scope=col>&lt;dbl&gt;</th><th scope=col>&lt;dbl&gt;</th><th scope=col>&lt;chr&gt;</th><th scope=col>&lt;dbl&gt;</th><th scope=col>&lt;int&gt;</th><th scope=col>&lt;dbl&gt;</th><th scope=col>&lt;int&gt;</th><th scope=col>&lt;dbl&gt;</th></tr>\n",
       "</thead>\n",
       "<tbody>\n",
       "\t<tr><th scope=row>5933</th><td>p9972</td><td>0</td><td>53</td><td>1</td><td>white</td><td>0</td><td>1</td><td>29.66</td><td> 822</td><td>1</td></tr>\n",
       "\t<tr><th scope=row>5934</th><td>p9976</td><td>0</td><td>70</td><td>0</td><td>white</td><td>1</td><td>1</td><td>30.06</td><td>3042</td><td>1</td></tr>\n",
       "\t<tr><th scope=row>5935</th><td>p9982</td><td>0</td><td>70</td><td>0</td><td>black</td><td>0</td><td>1</td><td>31.07</td><td>1233</td><td>1</td></tr>\n",
       "\t<tr><th scope=row>5936</th><td>p9992</td><td>1</td><td>75</td><td>0</td><td>white</td><td>0</td><td>1</td><td>29.60</td><td>1838</td><td>1</td></tr>\n",
       "\t<tr><th scope=row>5937</th><td>p9996</td><td>0</td><td>59</td><td>0</td><td>white</td><td>0</td><td>1</td><td>27.30</td><td>2374</td><td>2</td></tr>\n",
       "\t<tr><th scope=row>5938</th><td>p9998</td><td>0</td><td>46</td><td>1</td><td>white</td><td>1</td><td>1</td><td>27.60</td><td> 356</td><td>1</td></tr>\n",
       "</tbody>\n",
       "</table>\n"
      ],
      "text/latex": [
       "A data.frame: 6 × 10\n",
       "\\begin{tabular}{r|llllllllll}\n",
       "  & ptnum & label & C-424144002 & C-263495000 & C-103579009 & C-72166-2 & C-763302001 & C-39156-5 & Followup & Exposure\\\\\n",
       "  & <chr> & <dbl> & <dbl> & <dbl> & <chr> & <dbl> & <int> & <dbl> & <int> & <dbl>\\\\\n",
       "\\hline\n",
       "\t5933 & p9972 & 0 & 53 & 1 & white & 0 & 1 & 29.66 &  822 & 1\\\\\n",
       "\t5934 & p9976 & 0 & 70 & 0 & white & 1 & 1 & 30.06 & 3042 & 1\\\\\n",
       "\t5935 & p9982 & 0 & 70 & 0 & black & 0 & 1 & 31.07 & 1233 & 1\\\\\n",
       "\t5936 & p9992 & 1 & 75 & 0 & white & 0 & 1 & 29.60 & 1838 & 1\\\\\n",
       "\t5937 & p9996 & 0 & 59 & 0 & white & 0 & 1 & 27.30 & 2374 & 2\\\\\n",
       "\t5938 & p9998 & 0 & 46 & 1 & white & 1 & 1 & 27.60 &  356 & 1\\\\\n",
       "\\end{tabular}\n"
      ],
      "text/markdown": [
       "\n",
       "A data.frame: 6 × 10\n",
       "\n",
       "| <!--/--> | ptnum &lt;chr&gt; | label &lt;dbl&gt; | C-424144002 &lt;dbl&gt; | C-263495000 &lt;dbl&gt; | C-103579009 &lt;chr&gt; | C-72166-2 &lt;dbl&gt; | C-763302001 &lt;int&gt; | C-39156-5 &lt;dbl&gt; | Followup &lt;int&gt; | Exposure &lt;dbl&gt; |\n",
       "|---|---|---|---|---|---|---|---|---|---|---|\n",
       "| 5933 | p9972 | 0 | 53 | 1 | white | 0 | 1 | 29.66 |  822 | 1 |\n",
       "| 5934 | p9976 | 0 | 70 | 0 | white | 1 | 1 | 30.06 | 3042 | 1 |\n",
       "| 5935 | p9982 | 0 | 70 | 0 | black | 0 | 1 | 31.07 | 1233 | 1 |\n",
       "| 5936 | p9992 | 1 | 75 | 0 | white | 0 | 1 | 29.60 | 1838 | 1 |\n",
       "| 5937 | p9996 | 0 | 59 | 0 | white | 0 | 1 | 27.30 | 2374 | 2 |\n",
       "| 5938 | p9998 | 0 | 46 | 1 | white | 1 | 1 | 27.60 |  356 | 1 |\n",
       "\n"
      ],
      "text/plain": [
       "     ptnum label C-424144002 C-263495000 C-103579009 C-72166-2 C-763302001\n",
       "5933 p9972 0     53          1           white       0         1          \n",
       "5934 p9976 0     70          0           white       1         1          \n",
       "5935 p9982 0     70          0           black       0         1          \n",
       "5936 p9992 1     75          0           white       0         1          \n",
       "5937 p9996 0     59          0           white       0         1          \n",
       "5938 p9998 0     46          1           white       1         1          \n",
       "     C-39156-5 Followup Exposure\n",
       "5933 29.66      822     1       \n",
       "5934 30.06     3042     1       \n",
       "5935 31.07     1233     1       \n",
       "5936 29.60     1838     1       \n",
       "5937 27.30     2374     2       \n",
       "5938 27.60      356     1       "
      ]
     },
     "metadata": {},
     "output_type": "display_data"
    }
   ],
   "source": [
    "tail(Df_regression_unique)"
   ]
  },
  {
   "cell_type": "markdown",
   "id": "02b1ee2b",
   "metadata": {},
   "source": [
    "## Step 4: Create dummy variables for the C-103579009\n",
    "---"
   ]
  },
  {
   "cell_type": "code",
   "execution_count": 20,
   "id": "179a1d9b",
   "metadata": {},
   "outputs": [],
   "source": [
    "Df_regression_unique <- Df_regression_unique %>%\n",
    "  mutate(\n",
    "    asian = ifelse(`C-103579009` == \"asian\", 1, 0),\n",
    "    white = ifelse(`C-103579009` == \"white\", 1, 0),\n",
    "    black = ifelse(`C-103579009` == \"black\", 1, 0),\n",
    "    hawaiian = ifelse(`C-103579009` == \"hawaiian\", 1, 0),\n",
    "    native = ifelse(`C-103579009` == \"native\", 1, 0)\n",
    "  ) %>%\n",
    "  select(-\"C-103579009\")  # Remove the original column if not needed"
   ]
  },
  {
   "cell_type": "markdown",
   "id": "cd7d204e",
   "metadata": {},
   "source": [
    "## Step 5: Verify the changes\n",
    "---"
   ]
  },
  {
   "cell_type": "code",
   "execution_count": 21,
   "id": "70deba4f",
   "metadata": {},
   "outputs": [
    {
     "data": {
      "text/html": [
       "<table class=\"dataframe\">\n",
       "<caption>A data.frame: 6 × 14</caption>\n",
       "<thead>\n",
       "\t<tr><th></th><th scope=col>ptnum</th><th scope=col>label</th><th scope=col>C-424144002</th><th scope=col>C-263495000</th><th scope=col>C-72166-2</th><th scope=col>C-763302001</th><th scope=col>C-39156-5</th><th scope=col>Followup</th><th scope=col>Exposure</th><th scope=col>asian</th><th scope=col>white</th><th scope=col>black</th><th scope=col>hawaiian</th><th scope=col>native</th></tr>\n",
       "\t<tr><th></th><th scope=col>&lt;chr&gt;</th><th scope=col>&lt;dbl&gt;</th><th scope=col>&lt;dbl&gt;</th><th scope=col>&lt;dbl&gt;</th><th scope=col>&lt;dbl&gt;</th><th scope=col>&lt;int&gt;</th><th scope=col>&lt;dbl&gt;</th><th scope=col>&lt;int&gt;</th><th scope=col>&lt;dbl&gt;</th><th scope=col>&lt;dbl&gt;</th><th scope=col>&lt;dbl&gt;</th><th scope=col>&lt;dbl&gt;</th><th scope=col>&lt;dbl&gt;</th><th scope=col>&lt;dbl&gt;</th></tr>\n",
       "</thead>\n",
       "<tbody>\n",
       "\t<tr><th scope=row>5933</th><td>p9972</td><td>0</td><td>53</td><td>1</td><td>0</td><td>1</td><td>29.66</td><td> 822</td><td>1</td><td>0</td><td>1</td><td>0</td><td>0</td><td>0</td></tr>\n",
       "\t<tr><th scope=row>5934</th><td>p9976</td><td>0</td><td>70</td><td>0</td><td>1</td><td>1</td><td>30.06</td><td>3042</td><td>1</td><td>0</td><td>1</td><td>0</td><td>0</td><td>0</td></tr>\n",
       "\t<tr><th scope=row>5935</th><td>p9982</td><td>0</td><td>70</td><td>0</td><td>0</td><td>1</td><td>31.07</td><td>1233</td><td>1</td><td>0</td><td>0</td><td>1</td><td>0</td><td>0</td></tr>\n",
       "\t<tr><th scope=row>5936</th><td>p9992</td><td>1</td><td>75</td><td>0</td><td>0</td><td>1</td><td>29.60</td><td>1838</td><td>1</td><td>0</td><td>1</td><td>0</td><td>0</td><td>0</td></tr>\n",
       "\t<tr><th scope=row>5937</th><td>p9996</td><td>0</td><td>59</td><td>0</td><td>0</td><td>1</td><td>27.30</td><td>2374</td><td>2</td><td>0</td><td>1</td><td>0</td><td>0</td><td>0</td></tr>\n",
       "\t<tr><th scope=row>5938</th><td>p9998</td><td>0</td><td>46</td><td>1</td><td>1</td><td>1</td><td>27.60</td><td> 356</td><td>1</td><td>0</td><td>1</td><td>0</td><td>0</td><td>0</td></tr>\n",
       "</tbody>\n",
       "</table>\n"
      ],
      "text/latex": [
       "A data.frame: 6 × 14\n",
       "\\begin{tabular}{r|llllllllllllll}\n",
       "  & ptnum & label & C-424144002 & C-263495000 & C-72166-2 & C-763302001 & C-39156-5 & Followup & Exposure & asian & white & black & hawaiian & native\\\\\n",
       "  & <chr> & <dbl> & <dbl> & <dbl> & <dbl> & <int> & <dbl> & <int> & <dbl> & <dbl> & <dbl> & <dbl> & <dbl> & <dbl>\\\\\n",
       "\\hline\n",
       "\t5933 & p9972 & 0 & 53 & 1 & 0 & 1 & 29.66 &  822 & 1 & 0 & 1 & 0 & 0 & 0\\\\\n",
       "\t5934 & p9976 & 0 & 70 & 0 & 1 & 1 & 30.06 & 3042 & 1 & 0 & 1 & 0 & 0 & 0\\\\\n",
       "\t5935 & p9982 & 0 & 70 & 0 & 0 & 1 & 31.07 & 1233 & 1 & 0 & 0 & 1 & 0 & 0\\\\\n",
       "\t5936 & p9992 & 1 & 75 & 0 & 0 & 1 & 29.60 & 1838 & 1 & 0 & 1 & 0 & 0 & 0\\\\\n",
       "\t5937 & p9996 & 0 & 59 & 0 & 0 & 1 & 27.30 & 2374 & 2 & 0 & 1 & 0 & 0 & 0\\\\\n",
       "\t5938 & p9998 & 0 & 46 & 1 & 1 & 1 & 27.60 &  356 & 1 & 0 & 1 & 0 & 0 & 0\\\\\n",
       "\\end{tabular}\n"
      ],
      "text/markdown": [
       "\n",
       "A data.frame: 6 × 14\n",
       "\n",
       "| <!--/--> | ptnum &lt;chr&gt; | label &lt;dbl&gt; | C-424144002 &lt;dbl&gt; | C-263495000 &lt;dbl&gt; | C-72166-2 &lt;dbl&gt; | C-763302001 &lt;int&gt; | C-39156-5 &lt;dbl&gt; | Followup &lt;int&gt; | Exposure &lt;dbl&gt; | asian &lt;dbl&gt; | white &lt;dbl&gt; | black &lt;dbl&gt; | hawaiian &lt;dbl&gt; | native &lt;dbl&gt; |\n",
       "|---|---|---|---|---|---|---|---|---|---|---|---|---|---|---|\n",
       "| 5933 | p9972 | 0 | 53 | 1 | 0 | 1 | 29.66 |  822 | 1 | 0 | 1 | 0 | 0 | 0 |\n",
       "| 5934 | p9976 | 0 | 70 | 0 | 1 | 1 | 30.06 | 3042 | 1 | 0 | 1 | 0 | 0 | 0 |\n",
       "| 5935 | p9982 | 0 | 70 | 0 | 0 | 1 | 31.07 | 1233 | 1 | 0 | 0 | 1 | 0 | 0 |\n",
       "| 5936 | p9992 | 1 | 75 | 0 | 0 | 1 | 29.60 | 1838 | 1 | 0 | 1 | 0 | 0 | 0 |\n",
       "| 5937 | p9996 | 0 | 59 | 0 | 0 | 1 | 27.30 | 2374 | 2 | 0 | 1 | 0 | 0 | 0 |\n",
       "| 5938 | p9998 | 0 | 46 | 1 | 1 | 1 | 27.60 |  356 | 1 | 0 | 1 | 0 | 0 | 0 |\n",
       "\n"
      ],
      "text/plain": [
       "     ptnum label C-424144002 C-263495000 C-72166-2 C-763302001 C-39156-5\n",
       "5933 p9972 0     53          1           0         1           29.66    \n",
       "5934 p9976 0     70          0           1         1           30.06    \n",
       "5935 p9982 0     70          0           0         1           31.07    \n",
       "5936 p9992 1     75          0           0         1           29.60    \n",
       "5937 p9996 0     59          0           0         1           27.30    \n",
       "5938 p9998 0     46          1           1         1           27.60    \n",
       "     Followup Exposure asian white black hawaiian native\n",
       "5933  822     1        0     1     0     0        0     \n",
       "5934 3042     1        0     1     0     0        0     \n",
       "5935 1233     1        0     0     1     0        0     \n",
       "5936 1838     1        0     1     0     0        0     \n",
       "5937 2374     2        0     1     0     0        0     \n",
       "5938  356     1        0     1     0     0        0     "
      ]
     },
     "metadata": {},
     "output_type": "display_data"
    }
   ],
   "source": [
    "tail(Df_regression_unique)"
   ]
  },
  {
   "cell_type": "markdown",
   "id": "80b632ec",
   "metadata": {},
   "source": [
    "## Step 6: Remove the \"Native\"\n",
    "---\n",
    "\n",
    "Removing the variable to avoid the dummy variable trap."
   ]
  },
  {
   "cell_type": "code",
   "execution_count": 22,
   "id": "e494d448",
   "metadata": {},
   "outputs": [],
   "source": [
    "Df_regression_unique <- Df_regression_unique %>% select(-native)"
   ]
  },
  {
   "cell_type": "markdown",
   "id": "f8ce49d8",
   "metadata": {},
   "source": [
    "## Step 7: Verify changes\n",
    "---"
   ]
  },
  {
   "cell_type": "code",
   "execution_count": 23,
   "id": "9ec14915",
   "metadata": {
    "scrolled": true
   },
   "outputs": [
    {
     "data": {
      "text/html": [
       "<table class=\"dataframe\">\n",
       "<caption>A data.frame: 6 × 13</caption>\n",
       "<thead>\n",
       "\t<tr><th></th><th scope=col>ptnum</th><th scope=col>label</th><th scope=col>C-424144002</th><th scope=col>C-263495000</th><th scope=col>C-72166-2</th><th scope=col>C-763302001</th><th scope=col>C-39156-5</th><th scope=col>Followup</th><th scope=col>Exposure</th><th scope=col>asian</th><th scope=col>white</th><th scope=col>black</th><th scope=col>hawaiian</th></tr>\n",
       "\t<tr><th></th><th scope=col>&lt;chr&gt;</th><th scope=col>&lt;dbl&gt;</th><th scope=col>&lt;dbl&gt;</th><th scope=col>&lt;dbl&gt;</th><th scope=col>&lt;dbl&gt;</th><th scope=col>&lt;int&gt;</th><th scope=col>&lt;dbl&gt;</th><th scope=col>&lt;int&gt;</th><th scope=col>&lt;dbl&gt;</th><th scope=col>&lt;dbl&gt;</th><th scope=col>&lt;dbl&gt;</th><th scope=col>&lt;dbl&gt;</th><th scope=col>&lt;dbl&gt;</th></tr>\n",
       "</thead>\n",
       "<tbody>\n",
       "\t<tr><th scope=row>5933</th><td>p9972</td><td>0</td><td>53</td><td>1</td><td>0</td><td>1</td><td>29.66</td><td> 822</td><td>1</td><td>0</td><td>1</td><td>0</td><td>0</td></tr>\n",
       "\t<tr><th scope=row>5934</th><td>p9976</td><td>0</td><td>70</td><td>0</td><td>1</td><td>1</td><td>30.06</td><td>3042</td><td>1</td><td>0</td><td>1</td><td>0</td><td>0</td></tr>\n",
       "\t<tr><th scope=row>5935</th><td>p9982</td><td>0</td><td>70</td><td>0</td><td>0</td><td>1</td><td>31.07</td><td>1233</td><td>1</td><td>0</td><td>0</td><td>1</td><td>0</td></tr>\n",
       "\t<tr><th scope=row>5936</th><td>p9992</td><td>1</td><td>75</td><td>0</td><td>0</td><td>1</td><td>29.60</td><td>1838</td><td>1</td><td>0</td><td>1</td><td>0</td><td>0</td></tr>\n",
       "\t<tr><th scope=row>5937</th><td>p9996</td><td>0</td><td>59</td><td>0</td><td>0</td><td>1</td><td>27.30</td><td>2374</td><td>2</td><td>0</td><td>1</td><td>0</td><td>0</td></tr>\n",
       "\t<tr><th scope=row>5938</th><td>p9998</td><td>0</td><td>46</td><td>1</td><td>1</td><td>1</td><td>27.60</td><td> 356</td><td>1</td><td>0</td><td>1</td><td>0</td><td>0</td></tr>\n",
       "</tbody>\n",
       "</table>\n"
      ],
      "text/latex": [
       "A data.frame: 6 × 13\n",
       "\\begin{tabular}{r|lllllllllllll}\n",
       "  & ptnum & label & C-424144002 & C-263495000 & C-72166-2 & C-763302001 & C-39156-5 & Followup & Exposure & asian & white & black & hawaiian\\\\\n",
       "  & <chr> & <dbl> & <dbl> & <dbl> & <dbl> & <int> & <dbl> & <int> & <dbl> & <dbl> & <dbl> & <dbl> & <dbl>\\\\\n",
       "\\hline\n",
       "\t5933 & p9972 & 0 & 53 & 1 & 0 & 1 & 29.66 &  822 & 1 & 0 & 1 & 0 & 0\\\\\n",
       "\t5934 & p9976 & 0 & 70 & 0 & 1 & 1 & 30.06 & 3042 & 1 & 0 & 1 & 0 & 0\\\\\n",
       "\t5935 & p9982 & 0 & 70 & 0 & 0 & 1 & 31.07 & 1233 & 1 & 0 & 0 & 1 & 0\\\\\n",
       "\t5936 & p9992 & 1 & 75 & 0 & 0 & 1 & 29.60 & 1838 & 1 & 0 & 1 & 0 & 0\\\\\n",
       "\t5937 & p9996 & 0 & 59 & 0 & 0 & 1 & 27.30 & 2374 & 2 & 0 & 1 & 0 & 0\\\\\n",
       "\t5938 & p9998 & 0 & 46 & 1 & 1 & 1 & 27.60 &  356 & 1 & 0 & 1 & 0 & 0\\\\\n",
       "\\end{tabular}\n"
      ],
      "text/markdown": [
       "\n",
       "A data.frame: 6 × 13\n",
       "\n",
       "| <!--/--> | ptnum &lt;chr&gt; | label &lt;dbl&gt; | C-424144002 &lt;dbl&gt; | C-263495000 &lt;dbl&gt; | C-72166-2 &lt;dbl&gt; | C-763302001 &lt;int&gt; | C-39156-5 &lt;dbl&gt; | Followup &lt;int&gt; | Exposure &lt;dbl&gt; | asian &lt;dbl&gt; | white &lt;dbl&gt; | black &lt;dbl&gt; | hawaiian &lt;dbl&gt; |\n",
       "|---|---|---|---|---|---|---|---|---|---|---|---|---|---|\n",
       "| 5933 | p9972 | 0 | 53 | 1 | 0 | 1 | 29.66 |  822 | 1 | 0 | 1 | 0 | 0 |\n",
       "| 5934 | p9976 | 0 | 70 | 0 | 1 | 1 | 30.06 | 3042 | 1 | 0 | 1 | 0 | 0 |\n",
       "| 5935 | p9982 | 0 | 70 | 0 | 0 | 1 | 31.07 | 1233 | 1 | 0 | 0 | 1 | 0 |\n",
       "| 5936 | p9992 | 1 | 75 | 0 | 0 | 1 | 29.60 | 1838 | 1 | 0 | 1 | 0 | 0 |\n",
       "| 5937 | p9996 | 0 | 59 | 0 | 0 | 1 | 27.30 | 2374 | 2 | 0 | 1 | 0 | 0 |\n",
       "| 5938 | p9998 | 0 | 46 | 1 | 1 | 1 | 27.60 |  356 | 1 | 0 | 1 | 0 | 0 |\n",
       "\n"
      ],
      "text/plain": [
       "     ptnum label C-424144002 C-263495000 C-72166-2 C-763302001 C-39156-5\n",
       "5933 p9972 0     53          1           0         1           29.66    \n",
       "5934 p9976 0     70          0           1         1           30.06    \n",
       "5935 p9982 0     70          0           0         1           31.07    \n",
       "5936 p9992 1     75          0           0         1           29.60    \n",
       "5937 p9996 0     59          0           0         1           27.30    \n",
       "5938 p9998 0     46          1           1         1           27.60    \n",
       "     Followup Exposure asian white black hawaiian\n",
       "5933  822     1        0     1     0     0       \n",
       "5934 3042     1        0     1     0     0       \n",
       "5935 1233     1        0     0     1     0       \n",
       "5936 1838     1        0     1     0     0       \n",
       "5937 2374     2        0     1     0     0       \n",
       "5938  356     1        0     1     0     0       "
      ]
     },
     "metadata": {},
     "output_type": "display_data"
    }
   ],
   "source": [
    "tail(Df_regression_unique)"
   ]
  },
  {
   "cell_type": "markdown",
   "id": "5fc38855",
   "metadata": {},
   "source": [
    "## Step 8: Check the unique values of the Exposure columns\n",
    "---"
   ]
  },
  {
   "cell_type": "code",
   "execution_count": 24,
   "id": "fa3e92b2",
   "metadata": {},
   "outputs": [
    {
     "data": {
      "text/html": [
       "<style>\n",
       ".list-inline {list-style: none; margin:0; padding: 0}\n",
       ".list-inline>li {display: inline-block}\n",
       ".list-inline>li:not(:last-child)::after {content: \"\\00b7\"; padding: 0 .5ex}\n",
       "</style>\n",
       "<ol class=list-inline><li>1</li><li>2</li></ol>\n"
      ],
      "text/latex": [
       "\\begin{enumerate*}\n",
       "\\item 1\n",
       "\\item 2\n",
       "\\end{enumerate*}\n"
      ],
      "text/markdown": [
       "1. 1\n",
       "2. 2\n",
       "\n",
       "\n"
      ],
      "text/plain": [
       "[1] 1 2"
      ]
     },
     "metadata": {},
     "output_type": "display_data"
    }
   ],
   "source": [
    "unique(Df_regression_unique$\"Exposure\")"
   ]
  },
  {
   "cell_type": "markdown",
   "id": "418f1cdf",
   "metadata": {},
   "source": [
    "## Step 9: in the Exposure change into binary variable\n",
    "---\n",
    "Coding legend is:\n",
    "\n",
    "1 = 0\n",
    "\n",
    "2 = 1"
   ]
  },
  {
   "cell_type": "code",
   "execution_count": 25,
   "id": "d3132e43",
   "metadata": {},
   "outputs": [],
   "source": [
    "Df_regression_unique$\"Exposure\" <- ifelse(Df_regression_unique$\"Exposure\" == 2, 1, 0)"
   ]
  },
  {
   "cell_type": "markdown",
   "id": "66ce4a20",
   "metadata": {},
   "source": [
    "## Step 10: Verify changes\n",
    "---"
   ]
  },
  {
   "cell_type": "code",
   "execution_count": 26,
   "id": "0b13a920",
   "metadata": {},
   "outputs": [
    {
     "data": {
      "text/html": [
       "<style>\n",
       ".list-inline {list-style: none; margin:0; padding: 0}\n",
       ".list-inline>li {display: inline-block}\n",
       ".list-inline>li:not(:last-child)::after {content: \"\\00b7\"; padding: 0 .5ex}\n",
       "</style>\n",
       "<ol class=list-inline><li>0</li><li>1</li></ol>\n"
      ],
      "text/latex": [
       "\\begin{enumerate*}\n",
       "\\item 0\n",
       "\\item 1\n",
       "\\end{enumerate*}\n"
      ],
      "text/markdown": [
       "1. 0\n",
       "2. 1\n",
       "\n",
       "\n"
      ],
      "text/plain": [
       "[1] 0 1"
      ]
     },
     "metadata": {},
     "output_type": "display_data"
    }
   ],
   "source": [
    "unique(Df_regression_unique$\"Exposure\")"
   ]
  },
  {
   "cell_type": "markdown",
   "id": "259efa36",
   "metadata": {},
   "source": [
    "## Discussion\n",
    "---\n",
    "Epidemiological research often involves variables that naturally fall into discrete categories, such as demographic data (e.g., age groups, gender), exposure groups, or disease classifications. Converting such variables into categorical formats is a critical step in data preparation and analysis, as it ensures that these variables are correctly represented and interpreted in statistical models.\n",
    "\n",
    "## When Categorical Conversion is Crucial\n",
    "---\n",
    "\n",
    "a. When Variables Are Nominal or Ordinal\n",
    "\n",
    "    Nominal Variables: Variables with distinct categories that have no inherent order (e.g., blood type, ethnicity, or disease type).\n",
    "    \n",
    "    Ordinal Variables: Variables with categories that have a meaningful order but no consistent scale (e.g., disease severity: mild, moderate, severe).\n",
    "    Example: Converting \"mild, moderate, severe\" into ordered factors to preserve their natural hierarchy.\n",
    "\n",
    "b. When Applying Statistical Models\n",
    "\n",
    "    Many statistical models, such as regression, ANOVA, and logistic regression, require categorical variables to be explicitly coded as factors. Without conversion, the software might misinterpret categorical variables as continuous, leading to incorrect model specification.\n",
    "\n",
    "c. When Handling Group Comparisons\n",
    "\n",
    "        Epidemiological studies often involve comparing groups (e.g., exposed vs. unexposed, treatment vs. control). Categorical conversion ensures clear group delineation for stratified analysis or interaction testing.\n",
    "\n",
    "d. When Using Machine Learning or Modeling Algorithms\n",
    "\n",
    "    Machine learning models often require variables to be encoded as numerical representations (dummy variables or one-hot encoding). Categorical conversion facilitates the creation of these encodings.\n",
    "    \n",
    "    \n",
    "## Why Categorical Conversion Is Crucial\n",
    "---\n",
    "\n",
    "a. Preserves the Integrity of Categorical Data\n",
    "\n",
    "    Without proper conversion, categorical variables might be treated as continuous, leading to meaningless operations (e.g., averaging categorical values like \"male\" and \"female\"). This can distort model outputs and make the findings invalid.\n",
    "    \n",
    "b. Enables Appropriate Statistical Interpretation\n",
    "\n",
    "    Categorical conversion allows models to calculate meaningful metrics: Odds ratios in logistic regression.\n",
    "    Relative risks in survival analysis.\n",
    "    Proper conversion helps interpret the role of exposure, disease outcomes, or risk factors accurately.\n",
    "\n",
    "c. Facilitates Group-Level Analysis\n",
    "\n",
    "    In epidemiology, researchers often analyze data stratified by categories like age, sex, or socioeconomic status. Categorical conversion ensures these groupings are well-defined and allows for subgroup analysis, such as identifying differential risks across strata.\n",
    "\n",
    "d. Prevents Misrepresentation of Ordinal Data\n",
    "\n",
    "    For ordinal variables, conversion to factors ensures that statistical methods respect the natural ordering of categories. For example, in a disease severity scale, treating categories as unordered would ignore their hierarchical relationship.\n",
    "\n",
    "e. Essential for Interaction Testing\n",
    "\n",
    "    Testing interactions between categorical variables (e.g., age group × treatment type) requires proper encoding to understand joint effects.\n",
    "\n",
    "f. Improves Computational Efficiency\n",
    "\n",
    "    Converting categorical variables into factors reduces memory usage and speeds up computations in R and other statistical software.\n",
    "\n",
    "g. Ensures Reproducibility\n",
    "\n",
    "    Explicitly converting and documenting categorical variables improves transparency and ensures consistent data handling across analyses."
   ]
  },
  {
   "cell_type": "markdown",
   "id": "3a6e45d9",
   "metadata": {},
   "source": [
    "# Question 4: Data Cleaning\n",
    "---\n",
    "Implement imputation or replacement techniques to address missing values in\n",
    "key categorical variables, such as disease stages. Discuss the ethical and\n",
    "methodological considerations when cleaning clinical datasets."
   ]
  },
  {
   "cell_type": "markdown",
   "id": "7c5b7d86",
   "metadata": {},
   "source": [
    "## Step 0: Check if there are missing datasets\n",
    "---"
   ]
  },
  {
   "cell_type": "code",
   "execution_count": 27,
   "id": "568e8ccc",
   "metadata": {},
   "outputs": [
    {
     "data": {
      "text/html": [
       "<style>\n",
       ".dl-inline {width: auto; margin:0; padding: 0}\n",
       ".dl-inline>dt, .dl-inline>dd {float: none; width: auto; display: inline-block}\n",
       ".dl-inline>dt::after {content: \":\\0020\"; padding-right: .5ex}\n",
       ".dl-inline>dt:not(:first-of-type) {padding-left: .5ex}\n",
       "</style><dl class=dl-inline><dt>ptnum</dt><dd>0</dd><dt>label</dt><dd>0</dd><dt>C-424144002</dt><dd>0</dd><dt>C-263495000</dt><dd>0</dd><dt>C-72166-2</dt><dd>0</dd><dt>C-763302001</dt><dd>0</dd><dt>C-39156-5</dt><dd>0</dd><dt>Followup</dt><dd>0</dd><dt>Exposure</dt><dd>0</dd><dt>asian</dt><dd>0</dd><dt>white</dt><dd>0</dd><dt>black</dt><dd>0</dd><dt>hawaiian</dt><dd>0</dd></dl>\n"
      ],
      "text/latex": [
       "\\begin{description*}\n",
       "\\item[ptnum] 0\n",
       "\\item[label] 0\n",
       "\\item[C-424144002] 0\n",
       "\\item[C-263495000] 0\n",
       "\\item[C-72166-2] 0\n",
       "\\item[C-763302001] 0\n",
       "\\item[C-39156-5] 0\n",
       "\\item[Followup] 0\n",
       "\\item[Exposure] 0\n",
       "\\item[asian] 0\n",
       "\\item[white] 0\n",
       "\\item[black] 0\n",
       "\\item[hawaiian] 0\n",
       "\\end{description*}\n"
      ],
      "text/markdown": [
       "ptnum\n",
       ":   0label\n",
       ":   0C-424144002\n",
       ":   0C-263495000\n",
       ":   0C-72166-2\n",
       ":   0C-763302001\n",
       ":   0C-39156-5\n",
       ":   0Followup\n",
       ":   0Exposure\n",
       ":   0asian\n",
       ":   0white\n",
       ":   0black\n",
       ":   0hawaiian\n",
       ":   0\n",
       "\n"
      ],
      "text/plain": [
       "      ptnum       label C-424144002 C-263495000   C-72166-2 C-763302001 \n",
       "          0           0           0           0           0           0 \n",
       "  C-39156-5    Followup    Exposure       asian       white       black \n",
       "          0           0           0           0           0           0 \n",
       "   hawaiian \n",
       "          0 "
      ]
     },
     "metadata": {},
     "output_type": "display_data"
    }
   ],
   "source": [
    "colSums(is.na(Df_regression_unique))"
   ]
  },
  {
   "cell_type": "markdown",
   "id": "1204edf1",
   "metadata": {},
   "source": [
    "## Step 1: There are no missing values in the dataset\n",
    "---"
   ]
  },
  {
   "cell_type": "markdown",
   "id": "4af16242",
   "metadata": {},
   "source": [
    "## Dicussion\n",
    "---\n",
    "\n",
    "Cleaning clinical datasets is a critical step in preparing data for analysis, but it involves both ethical and methodological challenges. Clinical data often deals with sensitive health information, and how the data is handled can influence the validity of research findings and impact clinical decisions.\n",
    "\n",
    "## Ethical Considerations\n",
    "---\n",
    "\n",
    "1. Patient Privacy and Confidentiality\n",
    "\n",
    "    Importance: Clinical datasets often contain personally identifiable information (PII) such as names, dates of birth, and medical history. Maintaining privacy is crucial to comply with regulations like HIPAA (Health Insurance Portability and Accountability Act) or GDPR (General Data Protection Regulation).\n",
    "    \n",
    "    Actions:\n",
    "    \n",
    "        - Remove or anonymize PII before cleaning.\n",
    "        - Use encryption and secure storage methods to protect data.\n",
    "        - Limit access to sensitive information on a need-to-know basis.      \n",
    "\n",
    "2. Informed Consent\n",
    "\n",
    "    Importance: Patients must consent to their data being used for research purposes.\n",
    "    \n",
    "    Challenges: Retrospective datasets may lack explicit consent. Data cleaning activities, such as creating derived variables, must remain within the bounds of the consent obtained.\n",
    "    \n",
    "    Actions:\n",
    "    \n",
    "        - Ensure that the research use aligns with the terms of consent.\n",
    "        - Obtain ethics committee approval for secondary uses of data.\n",
    "\n",
    "3. Bias Introduction\n",
    "    Importance: Cleaning processes, such as imputing missing values or removing outliers, can introduce biases that affect the validity of findings.\n",
    "    \n",
    "    Examples:\n",
    "        Excluding patients with incomplete records may disproportionately affect underrepresented groups.\n",
    "        Over-imputation of missing data may create artificial trends.\n",
    "    \n",
    "    Actions:\n",
    "        Document all cleaning decisions.\n",
    "        Use transparent, reproducible methods to minimize bias.\n",
    "4. Equity and Representation\n",
    "\n",
    "    Importance: Clinical datasets often underrepresent certain populations (e.g., minorities, rural communities).\n",
    "\n",
    "    Challenges: Cleaning that removes records with missing demographic or clinical data may exacerbate disparities.\n",
    "\n",
    "    Actions:\n",
    "    \n",
    "        - Assess the impact of cleaning decisions on subgroup representation.\n",
    "        - Consider weighting or stratification to ensure equitable analyses.\n",
    "\n",
    "5. Accountability and Transparency\n",
    "\n",
    "    Importance: Ethical research requires transparency in data handling to ensure findings are reproducible and credible.\n",
    "    \n",
    "    Actions:\n",
    "    \n",
    "        - Maintain logs of all cleaning steps.\n",
    "        - Share cleaned datasets only with appropriate documentation.\n",
    "        \n",
    "## Methodological Considerations\n",
    "---\n",
    "\n",
    "1. Understanding the Nature of Missing Data\n",
    "\n",
    "    Challenge: Missing data can arise from various mechanisms:\n",
    "    \n",
    "    Missing Completely at Random (MCAR): No systematic relationship to observed or unobserved data.\n",
    "    \n",
    "    Missing at Random (MAR): Depends on observed data.\n",
    "    \n",
    "    Missing Not at Random (MNAR): Depends on unobserved data.\n",
    "    \n",
    "    Actions:\n",
    "    \n",
    "        - Use appropriate techniques (e.g., multiple imputation) to address missingness.\n",
    "        - Avoid arbitrary deletion of records, as it may introduce bias.\n",
    "\n",
    "2. Handling Outliers\n",
    "\n",
    "    Challenge: Outliers in clinical data may reflect true extreme cases or data entry errors.\n",
    "    \n",
    "    Actions:\n",
    "    \n",
    "        - Investigate the cause of outliers before removing or modifying them.\n",
    "        - Use robust statistical methods that are less sensitive to outliers.\n",
    "\n",
    "3. Standardization of Variables\n",
    "\n",
    "    Challenge: Clinical datasets often contain non-standardized values (e.g., varying units for lab results).\n",
    "    \n",
    "    Actions:\n",
    "        \n",
    "        - Standardize units and formats (e.g., mg/dL vs. mmol/L).\n",
    "        - Ensure consistent coding for categorical variables.\n",
    "\n",
    "4. Data Duplication\n",
    "\n",
    "    Challenge: Duplicate records can distort analyses if not handled correctly.\n",
    "    \n",
    "    Actions:\n",
    "    \n",
    "        - Identify and resolve duplicates through patient IDs, timestamps, and other key identifiers.\n",
    "        - Decide whether to retain or combine duplicates based on clinical context.\n",
    "\n",
    "5. Ethical Imputation and Replacement\n",
    "\n",
    "    Challenge: Imputing missing clinical values can affect the accuracy of analyses.\n",
    "    \n",
    "    Actions:\n",
    "     \n",
    "        - Choose methods that respect the clinical context (e.g., avoid imputing unrealistic values for lab tests).\n",
    "        - Clearly report imputation methods and their limitations.\n",
    "\n",
    "6. Longitudinal and Time-Dependent Data\n",
    "\n",
    "    Challenge: Clinical datasets often include repeated measures or time-series data.\n",
    "    \n",
    "    Actions:\n",
    "    \n",
    "        - Maintain the temporal sequence of data during cleaning.\n",
    "        - Use appropriate methods for handling missingness in time-dependent variables.\n",
    "\n",
    "7. Data Integration\n",
    "\n",
    "    Challenge: Combining datasets from multiple sources (e.g., EHR systems, clinical trials) may introduce inconsistencies.\n",
    "    \n",
    "    Actions:\n",
    "    \n",
    "        - Harmonize variable definitions and formats.\n",
    "        - Use linkage techniques to merge records accurately."
   ]
  },
  {
   "cell_type": "markdown",
   "id": "93f69869",
   "metadata": {},
   "source": [
    "# Question 6: Descriptive Statistics and Summary Tables\n",
    "---\n",
    "\n",
    "Create a comprehensive summary table that provides insights into the\n",
    "distribution of key variables in the dataset, stratified by exposure groups. This\n",
    "exercise will help familiarize you with descriptive statistical techniques that\n",
    "are essential for cohort studies."
   ]
  },
  {
   "cell_type": "markdown",
   "id": "773e7bd0",
   "metadata": {},
   "source": [
    "## Step 0: Delete the column named ptnum because these are not informative\n",
    "---"
   ]
  },
  {
   "cell_type": "code",
   "execution_count": 28,
   "id": "9f03f3eb",
   "metadata": {},
   "outputs": [
    {
     "data": {
      "text/html": [
       "<table class=\"dataframe\">\n",
       "<caption>A data.frame: 6 × 13</caption>\n",
       "<thead>\n",
       "\t<tr><th></th><th scope=col>ptnum</th><th scope=col>label</th><th scope=col>C-424144002</th><th scope=col>C-263495000</th><th scope=col>C-72166-2</th><th scope=col>C-763302001</th><th scope=col>C-39156-5</th><th scope=col>Followup</th><th scope=col>Exposure</th><th scope=col>asian</th><th scope=col>white</th><th scope=col>black</th><th scope=col>hawaiian</th></tr>\n",
       "\t<tr><th></th><th scope=col>&lt;chr&gt;</th><th scope=col>&lt;dbl&gt;</th><th scope=col>&lt;dbl&gt;</th><th scope=col>&lt;dbl&gt;</th><th scope=col>&lt;dbl&gt;</th><th scope=col>&lt;int&gt;</th><th scope=col>&lt;dbl&gt;</th><th scope=col>&lt;int&gt;</th><th scope=col>&lt;dbl&gt;</th><th scope=col>&lt;dbl&gt;</th><th scope=col>&lt;dbl&gt;</th><th scope=col>&lt;dbl&gt;</th><th scope=col>&lt;dbl&gt;</th></tr>\n",
       "</thead>\n",
       "<tbody>\n",
       "\t<tr><th scope=row>5933</th><td>p9972</td><td>0</td><td>53</td><td>1</td><td>0</td><td>1</td><td>29.66</td><td> 822</td><td>0</td><td>0</td><td>1</td><td>0</td><td>0</td></tr>\n",
       "\t<tr><th scope=row>5934</th><td>p9976</td><td>0</td><td>70</td><td>0</td><td>1</td><td>1</td><td>30.06</td><td>3042</td><td>0</td><td>0</td><td>1</td><td>0</td><td>0</td></tr>\n",
       "\t<tr><th scope=row>5935</th><td>p9982</td><td>0</td><td>70</td><td>0</td><td>0</td><td>1</td><td>31.07</td><td>1233</td><td>0</td><td>0</td><td>0</td><td>1</td><td>0</td></tr>\n",
       "\t<tr><th scope=row>5936</th><td>p9992</td><td>1</td><td>75</td><td>0</td><td>0</td><td>1</td><td>29.60</td><td>1838</td><td>0</td><td>0</td><td>1</td><td>0</td><td>0</td></tr>\n",
       "\t<tr><th scope=row>5937</th><td>p9996</td><td>0</td><td>59</td><td>0</td><td>0</td><td>1</td><td>27.30</td><td>2374</td><td>1</td><td>0</td><td>1</td><td>0</td><td>0</td></tr>\n",
       "\t<tr><th scope=row>5938</th><td>p9998</td><td>0</td><td>46</td><td>1</td><td>1</td><td>1</td><td>27.60</td><td> 356</td><td>0</td><td>0</td><td>1</td><td>0</td><td>0</td></tr>\n",
       "</tbody>\n",
       "</table>\n"
      ],
      "text/latex": [
       "A data.frame: 6 × 13\n",
       "\\begin{tabular}{r|lllllllllllll}\n",
       "  & ptnum & label & C-424144002 & C-263495000 & C-72166-2 & C-763302001 & C-39156-5 & Followup & Exposure & asian & white & black & hawaiian\\\\\n",
       "  & <chr> & <dbl> & <dbl> & <dbl> & <dbl> & <int> & <dbl> & <int> & <dbl> & <dbl> & <dbl> & <dbl> & <dbl>\\\\\n",
       "\\hline\n",
       "\t5933 & p9972 & 0 & 53 & 1 & 0 & 1 & 29.66 &  822 & 0 & 0 & 1 & 0 & 0\\\\\n",
       "\t5934 & p9976 & 0 & 70 & 0 & 1 & 1 & 30.06 & 3042 & 0 & 0 & 1 & 0 & 0\\\\\n",
       "\t5935 & p9982 & 0 & 70 & 0 & 0 & 1 & 31.07 & 1233 & 0 & 0 & 0 & 1 & 0\\\\\n",
       "\t5936 & p9992 & 1 & 75 & 0 & 0 & 1 & 29.60 & 1838 & 0 & 0 & 1 & 0 & 0\\\\\n",
       "\t5937 & p9996 & 0 & 59 & 0 & 0 & 1 & 27.30 & 2374 & 1 & 0 & 1 & 0 & 0\\\\\n",
       "\t5938 & p9998 & 0 & 46 & 1 & 1 & 1 & 27.60 &  356 & 0 & 0 & 1 & 0 & 0\\\\\n",
       "\\end{tabular}\n"
      ],
      "text/markdown": [
       "\n",
       "A data.frame: 6 × 13\n",
       "\n",
       "| <!--/--> | ptnum &lt;chr&gt; | label &lt;dbl&gt; | C-424144002 &lt;dbl&gt; | C-263495000 &lt;dbl&gt; | C-72166-2 &lt;dbl&gt; | C-763302001 &lt;int&gt; | C-39156-5 &lt;dbl&gt; | Followup &lt;int&gt; | Exposure &lt;dbl&gt; | asian &lt;dbl&gt; | white &lt;dbl&gt; | black &lt;dbl&gt; | hawaiian &lt;dbl&gt; |\n",
       "|---|---|---|---|---|---|---|---|---|---|---|---|---|---|\n",
       "| 5933 | p9972 | 0 | 53 | 1 | 0 | 1 | 29.66 |  822 | 0 | 0 | 1 | 0 | 0 |\n",
       "| 5934 | p9976 | 0 | 70 | 0 | 1 | 1 | 30.06 | 3042 | 0 | 0 | 1 | 0 | 0 |\n",
       "| 5935 | p9982 | 0 | 70 | 0 | 0 | 1 | 31.07 | 1233 | 0 | 0 | 0 | 1 | 0 |\n",
       "| 5936 | p9992 | 1 | 75 | 0 | 0 | 1 | 29.60 | 1838 | 0 | 0 | 1 | 0 | 0 |\n",
       "| 5937 | p9996 | 0 | 59 | 0 | 0 | 1 | 27.30 | 2374 | 1 | 0 | 1 | 0 | 0 |\n",
       "| 5938 | p9998 | 0 | 46 | 1 | 1 | 1 | 27.60 |  356 | 0 | 0 | 1 | 0 | 0 |\n",
       "\n"
      ],
      "text/plain": [
       "     ptnum label C-424144002 C-263495000 C-72166-2 C-763302001 C-39156-5\n",
       "5933 p9972 0     53          1           0         1           29.66    \n",
       "5934 p9976 0     70          0           1         1           30.06    \n",
       "5935 p9982 0     70          0           0         1           31.07    \n",
       "5936 p9992 1     75          0           0         1           29.60    \n",
       "5937 p9996 0     59          0           0         1           27.30    \n",
       "5938 p9998 0     46          1           1         1           27.60    \n",
       "     Followup Exposure asian white black hawaiian\n",
       "5933  822     0        0     1     0     0       \n",
       "5934 3042     0        0     1     0     0       \n",
       "5935 1233     0        0     0     1     0       \n",
       "5936 1838     0        0     1     0     0       \n",
       "5937 2374     1        0     1     0     0       \n",
       "5938  356     0        0     1     0     0       "
      ]
     },
     "metadata": {},
     "output_type": "display_data"
    }
   ],
   "source": [
    "tail(Df_regression_unique)"
   ]
  },
  {
   "cell_type": "code",
   "execution_count": 29,
   "id": "f26558b1",
   "metadata": {},
   "outputs": [],
   "source": [
    "Df_regression_unique <- Df_regression_unique %>% select(-ptnum)"
   ]
  },
  {
   "cell_type": "markdown",
   "id": "e07b93e0",
   "metadata": {},
   "source": [
    "## Step 1: Verify changes\n",
    "---"
   ]
  },
  {
   "cell_type": "code",
   "execution_count": 30,
   "id": "c8f485fa",
   "metadata": {},
   "outputs": [
    {
     "data": {
      "text/html": [
       "<table class=\"dataframe\">\n",
       "<caption>A data.frame: 6 × 12</caption>\n",
       "<thead>\n",
       "\t<tr><th></th><th scope=col>label</th><th scope=col>C-424144002</th><th scope=col>C-263495000</th><th scope=col>C-72166-2</th><th scope=col>C-763302001</th><th scope=col>C-39156-5</th><th scope=col>Followup</th><th scope=col>Exposure</th><th scope=col>asian</th><th scope=col>white</th><th scope=col>black</th><th scope=col>hawaiian</th></tr>\n",
       "\t<tr><th></th><th scope=col>&lt;dbl&gt;</th><th scope=col>&lt;dbl&gt;</th><th scope=col>&lt;dbl&gt;</th><th scope=col>&lt;dbl&gt;</th><th scope=col>&lt;int&gt;</th><th scope=col>&lt;dbl&gt;</th><th scope=col>&lt;int&gt;</th><th scope=col>&lt;dbl&gt;</th><th scope=col>&lt;dbl&gt;</th><th scope=col>&lt;dbl&gt;</th><th scope=col>&lt;dbl&gt;</th><th scope=col>&lt;dbl&gt;</th></tr>\n",
       "</thead>\n",
       "<tbody>\n",
       "\t<tr><th scope=row>5933</th><td>0</td><td>53</td><td>1</td><td>0</td><td>1</td><td>29.66</td><td> 822</td><td>0</td><td>0</td><td>1</td><td>0</td><td>0</td></tr>\n",
       "\t<tr><th scope=row>5934</th><td>0</td><td>70</td><td>0</td><td>1</td><td>1</td><td>30.06</td><td>3042</td><td>0</td><td>0</td><td>1</td><td>0</td><td>0</td></tr>\n",
       "\t<tr><th scope=row>5935</th><td>0</td><td>70</td><td>0</td><td>0</td><td>1</td><td>31.07</td><td>1233</td><td>0</td><td>0</td><td>0</td><td>1</td><td>0</td></tr>\n",
       "\t<tr><th scope=row>5936</th><td>1</td><td>75</td><td>0</td><td>0</td><td>1</td><td>29.60</td><td>1838</td><td>0</td><td>0</td><td>1</td><td>0</td><td>0</td></tr>\n",
       "\t<tr><th scope=row>5937</th><td>0</td><td>59</td><td>0</td><td>0</td><td>1</td><td>27.30</td><td>2374</td><td>1</td><td>0</td><td>1</td><td>0</td><td>0</td></tr>\n",
       "\t<tr><th scope=row>5938</th><td>0</td><td>46</td><td>1</td><td>1</td><td>1</td><td>27.60</td><td> 356</td><td>0</td><td>0</td><td>1</td><td>0</td><td>0</td></tr>\n",
       "</tbody>\n",
       "</table>\n"
      ],
      "text/latex": [
       "A data.frame: 6 × 12\n",
       "\\begin{tabular}{r|llllllllllll}\n",
       "  & label & C-424144002 & C-263495000 & C-72166-2 & C-763302001 & C-39156-5 & Followup & Exposure & asian & white & black & hawaiian\\\\\n",
       "  & <dbl> & <dbl> & <dbl> & <dbl> & <int> & <dbl> & <int> & <dbl> & <dbl> & <dbl> & <dbl> & <dbl>\\\\\n",
       "\\hline\n",
       "\t5933 & 0 & 53 & 1 & 0 & 1 & 29.66 &  822 & 0 & 0 & 1 & 0 & 0\\\\\n",
       "\t5934 & 0 & 70 & 0 & 1 & 1 & 30.06 & 3042 & 0 & 0 & 1 & 0 & 0\\\\\n",
       "\t5935 & 0 & 70 & 0 & 0 & 1 & 31.07 & 1233 & 0 & 0 & 0 & 1 & 0\\\\\n",
       "\t5936 & 1 & 75 & 0 & 0 & 1 & 29.60 & 1838 & 0 & 0 & 1 & 0 & 0\\\\\n",
       "\t5937 & 0 & 59 & 0 & 0 & 1 & 27.30 & 2374 & 1 & 0 & 1 & 0 & 0\\\\\n",
       "\t5938 & 0 & 46 & 1 & 1 & 1 & 27.60 &  356 & 0 & 0 & 1 & 0 & 0\\\\\n",
       "\\end{tabular}\n"
      ],
      "text/markdown": [
       "\n",
       "A data.frame: 6 × 12\n",
       "\n",
       "| <!--/--> | label &lt;dbl&gt; | C-424144002 &lt;dbl&gt; | C-263495000 &lt;dbl&gt; | C-72166-2 &lt;dbl&gt; | C-763302001 &lt;int&gt; | C-39156-5 &lt;dbl&gt; | Followup &lt;int&gt; | Exposure &lt;dbl&gt; | asian &lt;dbl&gt; | white &lt;dbl&gt; | black &lt;dbl&gt; | hawaiian &lt;dbl&gt; |\n",
       "|---|---|---|---|---|---|---|---|---|---|---|---|---|\n",
       "| 5933 | 0 | 53 | 1 | 0 | 1 | 29.66 |  822 | 0 | 0 | 1 | 0 | 0 |\n",
       "| 5934 | 0 | 70 | 0 | 1 | 1 | 30.06 | 3042 | 0 | 0 | 1 | 0 | 0 |\n",
       "| 5935 | 0 | 70 | 0 | 0 | 1 | 31.07 | 1233 | 0 | 0 | 0 | 1 | 0 |\n",
       "| 5936 | 1 | 75 | 0 | 0 | 1 | 29.60 | 1838 | 0 | 0 | 1 | 0 | 0 |\n",
       "| 5937 | 0 | 59 | 0 | 0 | 1 | 27.30 | 2374 | 1 | 0 | 1 | 0 | 0 |\n",
       "| 5938 | 0 | 46 | 1 | 1 | 1 | 27.60 |  356 | 0 | 0 | 1 | 0 | 0 |\n",
       "\n"
      ],
      "text/plain": [
       "     label C-424144002 C-263495000 C-72166-2 C-763302001 C-39156-5 Followup\n",
       "5933 0     53          1           0         1           29.66      822    \n",
       "5934 0     70          0           1         1           30.06     3042    \n",
       "5935 0     70          0           0         1           31.07     1233    \n",
       "5936 1     75          0           0         1           29.60     1838    \n",
       "5937 0     59          0           0         1           27.30     2374    \n",
       "5938 0     46          1           1         1           27.60      356    \n",
       "     Exposure asian white black hawaiian\n",
       "5933 0        0     1     0     0       \n",
       "5934 0        0     1     0     0       \n",
       "5935 0        0     0     1     0       \n",
       "5936 0        0     1     0     0       \n",
       "5937 1        0     1     0     0       \n",
       "5938 0        0     1     0     0       "
      ]
     },
     "metadata": {},
     "output_type": "display_data"
    }
   ],
   "source": [
    "tail(Df_regression_unique)"
   ]
  },
  {
   "cell_type": "markdown",
   "id": "bb3f489b",
   "metadata": {},
   "source": [
    "# Step 2: Create summary table\n",
    "---"
   ]
  },
  {
   "cell_type": "code",
   "execution_count": 31,
   "id": "508c3454",
   "metadata": {},
   "outputs": [
    {
     "name": "stdout",
     "output_type": "stream",
     "text": [
      "                         Stratified by Exposure\n",
      "                          0                 1                 p      test\n",
      "  n                          4754              1182                      \n",
      "  label (mean (SD))          0.27 (0.44)       0.35 (0.48)    <0.001     \n",
      "  C-424144002 (mean (SD))   64.89 (8.12)      64.47 (9.85)     0.128     \n",
      "  C-263495000 (mean (SD))    0.34 (0.47)       0.21 (0.41)    <0.001     \n",
      "  C-72166-2 (mean (SD))      0.43 (0.50)       0.39 (0.49)     0.008     \n",
      "  C-763302001 (mean (SD))    0.83 (0.37)       0.81 (0.39)     0.040     \n",
      "  C-39156-5 (mean (SD))     28.79 (1.97)      28.68 (1.95)     0.085     \n",
      "  Followup (mean (SD))    1978.47 (1041.86) 2040.76 (1034.14)  0.066     \n",
      "  asian (mean (SD))          0.07 (0.26)       0.08 (0.27)     0.749     \n",
      "  white (mean (SD))          0.82 (0.39)       0.82 (0.38)     0.457     \n",
      "  black (mean (SD))          0.08 (0.28)       0.08 (0.27)     0.386     \n",
      "  hawaiian (mean (SD))       0.01 (0.10)       0.01 (0.09)     0.527     \n"
     ]
    }
   ],
   "source": [
    "# Define the list of variables to summarize (exclude the exposure variable itself)\n",
    "variables <- setdiff(names(Df_regression_unique), \"Exposure\")\n",
    "\n",
    "# Create a table stratified by the exposure variable\n",
    "summary_table <- CreateTableOne(vars = variables, strata = \"Exposure\", data = Df_regression_unique)\n",
    "\n",
    "# Print the table\n",
    "print(summary_table)"
   ]
  },
  {
   "cell_type": "markdown",
   "id": "7fb295fe",
   "metadata": {},
   "source": [
    "## Step 3: Export the summary table as a CSV\n",
    "---"
   ]
  },
  {
   "cell_type": "code",
   "execution_count": 32,
   "id": "22dfa6e3",
   "metadata": {},
   "outputs": [
    {
     "name": "stdout",
     "output_type": "stream",
     "text": [
      "                         Stratified by Exposure\n",
      "                          0                 1                 p      test\n",
      "  n                       4754              1182                         \n",
      "  label (mean (SD))       0.27 (0.44)       0.35 (0.48)       <0.001     \n",
      "  C-424144002 (mean (SD)) 64.89 (8.12)      64.47 (9.85)      0.128      \n",
      "  C-263495000 (mean (SD)) 0.34 (0.47)       0.21 (0.41)       <0.001     \n",
      "  C-72166-2 (mean (SD))   0.43 (0.50)       0.39 (0.49)       0.008      \n",
      "  C-763302001 (mean (SD)) 0.83 (0.37)       0.81 (0.39)       0.040      \n",
      "  C-39156-5 (mean (SD))   28.79 (1.97)      28.68 (1.95)      0.085      \n",
      "  Followup (mean (SD))    1978.47 (1041.86) 2040.76 (1034.14) 0.066      \n",
      "  asian (mean (SD))       0.07 (0.26)       0.08 (0.27)       0.749      \n",
      "  white (mean (SD))       0.82 (0.39)       0.82 (0.38)       0.457      \n",
      "  black (mean (SD))       0.08 (0.28)       0.08 (0.27)       0.386      \n",
      "  hawaiian (mean (SD))    0.01 (0.10)       0.01 (0.09)       0.527      \n"
     ]
    }
   ],
   "source": [
    "# Extract the table as a matrix\n",
    "summary_matrix <- print(summary_table, quote = FALSE, noSpaces = TRUE)\n",
    "\n",
    "# Convert the matrix to a data.frame\n",
    "summary_df <- as.data.frame(summary_matrix)\n",
    "\n",
    "# Write the data.frame to a CSV file\n",
    "write.csv(summary_df, \"summary_table_exercise_1.csv\", row.names = TRUE)"
   ]
  },
  {
   "cell_type": "markdown",
   "id": "21d7d7ac",
   "metadata": {},
   "source": [
    "## Step 4: Include p-values for comparisons between exposure groups\n",
    "---"
   ]
  },
  {
   "cell_type": "code",
   "execution_count": 33,
   "id": "adcac0ba",
   "metadata": {},
   "outputs": [
    {
     "name": "stdout",
     "output_type": "stream",
     "text": [
      "                         Stratified by Exposure\n",
      "                          level 0                 1                 p      test\n",
      "  n                                4754              1182                      \n",
      "  label (mean (SD))                0.27 (0.44)       0.35 (0.48)    <0.001     \n",
      "  C-424144002 (mean (SD))         64.89 (8.12)      64.47 (9.85)     0.128     \n",
      "  C-263495000 (mean (SD))          0.34 (0.47)       0.21 (0.41)    <0.001     \n",
      "  C-72166-2 (mean (SD))            0.43 (0.50)       0.39 (0.49)     0.008     \n",
      "  C-763302001 (mean (SD))          0.83 (0.37)       0.81 (0.39)     0.040     \n",
      "  C-39156-5 (mean (SD))           28.79 (1.97)      28.68 (1.95)     0.085     \n",
      "  Followup (mean (SD))          1978.47 (1041.86) 2040.76 (1034.14)  0.066     \n",
      "  asian (mean (SD))                0.07 (0.26)       0.08 (0.27)     0.749     \n",
      "  white (mean (SD))                0.82 (0.39)       0.82 (0.38)     0.457     \n",
      "  black (mean (SD))                0.08 (0.28)       0.08 (0.27)     0.386     \n",
      "  hawaiian (mean (SD))             0.01 (0.10)       0.01 (0.09)     0.527     \n"
     ]
    }
   ],
   "source": [
    "print(summary_table, showAllLevels = TRUE, test = TRUE)"
   ]
  },
  {
   "cell_type": "markdown",
   "id": "d788db8b",
   "metadata": {},
   "source": [
    "## Step 5: Save the preprocessed data as a .csv file (for the python users) and .R file (for the R users)\n",
    "---"
   ]
  },
  {
   "cell_type": "code",
   "execution_count": 34,
   "id": "cbfe8155",
   "metadata": {},
   "outputs": [],
   "source": [
    "write.csv(Df_regression_unique, \"cleaned_data.csv\", row.names = FALSE)"
   ]
  },
  {
   "cell_type": "code",
   "execution_count": 35,
   "id": "a4b00d15",
   "metadata": {},
   "outputs": [],
   "source": [
    "save(Df_regression_unique, file = \"cleaned_data.RData\")"
   ]
  },
  {
   "cell_type": "markdown",
   "id": "8bbbda6c",
   "metadata": {},
   "source": [
    "## Step 6: Verify by loading the Rdata\n",
    "---"
   ]
  },
  {
   "cell_type": "code",
   "execution_count": 36,
   "id": "58b83c1c",
   "metadata": {},
   "outputs": [],
   "source": [
    "load(\"cleaned_data.RData\")"
   ]
  },
  {
   "cell_type": "code",
   "execution_count": 37,
   "id": "a038ccd9",
   "metadata": {},
   "outputs": [
    {
     "data": {
      "text/html": [
       "<style>\n",
       ".list-inline {list-style: none; margin:0; padding: 0}\n",
       ".list-inline>li {display: inline-block}\n",
       ".list-inline>li:not(:last-child)::after {content: \"\\00b7\"; padding: 0 .5ex}\n",
       "</style>\n",
       "<ol class=list-inline><li>'Df_regression_unique'</li><li>'summary_df'</li><li>'summary_matrix'</li><li>'summary_table'</li><li>'variables'</li></ol>\n"
      ],
      "text/latex": [
       "\\begin{enumerate*}\n",
       "\\item 'Df\\_regression\\_unique'\n",
       "\\item 'summary\\_df'\n",
       "\\item 'summary\\_matrix'\n",
       "\\item 'summary\\_table'\n",
       "\\item 'variables'\n",
       "\\end{enumerate*}\n"
      ],
      "text/markdown": [
       "1. 'Df_regression_unique'\n",
       "2. 'summary_df'\n",
       "3. 'summary_matrix'\n",
       "4. 'summary_table'\n",
       "5. 'variables'\n",
       "\n",
       "\n"
      ],
      "text/plain": [
       "[1] \"Df_regression_unique\" \"summary_df\"           \"summary_matrix\"      \n",
       "[4] \"summary_table\"        \"variables\"           "
      ]
     },
     "metadata": {},
     "output_type": "display_data"
    }
   ],
   "source": [
    "ls()"
   ]
  },
  {
   "cell_type": "code",
   "execution_count": 38,
   "id": "f36e68ca",
   "metadata": {},
   "outputs": [
    {
     "data": {
      "text/html": [
       "<table class=\"dataframe\">\n",
       "<caption>A data.frame: 6 × 12</caption>\n",
       "<thead>\n",
       "\t<tr><th></th><th scope=col>label</th><th scope=col>C-424144002</th><th scope=col>C-263495000</th><th scope=col>C-72166-2</th><th scope=col>C-763302001</th><th scope=col>C-39156-5</th><th scope=col>Followup</th><th scope=col>Exposure</th><th scope=col>asian</th><th scope=col>white</th><th scope=col>black</th><th scope=col>hawaiian</th></tr>\n",
       "\t<tr><th></th><th scope=col>&lt;dbl&gt;</th><th scope=col>&lt;dbl&gt;</th><th scope=col>&lt;dbl&gt;</th><th scope=col>&lt;dbl&gt;</th><th scope=col>&lt;int&gt;</th><th scope=col>&lt;dbl&gt;</th><th scope=col>&lt;int&gt;</th><th scope=col>&lt;dbl&gt;</th><th scope=col>&lt;dbl&gt;</th><th scope=col>&lt;dbl&gt;</th><th scope=col>&lt;dbl&gt;</th><th scope=col>&lt;dbl&gt;</th></tr>\n",
       "</thead>\n",
       "<tbody>\n",
       "\t<tr><th scope=row>5933</th><td>0</td><td>53</td><td>1</td><td>0</td><td>1</td><td>29.66</td><td> 822</td><td>0</td><td>0</td><td>1</td><td>0</td><td>0</td></tr>\n",
       "\t<tr><th scope=row>5934</th><td>0</td><td>70</td><td>0</td><td>1</td><td>1</td><td>30.06</td><td>3042</td><td>0</td><td>0</td><td>1</td><td>0</td><td>0</td></tr>\n",
       "\t<tr><th scope=row>5935</th><td>0</td><td>70</td><td>0</td><td>0</td><td>1</td><td>31.07</td><td>1233</td><td>0</td><td>0</td><td>0</td><td>1</td><td>0</td></tr>\n",
       "\t<tr><th scope=row>5936</th><td>1</td><td>75</td><td>0</td><td>0</td><td>1</td><td>29.60</td><td>1838</td><td>0</td><td>0</td><td>1</td><td>0</td><td>0</td></tr>\n",
       "\t<tr><th scope=row>5937</th><td>0</td><td>59</td><td>0</td><td>0</td><td>1</td><td>27.30</td><td>2374</td><td>1</td><td>0</td><td>1</td><td>0</td><td>0</td></tr>\n",
       "\t<tr><th scope=row>5938</th><td>0</td><td>46</td><td>1</td><td>1</td><td>1</td><td>27.60</td><td> 356</td><td>0</td><td>0</td><td>1</td><td>0</td><td>0</td></tr>\n",
       "</tbody>\n",
       "</table>\n"
      ],
      "text/latex": [
       "A data.frame: 6 × 12\n",
       "\\begin{tabular}{r|llllllllllll}\n",
       "  & label & C-424144002 & C-263495000 & C-72166-2 & C-763302001 & C-39156-5 & Followup & Exposure & asian & white & black & hawaiian\\\\\n",
       "  & <dbl> & <dbl> & <dbl> & <dbl> & <int> & <dbl> & <int> & <dbl> & <dbl> & <dbl> & <dbl> & <dbl>\\\\\n",
       "\\hline\n",
       "\t5933 & 0 & 53 & 1 & 0 & 1 & 29.66 &  822 & 0 & 0 & 1 & 0 & 0\\\\\n",
       "\t5934 & 0 & 70 & 0 & 1 & 1 & 30.06 & 3042 & 0 & 0 & 1 & 0 & 0\\\\\n",
       "\t5935 & 0 & 70 & 0 & 0 & 1 & 31.07 & 1233 & 0 & 0 & 0 & 1 & 0\\\\\n",
       "\t5936 & 1 & 75 & 0 & 0 & 1 & 29.60 & 1838 & 0 & 0 & 1 & 0 & 0\\\\\n",
       "\t5937 & 0 & 59 & 0 & 0 & 1 & 27.30 & 2374 & 1 & 0 & 1 & 0 & 0\\\\\n",
       "\t5938 & 0 & 46 & 1 & 1 & 1 & 27.60 &  356 & 0 & 0 & 1 & 0 & 0\\\\\n",
       "\\end{tabular}\n"
      ],
      "text/markdown": [
       "\n",
       "A data.frame: 6 × 12\n",
       "\n",
       "| <!--/--> | label &lt;dbl&gt; | C-424144002 &lt;dbl&gt; | C-263495000 &lt;dbl&gt; | C-72166-2 &lt;dbl&gt; | C-763302001 &lt;int&gt; | C-39156-5 &lt;dbl&gt; | Followup &lt;int&gt; | Exposure &lt;dbl&gt; | asian &lt;dbl&gt; | white &lt;dbl&gt; | black &lt;dbl&gt; | hawaiian &lt;dbl&gt; |\n",
       "|---|---|---|---|---|---|---|---|---|---|---|---|---|\n",
       "| 5933 | 0 | 53 | 1 | 0 | 1 | 29.66 |  822 | 0 | 0 | 1 | 0 | 0 |\n",
       "| 5934 | 0 | 70 | 0 | 1 | 1 | 30.06 | 3042 | 0 | 0 | 1 | 0 | 0 |\n",
       "| 5935 | 0 | 70 | 0 | 0 | 1 | 31.07 | 1233 | 0 | 0 | 0 | 1 | 0 |\n",
       "| 5936 | 1 | 75 | 0 | 0 | 1 | 29.60 | 1838 | 0 | 0 | 1 | 0 | 0 |\n",
       "| 5937 | 0 | 59 | 0 | 0 | 1 | 27.30 | 2374 | 1 | 0 | 1 | 0 | 0 |\n",
       "| 5938 | 0 | 46 | 1 | 1 | 1 | 27.60 |  356 | 0 | 0 | 1 | 0 | 0 |\n",
       "\n"
      ],
      "text/plain": [
       "     label C-424144002 C-263495000 C-72166-2 C-763302001 C-39156-5 Followup\n",
       "5933 0     53          1           0         1           29.66      822    \n",
       "5934 0     70          0           1         1           30.06     3042    \n",
       "5935 0     70          0           0         1           31.07     1233    \n",
       "5936 1     75          0           0         1           29.60     1838    \n",
       "5937 0     59          0           0         1           27.30     2374    \n",
       "5938 0     46          1           1         1           27.60      356    \n",
       "     Exposure asian white black hawaiian\n",
       "5933 0        0     1     0     0       \n",
       "5934 0        0     1     0     0       \n",
       "5935 0        0     0     1     0       \n",
       "5936 0        0     1     0     0       \n",
       "5937 1        0     1     0     0       \n",
       "5938 0        0     1     0     0       "
      ]
     },
     "metadata": {},
     "output_type": "display_data"
    }
   ],
   "source": [
    "tail(Df_regression_unique)"
   ]
  },
  {
   "cell_type": "code",
   "execution_count": null,
   "id": "6def980d",
   "metadata": {},
   "outputs": [],
   "source": []
  },
  {
   "cell_type": "code",
   "execution_count": null,
   "id": "77a57236",
   "metadata": {},
   "outputs": [],
   "source": []
  }
 ],
 "metadata": {
  "kernelspec": {
   "display_name": "R",
   "language": "R",
   "name": "ir"
  },
  "language_info": {
   "codemirror_mode": "r",
   "file_extension": ".r",
   "mimetype": "text/x-r-source",
   "name": "R",
   "pygments_lexer": "r",
   "version": "4.4.2"
  }
 },
 "nbformat": 4,
 "nbformat_minor": 5
}
