{
 "cells": [
  {
   "cell_type": "markdown",
   "id": "5a627e89",
   "metadata": {},
   "source": [
    "# Step 1: Load the dataset\n",
    "---"
   ]
  },
  {
   "cell_type": "code",
   "execution_count": null,
   "id": "b2e2c675",
   "metadata": {},
   "outputs": [],
   "source": [
    "load(\"Df_regression.RData\")"
   ]
  },
  {
   "cell_type": "markdown",
   "id": "e51adf88",
   "metadata": {},
   "source": [
    "# Step 2: Check the content of the data\n",
    "---"
   ]
  },
  {
   "cell_type": "code",
   "execution_count": 12,
   "id": "2ab67dcc",
   "metadata": {},
   "outputs": [
    {
     "data": {
      "text/html": [
       "<style>\n",
       ".list-inline {list-style: none; margin:0; padding: 0}\n",
       ".list-inline>li {display: inline-block}\n",
       ".list-inline>li:not(:last-child)::after {content: \"\\00b7\"; padding: 0 .5ex}\n",
       "</style>\n",
       "<ol class=list-inline><li>'Df_regression_unique'</li><li>'dataset'</li></ol>\n"
      ],
      "text/latex": [
       "\\begin{enumerate*}\n",
       "\\item 'Df\\_regression\\_unique'\n",
       "\\item 'dataset'\n",
       "\\end{enumerate*}\n"
      ],
      "text/markdown": [
       "1. 'Df_regression_unique'\n",
       "2. 'dataset'\n",
       "\n",
       "\n"
      ],
      "text/plain": [
       "[1] \"Df_regression_unique\" \"dataset\"             "
      ]
     },
     "metadata": {},
     "output_type": "display_data"
    }
   ],
   "source": [
    "ls()"
   ]
  },
  {
   "cell_type": "markdown",
   "id": "7a77a09f",
   "metadata": {},
   "source": [
    "# Step 3: Check the class of the data\n",
    "---"
   ]
  },
  {
   "cell_type": "code",
   "execution_count": 29,
   "id": "12b9041d",
   "metadata": {},
   "outputs": [
    {
     "data": {
      "text/html": [
       "'data.frame'"
      ],
      "text/latex": [
       "'data.frame'"
      ],
      "text/markdown": [
       "'data.frame'"
      ],
      "text/plain": [
       "[1] \"data.frame\""
      ]
     },
     "metadata": {},
     "output_type": "display_data"
    },
    {
     "data": {
      "text/html": [
       "'character'"
      ],
      "text/latex": [
       "'character'"
      ],
      "text/markdown": [
       "'character'"
      ],
      "text/plain": [
       "[1] \"character\""
      ]
     },
     "metadata": {},
     "output_type": "display_data"
    }
   ],
   "source": [
    "class(Df_regression_unique)\n",
    "class(dataset)"
   ]
  },
  {
   "cell_type": "markdown",
   "id": "33d54f70",
   "metadata": {},
   "source": [
    "### Explanation:\n",
    "---\n",
    "1. Df_regression_unique is the 'dataframe' while dataset contains the 'character'.\n",
    "2. It is obvious then that Df_regression_unique contains the data."
   ]
  },
  {
   "cell_type": "markdown",
   "id": "5a8ecb9c",
   "metadata": {},
   "source": [
    "# Step 4: Get a snapshot of the data\n",
    "---\n",
    "1. Snapshots are important because we can see how our data looks like without looking at the entire dataset.\n",
    "\n",
    "2. In my practice I usually look at the tail in of the dataset, for me this is ideal because of two things:\n",
    "\n",
    "    a. By using the tail we can check how many rows the dataset is.\n",
    "\n",
    "    b. We can also check the datatype of each columns.\n"
   ]
  },
  {
   "cell_type": "code",
   "execution_count": 30,
   "id": "2d227571",
   "metadata": {},
   "outputs": [
    {
     "data": {
      "text/html": [
       "<table class=\"dataframe\">\n",
       "<caption>A data.frame: 6 × 15</caption>\n",
       "<thead>\n",
       "\t<tr><th></th><th scope=col>ptnum</th><th scope=col>label</th><th scope=col>C-424144002</th><th scope=col>C-263495000</th><th scope=col>C-103579009</th><th scope=col>C-72166-2</th><th scope=col>C-763302001</th><th scope=col>C-39156-5</th><th scope=col>C-185086009</th><th scope=col>C-21908-9</th><th scope=col>C-233604007</th><th scope=col>C-195967001</th><th scope=col>C-132281000119108</th><th scope=col>Followup</th><th scope=col>Exposure</th></tr>\n",
       "\t<tr><th></th><th scope=col>&lt;chr&gt;</th><th scope=col>&lt;dbl&gt;</th><th scope=col>&lt;dbl&gt;</th><th scope=col>&lt;chr&gt;</th><th scope=col>&lt;chr&gt;</th><th scope=col>&lt;chr&gt;</th><th scope=col>&lt;lgl&gt;</th><th scope=col>&lt;dbl&gt;</th><th scope=col>&lt;lgl&gt;</th><th scope=col>&lt;chr&gt;</th><th scope=col>&lt;lgl&gt;</th><th scope=col>&lt;lgl&gt;</th><th scope=col>&lt;lgl&gt;</th><th scope=col>&lt;int&gt;</th><th scope=col>&lt;dbl&gt;</th></tr>\n",
       "</thead>\n",
       "<tbody>\n",
       "\t<tr><th scope=row>5933</th><td>p9972</td><td>0</td><td>53</td><td>f</td><td>white</td><td>never </td><td>TRUE</td><td>29.66</td><td>NA</td><td>NA</td><td>NA</td><td>NA</td><td>NA</td><td> 822</td><td>1</td></tr>\n",
       "\t<tr><th scope=row>5934</th><td>p9976</td><td>0</td><td>70</td><td>m</td><td>white</td><td>former</td><td>TRUE</td><td>30.06</td><td>NA</td><td>NA</td><td>NA</td><td>NA</td><td>NA</td><td>3042</td><td>1</td></tr>\n",
       "\t<tr><th scope=row>5935</th><td>p9982</td><td>0</td><td>70</td><td>m</td><td>black</td><td>never </td><td>TRUE</td><td>31.07</td><td>NA</td><td>NA</td><td>NA</td><td>NA</td><td>NA</td><td>1233</td><td>1</td></tr>\n",
       "\t<tr><th scope=row>5936</th><td>p9992</td><td>1</td><td>75</td><td>m</td><td>white</td><td>never </td><td>TRUE</td><td>29.60</td><td>NA</td><td>NA</td><td>NA</td><td>NA</td><td>NA</td><td>1838</td><td>1</td></tr>\n",
       "\t<tr><th scope=row>5937</th><td>p9996</td><td>0</td><td>59</td><td>m</td><td>white</td><td>never </td><td>TRUE</td><td>27.30</td><td>NA</td><td>NA</td><td>NA</td><td>NA</td><td>NA</td><td>2374</td><td>2</td></tr>\n",
       "\t<tr><th scope=row>5938</th><td>p9998</td><td>0</td><td>46</td><td>f</td><td>white</td><td>former</td><td>TRUE</td><td>27.60</td><td>NA</td><td>NA</td><td>NA</td><td>NA</td><td>NA</td><td> 356</td><td>1</td></tr>\n",
       "</tbody>\n",
       "</table>\n"
      ],
      "text/latex": [
       "A data.frame: 6 × 15\n",
       "\\begin{tabular}{r|lllllllllllllll}\n",
       "  & ptnum & label & C-424144002 & C-263495000 & C-103579009 & C-72166-2 & C-763302001 & C-39156-5 & C-185086009 & C-21908-9 & C-233604007 & C-195967001 & C-132281000119108 & Followup & Exposure\\\\\n",
       "  & <chr> & <dbl> & <dbl> & <chr> & <chr> & <chr> & <lgl> & <dbl> & <lgl> & <chr> & <lgl> & <lgl> & <lgl> & <int> & <dbl>\\\\\n",
       "\\hline\n",
       "\t5933 & p9972 & 0 & 53 & f & white & never  & TRUE & 29.66 & NA & NA & NA & NA & NA &  822 & 1\\\\\n",
       "\t5934 & p9976 & 0 & 70 & m & white & former & TRUE & 30.06 & NA & NA & NA & NA & NA & 3042 & 1\\\\\n",
       "\t5935 & p9982 & 0 & 70 & m & black & never  & TRUE & 31.07 & NA & NA & NA & NA & NA & 1233 & 1\\\\\n",
       "\t5936 & p9992 & 1 & 75 & m & white & never  & TRUE & 29.60 & NA & NA & NA & NA & NA & 1838 & 1\\\\\n",
       "\t5937 & p9996 & 0 & 59 & m & white & never  & TRUE & 27.30 & NA & NA & NA & NA & NA & 2374 & 2\\\\\n",
       "\t5938 & p9998 & 0 & 46 & f & white & former & TRUE & 27.60 & NA & NA & NA & NA & NA &  356 & 1\\\\\n",
       "\\end{tabular}\n"
      ],
      "text/markdown": [
       "\n",
       "A data.frame: 6 × 15\n",
       "\n",
       "| <!--/--> | ptnum &lt;chr&gt; | label &lt;dbl&gt; | C-424144002 &lt;dbl&gt; | C-263495000 &lt;chr&gt; | C-103579009 &lt;chr&gt; | C-72166-2 &lt;chr&gt; | C-763302001 &lt;lgl&gt; | C-39156-5 &lt;dbl&gt; | C-185086009 &lt;lgl&gt; | C-21908-9 &lt;chr&gt; | C-233604007 &lt;lgl&gt; | C-195967001 &lt;lgl&gt; | C-132281000119108 &lt;lgl&gt; | Followup &lt;int&gt; | Exposure &lt;dbl&gt; |\n",
       "|---|---|---|---|---|---|---|---|---|---|---|---|---|---|---|---|\n",
       "| 5933 | p9972 | 0 | 53 | f | white | never  | TRUE | 29.66 | NA | NA | NA | NA | NA |  822 | 1 |\n",
       "| 5934 | p9976 | 0 | 70 | m | white | former | TRUE | 30.06 | NA | NA | NA | NA | NA | 3042 | 1 |\n",
       "| 5935 | p9982 | 0 | 70 | m | black | never  | TRUE | 31.07 | NA | NA | NA | NA | NA | 1233 | 1 |\n",
       "| 5936 | p9992 | 1 | 75 | m | white | never  | TRUE | 29.60 | NA | NA | NA | NA | NA | 1838 | 1 |\n",
       "| 5937 | p9996 | 0 | 59 | m | white | never  | TRUE | 27.30 | NA | NA | NA | NA | NA | 2374 | 2 |\n",
       "| 5938 | p9998 | 0 | 46 | f | white | former | TRUE | 27.60 | NA | NA | NA | NA | NA |  356 | 1 |\n",
       "\n"
      ],
      "text/plain": [
       "     ptnum label C-424144002 C-263495000 C-103579009 C-72166-2 C-763302001\n",
       "5933 p9972 0     53          f           white       never     TRUE       \n",
       "5934 p9976 0     70          m           white       former    TRUE       \n",
       "5935 p9982 0     70          m           black       never     TRUE       \n",
       "5936 p9992 1     75          m           white       never     TRUE       \n",
       "5937 p9996 0     59          m           white       never     TRUE       \n",
       "5938 p9998 0     46          f           white       former    TRUE       \n",
       "     C-39156-5 C-185086009 C-21908-9 C-233604007 C-195967001 C-132281000119108\n",
       "5933 29.66     NA          NA        NA          NA          NA               \n",
       "5934 30.06     NA          NA        NA          NA          NA               \n",
       "5935 31.07     NA          NA        NA          NA          NA               \n",
       "5936 29.60     NA          NA        NA          NA          NA               \n",
       "5937 27.30     NA          NA        NA          NA          NA               \n",
       "5938 27.60     NA          NA        NA          NA          NA               \n",
       "     Followup Exposure\n",
       "5933  822     1       \n",
       "5934 3042     1       \n",
       "5935 1233     1       \n",
       "5936 1838     1       \n",
       "5937 2374     2       \n",
       "5938  356     1       "
      ]
     },
     "metadata": {},
     "output_type": "display_data"
    }
   ],
   "source": [
    "tail(Df_regression_unique)"
   ]
  },
  {
   "cell_type": "code",
   "execution_count": 23,
   "id": "599ffefc",
   "metadata": {},
   "outputs": [
    {
     "data": {
      "text/html": [
       "<style>\n",
       ".dl-inline {width: auto; margin:0; padding: 0}\n",
       ".dl-inline>dt, .dl-inline>dd {float: none; width: auto; display: inline-block}\n",
       ".dl-inline>dt::after {content: \":\\0020\"; padding-right: .5ex}\n",
       ".dl-inline>dt:not(:first-of-type) {padding-left: .5ex}\n",
       "</style><dl class=dl-inline><dt>ptnum</dt><dd>0</dd><dt>label</dt><dd>0</dd><dt>C-424144002</dt><dd>0</dd><dt>C-263495000</dt><dd>0</dd><dt>C-103579009</dt><dd>0</dd><dt>C-72166-2</dt><dd>0</dd><dt>C-763302001</dt><dd>1020</dd><dt>C-39156-5</dt><dd>0</dd><dt>C-185086009</dt><dd>5796</dd><dt>C-21908-9</dt><dd>5715</dd><dt>C-233604007</dt><dd>5754</dd><dt>C-195967001</dt><dd>5932</dd><dt>C-132281000119108</dt><dd>5880</dd><dt>Followup</dt><dd>0</dd><dt>Exposure</dt><dd>0</dd></dl>\n"
      ],
      "text/latex": [
       "\\begin{description*}\n",
       "\\item[ptnum] 0\n",
       "\\item[label] 0\n",
       "\\item[C-424144002] 0\n",
       "\\item[C-263495000] 0\n",
       "\\item[C-103579009] 0\n",
       "\\item[C-72166-2] 0\n",
       "\\item[C-763302001] 1020\n",
       "\\item[C-39156-5] 0\n",
       "\\item[C-185086009] 5796\n",
       "\\item[C-21908-9] 5715\n",
       "\\item[C-233604007] 5754\n",
       "\\item[C-195967001] 5932\n",
       "\\item[C-132281000119108] 5880\n",
       "\\item[Followup] 0\n",
       "\\item[Exposure] 0\n",
       "\\end{description*}\n"
      ],
      "text/markdown": [
       "ptnum\n",
       ":   0label\n",
       ":   0C-424144002\n",
       ":   0C-263495000\n",
       ":   0C-103579009\n",
       ":   0C-72166-2\n",
       ":   0C-763302001\n",
       ":   1020C-39156-5\n",
       ":   0C-185086009\n",
       ":   5796C-21908-9\n",
       ":   5715C-233604007\n",
       ":   5754C-195967001\n",
       ":   5932C-132281000119108\n",
       ":   5880Followup\n",
       ":   0Exposure\n",
       ":   0\n",
       "\n"
      ],
      "text/plain": [
       "            ptnum             label       C-424144002       C-263495000 \n",
       "                0                 0                 0                 0 \n",
       "      C-103579009         C-72166-2       C-763302001         C-39156-5 \n",
       "                0                 0              1020                 0 \n",
       "      C-185086009         C-21908-9       C-233604007       C-195967001 \n",
       "             5796              5715              5754              5932 \n",
       "C-132281000119108          Followup          Exposure \n",
       "             5880                 0                 0 "
      ]
     },
     "metadata": {},
     "output_type": "display_data"
    }
   ],
   "source": [
    "# In the previous cell we have observed that columns:\n",
    "# C-1850860095796, C-21908-95715C-2336040075754, C-1959670015932, and C-1322810001191085880\n",
    "# contains null\n",
    "colSums(is.na(Df_regression_unique))"
   ]
  },
  {
   "cell_type": "code",
   "execution_count": 25,
   "id": "170d8b83",
   "metadata": {},
   "outputs": [
    {
     "name": "stdout",
     "output_type": "stream",
     "text": [
      "[1] \"Df_regression_unique\"\n"
     ]
    }
   ],
   "source": [
    "print(dataset)"
   ]
  },
  {
   "cell_type": "code",
   "execution_count": 21,
   "id": "cd7f010e",
   "metadata": {},
   "outputs": [
    {
     "data": {
      "text/plain": [
       "   Length     Class      Mode \n",
       "        1 character character "
      ]
     },
     "metadata": {},
     "output_type": "display_data"
    }
   ],
   "source": [
    "dataset <- 'Df_regression_unique' # Replace with the actual object name\n",
    "summary(dataset)"
   ]
  },
  {
   "cell_type": "code",
   "execution_count": 16,
   "id": "2fa36b87",
   "metadata": {},
   "outputs": [],
   "source": [
    "# Assuming the dataset is named `Df_regression`, adjust as necessary\n",
    "dataset <- 'dataset'"
   ]
  },
  {
   "cell_type": "code",
   "execution_count": 17,
   "id": "bf843b6d",
   "metadata": {},
   "outputs": [
    {
     "data": {
      "text/plain": [
       "   Length     Class      Mode \n",
       "        1 character character "
      ]
     },
     "metadata": {},
     "output_type": "display_data"
    }
   ],
   "source": [
    "# 1. Dataset Overview\n",
    "summary(dataset)"
   ]
  },
  {
   "cell_type": "code",
   "execution_count": 15,
   "id": "71f5888d",
   "metadata": {},
   "outputs": [
    {
     "name": "stdout",
     "output_type": "stream",
     "text": [
      " chr \"Df_regression_unique\"\n"
     ]
    },
    {
     "ename": "ERROR",
     "evalue": "Error in colSums(is.na(dataset)): 'x' must be an array of at least two dimensions\n",
     "output_type": "error",
     "traceback": [
      "Error in colSums(is.na(dataset)): 'x' must be an array of at least two dimensions\nTraceback:\n",
      "1. stop(\"'x' must be an array of at least two dimensions\")",
      "2. .handleSimpleError(function (cnd) \n . {\n .     watcher$capture_plot_and_output()\n .     cnd <- sanitize_call(cnd)\n .     watcher$push(cnd)\n .     switch(on_error, continue = invokeRestart(\"eval_continue\"), \n .         stop = invokeRestart(\"eval_stop\"), error = invokeRestart(\"eval_error\", \n .             cnd))\n . }, \"'x' must be an array of at least two dimensions\", base::quote(colSums(is.na(dataset))))"
     ]
    }
   ],
   "source": [
    "str(dataset)\n",
    "missing_summary <- colSums(is.na(dataset))\n",
    "print(missing_summary)"
   ]
  },
  {
   "cell_type": "code",
   "execution_count": null,
   "id": "afa4b308",
   "metadata": {},
   "outputs": [],
   "source": [
    "\n",
    "\n",
    "\n",
    "\n",
    "# Importance of assessing data structures\n",
    "cat(\"Understanding data types and missing values helps ensure the dataset is suitable for regression analyses.\\n\")\n",
    "\n",
    "# 2. Handling Missing Data in Logical Columns\n",
    "logical_cols <- sapply(dataset, is.logical)\n",
    "logical_missing <- which(colSums(is.na(dataset[, logical_cols])) > 0)\n",
    "\n",
    "# Replace NA in logical columns with 0 or 1 based on logical value\n",
    "dataset[, logical_cols] <- lapply(dataset[, logical_cols], function(col) {\n",
    "  ifelse(is.na(col), 0, as.integer(col))\n",
    "})\n",
    "\n",
    "cat(\"Logical missing values replaced.\\n\")\n",
    "\n",
    "# 3. Categorical Variable Conversion\n",
    "# Identify potential categorical columns (e.g., character or specific variables)\n",
    "categorical_vars <- sapply(dataset, is.character)\n",
    "\n",
    "# Convert to factors\n",
    "dataset[, categorical_vars] <- lapply(dataset[, categorical_vars], as.factor)\n",
    "\n",
    "cat(\"Character variables converted to factors.\\n\")\n",
    "\n",
    "# 4. Data Cleaning: Handling Missing in Categorical Variables\n",
    "# Example: Impute missing stages with \"Unknown\" (adjust column name as needed)\n",
    "if (\"disease_stage\" %in% colnames(dataset)) {\n",
    "  dataset$disease_stage[is.na(dataset$disease_stage)] <- \"Unknown\"\n",
    "  dataset$disease_stage <- as.factor(dataset$disease_stage)\n",
    "}\n",
    "\n",
    "cat(\"Categorical missing values addressed.\\n\")\n",
    "\n",
    "# 5. Missing Data Pattern Visualization\n",
    "library(ggplot2)\n",
    "library(naniar)\n",
    "\n",
    "# Visualize missing data pattern\n",
    "gg_miss_var(dataset, show_pct = TRUE)\n",
    "\n",
    "cat(\"Missing data pattern visualized.\\n\")\n",
    "\n",
    "# 6. Descriptive Statistics and Summary Tables\n",
    "library(dplyr)\n",
    "library(tableone)\n",
    "\n",
    "# Example: Create summary table stratified by an exposure group (e.g., `exposure`)\n",
    "if (\"exposure\" %in% colnames(dataset)) {\n",
    "  summary_table <- CreateTableOne(vars = colnames(dataset), strata = \"exposure\", data = dataset)\n",
    "  print(summary_table)\n",
    "} else {\n",
    "  cat(\"Exposure variable not found; summary generated without stratification.\\n\")\n",
    "  print(summary(dataset))\n",
    "}\n",
    "\n",
    "cat(\"Descriptive statistics completed.\\n\")\n"
   ]
  },
  {
   "cell_type": "code",
   "execution_count": null,
   "id": "b8792e10",
   "metadata": {},
   "outputs": [],
   "source": []
  }
 ],
 "metadata": {
  "kernelspec": {
   "display_name": "R",
   "language": "R",
   "name": "ir"
  },
  "language_info": {
   "codemirror_mode": "r",
   "file_extension": ".r",
   "mimetype": "text/x-r-source",
   "name": "R",
   "pygments_lexer": "r",
   "version": "4.4.2"
  }
 },
 "nbformat": 4,
 "nbformat_minor": 5
}
